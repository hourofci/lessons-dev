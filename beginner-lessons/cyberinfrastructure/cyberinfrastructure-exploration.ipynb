{
 "cells": [
  {
   "cell_type": "markdown",
   "metadata": {
    "slideshow": {
     "slide_type": "-"
    }
   },
   "source": [
    "# Cyberinfrastructure Exploration\n",
    "\n",
    "In this segment you will take a few minutes to explore how you can get involved in cyberinfastructure as you build your own cyber literacy.\n",
    "\n",
    "While this might sound daunting, luckily there are a number of cyberinfrastructure projects that are ready to help you at any stage. From the very beginner to the very advanced!\n"
   ]
  },
  {
   "cell_type": "code",
   "execution_count": 4,
   "metadata": {
    "hide_input": true,
    "init_cell": true,
    "slideshow": {
     "slide_type": "skip"
    },
    "tags": [
     "Hide"
    ]
   },
   "outputs": [
    {
     "data": {
      "text/html": [
       " \n",
       "    <script type=\"text/javascript\" src=\"../../supplementary/js/custom.js\"></script>\n",
       "    \n",
       "    <input id=\"toggle_code\" type=\"button\" value=\"Toggle raw code\">\n"
      ],
      "text/plain": [
       "<IPython.core.display.HTML object>"
      ]
     },
     "execution_count": 4,
     "metadata": {},
     "output_type": "execute_result"
    }
   ],
   "source": [
    "# This code cell starts the necessary setup for Hour of CI lesson notebooks.\n",
    "# First, it enables users to hide and unhide code by producing a 'Toggle raw code' button below.\n",
    "# Second, it imports the hourofci package, which is necessary for lessons and interactive Jupyter Widgets.\n",
    "# Third, it helps hide/control other aspects of Jupyter Notebooks to improve the user experience\n",
    "# This is an initialization cell\n",
    "# It is not displayed because the Slide Type is 'Skip'\n",
    "\n",
    "from IPython.display import HTML, IFrame, Javascript, display\n",
    "from ipywidgets import interactive\n",
    "import ipywidgets as widgets\n",
    "from ipywidgets import Layout\n",
    "\n",
    "import getpass # This library allows us to get the username (User agent string)\n",
    "\n",
    "# import package for hourofci project\n",
    "import sys\n",
    "sys.path.append('../../supplementary') # relative path (may change depending on the location of the lesson notebook)\n",
    "import hourofci\n",
    "\n",
    "# Retreive the user agent string, it will be passed to the hourofci submit button\n",
    "agent_js = \"\"\"\n",
    "IPython.notebook.kernel.execute(\"user_agent = \" + \"'\" + navigator.userAgent + \"'\");\n",
    "\"\"\"\n",
    "Javascript(agent_js)\n",
    "\n",
    "# load javascript to initialize/hide cells, get user agent string, and hide output indicator\n",
    "# hide code by introducing a toggle button \"Toggle raw code\"\n",
    "HTML(''' \n",
    "    <script type=\"text/javascript\" src=\\\"../../supplementary/js/custom.js\\\"></script>\n",
    "    \n",
    "    <input id=\"toggle_code\" type=\"button\" value=\"Toggle raw code\">\n",
    "''')"
   ]
  },
  {
   "cell_type": "markdown",
   "metadata": {},
   "source": [
    "## 1. You are using Cyberinfrastructure right now!\n",
    "\n",
    "The Hour of CI project uses Jetstream - a cloud-based, on-demand, 24/7 system that includes discipline-specific apps to host these lessons. Learn more about Jetstream by visiting their website: https://www.jetstream-cloud.org/. Jetstream is part of XSEDE, which is one of the world's most advanced cyberinfrastructure! You will explore some XSEDE resources below. You are also using Jupyter Notebooks (this exploration and this entire lesson was constructed in Jupyter Notebooks), which are part of cyberinfrastructure. To learn more about notebooks visit their website: https://jupyter.org/. So you are now officially a cyberinfrastructure user."
   ]
  },
  {
   "cell_type": "markdown",
   "metadata": {},
   "source": [
    "## 2. Science Gateways Community Institute (SGCI)\n",
    "\n",
    "The SGCI \"connect people and resources to accelerate discovery by empowering the science gateway community.\" They help researchers build their own science gateways for their own domains. They host a list of existing science gateways that users (like you!) can use to move their own research forward. They offere Student-focused programsn ad training for all levels of professionals.\n",
    "\n",
    "Spend 5 minutes exploring at least one SGCI resource:\n",
    "\n",
    "1. **<a href=\"https://catalog.sciencegateways.org/\">Gateway Catalog</a>** - A list of over 500 Science Gateways. Maybe one can help you move your science forward.\n",
    "2. **<a href=\"https://sciencegateways.org/consulting\">Consulting Services</a>** - A list of services SGCI provides researchers interested in answering questions or helping them build their own science gateways.\n",
    "3. **<a href=\"https://sciencegateways.org/where-to-begin\">Where to begin</a>** - If you are not sure where to go. Go here. This page points you to information whether you are new to science gateways or are ready to build your own.\n",
    "\n",
    "    "
   ]
  },
  {
   "cell_type": "markdown",
   "metadata": {},
   "source": [
    "## 3. The Extreme Science and Engineering Discovery Environment (XSEDE)\n",
    "\n",
    "You have already heard a little bit about XSEDE. Now you can a closer look at XSEDE yourself. XSEDE offers resources, expertise, and training to help you move your science forward.\n",
    "\n",
    "Spend 5 minutes exploring XSEDE resources:\n",
    "\n",
    "1. **<a href=\"https://www.xsede.org/for-users/getting-started\">Getting Started using XSEDE</a>** - This page will provide resources how to get started using XSEDE resources. If you are ready to try CI for yourself. This is the place for you.\n",
    "1. **<a href=\"https://portal.xsede.org/training/overview\">XSEDE Training</a>** - If you want to learn more about XSEDE, programming, visualizing data, analyzing data, etc. Then take a look at XSEDE Training. They offer live and recorded training classes including New User Training.\n",
    "1. **<a href=\"https://www.xsede.org/community-engagement/campus-champions\">Champions</a>** - Campus Champions, Domain Champions, and Student Champions are people who are ready to help you learn more about and use cyberinfrastructure. Take a look at the current <a href=\"https://www.xsede.org/web/site/community-engagement/campus-champions/current\">Campus Champions page</a> that includes more than 700 champions at over 300 institutions across the US - you may just have a cyberinfrastructure expert at your institution ready to help. You can also look for <a href=\"https://www.xsede.org/community-engagement/campus-champions/domain-champions\">Domain Champions here</a>. If you have a question, then a champion is the perfect person to ask!\n",
    "1. **<a href=\"http://computationalscience.org/xsede-empower\">XSEDE Empower</a>** - XSEDE EMPOWER ( Expert Mentoring Producing Opportunities for Work, Education, and Research ) aims to expand the community by recruiting and enabling a diverse group of students who have the skills — or are interested in acquiring the skills — to participate in the actual work of XSEDE. If you are an undergraduate student and are interested, then take a look at this excellent program. If you are a graduate student or professional, take a look at some of the other programs hosted by XSEDE, SGCI, and other CI projects that may provide training and opportunities for you as well.\n"
   ]
  },
  {
   "cell_type": "markdown",
   "metadata": {},
   "source": [
    "## 4. Tell us what you have learned so far\n",
    "\n",
    "### Congratulations! You have finished an Hour of CI!\n",
    "\n",
    "But, before you go ... \n",
    "\n",
    "1. Please fill out a very brief questionnaire to tell us what you have learned so far and to provide feedback to help us improve the Hour of CI lessons. It is fast and your feedback is very important to let us know what you learned and how we can improve the lessons in the future.\n",
    "2. If you would like a certificate, then please type your name below and click \"Create Certificate\" and you will be presented with a PDF certificate.\n",
    "\n",
    "\n",
    "<font size=\"+1\"><a style=\"background-color:blue;color:white;padding:12px;margin:10px;font-weight:bold;\" href=\"https://forms.gle/JUUBm76rLB8iYppN7\">Tell us what you learned and provide feedback</a></font>\n",
    "\n"
   ]
  },
  {
   "cell_type": "code",
   "execution_count": 5,
   "metadata": {
    "hide_input": true,
    "slideshow": {
     "slide_type": "-"
    },
    "tags": [
     "Hide",
     "Init"
    ]
   },
   "outputs": [
    {
     "data": {
      "application/vnd.jupyter.widget-view+json": {
       "model_id": "77a136b7d53d42bcb068fd2cd8675625",
       "version_major": 2,
       "version_minor": 0
      },
      "text/plain": [
       "interactive(children=(Text(value='Your Name', description='name'), Button(description='Create Certificate', st…"
      ]
     },
     "metadata": {},
     "output_type": "display_data"
    }
   ],
   "source": [
    "\n",
    "# This code cell loads the Interact Textbox that will ask users for their name\n",
    "# Once they click \"Create Certificate\" then it will add their name to the certificate template\n",
    "# And present them a PDF certificate\n",
    "from PIL import Image\n",
    "from PIL import ImageFont\n",
    "from PIL import ImageDraw\n",
    "\n",
    "from ipywidgets import interact\n",
    "\n",
    "def make_cert(learner_name):\n",
    "    cert_filename = 'hourofci_certificate.pdf'\n",
    "\n",
    "    img = Image.open(\"../../supplementary/hci-certificate-template.jpg\")\n",
    "    draw = ImageDraw.Draw(img)\n",
    "\n",
    "    cert_font = ImageFont.load_default()\n",
    "    cert_font = ImageFont.truetype('times.ttf', 150) \n",
    "    \n",
    "    w,h = cert_font.getsize(learner_name)    \n",
    "    draw.text( xy = (1650-w/2,1100-h/2), text = learner_name, fill=(0,0,0),font=cert_font)\n",
    "    \n",
    "    img.save(cert_filename, \"PDF\", resolution=100.0)   \n",
    "    return cert_filename\n",
    "\n",
    "\n",
    "interact_cert=interact.options(manual=True, manual_name=\"Create Certificate\")\n",
    "\n",
    "@interact_cert(name=\"Your Name\")\n",
    "def f(name):\n",
    "    print(\"Congratulations\",name)\n",
    "    filename = make_cert(name)\n",
    "    print(\"Download your certificate by clicking the link below.\")\n",
    "    \n",
    "    \n",
    "    "
   ]
  },
  {
   "cell_type": "markdown",
   "metadata": {},
   "source": [
    "<font size=\"+1\"><a style=\"background-color:blue;color:white;padding:12px;margin:10px;font-weight:bold;\" href=\"hourofci_certificate.pdf?download=1\" download=\"hourofci_certificate.pdf\">Download your certificate</a></font>"
   ]
  }
 ],
 "metadata": {
  "kernelspec": {
   "display_name": "Python 3",
   "language": "python",
   "name": "python3"
  },
  "language_info": {
   "codemirror_mode": {
    "name": "ipython",
    "version": 3
   },
   "file_extension": ".py",
   "mimetype": "text/x-python",
   "name": "python",
   "nbconvert_exporter": "python",
   "pygments_lexer": "ipython3",
   "version": "3.7.7"
  }
 },
 "nbformat": 4,
 "nbformat_minor": 2
}
