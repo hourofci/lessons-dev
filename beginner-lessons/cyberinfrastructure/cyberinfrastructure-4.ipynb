{
 "cells": [
  {
   "cell_type": "markdown",
   "metadata": {
    "slideshow": {
     "slide_type": "slide"
    }
   },
   "source": [
    "# Reminder\n",
    "\n",
    "\n",
    "<a href=\"#/slide-1-0\" class=\"navigate-right\" style=\"background-color:blue;color:white;padding:10px;margin:2px;font-weight:bold;\">Continue with the lesson</a>\n",
    "\n",
    "<font size=\"+1\">\n",
    "\n",
    "By continuing with this lesson you are granting your permission to take part in this research study for the Hour of Cyberinfrastructure: Developing Cyber Literacy for GIScience project. In this study, you will be learning about cyberinfrastructure and related concepts using a web-based platform that will take approximately one hour per lesson. Participation in this study is voluntary.\n",
    "\n",
    "Participants in this research must be 18 years or older. If you are under the age of 18 then please exit this webpage or navigate to another website such as the Hour of Code at https://hourofcode.com, which is designed for K-12 students.\n",
    "\n",
    "If you are not interested in participating please exit the browser or navigate to this website: http://www.umn.edu. Your participation is voluntary and you are free to stop the lesson at any time.\n",
    "\n",
    "For the full description please navigate to this website: <a href=\"../../gateway-lesson/gateway/gateway-1.ipynb\">Gateway Lesson Research Study Permission</a>.\n",
    "\n",
    "</font>"
   ]
  },
  {
   "cell_type": "code",
   "execution_count": 1,
   "metadata": {
    "hide_input": true,
    "init_cell": true,
    "scrolled": false,
    "slideshow": {
     "slide_type": "skip"
    },
    "tags": [
     "Hide"
    ]
   },
   "outputs": [
    {
     "data": {
      "text/html": [
       " \n",
       "    <script type=\"text/javascript\" src=\"../../supplementary/js/custom.js\"></script>\n",
       "    \n",
       "    <input id=\"toggle_code\" type=\"button\" value=\"Toggle raw code\">\n"
      ],
      "text/plain": [
       "<IPython.core.display.HTML object>"
      ]
     },
     "execution_count": 1,
     "metadata": {},
     "output_type": "execute_result"
    }
   ],
   "source": [
    "# This code cell starts the necessary setup for Hour of CI lesson notebooks.\n",
    "# First, it enables users to hide and unhide code by producing a 'Toggle raw code' button below.\n",
    "# Second, it imports the hourofci package, which is necessary for lessons and interactive Jupyter Widgets.\n",
    "# Third, it helps hide/control other aspects of Jupyter Notebooks to improve the user experience\n",
    "# This is an initialization cell\n",
    "# It is not displayed because the Slide Type is 'Skip'\n",
    "\n",
    "from IPython.display import HTML, IFrame, Javascript, display\n",
    "from ipywidgets import interactive\n",
    "import ipywidgets as widgets\n",
    "from ipywidgets import Layout\n",
    "\n",
    "import getpass # This library allows us to get the username (User agent string)\n",
    "\n",
    "# import package for hourofci project\n",
    "import sys\n",
    "sys.path.append('../../supplementary') # relative path (may change depending on the location of the lesson notebook)\n",
    "import hourofci\n",
    "\n",
    "# Retreive the user agent string, it will be passed to the hourofci submit button\n",
    "agent_js = \"\"\"\n",
    "IPython.notebook.kernel.execute(\"user_agent = \" + \"'\" + navigator.userAgent + \"'\");\n",
    "\"\"\"\n",
    "Javascript(agent_js)\n",
    "\n",
    "# load javascript to initialize/hide cells, get user agent string, and hide output indicator\n",
    "# hide code by introducing a toggle button \"Toggle raw code\"\n",
    "HTML(''' \n",
    "    <script type=\"text/javascript\" src=\\\"../../supplementary/js/custom.js\\\"></script>\n",
    "    \n",
    "    <input id=\"toggle_code\" type=\"button\" value=\"Toggle raw code\">\n",
    "''')"
   ]
  },
  {
   "cell_type": "markdown",
   "metadata": {
    "slideshow": {
     "slide_type": "slide"
    }
   },
   "source": [
    "# Types of Computational Systems in Cyberinfrastructure\n",
    "\n",
    "In this section we will look \"under the hood\" and cover different types of computational systems that are commonly used in cyberinfrastructure.\n",
    "\n"
   ]
  },
  {
   "cell_type": "markdown",
   "metadata": {
    "slideshow": {
     "slide_type": "slide"
    }
   },
   "source": [
    "## GPUs\n",
    "\n",
    "<img src=\"supplementary/gpu.png\" width=\"400\"/>    \n",
    "\n",
    "<small>CC BY 4.0 https://commons.wikimedia.org/wiki/File:NvidiaTesla.jpg</small>\n",
    "\n",
    "- GPUs – Graphical Processing Units – are a very powerful type of processor (currently being used to display this text on your computer screen)\n",
    "- GPUs make up a very large part of the computational power of many computing systems\n",
    "- GPUs were originally developed for rendering graphical images, but it turns out that they are very fast for some (but not all) kinds of mathematically-oriented calculations.\n",
    "\n",
    "\n"
   ]
  },
  {
   "cell_type": "markdown",
   "metadata": {
    "slideshow": {
     "slide_type": "slide"
    }
   },
   "source": [
    "## Quantum Computers\n",
    "\n",
    "- Quantum computers are the newest new thing\n",
    "- Normal computers work on a very simple principle: you do the same calculation over and over, you get the same results\n",
    "- Quantum computers are different\n",
    "\n",
    "- Rather than operating with a string of things called “bits” each of which is a 0 or a 1 like a current digital computer, Quantum computers operate on things called Qbits that are either 0 or 1 with a certain probability.\n",
    "- So when you run a program with a quantum computer, you don’t get an answer. You get a probability distribution of answers\n",
    "- Quantum computers are very important for some kinds of challenges but it will be a long time before they matter much to people using GIS applications!"
   ]
  },
  {
   "cell_type": "markdown",
   "metadata": {
    "slideshow": {
     "slide_type": "slide"
    }
   },
   "source": [
    "### High Throughput Computing (HTC) Systems\n",
    "\n",
    "- HTC systems have been around for a long time\n",
    "- Sometimes certain data analysis problems involved doing lots of analysis (or lots of computations) that can happen pretty much independently\n",
    "- So a lot of work is done, and then the results are collected\n",
    "\n",
    "\n",
    "- This is different than the kind of jobs you usually run in parallel on a supercomputer\n",
    "- A bit of a good way to think about high performance parallel computing as opposed to high throughput computing is this:\n",
    "- If you care about how long one job takes, you’re probably doing high performance parallel computing\n",
    "- If you care about how many thousand jobs you run per month, you’re probably doing high throughput computing"
   ]
  },
  {
   "cell_type": "markdown",
   "metadata": {
    "slideshow": {
     "slide_type": "slide"
    }
   },
   "source": [
    "## Let's take a closer look at High Throughput Computing Systems in GIS (at Clemson University)\n",
    "\n",
    "<img src=\"supplementary/htcs.png\" width=\"400\"/>\n",
    "\n",
    "- HTC systems used to analyze GIS data \n",
    "- An example problem: calculate the AADT (Annual Average Daily Traffic) through Greenville South Carolina\n",
    "- **Problem:** calculate all possible intersects between analyzed traffic routes (1.9 million observations) and all the traffic data collection sites that are spread throughout the city of Greenville\n",
    "- The Clemson University HTC system used a very famous and important piece of HTC software called Condor\n",
    "\n",
    "\n",
    "- Read more about the HTC system at Clemson at - https://www.clemsongis.org/high-throughput-computing-for-gis\n"
   ]
  },
  {
   "cell_type": "markdown",
   "metadata": {
    "slideshow": {
     "slide_type": "slide"
    }
   },
   "source": [
    "### How High Throughput Computing was used\n",
    "\n",
    "<img src=\"supplementary/htc.png\" width=\"400\"/>\n",
    "\n",
    "And you can see how this is cyberinfrastructure: lots of data, lots of data storage, broken up and sent across a network to lots of different computers organized into something called a “Condor Pool.” A “Condor Pool” is what a group of computational systems is called within the Condor High Throughput Computing software system.\n",
    "\n",
    "These images also from https://www.clemsongis.org/high-throughput-computing-for-gis "
   ]
  },
  {
   "cell_type": "markdown",
   "metadata": {
    "slideshow": {
     "slide_type": "slide"
    }
   },
   "source": [
    "### Another example: The Large Hadron Collider (LHC)\n",
    "\n",
    "<img src=\"supplementary/hadron.png\" width=\"400\"/>\n",
    "\n",
    "- The LHC is the single biggest physics experiment in the world\n",
    "- It produces lots of small-ish blocks of data\n",
    "- The data tell what happened when subatomic particles are smashed together\n",
    "- Most of the time nothing new happens\n",
    "- So the data analysis task is to look at a whole bunch of data and determine if anything novel has happened\n",
    "- PERFECT for HTC – which is a very important kind of cyberinfrastructure\n",
    "\n",
    "From: https://home.cern/science/accelerators/large-hadron-collider"
   ]
  },
  {
   "cell_type": "markdown",
   "metadata": {
    "slideshow": {
     "slide_type": "slide"
    }
   },
   "source": [
    "<img src=\"supplementary/congratulations.png\" width=\"400\"/>\n",
    "\n",
    "## You just learned a lot more detail about what computational systems can be part of cyberinfrastructure systems\n",
    "\n",
    "Really, anything that can connect to a digital network and can either produce data or do calculations can be considered cyberinfrastructure if it is put to work as part of “infrastructure for knowledge”\n",
    "\n",
    "<a href=\"cyberinfrastructure-5.ipynb\">Click here to move on to the next segment where you will learn more about the importance of CI in scientific discovery</a>"
   ]
  }
 ],
 "metadata": {
  "celltoolbar": "Edit Metadata",
  "kernelspec": {
   "display_name": "Python 3 (ipykernel)",
   "language": "python",
   "name": "python3"
  },
  "language_info": {
   "codemirror_mode": {
    "name": "ipython",
    "version": 3
   },
   "file_extension": ".py",
   "mimetype": "text/x-python",
   "name": "python",
   "nbconvert_exporter": "python",
   "pygments_lexer": "ipython3",
   "version": "3.9.5"
  },
  "rise": {
   "autolaunch": true,
   "overlay": "<div class='hciheader'></div><div class='hcifooter'></div>",
   "scroll": true
  },
  "toc": {
   "base_numbering": 1,
   "nav_menu": {},
   "number_sections": true,
   "sideBar": true,
   "skip_h1_title": false,
   "title_cell": "Table of Contents",
   "title_sidebar": "Contents",
   "toc_cell": false,
   "toc_position": {},
   "toc_section_display": true,
   "toc_window_display": false
  },
  "widgets": {
   "application/vnd.jupyter.widget-state+json": {
    "state": {
     "01d7edc49cd74a349aba36a1905a30a6": {
      "model_module": "@jupyter-widgets/controls",
      "model_module_version": "1.5.0",
      "model_name": "ButtonModel",
      "state": {
       "description": "Finish",
       "icon": "check",
       "layout": "IPY_MODEL_ffc73bc74b1f47249fb025c2cead6663",
       "style": "IPY_MODEL_a34a65811b9347ecb0367556141cc7b3"
      }
     },
     "067ec038b01a4e4c85f3e9b91381f10f": {
      "model_module": "@jupyter-widgets/output",
      "model_module_version": "1.0.0",
      "model_name": "OutputModel",
      "state": {
       "layout": "IPY_MODEL_f0db7b48a7c44b9f8cc2fe548cbe5d84"
      }
     },
     "0aae2514bcbc4d0f80aba8307be05906": {
      "model_module": "@jupyter-widgets/controls",
      "model_module_version": "1.5.0",
      "model_name": "DescriptionStyleModel",
      "state": {
       "description_width": ""
      }
     },
     "0bfc50f6631e4c468096d7ea9ac0ad8b": {
      "model_module": "@jupyter-widgets/base",
      "model_module_version": "1.2.0",
      "model_name": "LayoutModel",
      "state": {}
     },
     "12c896ec4aed46cbae75a9d2fbdbb70d": {
      "model_module": "@jupyter-widgets/base",
      "model_module_version": "1.2.0",
      "model_name": "LayoutModel",
      "state": {}
     },
     "1803a03c6c2d4db382b392df110abdbe": {
      "model_module": "@jupyter-widgets/base",
      "model_module_version": "1.2.0",
      "model_name": "LayoutModel",
      "state": {}
     },
     "18a877da93df4b2bbd7ab8a367c5190a": {
      "model_module": "@jupyter-widgets/controls",
      "model_module_version": "1.5.0",
      "model_name": "TextModel",
      "state": {
       "description": "Definition:",
       "layout": "IPY_MODEL_78fb7fec75494cfab3b581f4d8052b6f",
       "placeholder": "Term 3 definition",
       "style": "IPY_MODEL_7094742e05ae4fbeb8083a434ca1d009"
      }
     },
     "19a3192224e2468ab0e620883bff50bf": {
      "model_module": "@jupyter-widgets/output",
      "model_module_version": "1.0.0",
      "model_name": "OutputModel",
      "state": {
       "layout": "IPY_MODEL_40851d5ec4814a06a5b40ee0654074a5"
      }
     },
     "1be166c13acd4736ba2ef785999727d0": {
      "model_module": "@jupyter-widgets/base",
      "model_module_version": "1.2.0",
      "model_name": "LayoutModel",
      "state": {}
     },
     "1d077ffea48740e3984f004b75981956": {
      "model_module": "@jupyter-widgets/controls",
      "model_module_version": "1.5.0",
      "model_name": "TextModel",
      "state": {
       "description": "Definition:",
       "layout": "IPY_MODEL_69f8cfcdf7b84dbd90677deecddbc88d",
       "placeholder": "Term 2 definition",
       "style": "IPY_MODEL_0aae2514bcbc4d0f80aba8307be05906"
      }
     },
     "1fcd9d3a417943a2bc42f8d0374cdb03": {
      "model_module": "@jupyter-widgets/controls",
      "model_module_version": "1.5.0",
      "model_name": "ButtonModel",
      "state": {
       "description": "Finish",
       "icon": "check",
       "layout": "IPY_MODEL_b577f52fb4ec49f58ef62e17449ced90",
       "style": "IPY_MODEL_c028bc33fe9641a49e3b4e56ee426113"
      }
     },
     "223acef779274cc8b5020afeffb49dc0": {
      "model_module": "@jupyter-widgets/output",
      "model_module_version": "1.0.0",
      "model_name": "OutputModel",
      "state": {
       "layout": "IPY_MODEL_12c896ec4aed46cbae75a9d2fbdbb70d"
      }
     },
     "26e86bac1cd14759b373885342e17daf": {
      "model_module": "@jupyter-widgets/controls",
      "model_module_version": "1.5.0",
      "model_name": "TextModel",
      "state": {
       "description": "Definition:",
       "layout": "IPY_MODEL_d027e889436747b2990960222569ce4e",
       "placeholder": "Term 2 definition",
       "style": "IPY_MODEL_7d99e4f32df94abc9b9061e3d608c900"
      }
     },
     "27a182ea9e1c408f97922edb42dfba94": {
      "model_module": "@jupyter-widgets/controls",
      "model_module_version": "1.5.0",
      "model_name": "VBoxModel",
      "state": {
       "_dom_classes": [
        "widget-interact"
       ],
       "children": [
        "IPY_MODEL_18a877da93df4b2bbd7ab8a367c5190a",
        "IPY_MODEL_cd1c28574810420eaf1f2ba32c33f232"
       ],
       "layout": "IPY_MODEL_5fddd220a77e4e4bbb336ba3d84b5b64"
      }
     },
     "297ce44638094c2fb556193304eec2f7": {
      "model_module": "@jupyter-widgets/controls",
      "model_module_version": "1.5.0",
      "model_name": "DescriptionStyleModel",
      "state": {
       "description_width": ""
      }
     },
     "2be80342dbdf468baea3e5ba79ef6262": {
      "model_module": "@jupyter-widgets/base",
      "model_module_version": "1.2.0",
      "model_name": "LayoutModel",
      "state": {}
     },
     "2ca1d112a8da4890bc0b64e594f97aae": {
      "model_module": "@jupyter-widgets/controls",
      "model_module_version": "1.5.0",
      "model_name": "VBoxModel",
      "state": {
       "_dom_classes": [
        "widget-interact"
       ],
       "children": [
        "IPY_MODEL_6a9e774fdaef40c3a16ea5bcec8a0342",
        "IPY_MODEL_32860e5326ef41d9960c9cbb2acf6ead"
       ],
       "layout": "IPY_MODEL_a90dc82a053a4d06bb411580051ece1e"
      }
     },
     "2cebb90fda3c4bae83c9edafae2d4126": {
      "model_module": "@jupyter-widgets/base",
      "model_module_version": "1.2.0",
      "model_name": "LayoutModel",
      "state": {}
     },
     "2ff5f974424a4c0bb9f17ee268eae702": {
      "model_module": "@jupyter-widgets/output",
      "model_module_version": "1.0.0",
      "model_name": "OutputModel",
      "state": {
       "layout": "IPY_MODEL_f5481fd6dfc0444c9388d9751f4ddcf0"
      }
     },
     "32860e5326ef41d9960c9cbb2acf6ead": {
      "model_module": "@jupyter-widgets/output",
      "model_module_version": "1.0.0",
      "model_name": "OutputModel",
      "state": {
       "layout": "IPY_MODEL_2be80342dbdf468baea3e5ba79ef6262"
      }
     },
     "34849d626c154dcdb9b2fe338182a8b7": {
      "model_module": "@jupyter-widgets/controls",
      "model_module_version": "1.5.0",
      "model_name": "TextModel",
      "state": {
       "description": "Definition:",
       "layout": "IPY_MODEL_b43b3de8210346c28cb45ed539d1a486",
       "placeholder": "Term 1 definition",
       "style": "IPY_MODEL_fdaaf571591346d09e99c9b680fa68df"
      }
     },
     "40851d5ec4814a06a5b40ee0654074a5": {
      "model_module": "@jupyter-widgets/base",
      "model_module_version": "1.2.0",
      "model_name": "LayoutModel",
      "state": {}
     },
     "413d15d57b564b498ecfb153dc6c2732": {
      "model_module": "@jupyter-widgets/base",
      "model_module_version": "1.2.0",
      "model_name": "LayoutModel",
      "state": {}
     },
     "41c569f5aed84c7d8c8afe150e85ac41": {
      "model_module": "@jupyter-widgets/controls",
      "model_module_version": "1.5.0",
      "model_name": "VBoxModel",
      "state": {
       "_dom_classes": [
        "widget-interact"
       ],
       "children": [
        "IPY_MODEL_d75cb070e48f44b0b69172ae0fcdad27",
        "IPY_MODEL_54b50645d76440e4b24cd7da1d751087"
       ],
       "layout": "IPY_MODEL_9285e71fb7fc46d6b1fc83e813695173"
      }
     },
     "420d80b5b0524f65853baae0a58a3fa7": {
      "model_module": "@jupyter-widgets/controls",
      "model_module_version": "1.5.0",
      "model_name": "ButtonStyleModel",
      "state": {}
     },
     "42adb448d2bf44eabf42e3988bfde588": {
      "model_module": "@jupyter-widgets/output",
      "model_module_version": "1.0.0",
      "model_name": "OutputModel",
      "state": {
       "layout": "IPY_MODEL_0bfc50f6631e4c468096d7ea9ac0ad8b"
      }
     },
     "4429deedf4b84d9dbc48981d4258fe4c": {
      "model_module": "@jupyter-widgets/controls",
      "model_module_version": "1.5.0",
      "model_name": "ButtonStyleModel",
      "state": {}
     },
     "4d84cf672e0345cd833dbaceff97453f": {
      "model_module": "@jupyter-widgets/controls",
      "model_module_version": "1.5.0",
      "model_name": "TextModel",
      "state": {
       "description": "Definition:",
       "layout": "IPY_MODEL_ec477da9e69c42daa876468c086e309e",
       "placeholder": "Term 2 definition",
       "style": "IPY_MODEL_297ce44638094c2fb556193304eec2f7"
      }
     },
     "4ded9fd4a4124a21bd6b81c568277e69": {
      "model_module": "@jupyter-widgets/base",
      "model_module_version": "1.2.0",
      "model_name": "LayoutModel",
      "state": {}
     },
     "54b50645d76440e4b24cd7da1d751087": {
      "model_module": "@jupyter-widgets/output",
      "model_module_version": "1.0.0",
      "model_name": "OutputModel",
      "state": {
       "layout": "IPY_MODEL_2cebb90fda3c4bae83c9edafae2d4126"
      }
     },
     "57080f56d90b448691719f982c86bcc8": {
      "model_module": "@jupyter-widgets/controls",
      "model_module_version": "1.5.0",
      "model_name": "DescriptionStyleModel",
      "state": {
       "description_width": ""
      }
     },
     "5fddd220a77e4e4bbb336ba3d84b5b64": {
      "model_module": "@jupyter-widgets/base",
      "model_module_version": "1.2.0",
      "model_name": "LayoutModel",
      "state": {}
     },
     "608e861d73614f4889effa666d4dc216": {
      "model_module": "@jupyter-widgets/base",
      "model_module_version": "1.2.0",
      "model_name": "LayoutModel",
      "state": {}
     },
     "69f8cfcdf7b84dbd90677deecddbc88d": {
      "model_module": "@jupyter-widgets/base",
      "model_module_version": "1.2.0",
      "model_name": "LayoutModel",
      "state": {}
     },
     "6a9e774fdaef40c3a16ea5bcec8a0342": {
      "model_module": "@jupyter-widgets/controls",
      "model_module_version": "1.5.0",
      "model_name": "TextModel",
      "state": {
       "description": "Definition:",
       "layout": "IPY_MODEL_894f1d5af17142ceab6779cbdf828966",
       "placeholder": "Term 3 definition",
       "style": "IPY_MODEL_97bfc4ba5aba4d44ad48635cdbf70ec4"
      }
     },
     "6ac82692d3c645ce8f31c020cce12a2e": {
      "model_module": "@jupyter-widgets/base",
      "model_module_version": "1.2.0",
      "model_name": "LayoutModel",
      "state": {}
     },
     "7094742e05ae4fbeb8083a434ca1d009": {
      "model_module": "@jupyter-widgets/controls",
      "model_module_version": "1.5.0",
      "model_name": "DescriptionStyleModel",
      "state": {
       "description_width": ""
      }
     },
     "7522f4e4a13a4f5f8e5c3f78beac17f3": {
      "model_module": "@jupyter-widgets/controls",
      "model_module_version": "1.5.0",
      "model_name": "ButtonModel",
      "state": {
       "description": "Finish",
       "icon": "check",
       "layout": "IPY_MODEL_ea03bf6f73ab47f8b4ec87e19e905d93",
       "style": "IPY_MODEL_4429deedf4b84d9dbc48981d4258fe4c"
      }
     },
     "766b84b8ff4f47f689c1c64ba31ff1f3": {
      "model_module": "@jupyter-widgets/output",
      "model_module_version": "1.0.0",
      "model_name": "OutputModel",
      "state": {
       "layout": "IPY_MODEL_6ac82692d3c645ce8f31c020cce12a2e"
      }
     },
     "78fb7fec75494cfab3b581f4d8052b6f": {
      "model_module": "@jupyter-widgets/base",
      "model_module_version": "1.2.0",
      "model_name": "LayoutModel",
      "state": {}
     },
     "7a2dad2d88c24de4bbeb6de3bf0f12d8": {
      "model_module": "@jupyter-widgets/controls",
      "model_module_version": "1.5.0",
      "model_name": "VBoxModel",
      "state": {
       "_dom_classes": [
        "widget-interact"
       ],
       "children": [
        "IPY_MODEL_be769da90c0044728e1f0f4f63a29ae0",
        "IPY_MODEL_223acef779274cc8b5020afeffb49dc0"
       ],
       "layout": "IPY_MODEL_c940004e959e46e7bbfd18bb1221f93b"
      }
     },
     "7d99e4f32df94abc9b9061e3d608c900": {
      "model_module": "@jupyter-widgets/controls",
      "model_module_version": "1.5.0",
      "model_name": "DescriptionStyleModel",
      "state": {
       "description_width": ""
      }
     },
     "7f411c10420e4f749a167f8fccc92ba4": {
      "model_module": "@jupyter-widgets/controls",
      "model_module_version": "1.5.0",
      "model_name": "ButtonModel",
      "state": {
       "description": "Finish",
       "icon": "check",
       "layout": "IPY_MODEL_96c3dcfe71874d3f8c154695535c32af",
       "style": "IPY_MODEL_420d80b5b0524f65853baae0a58a3fa7"
      }
     },
     "83567998ee0045a2b8d25adb2caabb97": {
      "model_module": "@jupyter-widgets/base",
      "model_module_version": "1.2.0",
      "model_name": "LayoutModel",
      "state": {}
     },
     "894f1d5af17142ceab6779cbdf828966": {
      "model_module": "@jupyter-widgets/base",
      "model_module_version": "1.2.0",
      "model_name": "LayoutModel",
      "state": {}
     },
     "8d10899b13db4b75ab8419b4d923bed4": {
      "model_module": "@jupyter-widgets/controls",
      "model_module_version": "1.5.0",
      "model_name": "ButtonModel",
      "state": {
       "description": "Finish",
       "icon": "check",
       "layout": "IPY_MODEL_9dc18dc8f2f24f72aecbed544fbf2b90",
       "style": "IPY_MODEL_fc6004362103470c937ffe25974f7aec"
      }
     },
     "9285e71fb7fc46d6b1fc83e813695173": {
      "model_module": "@jupyter-widgets/base",
      "model_module_version": "1.2.0",
      "model_name": "LayoutModel",
      "state": {}
     },
     "96c3dcfe71874d3f8c154695535c32af": {
      "model_module": "@jupyter-widgets/base",
      "model_module_version": "1.2.0",
      "model_name": "LayoutModel",
      "state": {}
     },
     "97bfc4ba5aba4d44ad48635cdbf70ec4": {
      "model_module": "@jupyter-widgets/controls",
      "model_module_version": "1.5.0",
      "model_name": "DescriptionStyleModel",
      "state": {
       "description_width": ""
      }
     },
     "9dc18dc8f2f24f72aecbed544fbf2b90": {
      "model_module": "@jupyter-widgets/base",
      "model_module_version": "1.2.0",
      "model_name": "LayoutModel",
      "state": {}
     },
     "9e92880654ea4a03a9263a7c707795c2": {
      "model_module": "@jupyter-widgets/controls",
      "model_module_version": "1.5.0",
      "model_name": "DescriptionStyleModel",
      "state": {
       "description_width": ""
      }
     },
     "a08bb06175554f4694f1a66d55419c82": {
      "model_module": "@jupyter-widgets/base",
      "model_module_version": "1.2.0",
      "model_name": "LayoutModel",
      "state": {}
     },
     "a23f55a069374b5abdf97f8ac0583d13": {
      "model_module": "@jupyter-widgets/controls",
      "model_module_version": "1.5.0",
      "model_name": "VBoxModel",
      "state": {
       "_dom_classes": [
        "widget-interact"
       ],
       "children": [
        "IPY_MODEL_34849d626c154dcdb9b2fe338182a8b7",
        "IPY_MODEL_19a3192224e2468ab0e620883bff50bf"
       ],
       "layout": "IPY_MODEL_413d15d57b564b498ecfb153dc6c2732"
      }
     },
     "a34a65811b9347ecb0367556141cc7b3": {
      "model_module": "@jupyter-widgets/controls",
      "model_module_version": "1.5.0",
      "model_name": "ButtonStyleModel",
      "state": {}
     },
     "a90dc82a053a4d06bb411580051ece1e": {
      "model_module": "@jupyter-widgets/base",
      "model_module_version": "1.2.0",
      "model_name": "LayoutModel",
      "state": {}
     },
     "b43b3de8210346c28cb45ed539d1a486": {
      "model_module": "@jupyter-widgets/base",
      "model_module_version": "1.2.0",
      "model_name": "LayoutModel",
      "state": {}
     },
     "b577f52fb4ec49f58ef62e17449ced90": {
      "model_module": "@jupyter-widgets/base",
      "model_module_version": "1.2.0",
      "model_name": "LayoutModel",
      "state": {}
     },
     "be769da90c0044728e1f0f4f63a29ae0": {
      "model_module": "@jupyter-widgets/controls",
      "model_module_version": "1.5.0",
      "model_name": "TextModel",
      "state": {
       "description": "Definition:",
       "layout": "IPY_MODEL_ea3768e2753c474a947d129f9a634b40",
       "placeholder": "Term 1 definition",
       "style": "IPY_MODEL_9e92880654ea4a03a9263a7c707795c2"
      }
     },
     "c028bc33fe9641a49e3b4e56ee426113": {
      "model_module": "@jupyter-widgets/controls",
      "model_module_version": "1.5.0",
      "model_name": "ButtonStyleModel",
      "state": {}
     },
     "c940004e959e46e7bbfd18bb1221f93b": {
      "model_module": "@jupyter-widgets/base",
      "model_module_version": "1.2.0",
      "model_name": "LayoutModel",
      "state": {}
     },
     "cc92610fd0c84a15936ba4faec906e62": {
      "model_module": "@jupyter-widgets/base",
      "model_module_version": "1.2.0",
      "model_name": "LayoutModel",
      "state": {}
     },
     "cd1c28574810420eaf1f2ba32c33f232": {
      "model_module": "@jupyter-widgets/output",
      "model_module_version": "1.0.0",
      "model_name": "OutputModel",
      "state": {
       "layout": "IPY_MODEL_a08bb06175554f4694f1a66d55419c82"
      }
     },
     "cd1dad905f15410ba37531d11654db1c": {
      "model_module": "@jupyter-widgets/controls",
      "model_module_version": "1.5.0",
      "model_name": "DescriptionStyleModel",
      "state": {
       "description_width": ""
      }
     },
     "cea83f02fe314860ab01fc6732729db9": {
      "model_module": "@jupyter-widgets/controls",
      "model_module_version": "1.5.0",
      "model_name": "VBoxModel",
      "state": {
       "_dom_classes": [
        "widget-interact"
       ],
       "children": [
        "IPY_MODEL_4d84cf672e0345cd833dbaceff97453f",
        "IPY_MODEL_067ec038b01a4e4c85f3e9b91381f10f"
       ],
       "layout": "IPY_MODEL_1be166c13acd4736ba2ef785999727d0"
      }
     },
     "d027e889436747b2990960222569ce4e": {
      "model_module": "@jupyter-widgets/base",
      "model_module_version": "1.2.0",
      "model_name": "LayoutModel",
      "state": {}
     },
     "d75cb070e48f44b0b69172ae0fcdad27": {
      "model_module": "@jupyter-widgets/controls",
      "model_module_version": "1.5.0",
      "model_name": "TextModel",
      "state": {
       "description": "Definition:",
       "layout": "IPY_MODEL_1803a03c6c2d4db382b392df110abdbe",
       "placeholder": "Term 3 definition",
       "style": "IPY_MODEL_57080f56d90b448691719f982c86bcc8"
      }
     },
     "d7a00f5bb0734227bb5535bbfd01e299": {
      "model_module": "@jupyter-widgets/controls",
      "model_module_version": "1.5.0",
      "model_name": "ButtonModel",
      "state": {
       "description": "Finish",
       "icon": "check",
       "layout": "IPY_MODEL_cc92610fd0c84a15936ba4faec906e62",
       "style": "IPY_MODEL_db8cabcfba984ee5b192784fa71ebb47"
      }
     },
     "db2b10abb5244779b5c60903199e6028": {
      "model_module": "@jupyter-widgets/controls",
      "model_module_version": "1.5.0",
      "model_name": "VBoxModel",
      "state": {
       "_dom_classes": [
        "widget-interact"
       ],
       "children": [
        "IPY_MODEL_eb71102a2297453f9541f78eceb9a250",
        "IPY_MODEL_42adb448d2bf44eabf42e3988bfde588"
       ],
       "layout": "IPY_MODEL_4ded9fd4a4124a21bd6b81c568277e69"
      }
     },
     "db8cabcfba984ee5b192784fa71ebb47": {
      "model_module": "@jupyter-widgets/controls",
      "model_module_version": "1.5.0",
      "model_name": "ButtonStyleModel",
      "state": {}
     },
     "e0d48d1474e94d6fb600e11d4abfaf29": {
      "model_module": "@jupyter-widgets/controls",
      "model_module_version": "1.5.0",
      "model_name": "VBoxModel",
      "state": {
       "_dom_classes": [
        "widget-interact"
       ],
       "children": [
        "IPY_MODEL_1d077ffea48740e3984f004b75981956",
        "IPY_MODEL_2ff5f974424a4c0bb9f17ee268eae702"
       ],
       "layout": "IPY_MODEL_608e861d73614f4889effa666d4dc216"
      }
     },
     "ea03bf6f73ab47f8b4ec87e19e905d93": {
      "model_module": "@jupyter-widgets/base",
      "model_module_version": "1.2.0",
      "model_name": "LayoutModel",
      "state": {}
     },
     "ea3768e2753c474a947d129f9a634b40": {
      "model_module": "@jupyter-widgets/base",
      "model_module_version": "1.2.0",
      "model_name": "LayoutModel",
      "state": {}
     },
     "eb71102a2297453f9541f78eceb9a250": {
      "model_module": "@jupyter-widgets/controls",
      "model_module_version": "1.5.0",
      "model_name": "TextModel",
      "state": {
       "description": "Definition:",
       "layout": "IPY_MODEL_83567998ee0045a2b8d25adb2caabb97",
       "placeholder": "Term 1 definition",
       "style": "IPY_MODEL_cd1dad905f15410ba37531d11654db1c"
      }
     },
     "ec477da9e69c42daa876468c086e309e": {
      "model_module": "@jupyter-widgets/base",
      "model_module_version": "1.2.0",
      "model_name": "LayoutModel",
      "state": {}
     },
     "ee822eda703446d3ae4ac9af71332d8a": {
      "model_module": "@jupyter-widgets/controls",
      "model_module_version": "1.5.0",
      "model_name": "VBoxModel",
      "state": {
       "_dom_classes": [
        "widget-interact"
       ],
       "children": [
        "IPY_MODEL_26e86bac1cd14759b373885342e17daf",
        "IPY_MODEL_766b84b8ff4f47f689c1c64ba31ff1f3"
       ],
       "layout": "IPY_MODEL_f521d509fcad4f5682befdad4ce1f04b"
      }
     },
     "f0db7b48a7c44b9f8cc2fe548cbe5d84": {
      "model_module": "@jupyter-widgets/base",
      "model_module_version": "1.2.0",
      "model_name": "LayoutModel",
      "state": {}
     },
     "f521d509fcad4f5682befdad4ce1f04b": {
      "model_module": "@jupyter-widgets/base",
      "model_module_version": "1.2.0",
      "model_name": "LayoutModel",
      "state": {}
     },
     "f5481fd6dfc0444c9388d9751f4ddcf0": {
      "model_module": "@jupyter-widgets/base",
      "model_module_version": "1.2.0",
      "model_name": "LayoutModel",
      "state": {}
     },
     "fc6004362103470c937ffe25974f7aec": {
      "model_module": "@jupyter-widgets/controls",
      "model_module_version": "1.5.0",
      "model_name": "ButtonStyleModel",
      "state": {}
     },
     "fdaaf571591346d09e99c9b680fa68df": {
      "model_module": "@jupyter-widgets/controls",
      "model_module_version": "1.5.0",
      "model_name": "DescriptionStyleModel",
      "state": {
       "description_width": ""
      }
     },
     "ffc73bc74b1f47249fb025c2cead6663": {
      "model_module": "@jupyter-widgets/base",
      "model_module_version": "1.2.0",
      "model_name": "LayoutModel",
      "state": {}
     }
    },
    "version_major": 2,
    "version_minor": 0
   }
  }
 },
 "nbformat": 4,
 "nbformat_minor": 2
}
