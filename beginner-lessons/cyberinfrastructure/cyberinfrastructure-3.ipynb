{
 "cells": [
  {
   "cell_type": "markdown",
   "metadata": {
    "slideshow": {
     "slide_type": "slide"
    }
   },
   "source": [
    "# Reminder\n",
    "\n",
    "\n",
    "<a href=\"#/slide-1-0\" class=\"navigate-right\" style=\"background-color:blue;color:white;padding:10px;margin:2px;font-weight:bold;\">Continue with the lesson</a>\n",
    "\n",
    "<font size=\"+1\">\n",
    "\n",
    "By continuing with this lesson you are granting your permission to take part in this research study for the Hour of Cyberinfrastructure: Developing Cyber Literacy for GIScience project. In this study, you will be learning about cyberinfrastructure and related concepts using a web-based platform that will take approximately one hour per lesson. Participation in this study is voluntary.\n",
    "\n",
    "Participants in this research must be 18 years or older. If you are under the age of 18 then please exit this webpage or navigate to another website such as the Hour of Code at https://hourofcode.com, which is designed for K-12 students.\n",
    "\n",
    "If you are not interested in participating please exit the browser or navigate to this website: http://www.umn.edu. Your participation is voluntary and you are free to stop the lesson at any time.\n",
    "\n",
    "For the full description please navigate to this website: <a href=\"../../gateway-lesson/gateway/gateway-1.ipynb\">Gateway Lesson Research Study Permission</a>.\n",
    "\n",
    "</font>"
   ]
  },
  {
   "cell_type": "code",
   "execution_count": 1,
   "metadata": {
    "hide_input": true,
    "init_cell": true,
    "scrolled": false,
    "slideshow": {
     "slide_type": "skip"
    },
    "tags": [
     "Hide"
    ]
   },
   "outputs": [
    {
     "data": {
      "text/html": [
       " \n",
       "    <script type=\"text/javascript\" src=\"../../supplementary/js/custom.js\"></script>\n",
       "    \n",
       "    <input id=\"toggle_code\" type=\"button\" value=\"Toggle raw code\">\n"
      ],
      "text/plain": [
       "<IPython.core.display.HTML object>"
      ]
     },
     "execution_count": 1,
     "metadata": {},
     "output_type": "execute_result"
    }
   ],
   "source": [
    "# This code cell starts the necessary setup for Hour of CI lesson notebooks.\n",
    "# First, it enables users to hide and unhide code by producing a 'Toggle raw code' button below.\n",
    "# Second, it imports the hourofci package, which is necessary for lessons and interactive Jupyter Widgets.\n",
    "# Third, it helps hide/control other aspects of Jupyter Notebooks to improve the user experience\n",
    "# This is an initialization cell\n",
    "# It is not displayed because the Slide Type is 'Skip'\n",
    "\n",
    "from IPython.display import HTML, IFrame, Javascript, display\n",
    "from ipywidgets import interactive\n",
    "import ipywidgets as widgets\n",
    "from ipywidgets import Layout\n",
    "\n",
    "import getpass # This library allows us to get the username (User agent string)\n",
    "\n",
    "# import package for hourofci project\n",
    "import sys\n",
    "sys.path.append('../../supplementary') # relative path (may change depending on the location of the lesson notebook)\n",
    "import hourofci\n",
    "\n",
    "# Retreive the user agent string, it will be passed to the hourofci submit button\n",
    "agent_js = \"\"\"\n",
    "IPython.notebook.kernel.execute(\"user_agent = \" + \"'\" + navigator.userAgent + \"'\");\n",
    "\"\"\"\n",
    "Javascript(agent_js)\n",
    "\n",
    "# load javascript to initialize/hide cells, get user agent string, and hide output indicator\n",
    "# hide code by introducing a toggle button \"Toggle raw code\"\n",
    "HTML(''' \n",
    "    <script type=\"text/javascript\" src=\\\"../../supplementary/js/custom.js\\\"></script>\n",
    "    \n",
    "    <input id=\"toggle_code\" type=\"button\" value=\"Toggle raw code\">\n",
    "''')"
   ]
  },
  {
   "cell_type": "markdown",
   "metadata": {
    "slideshow": {
     "slide_type": "slide"
    }
   },
   "source": [
    "# Components of Cyberinfrastructure\n",
    "\n",
    "Now that you understand what Cyberinfrastructure is, let's go through the components of cyberinfrastructure one by one. Based on your understanding of what cyberinfrastructure is, let's see if you can identify components of cyberinfrastructure (and learn more about the components along the way).\n",
    "\n"
   ]
  },
  {
   "cell_type": "markdown",
   "metadata": {
    "slideshow": {
     "slide_type": "slide"
    }
   },
   "source": [
    "## Is this a component of Cyberinfrastructure?\n",
    "Here’s a big machine making a lot of cooling fan noise. Do you think  this is a component of cyberinfrastructure?\n",
    "\n",
    "<img src=\"supplementary/bigred.png\" width=\"400\"/>    \n",
    "    \n",
    "<small>Image from https://pti.iu.edu/outreach-training/supercomputing/br2.html © Trustees of Indiana University. Used by Permission</small>"
   ]
  },
  {
   "cell_type": "code",
   "execution_count": 2,
   "metadata": {
    "hide_input": true,
    "slideshow": {
     "slide_type": "-"
    },
    "tags": [
     "Init",
     "Hide",
     "3A"
    ]
   },
   "outputs": [
    {
     "data": {
      "application/vnd.jupyter.widget-view+json": {
       "model_id": "7f5636b4d8eb491e8e08c8c00e422a6d",
       "version_major": 2,
       "version_minor": 0
      },
      "text/plain": [
       "ToggleButtons(options=('Yes', 'No'), tooltips=('Yes this is CI', 'No this is not CI'), value='Yes')"
      ]
     },
     "metadata": {},
     "output_type": "display_data"
    },
    {
     "data": {
      "application/vnd.jupyter.widget-view+json": {
       "model_id": "be836aaf955847569d5185ac8891a806",
       "version_major": 2,
       "version_minor": 0
      },
      "text/plain": [
       "Button(description='Submit', icon='check', layout=Layout(height='auto', width='auto'), style=ButtonStyle())"
      ]
     },
     "metadata": {},
     "output_type": "display_data"
    },
    {
     "data": {
      "application/vnd.jupyter.widget-view+json": {
       "model_id": "f9e744157e9b45d7944e1d104ec28a41",
       "version_major": 2,
       "version_minor": 0
      },
      "text/plain": [
       "Output()"
      ]
     },
     "metadata": {},
     "output_type": "display_data"
    }
   ],
   "source": [
    "# Multiple choice question using a ToggleButton widget\n",
    "# This code cell has tags \"Init\", \"Hide\", and \"3A\" (or the appropriate number)\n",
    "\n",
    "import sys\n",
    "sys.path.append('../../supplementary') # relative path (may change depending on the location of the lesson notebook)\n",
    "import hourofci\n",
    "\n",
    "'''\n",
    "{\n",
    "  \"hide_input\": false,\n",
    "  \"slideshow\": {\n",
    "    \"slide_type\": \"-\"\n",
    "  },\n",
    "  \"tags\": [\n",
    "    \"Init\",\n",
    "    \"Hide\",\n",
    "    \"3A\"\n",
    "  ],\n",
    "  \"trusted\": true\n",
    "}\n",
    "'''\n",
    "\n",
    "widgetA=widgets.ToggleButtons(\n",
    "    options=['Yes','No'],\n",
    "    description='',\n",
    "    disabled=False,\n",
    "    button_style='', # 'success', 'info', 'warning', 'danger' or ''\n",
    "    tooltips=['Yes this is CI', 'No this is not CI'],\n",
    ")\n",
    "\n",
    "# Show the options.\n",
    "display(widgetA)\n",
    "\n",
    "\n",
    "def outA():\n",
    "    if widgetA.value == 'Yes':\n",
    "        print(\"Yes, This is a supercomputer.(The fancy front is a giveaway). Supercomputers are in many ways the 'foundation' on which the concept of cyberinfrastructure was built.\")\n",
    "    if widgetA.value == 'No':\n",
    "        print(\"Not exactly! Try again!\")\n",
    "# Submit button: print and log the results\n",
    "hourofci.SubmitBtn(widgetA,outA)\n",
    "\n"
   ]
  },
  {
   "cell_type": "markdown",
   "metadata": {
    "slideshow": {
     "slide_type": "slide"
    }
   },
   "source": [
    "## Is this a component of Cyberinfrastructure?\n",
    "Here’s a big machine making a lot of cooling fan noise. Do you think  this is a component of cyberinfrastructure?\n",
    "\n",
    "<img src=\"supplementary/bigred.png\" width=\"400\"/>\n",
    "    \n",
    "### Yes! \n",
    "\n",
    "This is a supercomputer (the fancy front is a giveaway). Supercomputers are in many ways the \"foundation\" on which the concept of cyberinfrastructure was built.\n"
   ]
  },
  {
   "cell_type": "markdown",
   "metadata": {
    "slideshow": {
     "slide_type": "slide"
    }
   },
   "source": [
    "## Is this a component of Cyberinfrastructure?\n",
    "\n",
    "Here are some views of a web portal. Do you think this shows a component of cyberinfrastructure?\n",
    "\n",
    "<img src=\"supplementary/middle.png\" width=\"400\"/>\n",
    "\n",
    "<small> Used with permission – may not be used without permission from CyberGIS Center of the University of Illinois Urbana Champaign.</small>"
   ]
  },
  {
   "cell_type": "code",
   "execution_count": 3,
   "metadata": {
    "hide_input": true,
    "slideshow": {
     "slide_type": "-"
    },
    "tags": [
     "Init",
     "Hide",
     "3B"
    ]
   },
   "outputs": [
    {
     "data": {
      "application/vnd.jupyter.widget-view+json": {
       "model_id": "785e5d485f3b4c908dfdc557f9da177b",
       "version_major": 2,
       "version_minor": 0
      },
      "text/plain": [
       "ToggleButtons(options=('Yes', 'No'), tooltips=('Yes this is CI', 'No this is not CI'), value='Yes')"
      ]
     },
     "metadata": {},
     "output_type": "display_data"
    },
    {
     "data": {
      "application/vnd.jupyter.widget-view+json": {
       "model_id": "14d69881cf5847348f74e76c33381f3e",
       "version_major": 2,
       "version_minor": 0
      },
      "text/plain": [
       "Button(description='Submit', icon='check', layout=Layout(height='auto', width='auto'), style=ButtonStyle())"
      ]
     },
     "metadata": {},
     "output_type": "display_data"
    },
    {
     "data": {
      "application/vnd.jupyter.widget-view+json": {
       "model_id": "6d039752b64349d483a680334e43e216",
       "version_major": 2,
       "version_minor": 0
      },
      "text/plain": [
       "Output()"
      ]
     },
     "metadata": {},
     "output_type": "display_data"
    }
   ],
   "source": [
    "# Auto-run, Widget\n",
    "# Yes, no buttons\n",
    "\n",
    "widgetB=widgets.ToggleButtons(\n",
    "    options=['Yes','No'],\n",
    "    description='',\n",
    "    disabled=False,\n",
    "    button_style='', # 'success', 'info', 'warning', 'danger' or ''\n",
    "    tooltips=['Yes this is CI', 'No this is not CI'],\n",
    ")\n",
    "\n",
    "# Show the options.\n",
    "display(widgetB)\n",
    "\n",
    "def outB():\n",
    "    print(\"Go to the next page to see if you were correct.\")\n",
    "\n",
    "# Submit button: print and log the results\n",
    "hourofci.SubmitBtn(widgetB,outB)\n",
    "\n",
    "\n",
    "# Answers\n",
    "# Yes, Correct ! \\n' + \\\n",
    "#'- This is a type of “middleware” – the sort of software that glues together the disparate pieces of cyberinfrastructure\\n' + \\\n",
    "#'- This particular type of middleware is called a “Science Gateway.” Science Gateways are web-based tools for orchestrating cyberinfrastructure to do very complicated analyses.\\n' + \\\n",
    "#'- And this happens to be a GIS science gateway!\\n' + \\\n",
    "#'- There are other types of middleware.\n",
    "# No, try again"
   ]
  },
  {
   "cell_type": "markdown",
   "metadata": {
    "slideshow": {
     "slide_type": "slide"
    }
   },
   "source": [
    "## Is this a component of Cyberinfrastructure?\n",
    "\n",
    "<img src=\"supplementary/middle.png\" width=\"400\"/>\n",
    "\n",
    "Here are some views of a web portal. Do you think this shows a component of cyberinfrastructure?\n",
    "\n",
    "\n",
    "### Yes!\n",
    "This is a type of “middleware” – the sort of software that glues together the disparate pieces of cyberinfrastructure.\n",
    "\n",
    "This particular type of middleware is called a \"Science Gateway.\" Science Gateways are web-based tools for orchestrating cyberinfrastructure to do very complicated analyses.\n",
    "\n",
    "And this happens to be a GIS science gateway!\n",
    "\n",
    "There are other types of middleware too."
   ]
  },
  {
   "cell_type": "markdown",
   "metadata": {
    "slideshow": {
     "slide_type": "slide"
    }
   },
   "source": [
    "## Is this a component of Cyberinfrastructure?\n",
    "\n",
    "<img src=\"supplementary/hippo_wikipedia.jpg\" width=\"400\"/>\n",
    "\n",
    "<small>Diego Delso, CC BY-SA 4.0 <https://creativecommons.org/licenses/by-sa/4.0>, via Wikimedia Commons.</small>"
   ]
  },
  {
   "cell_type": "code",
   "execution_count": 4,
   "metadata": {
    "hide_input": true,
    "slideshow": {
     "slide_type": "-"
    },
    "tags": [
     "Init",
     "Hide",
     "3C"
    ]
   },
   "outputs": [
    {
     "data": {
      "application/vnd.jupyter.widget-view+json": {
       "model_id": "853244b4524d46cea48fe412e1efa46f",
       "version_major": 2,
       "version_minor": 0
      },
      "text/plain": [
       "ToggleButtons(options=('Yes', 'No'), tooltips=('Yes this is CI', 'No this is not CI'), value='Yes')"
      ]
     },
     "metadata": {},
     "output_type": "display_data"
    },
    {
     "data": {
      "application/vnd.jupyter.widget-view+json": {
       "model_id": "c8eed37526cd422ea9f11fc8cb4f2612",
       "version_major": 2,
       "version_minor": 0
      },
      "text/plain": [
       "Button(description='Submit', icon='check', layout=Layout(height='auto', width='auto'), style=ButtonStyle())"
      ]
     },
     "metadata": {},
     "output_type": "display_data"
    },
    {
     "data": {
      "application/vnd.jupyter.widget-view+json": {
       "model_id": "aefa646cefae459fb493702218e9d746",
       "version_major": 2,
       "version_minor": 0
      },
      "text/plain": [
       "Output()"
      ]
     },
     "metadata": {},
     "output_type": "display_data"
    }
   ],
   "source": [
    "# Auto-run, Widget\n",
    "# Yes, no buttons\n",
    "\n",
    "widgetC=widgets.ToggleButtons(\n",
    "    options=['Yes','No'],\n",
    "    description='',\n",
    "    disabled=False,\n",
    "    button_style='', # 'success', 'info', 'warning', 'danger' or ''\n",
    "    tooltips=['Yes this is CI', 'No this is not CI'],\n",
    ")\n",
    "\n",
    "# Show the options.\n",
    "display(widgetC)\n",
    "\n",
    "def outC():\n",
    "    print(\"Go to the next page to see if you were correct.\")\n",
    "    \n",
    "# Submit button: print and log the results\n",
    "hourofci.SubmitBtn(widgetC,outC)\n",
    "\n"
   ]
  },
  {
   "cell_type": "markdown",
   "metadata": {
    "slideshow": {
     "slide_type": "fragment"
    }
   },
   "source": [
    "### Unfortunately No ...\n",
    "This is just a hippo and not formally a component of cyberinfrastructure. Although Hip Po is pretty awesome. "
   ]
  },
  {
   "cell_type": "markdown",
   "metadata": {
    "slideshow": {
     "slide_type": "slide"
    }
   },
   "source": [
    "## Is this a component of Cyberinfrastructure?\n",
    "\n",
    "Is a laptop computer a component of cyberinfrastructure?\n",
    "\n",
    "<img src=\"supplementary/laptop.png\" width=\"400\"/>\n",
    "\n",
    "<small> CC BY-SA 4.0 https://commons.wikimedia.org/wiki/File:Microsoft_Surface_Pro_3_with_Type_Cover.jpg</small>"
   ]
  },
  {
   "cell_type": "code",
   "execution_count": 5,
   "metadata": {
    "hide_input": true,
    "slideshow": {
     "slide_type": "-"
    },
    "tags": [
     "Init",
     "Hide",
     "3D"
    ]
   },
   "outputs": [
    {
     "data": {
      "application/vnd.jupyter.widget-view+json": {
       "model_id": "fea3c753966d4502853e69caf98eadf2",
       "version_major": 2,
       "version_minor": 0
      },
      "text/plain": [
       "ToggleButtons(options=('Yes', 'No'), tooltips=('Yes this is CI', 'No this is not CI'), value='Yes')"
      ]
     },
     "metadata": {},
     "output_type": "display_data"
    },
    {
     "data": {
      "application/vnd.jupyter.widget-view+json": {
       "model_id": "737adf0d91c340ada37b02eb82a214c1",
       "version_major": 2,
       "version_minor": 0
      },
      "text/plain": [
       "Button(description='Submit', icon='check', layout=Layout(height='auto', width='auto'), style=ButtonStyle())"
      ]
     },
     "metadata": {},
     "output_type": "display_data"
    },
    {
     "data": {
      "application/vnd.jupyter.widget-view+json": {
       "model_id": "4a77ea458b434739bb9d7ed21a3b224a",
       "version_major": 2,
       "version_minor": 0
      },
      "text/plain": [
       "Output()"
      ]
     },
     "metadata": {},
     "output_type": "display_data"
    }
   ],
   "source": [
    "# Auto-run, Widget\n",
    "# Yes, no buttons\n",
    "\n",
    "widgetD=widgets.ToggleButtons(\n",
    "    options=['Yes','No'],\n",
    "    description='',\n",
    "    disabled=False,\n",
    "    button_style='', # 'success', 'info', 'warning', 'danger' or ''\n",
    "    tooltips=['Yes this is CI', 'No this is not CI'],\n",
    ")\n",
    "\n",
    "# Show the options.\n",
    "display(widgetD)\n",
    "\n",
    "def outD():\n",
    "    print(\"Go to the next page to see if you were correct.\")\n",
    "\n",
    "# Submit button: print and log the results\n",
    "hourofci.SubmitBtn(widgetD,outD)\n",
    "\n",
    "\n",
    "# Answers\n",
    "# Sure! Laptops are computational systems, too\\n' +\\\n",
    "# '- Many science gateways run from laptops to coordinate complex workflows involving remote data sources, supercomputers, and visualization systems'\n",
    "# No, Try Again!"
   ]
  },
  {
   "cell_type": "markdown",
   "metadata": {
    "slideshow": {
     "slide_type": "slide"
    }
   },
   "source": [
    "## Is this a component of Cyberinfrastructure?\n",
    "\n",
    "Is a laptop computer a component of cyberinfrastructure?\n",
    "\n",
    "<img src=\"supplementary/laptop.png\" width=\"400\"/>\n",
    "\n",
    "### Sure! Laptops are computational systems, too\n",
    "Many science gateways run from laptops to coordinate complex workflows involving remote data sources, supercomputers, and visualization systems\n"
   ]
  },
  {
   "cell_type": "markdown",
   "metadata": {
    "slideshow": {
     "slide_type": "slide"
    }
   },
   "source": [
    "## Is this a component of Cyberinfrastructure?\n",
    "\n",
    "How about a smartphone, could it be a component of cyberinfrastructure?\n",
    "\n",
    "<img src=\"supplementary/phone.png\" width=\"150\"/>\n",
    "\n",
    "<small>CC BY 4.0 https://commons.wikimedia.org/wiki/File:IPhone_8_vector.svg </small>"
   ]
  },
  {
   "cell_type": "code",
   "execution_count": 6,
   "metadata": {
    "hide_input": true,
    "slideshow": {
     "slide_type": "-"
    },
    "tags": [
     "Init",
     "Hide",
     "3E"
    ]
   },
   "outputs": [
    {
     "data": {
      "application/vnd.jupyter.widget-view+json": {
       "model_id": "16b8d0d26632462ea6ccd82fe7578af7",
       "version_major": 2,
       "version_minor": 0
      },
      "text/plain": [
       "ToggleButtons(options=('Yes', 'No'), tooltips=('Yes this is CI', 'No this is not CI'), value='Yes')"
      ]
     },
     "metadata": {},
     "output_type": "display_data"
    },
    {
     "data": {
      "application/vnd.jupyter.widget-view+json": {
       "model_id": "5122a9a52f0a4bf9b02b9df1d0b86d87",
       "version_major": 2,
       "version_minor": 0
      },
      "text/plain": [
       "Button(description='Submit', icon='check', layout=Layout(height='auto', width='auto'), style=ButtonStyle())"
      ]
     },
     "metadata": {},
     "output_type": "display_data"
    },
    {
     "data": {
      "application/vnd.jupyter.widget-view+json": {
       "model_id": "162b366006bd42b5a05b7023fa1833c1",
       "version_major": 2,
       "version_minor": 0
      },
      "text/plain": [
       "Output()"
      ]
     },
     "metadata": {},
     "output_type": "display_data"
    }
   ],
   "source": [
    "# Auto-run, Widget\n",
    "# Yes, no buttons\n",
    "\n",
    "widgetE=widgets.ToggleButtons(\n",
    "    options=['Yes','No'],\n",
    "    description='',\n",
    "    disabled=False,\n",
    "    button_style='', # 'success', 'info', 'warning', 'danger' or ''\n",
    "    tooltips=['Yes this is CI', 'No this is not CI'],\n",
    ")\n",
    "\n",
    "# Show the options.\n",
    "display(widgetE)\n",
    "\n",
    "def outE():\n",
    "    print(\"Go to the next page to see if you were correct.\")\n",
    "\n",
    "# Submit button: print and log the results\n",
    "hourofci.SubmitBtn(widgetE,outE)\n",
    "\n",
    "\n",
    "# Answers\n",
    "# Yes indeedy! \\n' +\\\n",
    "#'- This is a pretty sophisticated bit of computational hardware, first off. (Way more computing power than the first supercomputer, incidentally)\\n' +\\\n",
    "#'- Some science gateways will run from this\\n' +\\\n",
    "#'- And the camera and recording features allow this to be a “remote sensing device” too!' \n",
    "# No, try again"
   ]
  },
  {
   "cell_type": "markdown",
   "metadata": {
    "slideshow": {
     "slide_type": "slide"
    }
   },
   "source": [
    "## Is this a component of Cyberinfrastructure?\n",
    "\n",
    "How about a smartphone, could it be a component of cyberinfrastructure?\n",
    "\n",
    "<img src=\"supplementary/phone.png\" width=\"150\"/>\n",
    "\n",
    "### Yes indeedy! \n",
    "- This is a pretty sophisticated bit of computational hardware, first off. (Way more computing power than the first supercomputer, incidentally)\n",
    "- Some science gateways will run from this\n",
    "- And the camera and recording features allow this to be a \"remote sensing device\" too!\n",
    "- Such technology in the pockets of many people allow location-based services and massive-scale social sensing\n"
   ]
  },
  {
   "cell_type": "markdown",
   "metadata": {
    "slideshow": {
     "slide_type": "slide"
    }
   },
   "source": [
    "## Is this a component of Cyberinfrastructure?\n",
    "\n",
    "This is a very inexpensive and small computer, could it be a component of cyberinfrastructure?\n",
    "\n",
    "<img src=\"supplementary/raspb.png\" width=\"400\"/>\n",
    "\n",
    "<small> CC BY 4.0 https://en.wikipedia.org/wiki/Raspberry_Pi#/media/File:Raspberry_Pi_4_Model_B_-_Side.jpg</small>"
   ]
  },
  {
   "cell_type": "code",
   "execution_count": 7,
   "metadata": {
    "hide_input": true,
    "slideshow": {
     "slide_type": "-"
    },
    "tags": [
     "Init",
     "Hide",
     "3F"
    ]
   },
   "outputs": [
    {
     "data": {
      "application/vnd.jupyter.widget-view+json": {
       "model_id": "2179f31f7d1b436e93e150afd6271c7e",
       "version_major": 2,
       "version_minor": 0
      },
      "text/plain": [
       "ToggleButtons(options=('Yes', 'No'), tooltips=('Yes this is CI', 'No this is not CI'), value='Yes')"
      ]
     },
     "metadata": {},
     "output_type": "display_data"
    },
    {
     "data": {
      "application/vnd.jupyter.widget-view+json": {
       "model_id": "7a9ab7f5e783472a8a6b3b1c05c5c2d2",
       "version_major": 2,
       "version_minor": 0
      },
      "text/plain": [
       "Button(description='Submit', icon='check', layout=Layout(height='auto', width='auto'), style=ButtonStyle())"
      ]
     },
     "metadata": {},
     "output_type": "display_data"
    },
    {
     "data": {
      "application/vnd.jupyter.widget-view+json": {
       "model_id": "68577bb84a4d426aae740787827297fb",
       "version_major": 2,
       "version_minor": 0
      },
      "text/plain": [
       "Output()"
      ]
     },
     "metadata": {},
     "output_type": "display_data"
    }
   ],
   "source": [
    "# Auto-run, Widget\n",
    "# Yes, no buttons\n",
    "\n",
    "widgetF=widgets.ToggleButtons(\n",
    "    options=['Yes','No'],\n",
    "    description='',\n",
    "    disabled=False,\n",
    "    button_style='', # 'success', 'info', 'warning', 'danger' or ''\n",
    "    tooltips=['Yes this is CI', 'No this is not CI'],\n",
    ")\n",
    "\n",
    "# Show the options.\n",
    "display(widgetF)\n",
    "\n",
    "def outF():\n",
    "    print(\"Go to the next page to see if you were correct.\")\n",
    "\n",
    "# Submit button: print and log the results\n",
    "hourofci.SubmitBtn(widgetF,outF)\n",
    "\n",
    "\n",
    "# Answers\n",
    "# Yes, Speaking of remote sensing devices…\\n \\n'+\\\n",
    "#'- This is a Raspberry Pi – a very inexpensive small computer that is commonly used to handle the movement of data from sensors over the network to remote data storage or computational devices. \\n'+\\\n",
    "#'- So this is a piece of an advanced instrument and sure it can be a part of cyberinfrastructure'\n",
    "# No, Try Again!"
   ]
  },
  {
   "cell_type": "markdown",
   "metadata": {
    "slideshow": {
     "slide_type": "slide"
    }
   },
   "source": [
    "## Is this a component of Cyberinfrastructure?\n",
    "\n",
    "This is a very inexpensive and small computer, could it be a component of cyberinfrastructure?\n",
    "\n",
    "<img src=\"supplementary/raspb.png\" width=\"400\"/>\n",
    "\n",
    "### Yes \n",
    "Speaking of remote sensing devices…\n",
    "\n",
    "This is a Raspberry Pi – a very inexpensive small computer that is commonly used to handle the movement of data from sensors over the network to remote data storage or computational devices. \n",
    "So this is a piece of an advanced instrument and sure it can be a part of cyberinfrastructure\n"
   ]
  },
  {
   "cell_type": "markdown",
   "metadata": {
    "slideshow": {
     "slide_type": "slide"
    }
   },
   "source": [
    "## Is this a component of Cyberinfrastructure?\n",
    "\n",
    "This is a very neatly arranged group of network cables on the back of a computer network switch, is this a component of cyberinfrastructure?\n",
    "\n",
    "<img src=\"supplementary/nwork.png\" width=\"400\"/>\n",
    "\n",
    "<small> © Indiana University – used with permission </small>"
   ]
  },
  {
   "cell_type": "code",
   "execution_count": 8,
   "metadata": {
    "hide_input": true,
    "slideshow": {
     "slide_type": "-"
    },
    "tags": [
     "Init",
     "Hide",
     "3G"
    ]
   },
   "outputs": [
    {
     "data": {
      "application/vnd.jupyter.widget-view+json": {
       "model_id": "41f12210f52f459d8b08dfe6914e5e0f",
       "version_major": 2,
       "version_minor": 0
      },
      "text/plain": [
       "ToggleButtons(options=('Yes', 'No'), tooltips=('Yes this is CI', 'No this is not CI'), value='Yes')"
      ]
     },
     "metadata": {},
     "output_type": "display_data"
    },
    {
     "data": {
      "application/vnd.jupyter.widget-view+json": {
       "model_id": "ee6106e8bb6e4092994e20c856f6b8bf",
       "version_major": 2,
       "version_minor": 0
      },
      "text/plain": [
       "Button(description='Submit', icon='check', layout=Layout(height='auto', width='auto'), style=ButtonStyle())"
      ]
     },
     "metadata": {},
     "output_type": "display_data"
    },
    {
     "data": {
      "application/vnd.jupyter.widget-view+json": {
       "model_id": "7664ad1e9c1f4eebb78b7f3c8cc6599a",
       "version_major": 2,
       "version_minor": 0
      },
      "text/plain": [
       "Output()"
      ]
     },
     "metadata": {},
     "output_type": "display_data"
    }
   ],
   "source": [
    "# Auto-run, Widget\n",
    "# Yes, no buttons\n",
    "\n",
    "widgetG=widgets.ToggleButtons(\n",
    "    options=['Yes','No'],\n",
    "    description='',\n",
    "    disabled=False,\n",
    "    button_style='', # 'success', 'info', 'warning', 'danger' or ''\n",
    "    tooltips=['Yes this is CI', 'No this is not CI'],\n",
    ")\n",
    "\n",
    "# Show the options.\n",
    "display(widgetG)\n",
    "\n",
    "def outG():\n",
    "    print(\"Go to the next page to see if you were correct.\")\n",
    "\n",
    "# Submit button: print and log the results\n",
    "hourofci.SubmitBtn(widgetG,outG)\n",
    "\n",
    "\n",
    "# Answers\n",
    "# Yes! This is a very neatly arranged group of network cables on the back of a computer network switch \\n' +\\\n",
    "# '- Modern, high-capacity computer networks were what really made it possible for cyberinfrastructure to be more than just supercomputers, and made it important for the coining of the term “cyberinfrastructure”\\n'\n",
    "# No, try again"
   ]
  },
  {
   "cell_type": "markdown",
   "metadata": {
    "slideshow": {
     "slide_type": "slide"
    }
   },
   "source": [
    "## Is this a component of Cyberinfrastructure?\n",
    "\n",
    "This is a very neatly arranged group of network cables on the back of a computer network switch, is this a component of cyberinfrastructure?\n",
    "\n",
    "<img src=\"supplementary/nwork.png\" width=\"400\"/>\n",
    "\n",
    "### Yes! \n",
    "Modern, high-capacity computer networks were what really made it possible for cyberinfrastructure to be more than just supercomputers, and made it important for the coining of the term 'cyberinfrastructure'\n"
   ]
  },
  {
   "cell_type": "markdown",
   "metadata": {
    "slideshow": {
     "slide_type": "slide"
    }
   },
   "source": [
    "## Is this a component of Cyberinfrastructure?\n",
    "\n",
    "<img src=\"supplementary/people.png\" width=\"400\"/>\n",
    "(Play the video to see who these people are ...)\n",
    "\n",
    "<small> Image © XSEDE, used by permission. From https://www.xsede.org/-/getting-to-know-the-campus-champions</small>"
   ]
  },
  {
   "cell_type": "code",
   "execution_count": 9,
   "metadata": {
    "hide_input": true,
    "slideshow": {
     "slide_type": "-"
    },
    "tags": [
     "Init",
     "Hide",
     "3H"
    ]
   },
   "outputs": [
    {
     "data": {
      "application/vnd.jupyter.widget-view+json": {
       "model_id": "47d0aad3113248e284afbe4c46c192ca",
       "version_major": 2,
       "version_minor": 0
      },
      "text/plain": [
       "ToggleButtons(options=('Yes', 'No'), tooltips=('Yes this is CI', 'No this is not CI'), value='Yes')"
      ]
     },
     "metadata": {},
     "output_type": "display_data"
    },
    {
     "data": {
      "application/vnd.jupyter.widget-view+json": {
       "model_id": "d9964bba69bc47bc91f63b4e61b07455",
       "version_major": 2,
       "version_minor": 0
      },
      "text/plain": [
       "Button(description='Submit', icon='check', layout=Layout(height='auto', width='auto'), style=ButtonStyle())"
      ]
     },
     "metadata": {},
     "output_type": "display_data"
    },
    {
     "data": {
      "application/vnd.jupyter.widget-view+json": {
       "model_id": "db29f5acf37148d4ac471bf4c8dec00e",
       "version_major": 2,
       "version_minor": 0
      },
      "text/plain": [
       "Output()"
      ]
     },
     "metadata": {},
     "output_type": "display_data"
    }
   ],
   "source": [
    "# Auto-run, Widget\n",
    "# Yes, no buttons\n",
    "\n",
    "widgetH=widgets.ToggleButtons(\n",
    "    options=['Yes','No'],\n",
    "    description='',\n",
    "    disabled=False,\n",
    "    button_style='', # 'success', 'info', 'warning', 'danger' or ''\n",
    "    tooltips=['Yes this is CI', 'No this is not CI'],\n",
    ")\n",
    "\n",
    "# Show the options.\n",
    "display(widgetH)\n",
    "\n",
    "def outH():\n",
    "    print(\"Go to the next page to see if you were correct.\")\n",
    "\n",
    "# Submit button: print and log the results\n",
    "hourofci.SubmitBtn(widgetH,outH)\n",
    "\n",
    "\n",
    "# Answers\n",
    "# Yes, PEOPLE!\n",
    "#'- Experts with cyberinfrastructure are one of the most important parts of cyberinfrastructure\\n' +\\\n",
    "#'- Cyberinfrastructure (often shortened to just ”CI”) is very complicated and changes constantly\\n' +\\\n",
    "#'- CI experts are one of the most important aspects of cyberinfrastructure. They help people who really just want to get their science done, do just that. \\n' +\\\n",
    "#'- These particular people are called XSEDE Campus Champions. They are particularly expert at using a national cyberinfrastructure service called XSEDE (the eXtreme Science and Engineering Discovery Enviroment). They are called “campus champions” becuase one of the things they do is “champion” the use of XSEDE ontheir home campuses.'\n",
    "# No, try again"
   ]
  },
  {
   "cell_type": "markdown",
   "metadata": {
    "slideshow": {
     "slide_type": "slide"
    }
   },
   "source": [
    "## Is this a component of Cyberinfrastructure?\n",
    "\n",
    "<img src=\"supplementary/people.png\" width=\"400\"/>\n",
    "\n",
    "### Yes, PEOPLE!\n",
    "- Experts with cyberinfrastructure are one of the most important parts of cyberinfrastructure\n",
    "- Cyberinfrastructure (often shortened to just ”CI”) is very complicated and changes constantly\n",
    "- CI experts are one of the most important aspects of cyberinfrastructure. They help people who really just want to get their science done, do just that.\n",
    "- These particular people are called XSEDE Campus Champions. They are particularly expert at using a national cyberinfrastructure service called XSEDE (the eXtreme Science and Engineering Discovery Enviroment). They are called “campus champions” becuase one of the things they do is “champion” the use of XSEDE ontheir home campuses.\n"
   ]
  },
  {
   "cell_type": "markdown",
   "metadata": {
    "slideshow": {
     "slide_type": "slide"
    }
   },
   "source": [
    "## Great! \n",
    "\n",
    "Now that you have identified some of the key components of cyberinfrastructure. Let's see if you can identify examples of what is and is not cyberinfrastructure."
   ]
  },
  {
   "cell_type": "markdown",
   "metadata": {
    "slideshow": {
     "slide_type": "slide"
    }
   },
   "source": [
    "## Is this Cyberinfrastructure?\n",
    "\n",
    "This is a graphical depiction of a laptop connected to a Microsoft Azure cloud, could this be cyberinfrastructure?\n",
    "\n",
    "<img src=\"supplementary/azure.png\" width=\"400\"/>\n",
    "\n",
    "<small> ©Microsoft Inc – used with permission </small>"
   ]
  },
  {
   "cell_type": "code",
   "execution_count": 10,
   "metadata": {
    "hide_input": true,
    "slideshow": {
     "slide_type": "-"
    },
    "tags": [
     "Init",
     "Hide",
     "3I"
    ]
   },
   "outputs": [
    {
     "data": {
      "application/vnd.jupyter.widget-view+json": {
       "model_id": "5b3a78348a7e4eedb675cde2ba7b383d",
       "version_major": 2,
       "version_minor": 0
      },
      "text/plain": [
       "ToggleButtons(options=('Yes', 'No'), tooltips=('Yes this is CI', 'No this is not CI'), value='Yes')"
      ]
     },
     "metadata": {},
     "output_type": "display_data"
    },
    {
     "data": {
      "application/vnd.jupyter.widget-view+json": {
       "model_id": "e5c2bf97406e4fbe8d9065a57ebad3a1",
       "version_major": 2,
       "version_minor": 0
      },
      "text/plain": [
       "Button(description='Submit', icon='check', layout=Layout(height='auto', width='auto'), style=ButtonStyle())"
      ]
     },
     "metadata": {},
     "output_type": "display_data"
    },
    {
     "data": {
      "application/vnd.jupyter.widget-view+json": {
       "model_id": "6e29a5ed8006466285b1f34dd3eb11a4",
       "version_major": 2,
       "version_minor": 0
      },
      "text/plain": [
       "Output()"
      ]
     },
     "metadata": {},
     "output_type": "display_data"
    }
   ],
   "source": [
    "# Auto-run, Widget\n",
    "# Yes, no buttons\n",
    "\n",
    "widgetI=widgets.ToggleButtons(\n",
    "    options=['Yes','No'],\n",
    "    description='',\n",
    "    disabled=False,\n",
    "    button_style='', # 'success', 'info', 'warning', 'danger' or ''\n",
    "    tooltips=['Yes this is CI', 'No this is not CI'],\n",
    ")\n",
    "\n",
    "# Show the options.\n",
    "display(widgetI)\n",
    "\n",
    "def outI():\n",
    "    print(\"Go to the next page to see if you were correct.\")\n",
    "\n",
    "# Submit button: print and log the results\n",
    "hourofci.SubmitBtn(widgetI,outI)\n",
    "\n",
    "# Answers\n",
    "# Yes, This is a graphical depiction of a laptop connected to a Microsoft Azure cloud. There are many commercial and “on premises” cloud resources available today, all of which are most certainly included in the concept of cyberinfrastructure!'\n",
    "# No, try again"
   ]
  },
  {
   "cell_type": "markdown",
   "metadata": {
    "slideshow": {
     "slide_type": "slide"
    }
   },
   "source": [
    "## Is this Cyberinfrastructure?\n",
    "\n",
    "This is a graphical depiction of a laptop connected to a Microsoft Azure cloud, could this be cyberinfrastructure?\n",
    "\n",
    "<img src=\"supplementary/azure.png\" width=\"400\"/>\n",
    "\n",
    "### Yes \n",
    "There are many commercial and “on premises” cloud resources available today, all of which are most certainly included in the concept of cyberinfrastructure!'\n"
   ]
  },
  {
   "cell_type": "markdown",
   "metadata": {
    "slideshow": {
     "slide_type": "slide"
    }
   },
   "source": [
    "## Is this Cyberinfrastructure?\n",
    "\n",
    "<img src=\"supplementary/pie.png\" width=\"200\"/>\n",
    "\n",
    "<small> </small>"
   ]
  },
  {
   "cell_type": "code",
   "execution_count": 11,
   "metadata": {
    "hide_input": true,
    "slideshow": {
     "slide_type": "-"
    },
    "tags": [
     "Init",
     "Hide",
     "3J"
    ]
   },
   "outputs": [
    {
     "data": {
      "application/vnd.jupyter.widget-view+json": {
       "model_id": "c681cae15f5049789aa886cc2ac3166e",
       "version_major": 2,
       "version_minor": 0
      },
      "text/plain": [
       "ToggleButtons(options=('Yes', 'No'), tooltips=('Yes this is CI', 'No this is not CI'), value='Yes')"
      ]
     },
     "metadata": {},
     "output_type": "display_data"
    },
    {
     "data": {
      "application/vnd.jupyter.widget-view+json": {
       "model_id": "bed236b5bb5a4c5895a289eb02f34e3b",
       "version_major": 2,
       "version_minor": 0
      },
      "text/plain": [
       "Button(description='Submit', icon='check', layout=Layout(height='auto', width='auto'), style=ButtonStyle())"
      ]
     },
     "metadata": {},
     "output_type": "display_data"
    },
    {
     "data": {
      "application/vnd.jupyter.widget-view+json": {
       "model_id": "6d1041d43d6240688fed179fcabb6e02",
       "version_major": 2,
       "version_minor": 0
      },
      "text/plain": [
       "Output()"
      ]
     },
     "metadata": {},
     "output_type": "display_data"
    }
   ],
   "source": [
    "# Auto-run, Widget\n",
    "# Yes, no buttons\n",
    "\n",
    "widgetJ=widgets.ToggleButtons(\n",
    "    options=['Yes','No'],\n",
    "    description='',\n",
    "    disabled=False,\n",
    "    button_style='', # 'success', 'info', 'warning', 'danger' or ''\n",
    "    tooltips=['Yes this is CI', 'No this is not CI'],\n",
    ")\n",
    "\n",
    "# Show the options.\n",
    "display(widgetJ)\n",
    "\n",
    "def outJ():\n",
    "    print(\"Go to the next page to see if you were correct.\")\n",
    "\n",
    "# Submit button: print and log the results\n",
    "hourofci.SubmitBtn(widgetJ,outJ)\n",
    "\n",
    "\n",
    "# Answers\n",
    "# Yes, Try again.\n",
    "# No, This is a piece of Raspberry Pie, not a Raspberry Pi\\n' + \\\n",
    "#'- Sadly, it cannot be considered part of cyberinfrastructure. Not even if it didn’t have ice cream.\\n ' +\\\n",
    "#'- But many people – who are part of CI – find Raspberry Pie very tasty and will thank you for giving them a piece of raspberry pie.\\n'"
   ]
  },
  {
   "cell_type": "markdown",
   "metadata": {
    "slideshow": {
     "slide_type": "fragment"
    }
   },
   "source": [
    "#### No, This is a piece of Raspberry Pie, not a Raspberry Pi\n",
    "Sadly, it cannot be considered part of cyberinfrastructure. Not even if it didn’t have ice cream.\n",
    "But many people – who are part of CI – find Raspberry Pie very tasty and will thank you for giving them a piece of raspberry pie."
   ]
  },
  {
   "cell_type": "markdown",
   "metadata": {
    "slideshow": {
     "slide_type": "slide"
    }
   },
   "source": [
    "<figure>\n",
    "    <div>\n",
    "    <img src=\"supplementary/congratulations.png\" width=\"400\"/>\n",
    "    <footer><small><!-- copyright noice --></small></footer>\n",
    "    </div>\n",
    "</figure>\n",
    "\n",
    "## You just learned a lot more detail about what components of cyberinfrastructure can be\n",
    "\n",
    "Let’s learn more about some of the different types of computing systems that can be part of cyberinfrastructure today.\n",
    "\n",
    "<a href=\"cyberinfrastructure-4.ipynb\">Click here to move on to the next segment.</a>"
   ]
  }
 ],
 "metadata": {
  "celltoolbar": "Edit Metadata",
  "kernelspec": {
   "display_name": "Python 3 (ipykernel)",
   "language": "python",
   "name": "python3"
  },
  "language_info": {
   "codemirror_mode": {
    "name": "ipython",
    "version": 3
   },
   "file_extension": ".py",
   "mimetype": "text/x-python",
   "name": "python",
   "nbconvert_exporter": "python",
   "pygments_lexer": "ipython3",
   "version": "3.9.5"
  },
  "rise": {
   "autolaunch": true,
   "overlay": "<div class='hciheader'></div><div class='hcifooter'></div>",
   "scroll": true
  },
  "toc": {
   "base_numbering": 1,
   "nav_menu": {},
   "number_sections": true,
   "sideBar": true,
   "skip_h1_title": false,
   "title_cell": "Table of Contents",
   "title_sidebar": "Contents",
   "toc_cell": false,
   "toc_position": {},
   "toc_section_display": true,
   "toc_window_display": false
  },
  "widgets": {
   "application/vnd.jupyter.widget-state+json": {
    "state": {
     "01d7edc49cd74a349aba36a1905a30a6": {
      "model_module": "@jupyter-widgets/controls",
      "model_module_version": "1.5.0",
      "model_name": "ButtonModel",
      "state": {
       "description": "Finish",
       "icon": "check",
       "layout": "IPY_MODEL_ffc73bc74b1f47249fb025c2cead6663",
       "style": "IPY_MODEL_a34a65811b9347ecb0367556141cc7b3"
      }
     },
     "067ec038b01a4e4c85f3e9b91381f10f": {
      "model_module": "@jupyter-widgets/output",
      "model_module_version": "1.0.0",
      "model_name": "OutputModel",
      "state": {
       "layout": "IPY_MODEL_f0db7b48a7c44b9f8cc2fe548cbe5d84"
      }
     },
     "0aae2514bcbc4d0f80aba8307be05906": {
      "model_module": "@jupyter-widgets/controls",
      "model_module_version": "1.5.0",
      "model_name": "DescriptionStyleModel",
      "state": {
       "description_width": ""
      }
     },
     "0bfc50f6631e4c468096d7ea9ac0ad8b": {
      "model_module": "@jupyter-widgets/base",
      "model_module_version": "1.2.0",
      "model_name": "LayoutModel",
      "state": {}
     },
     "12c896ec4aed46cbae75a9d2fbdbb70d": {
      "model_module": "@jupyter-widgets/base",
      "model_module_version": "1.2.0",
      "model_name": "LayoutModel",
      "state": {}
     },
     "1803a03c6c2d4db382b392df110abdbe": {
      "model_module": "@jupyter-widgets/base",
      "model_module_version": "1.2.0",
      "model_name": "LayoutModel",
      "state": {}
     },
     "18a877da93df4b2bbd7ab8a367c5190a": {
      "model_module": "@jupyter-widgets/controls",
      "model_module_version": "1.5.0",
      "model_name": "TextModel",
      "state": {
       "description": "Definition:",
       "layout": "IPY_MODEL_78fb7fec75494cfab3b581f4d8052b6f",
       "placeholder": "Term 3 definition",
       "style": "IPY_MODEL_7094742e05ae4fbeb8083a434ca1d009"
      }
     },
     "19a3192224e2468ab0e620883bff50bf": {
      "model_module": "@jupyter-widgets/output",
      "model_module_version": "1.0.0",
      "model_name": "OutputModel",
      "state": {
       "layout": "IPY_MODEL_40851d5ec4814a06a5b40ee0654074a5"
      }
     },
     "1be166c13acd4736ba2ef785999727d0": {
      "model_module": "@jupyter-widgets/base",
      "model_module_version": "1.2.0",
      "model_name": "LayoutModel",
      "state": {}
     },
     "1d077ffea48740e3984f004b75981956": {
      "model_module": "@jupyter-widgets/controls",
      "model_module_version": "1.5.0",
      "model_name": "TextModel",
      "state": {
       "description": "Definition:",
       "layout": "IPY_MODEL_69f8cfcdf7b84dbd90677deecddbc88d",
       "placeholder": "Term 2 definition",
       "style": "IPY_MODEL_0aae2514bcbc4d0f80aba8307be05906"
      }
     },
     "1fcd9d3a417943a2bc42f8d0374cdb03": {
      "model_module": "@jupyter-widgets/controls",
      "model_module_version": "1.5.0",
      "model_name": "ButtonModel",
      "state": {
       "description": "Finish",
       "icon": "check",
       "layout": "IPY_MODEL_b577f52fb4ec49f58ef62e17449ced90",
       "style": "IPY_MODEL_c028bc33fe9641a49e3b4e56ee426113"
      }
     },
     "223acef779274cc8b5020afeffb49dc0": {
      "model_module": "@jupyter-widgets/output",
      "model_module_version": "1.0.0",
      "model_name": "OutputModel",
      "state": {
       "layout": "IPY_MODEL_12c896ec4aed46cbae75a9d2fbdbb70d"
      }
     },
     "26e86bac1cd14759b373885342e17daf": {
      "model_module": "@jupyter-widgets/controls",
      "model_module_version": "1.5.0",
      "model_name": "TextModel",
      "state": {
       "description": "Definition:",
       "layout": "IPY_MODEL_d027e889436747b2990960222569ce4e",
       "placeholder": "Term 2 definition",
       "style": "IPY_MODEL_7d99e4f32df94abc9b9061e3d608c900"
      }
     },
     "27a182ea9e1c408f97922edb42dfba94": {
      "model_module": "@jupyter-widgets/controls",
      "model_module_version": "1.5.0",
      "model_name": "VBoxModel",
      "state": {
       "_dom_classes": [
        "widget-interact"
       ],
       "children": [
        "IPY_MODEL_18a877da93df4b2bbd7ab8a367c5190a",
        "IPY_MODEL_cd1c28574810420eaf1f2ba32c33f232"
       ],
       "layout": "IPY_MODEL_5fddd220a77e4e4bbb336ba3d84b5b64"
      }
     },
     "297ce44638094c2fb556193304eec2f7": {
      "model_module": "@jupyter-widgets/controls",
      "model_module_version": "1.5.0",
      "model_name": "DescriptionStyleModel",
      "state": {
       "description_width": ""
      }
     },
     "2be80342dbdf468baea3e5ba79ef6262": {
      "model_module": "@jupyter-widgets/base",
      "model_module_version": "1.2.0",
      "model_name": "LayoutModel",
      "state": {}
     },
     "2ca1d112a8da4890bc0b64e594f97aae": {
      "model_module": "@jupyter-widgets/controls",
      "model_module_version": "1.5.0",
      "model_name": "VBoxModel",
      "state": {
       "_dom_classes": [
        "widget-interact"
       ],
       "children": [
        "IPY_MODEL_6a9e774fdaef40c3a16ea5bcec8a0342",
        "IPY_MODEL_32860e5326ef41d9960c9cbb2acf6ead"
       ],
       "layout": "IPY_MODEL_a90dc82a053a4d06bb411580051ece1e"
      }
     },
     "2cebb90fda3c4bae83c9edafae2d4126": {
      "model_module": "@jupyter-widgets/base",
      "model_module_version": "1.2.0",
      "model_name": "LayoutModel",
      "state": {}
     },
     "2ff5f974424a4c0bb9f17ee268eae702": {
      "model_module": "@jupyter-widgets/output",
      "model_module_version": "1.0.0",
      "model_name": "OutputModel",
      "state": {
       "layout": "IPY_MODEL_f5481fd6dfc0444c9388d9751f4ddcf0"
      }
     },
     "32860e5326ef41d9960c9cbb2acf6ead": {
      "model_module": "@jupyter-widgets/output",
      "model_module_version": "1.0.0",
      "model_name": "OutputModel",
      "state": {
       "layout": "IPY_MODEL_2be80342dbdf468baea3e5ba79ef6262"
      }
     },
     "34849d626c154dcdb9b2fe338182a8b7": {
      "model_module": "@jupyter-widgets/controls",
      "model_module_version": "1.5.0",
      "model_name": "TextModel",
      "state": {
       "description": "Definition:",
       "layout": "IPY_MODEL_b43b3de8210346c28cb45ed539d1a486",
       "placeholder": "Term 1 definition",
       "style": "IPY_MODEL_fdaaf571591346d09e99c9b680fa68df"
      }
     },
     "40851d5ec4814a06a5b40ee0654074a5": {
      "model_module": "@jupyter-widgets/base",
      "model_module_version": "1.2.0",
      "model_name": "LayoutModel",
      "state": {}
     },
     "413d15d57b564b498ecfb153dc6c2732": {
      "model_module": "@jupyter-widgets/base",
      "model_module_version": "1.2.0",
      "model_name": "LayoutModel",
      "state": {}
     },
     "41c569f5aed84c7d8c8afe150e85ac41": {
      "model_module": "@jupyter-widgets/controls",
      "model_module_version": "1.5.0",
      "model_name": "VBoxModel",
      "state": {
       "_dom_classes": [
        "widget-interact"
       ],
       "children": [
        "IPY_MODEL_d75cb070e48f44b0b69172ae0fcdad27",
        "IPY_MODEL_54b50645d76440e4b24cd7da1d751087"
       ],
       "layout": "IPY_MODEL_9285e71fb7fc46d6b1fc83e813695173"
      }
     },
     "420d80b5b0524f65853baae0a58a3fa7": {
      "model_module": "@jupyter-widgets/controls",
      "model_module_version": "1.5.0",
      "model_name": "ButtonStyleModel",
      "state": {}
     },
     "42adb448d2bf44eabf42e3988bfde588": {
      "model_module": "@jupyter-widgets/output",
      "model_module_version": "1.0.0",
      "model_name": "OutputModel",
      "state": {
       "layout": "IPY_MODEL_0bfc50f6631e4c468096d7ea9ac0ad8b"
      }
     },
     "4429deedf4b84d9dbc48981d4258fe4c": {
      "model_module": "@jupyter-widgets/controls",
      "model_module_version": "1.5.0",
      "model_name": "ButtonStyleModel",
      "state": {}
     },
     "4d84cf672e0345cd833dbaceff97453f": {
      "model_module": "@jupyter-widgets/controls",
      "model_module_version": "1.5.0",
      "model_name": "TextModel",
      "state": {
       "description": "Definition:",
       "layout": "IPY_MODEL_ec477da9e69c42daa876468c086e309e",
       "placeholder": "Term 2 definition",
       "style": "IPY_MODEL_297ce44638094c2fb556193304eec2f7"
      }
     },
     "4ded9fd4a4124a21bd6b81c568277e69": {
      "model_module": "@jupyter-widgets/base",
      "model_module_version": "1.2.0",
      "model_name": "LayoutModel",
      "state": {}
     },
     "54b50645d76440e4b24cd7da1d751087": {
      "model_module": "@jupyter-widgets/output",
      "model_module_version": "1.0.0",
      "model_name": "OutputModel",
      "state": {
       "layout": "IPY_MODEL_2cebb90fda3c4bae83c9edafae2d4126"
      }
     },
     "57080f56d90b448691719f982c86bcc8": {
      "model_module": "@jupyter-widgets/controls",
      "model_module_version": "1.5.0",
      "model_name": "DescriptionStyleModel",
      "state": {
       "description_width": ""
      }
     },
     "5fddd220a77e4e4bbb336ba3d84b5b64": {
      "model_module": "@jupyter-widgets/base",
      "model_module_version": "1.2.0",
      "model_name": "LayoutModel",
      "state": {}
     },
     "608e861d73614f4889effa666d4dc216": {
      "model_module": "@jupyter-widgets/base",
      "model_module_version": "1.2.0",
      "model_name": "LayoutModel",
      "state": {}
     },
     "69f8cfcdf7b84dbd90677deecddbc88d": {
      "model_module": "@jupyter-widgets/base",
      "model_module_version": "1.2.0",
      "model_name": "LayoutModel",
      "state": {}
     },
     "6a9e774fdaef40c3a16ea5bcec8a0342": {
      "model_module": "@jupyter-widgets/controls",
      "model_module_version": "1.5.0",
      "model_name": "TextModel",
      "state": {
       "description": "Definition:",
       "layout": "IPY_MODEL_894f1d5af17142ceab6779cbdf828966",
       "placeholder": "Term 3 definition",
       "style": "IPY_MODEL_97bfc4ba5aba4d44ad48635cdbf70ec4"
      }
     },
     "6ac82692d3c645ce8f31c020cce12a2e": {
      "model_module": "@jupyter-widgets/base",
      "model_module_version": "1.2.0",
      "model_name": "LayoutModel",
      "state": {}
     },
     "7094742e05ae4fbeb8083a434ca1d009": {
      "model_module": "@jupyter-widgets/controls",
      "model_module_version": "1.5.0",
      "model_name": "DescriptionStyleModel",
      "state": {
       "description_width": ""
      }
     },
     "7522f4e4a13a4f5f8e5c3f78beac17f3": {
      "model_module": "@jupyter-widgets/controls",
      "model_module_version": "1.5.0",
      "model_name": "ButtonModel",
      "state": {
       "description": "Finish",
       "icon": "check",
       "layout": "IPY_MODEL_ea03bf6f73ab47f8b4ec87e19e905d93",
       "style": "IPY_MODEL_4429deedf4b84d9dbc48981d4258fe4c"
      }
     },
     "766b84b8ff4f47f689c1c64ba31ff1f3": {
      "model_module": "@jupyter-widgets/output",
      "model_module_version": "1.0.0",
      "model_name": "OutputModel",
      "state": {
       "layout": "IPY_MODEL_6ac82692d3c645ce8f31c020cce12a2e"
      }
     },
     "78fb7fec75494cfab3b581f4d8052b6f": {
      "model_module": "@jupyter-widgets/base",
      "model_module_version": "1.2.0",
      "model_name": "LayoutModel",
      "state": {}
     },
     "7a2dad2d88c24de4bbeb6de3bf0f12d8": {
      "model_module": "@jupyter-widgets/controls",
      "model_module_version": "1.5.0",
      "model_name": "VBoxModel",
      "state": {
       "_dom_classes": [
        "widget-interact"
       ],
       "children": [
        "IPY_MODEL_be769da90c0044728e1f0f4f63a29ae0",
        "IPY_MODEL_223acef779274cc8b5020afeffb49dc0"
       ],
       "layout": "IPY_MODEL_c940004e959e46e7bbfd18bb1221f93b"
      }
     },
     "7d99e4f32df94abc9b9061e3d608c900": {
      "model_module": "@jupyter-widgets/controls",
      "model_module_version": "1.5.0",
      "model_name": "DescriptionStyleModel",
      "state": {
       "description_width": ""
      }
     },
     "7f411c10420e4f749a167f8fccc92ba4": {
      "model_module": "@jupyter-widgets/controls",
      "model_module_version": "1.5.0",
      "model_name": "ButtonModel",
      "state": {
       "description": "Finish",
       "icon": "check",
       "layout": "IPY_MODEL_96c3dcfe71874d3f8c154695535c32af",
       "style": "IPY_MODEL_420d80b5b0524f65853baae0a58a3fa7"
      }
     },
     "83567998ee0045a2b8d25adb2caabb97": {
      "model_module": "@jupyter-widgets/base",
      "model_module_version": "1.2.0",
      "model_name": "LayoutModel",
      "state": {}
     },
     "894f1d5af17142ceab6779cbdf828966": {
      "model_module": "@jupyter-widgets/base",
      "model_module_version": "1.2.0",
      "model_name": "LayoutModel",
      "state": {}
     },
     "8d10899b13db4b75ab8419b4d923bed4": {
      "model_module": "@jupyter-widgets/controls",
      "model_module_version": "1.5.0",
      "model_name": "ButtonModel",
      "state": {
       "description": "Finish",
       "icon": "check",
       "layout": "IPY_MODEL_9dc18dc8f2f24f72aecbed544fbf2b90",
       "style": "IPY_MODEL_fc6004362103470c937ffe25974f7aec"
      }
     },
     "9285e71fb7fc46d6b1fc83e813695173": {
      "model_module": "@jupyter-widgets/base",
      "model_module_version": "1.2.0",
      "model_name": "LayoutModel",
      "state": {}
     },
     "96c3dcfe71874d3f8c154695535c32af": {
      "model_module": "@jupyter-widgets/base",
      "model_module_version": "1.2.0",
      "model_name": "LayoutModel",
      "state": {}
     },
     "97bfc4ba5aba4d44ad48635cdbf70ec4": {
      "model_module": "@jupyter-widgets/controls",
      "model_module_version": "1.5.0",
      "model_name": "DescriptionStyleModel",
      "state": {
       "description_width": ""
      }
     },
     "9dc18dc8f2f24f72aecbed544fbf2b90": {
      "model_module": "@jupyter-widgets/base",
      "model_module_version": "1.2.0",
      "model_name": "LayoutModel",
      "state": {}
     },
     "9e92880654ea4a03a9263a7c707795c2": {
      "model_module": "@jupyter-widgets/controls",
      "model_module_version": "1.5.0",
      "model_name": "DescriptionStyleModel",
      "state": {
       "description_width": ""
      }
     },
     "a08bb06175554f4694f1a66d55419c82": {
      "model_module": "@jupyter-widgets/base",
      "model_module_version": "1.2.0",
      "model_name": "LayoutModel",
      "state": {}
     },
     "a23f55a069374b5abdf97f8ac0583d13": {
      "model_module": "@jupyter-widgets/controls",
      "model_module_version": "1.5.0",
      "model_name": "VBoxModel",
      "state": {
       "_dom_classes": [
        "widget-interact"
       ],
       "children": [
        "IPY_MODEL_34849d626c154dcdb9b2fe338182a8b7",
        "IPY_MODEL_19a3192224e2468ab0e620883bff50bf"
       ],
       "layout": "IPY_MODEL_413d15d57b564b498ecfb153dc6c2732"
      }
     },
     "a34a65811b9347ecb0367556141cc7b3": {
      "model_module": "@jupyter-widgets/controls",
      "model_module_version": "1.5.0",
      "model_name": "ButtonStyleModel",
      "state": {}
     },
     "a90dc82a053a4d06bb411580051ece1e": {
      "model_module": "@jupyter-widgets/base",
      "model_module_version": "1.2.0",
      "model_name": "LayoutModel",
      "state": {}
     },
     "b43b3de8210346c28cb45ed539d1a486": {
      "model_module": "@jupyter-widgets/base",
      "model_module_version": "1.2.0",
      "model_name": "LayoutModel",
      "state": {}
     },
     "b577f52fb4ec49f58ef62e17449ced90": {
      "model_module": "@jupyter-widgets/base",
      "model_module_version": "1.2.0",
      "model_name": "LayoutModel",
      "state": {}
     },
     "be769da90c0044728e1f0f4f63a29ae0": {
      "model_module": "@jupyter-widgets/controls",
      "model_module_version": "1.5.0",
      "model_name": "TextModel",
      "state": {
       "description": "Definition:",
       "layout": "IPY_MODEL_ea3768e2753c474a947d129f9a634b40",
       "placeholder": "Term 1 definition",
       "style": "IPY_MODEL_9e92880654ea4a03a9263a7c707795c2"
      }
     },
     "c028bc33fe9641a49e3b4e56ee426113": {
      "model_module": "@jupyter-widgets/controls",
      "model_module_version": "1.5.0",
      "model_name": "ButtonStyleModel",
      "state": {}
     },
     "c940004e959e46e7bbfd18bb1221f93b": {
      "model_module": "@jupyter-widgets/base",
      "model_module_version": "1.2.0",
      "model_name": "LayoutModel",
      "state": {}
     },
     "cc92610fd0c84a15936ba4faec906e62": {
      "model_module": "@jupyter-widgets/base",
      "model_module_version": "1.2.0",
      "model_name": "LayoutModel",
      "state": {}
     },
     "cd1c28574810420eaf1f2ba32c33f232": {
      "model_module": "@jupyter-widgets/output",
      "model_module_version": "1.0.0",
      "model_name": "OutputModel",
      "state": {
       "layout": "IPY_MODEL_a08bb06175554f4694f1a66d55419c82"
      }
     },
     "cd1dad905f15410ba37531d11654db1c": {
      "model_module": "@jupyter-widgets/controls",
      "model_module_version": "1.5.0",
      "model_name": "DescriptionStyleModel",
      "state": {
       "description_width": ""
      }
     },
     "cea83f02fe314860ab01fc6732729db9": {
      "model_module": "@jupyter-widgets/controls",
      "model_module_version": "1.5.0",
      "model_name": "VBoxModel",
      "state": {
       "_dom_classes": [
        "widget-interact"
       ],
       "children": [
        "IPY_MODEL_4d84cf672e0345cd833dbaceff97453f",
        "IPY_MODEL_067ec038b01a4e4c85f3e9b91381f10f"
       ],
       "layout": "IPY_MODEL_1be166c13acd4736ba2ef785999727d0"
      }
     },
     "d027e889436747b2990960222569ce4e": {
      "model_module": "@jupyter-widgets/base",
      "model_module_version": "1.2.0",
      "model_name": "LayoutModel",
      "state": {}
     },
     "d75cb070e48f44b0b69172ae0fcdad27": {
      "model_module": "@jupyter-widgets/controls",
      "model_module_version": "1.5.0",
      "model_name": "TextModel",
      "state": {
       "description": "Definition:",
       "layout": "IPY_MODEL_1803a03c6c2d4db382b392df110abdbe",
       "placeholder": "Term 3 definition",
       "style": "IPY_MODEL_57080f56d90b448691719f982c86bcc8"
      }
     },
     "d7a00f5bb0734227bb5535bbfd01e299": {
      "model_module": "@jupyter-widgets/controls",
      "model_module_version": "1.5.0",
      "model_name": "ButtonModel",
      "state": {
       "description": "Finish",
       "icon": "check",
       "layout": "IPY_MODEL_cc92610fd0c84a15936ba4faec906e62",
       "style": "IPY_MODEL_db8cabcfba984ee5b192784fa71ebb47"
      }
     },
     "db2b10abb5244779b5c60903199e6028": {
      "model_module": "@jupyter-widgets/controls",
      "model_module_version": "1.5.0",
      "model_name": "VBoxModel",
      "state": {
       "_dom_classes": [
        "widget-interact"
       ],
       "children": [
        "IPY_MODEL_eb71102a2297453f9541f78eceb9a250",
        "IPY_MODEL_42adb448d2bf44eabf42e3988bfde588"
       ],
       "layout": "IPY_MODEL_4ded9fd4a4124a21bd6b81c568277e69"
      }
     },
     "db8cabcfba984ee5b192784fa71ebb47": {
      "model_module": "@jupyter-widgets/controls",
      "model_module_version": "1.5.0",
      "model_name": "ButtonStyleModel",
      "state": {}
     },
     "e0d48d1474e94d6fb600e11d4abfaf29": {
      "model_module": "@jupyter-widgets/controls",
      "model_module_version": "1.5.0",
      "model_name": "VBoxModel",
      "state": {
       "_dom_classes": [
        "widget-interact"
       ],
       "children": [
        "IPY_MODEL_1d077ffea48740e3984f004b75981956",
        "IPY_MODEL_2ff5f974424a4c0bb9f17ee268eae702"
       ],
       "layout": "IPY_MODEL_608e861d73614f4889effa666d4dc216"
      }
     },
     "ea03bf6f73ab47f8b4ec87e19e905d93": {
      "model_module": "@jupyter-widgets/base",
      "model_module_version": "1.2.0",
      "model_name": "LayoutModel",
      "state": {}
     },
     "ea3768e2753c474a947d129f9a634b40": {
      "model_module": "@jupyter-widgets/base",
      "model_module_version": "1.2.0",
      "model_name": "LayoutModel",
      "state": {}
     },
     "eb71102a2297453f9541f78eceb9a250": {
      "model_module": "@jupyter-widgets/controls",
      "model_module_version": "1.5.0",
      "model_name": "TextModel",
      "state": {
       "description": "Definition:",
       "layout": "IPY_MODEL_83567998ee0045a2b8d25adb2caabb97",
       "placeholder": "Term 1 definition",
       "style": "IPY_MODEL_cd1dad905f15410ba37531d11654db1c"
      }
     },
     "ec477da9e69c42daa876468c086e309e": {
      "model_module": "@jupyter-widgets/base",
      "model_module_version": "1.2.0",
      "model_name": "LayoutModel",
      "state": {}
     },
     "ee822eda703446d3ae4ac9af71332d8a": {
      "model_module": "@jupyter-widgets/controls",
      "model_module_version": "1.5.0",
      "model_name": "VBoxModel",
      "state": {
       "_dom_classes": [
        "widget-interact"
       ],
       "children": [
        "IPY_MODEL_26e86bac1cd14759b373885342e17daf",
        "IPY_MODEL_766b84b8ff4f47f689c1c64ba31ff1f3"
       ],
       "layout": "IPY_MODEL_f521d509fcad4f5682befdad4ce1f04b"
      }
     },
     "f0db7b48a7c44b9f8cc2fe548cbe5d84": {
      "model_module": "@jupyter-widgets/base",
      "model_module_version": "1.2.0",
      "model_name": "LayoutModel",
      "state": {}
     },
     "f521d509fcad4f5682befdad4ce1f04b": {
      "model_module": "@jupyter-widgets/base",
      "model_module_version": "1.2.0",
      "model_name": "LayoutModel",
      "state": {}
     },
     "f5481fd6dfc0444c9388d9751f4ddcf0": {
      "model_module": "@jupyter-widgets/base",
      "model_module_version": "1.2.0",
      "model_name": "LayoutModel",
      "state": {}
     },
     "fc6004362103470c937ffe25974f7aec": {
      "model_module": "@jupyter-widgets/controls",
      "model_module_version": "1.5.0",
      "model_name": "ButtonStyleModel",
      "state": {}
     },
     "fdaaf571591346d09e99c9b680fa68df": {
      "model_module": "@jupyter-widgets/controls",
      "model_module_version": "1.5.0",
      "model_name": "DescriptionStyleModel",
      "state": {
       "description_width": ""
      }
     },
     "ffc73bc74b1f47249fb025c2cead6663": {
      "model_module": "@jupyter-widgets/base",
      "model_module_version": "1.2.0",
      "model_name": "LayoutModel",
      "state": {}
     }
    },
    "version_major": 2,
    "version_minor": 0
   }
  }
 },
 "nbformat": 4,
 "nbformat_minor": 2
}
