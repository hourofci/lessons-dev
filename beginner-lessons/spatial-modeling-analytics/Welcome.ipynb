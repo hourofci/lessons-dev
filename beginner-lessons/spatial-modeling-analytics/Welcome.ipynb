{
 "cells": [
  {
   "cell_type": "markdown",
   "metadata": {
    "slideshow": {
     "slide_type": "slide"
    }
   },
   "source": [
    "# Welcome to the Hour of CI!\n",
    "\n",
    "The Hour of Cyberinfrastructure (Hour of CI) project will introduce you to the world of cyberinfrastructure (CI). If this is your first lesson, then we recommend starting with the **[Gateway Lesson](https://www.hourofci.org/gateway-lesson)**, which will introduce you to the Hour of CI project and the eight knowledge areas that make up Cyber Literacy for Geographic Information Science. This is the **Beginner Spatial Modeling and Analytics** lesson.\n",
    "\n",
    "<div style=\"float:left;\" >\n",
    "To start, click on the \"Run this cell\" button below to setup your Hour of CI environment. It looks like this: <img style=\"float: right; padding:0px; margin-top:4px; margin-left:5px;\" src=\"../../gateway-lesson/gateway/supplementary/play-button.png\" alt=\"Play button image\">\n",
    "</div>"
   ]
  },
  {
   "cell_type": "code",
   "execution_count": null,
   "metadata": {},
   "outputs": [],
   "source": [
    "!cd ../..; sh setupHourofCI # Run this cell (button on left) to setup your Hour of CI environment"
   ]
  },
  {
   "cell_type": "markdown",
   "metadata": {
    "slideshow": {
     "slide_type": "-"
    }
   },
   "source": [
    "After your Hour of CI setup is complete, then\n",
    "\n",
    "<font size=\"+1\"><a style=\"background-color:blue;color:white;padding:7px;margin:5px;font-weight:bold;\" href=\"sma-1.ipynb\">Click here to launch the Beginner Modeling and Analytics Lesson</a></font>"
   ]
  }
 ],
 "metadata": {
  "kernelspec": {
   "display_name": "Python 3 (ipykernel)",
   "language": "python",
   "name": "python3"
  },
  "language_info": {
   "codemirror_mode": {
    "name": "ipython",
    "version": 3
   },
   "file_extension": ".py",
   "mimetype": "text/x-python",
   "name": "python",
   "nbconvert_exporter": "python",
   "pygments_lexer": "ipython3",
   "version": "3.9.5"
  },
  "rise": {
   "auto_select": "none",
   "autolaunch": true,
   "overlay": "<div class='hciheader'></div><div class='hcifooter'></div>",
   "scroll": true
  }
 },
 "nbformat": 4,
 "nbformat_minor": 4
}
