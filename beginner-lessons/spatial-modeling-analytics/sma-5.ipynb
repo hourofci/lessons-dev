{
 "cells": [
  {
   "cell_type": "markdown",
   "metadata": {
    "slideshow": {
     "slide_type": "slide"
    }
   },
   "source": [
    "## Spatial Modeling and Analytics\n",
    "\n",
    "### Part 4 of 4\n",
    "# Show me an example!"
   ]
  },
  {
   "cell_type": "markdown",
   "metadata": {
    "slideshow": {
     "slide_type": "slide"
    }
   },
   "source": [
    "## Reminder\n",
    "<a href=\"#/slide-2-0\" class=\"navigate-right\" style=\"background-color:blue;color:white;padding:8px;margin:2px;font-weight:bold;\">Continue with the lesson</a>\n",
    "\n",
    "<br>\n",
    "</br>\n",
    "<font size=\"+1\">\n",
    "\n",
    "By continuing with this lesson you are granting your permission to take part in this research study for the Hour of Cyberinfrastructure: Developing Cyber Literacy for GIScience project. In this study, you will be learning about cyberinfrastructure and related concepts using a web-based platform that will take approximately one hour per lesson. Participation in this study is voluntary.\n",
    "\n",
    "Participants in this research must be 18 years or older. If you are under the age of 18 then please exit this webpage or navigate to another website such as the Hour of Code at https://hourofcode.com, which is designed for K-12 students.\n",
    "\n",
    "If you are not interested in participating please exit the browser or navigate to this website: http://www.umn.edu. Your participation is voluntary and you are free to stop the lesson at any time.\n",
    "\n",
    "For the full description please navigate to this website: <a href=\"../../gateway-lesson/gateway/gateway-1.ipynb\">Gateway Lesson Research Study Permission</a>.\n",
    "\n",
    "</font>"
   ]
  },
  {
   "cell_type": "code",
   "execution_count": 4,
   "metadata": {
    "hide_input": true,
    "init_cell": true,
    "slideshow": {
     "slide_type": "skip"
    },
    "tags": [
     "Hide"
    ]
   },
   "outputs": [
    {
     "data": {
      "text/html": [
       " \n",
       "    <script type=\"text/javascript\" src=\"../../supplementary/js/custom.js\"></script>\n",
       "    \n",
       "    <style>\n",
       "        .output_prompt{opacity:0;}\n",
       "    </style>\n",
       "    \n",
       "    <input id=\"toggle_code\" type=\"button\" value=\"Toggle raw code\">\n"
      ],
      "text/plain": [
       "<IPython.core.display.HTML object>"
      ]
     },
     "execution_count": 4,
     "metadata": {},
     "output_type": "execute_result"
    }
   ],
   "source": [
    "# This code cell starts the necessary setup for Hour of CI lesson notebooks.\n",
    "# First, it enables users to hide and unhide code by producing a 'Toggle raw code' button below.\n",
    "# Second, it imports the hourofci package, which is necessary for lessons and interactive Jupyter Widgets.\n",
    "# Third, it helps hide/control other aspects of Jupyter Notebooks to improve the user experience\n",
    "# This is an initialization cell\n",
    "# It is not displayed because the Slide Type is 'Skip'\n",
    "\n",
    "from IPython.display import HTML, IFrame, Javascript, display\n",
    "from ipywidgets import interactive\n",
    "import ipywidgets as widgets\n",
    "from ipywidgets import Layout\n",
    "\n",
    "import getpass # This library allows us to get the username (User agent string)\n",
    "\n",
    "# import package for hourofci project\n",
    "import sys\n",
    "sys.path.append('../../supplementary') # relative path (may change depending on the location of the lesson notebook)\n",
    "import hourofci\n",
    "\n",
    "# load javascript to initialize/hide cells, get user agent string, and hide output indicator\n",
    "# hide code by introducing a toggle button \"Toggle raw code\"\n",
    "HTML(''' \n",
    "    <script type=\"text/javascript\" src=\\\"../../supplementary/js/custom.js\\\"></script>\n",
    "    \n",
    "    <style>\n",
    "        .output_prompt{opacity:0;}\n",
    "    </style>\n",
    "    \n",
    "    <input id=\"toggle_code\" type=\"button\" value=\"Toggle raw code\">\n",
    "''')"
   ]
  },
  {
   "cell_type": "markdown",
   "metadata": {
    "slideshow": {
     "slide_type": "slide"
    }
   },
   "source": [
    "The classic example of a spatial model in GIS is *site suitability analysis*, and known in other flavors as *cartographic modeling* and *overlay analysis*. It is so commonly understood, that GIS analysis is often represented by the \"layer cake\" image of a stack of data layers. Here's an image from USGS:\n",
    "\n",
    "<table>\n",
    "<tr style=\"background: #fff\">   \n",
    "<td width='30%' align='left'><img src='supplementary/USGS_GIS_layers.jpg' alt='GIS layers' width='400'></td>\n",
    "<td>Search on Google for \"<a href='https://www.google.com/search?q=image+gis+layers&rlz=1C1RXQR_enUS944US946&sxsrf=ALeKk00AxFX-ix724zPyRBujUm3iQxIGUg:1628883867707&source=lnms&tbm=isch&sa=X&ved=2ahUKEwjag8Ki4a7yAhXPqp4KHUe6AisQ_AUoAXoECAEQAw&biw=1253&bih=788'>image gis layers</a>\" and you'll see everyone uses this image at some point!</td>\n",
    "    </tr>\n",
    "    </table>"
   ]
  },
  {
   "cell_type": "markdown",
   "metadata": {
    "slideshow": {
     "slide_type": "slide"
    }
   },
   "source": [
    "<table>\n",
    "<tr style=\"background: #fff\">   \n",
    "<td width='30%' align='left'>The overlay concept was popularized by landscape architect Ian McHarg in his classic 1969 book.\n",
    "<img src='https://assets.bwbx.io/images/users/iqjWHBFdfxIU/iVOHqmYJ8I3s/v0/600x-1.jpg' width='200' alt='Design with Nature 1969 book cover'> </td>\n",
    "<td>On the 50th anniversary of that book, <a href='https://www.bloomberg.com/news/articles/2019-06-10/the-legacy-of-design-with-nature-50-years-later'>Bloomberg CityLab</a> published an article on McHarg's contributions: \n",
    "\n",
    "\"The book also provided a practical method for intervening in the land-use system—the layering of large, complex spatial data to make policy and design choices about a site’s “fitness” or “suitability” for various types of development, conservation, and restoration plans. If that method of suitability analysis sounds familiar, it should: It gave rise to a technological revolution in Geospatial Information Systems, beginning with crude punch cards on room-sized computers and evolving into the suite of highly sophisticated GIS software companies we know today (including Esri).\"\n",
    "\n",
    "McHarg, Ian L. 1969. <u>Design with nature</u>. Garden City, N.Y.: Published for the American Museum of Natural History [by] the Natural History Press</td>\n",
    "</tr>\n",
    "</table>"
   ]
  },
  {
   "cell_type": "markdown",
   "metadata": {
    "slideshow": {
     "slide_type": "slide"
    }
   },
   "source": [
    "Using this methodology, we build models of the world consisting of a collection of spatial data layers representing different themes of interest. On each layer we identify locations that are suitable for a desired development or land use policy given a particular criteria. For example on a data layer showing rivers, we might identify all areas that are at least 300 m from a river. On a zoning map, we might select all areas that are in a commercial use zone.\n",
    "\n",
    "Then we overlay the layers (in McHarg's day these layers were drawn on transparent sheets) and \"look through the layers\" to see what locations satisfy all or the most of our criteria. "
   ]
  },
  {
   "cell_type": "markdown",
   "metadata": {
    "slideshow": {
     "slide_type": "slide"
    }
   },
   "source": [
    "Needless to say, the method has evolved a lot since McHarg's transparent overlays, but you will find this style of analysis at the heart of a lot of spatial modeling. Here's an example developed by the state of Kentucky to help planners and citizens identify locations for the development of solar energy. \n",
    "\n",
    "<a href='https://solar-siting-potential-in-kentucky-kygis.hub.arcgis.com/'>Solar Siting Potential in Kentucky</a>\n",
    "\n",
    "Poke around in here a bit, then be sure to come back here for the final part where YOU will get to execute a site suitability model!"
   ]
  },
  {
   "cell_type": "markdown",
   "metadata": {
    "slideshow": {
     "slide_type": "slide"
    }
   },
   "source": [
    "For many more inspiring examples that are easy to digest about how GIS is used for spatial modeling and analytics, you can check out the <a href='https://esri.com'>Esri website</a>. It provides a very well curated source of stories and images about how people are using GIS to solve problems. \n",
    "<a href='https://esri.com'><img src='supplementary/esri.jpg' alt='Esri logo'></a>\n",
    "\n",
    "This is a very deep website and you will get lost there. Perhaps an easy way to dive in is to go to their Solutions tab on their home page. There you can see examples of how business and government use GIS. And for the full spectrum, click into the Industries link. Go down any path there that interests you, but come back here when you're done exploring so that you can DO some spatial modeling yourself!"
   ]
  },
  {
   "cell_type": "markdown",
   "metadata": {
    "slideshow": {
     "slide_type": "slide"
    }
   },
   "source": [
    "We pointed you to Esri because they do a first rate job of showing everyone how great GIS is and they have a huge number of slick stories about spatial models and analytics. But, of course, all the other companies would be glad to have you surf their websites too!\n",
    "\n",
    "Here are the key companies working in the spatial modeling and analytics domain:\n",
    "- <a href='www.esri.com'>Esri</a>\n",
    "- <a href='https://clarklabs.org/terrset/idrisi-gis/'>Idrisi</a>\n",
    "- <a href='https://www.caliper.com/maptovu.htm'>Maptitude</a>\n",
    "- <a href='https://www.precisely.com/product/precisely-mapinfo/mapinfo-pro'>MapInfo</a>\n",
    "\n",
    "And there are many open sources of spatial modeling and analytics tools, as well:\n",
    "- <a href='https://qgis.org/en/site/'>OGIS</a>\n",
    "- <a href='https://grass.osgeo.org/'>GRASS</a>\n",
    "- Python modules such as GDAL, PySAL\n",
    "- R modules including spatstat, spdep, GISTools"
   ]
  },
  {
   "cell_type": "markdown",
   "metadata": {
    "slideshow": {
     "slide_type": "slide"
    }
   },
   "source": [
    "Let's wrap up with a quick final question."
   ]
  },
  {
   "cell_type": "code",
   "execution_count": 2,
   "metadata": {
    "hide_input": true,
    "slideshow": {
     "slide_type": "slide"
    },
    "tags": [
     "Hide",
     "Init",
     "5A"
    ]
   },
   "outputs": [
    {
     "data": {
      "application/vnd.jupyter.widget-view+json": {
       "model_id": "d6a5e550f91c4e84bbf828be6011220b",
       "version_major": 2,
       "version_minor": 0
      },
      "text/plain": [
       "RadioButtons(description='Site suitability modeling is: ', layout=Layout(width='100%'), options=('Can be accom…"
      ]
     },
     "metadata": {},
     "output_type": "display_data"
    },
    {
     "data": {
      "application/vnd.jupyter.widget-view+json": {
       "model_id": "cafda00d00954fc0934f959cf026954b",
       "version_major": 2,
       "version_minor": 0
      },
      "text/plain": [
       "Button(description='Submit', icon='check', layout=Layout(height='auto', width='auto'), style=ButtonStyle())"
      ]
     },
     "metadata": {},
     "output_type": "display_data"
    },
    {
     "data": {
      "application/vnd.jupyter.widget-view+json": {
       "model_id": "d54518b15c5149eeab6fad12fc166daa",
       "version_major": 2,
       "version_minor": 0
      },
      "text/plain": [
       "Output()"
      ]
     },
     "metadata": {},
     "output_type": "display_data"
    }
   ],
   "source": [
    "# Multiple choice question\n",
    "import sys\n",
    "sys.path.append('../../supplementary') # relative path (may change depending on the location of the lesson notebook)\n",
    "import hourofci\n",
    "from ipywidgets import interactive\n",
    "import ipywidgets as widgets\n",
    "from ipywidgets import Layout\n",
    "widget1 = widgets.RadioButtons(\n",
    "    options = ['Can be accomplished with plastic overlays or complex computer modeling tools', 'Is the only thing GIS does','A brand new technique that originated with cyberinfrastructure', 'Can only find the best sites'],\n",
    "    description = 'Site suitability modeling is: ', style={'description_width': 'initial'},\n",
    "    layout = Layout(width='100%'),\n",
    "    value = None\n",
    ")\n",
    "\n",
    "display(widget1)\n",
    "\n",
    "hourofci.SubmitBtn(widget1)\n",
    "\n"
   ]
  },
  {
   "cell_type": "markdown",
   "metadata": {
    "slideshow": {
     "slide_type": "slide"
    }
   },
   "source": [
    "At the beginning of this lesson, we said, once you finished, you would be able to do all the following. \n",
    "\n",
    "1. Distinguish between spatial modeling and spatial analytics.\n",
    "2. Describe how spatial modeling and analytics can be used to solve an everyday problem.\n",
    "3. State the First Law of Geography.\n",
    "4. List some kinds of results that might be generated by spatial modeling and analytics. \n",
    "5. Run Python code to execute simple spatial modeling and analytics tasks.\n"
   ]
  },
  {
   "cell_type": "code",
   "execution_count": 3,
   "metadata": {
    "hide_input": true,
    "slideshow": {
     "slide_type": "slide"
    },
    "tags": [
     "Hide",
     "Init",
     "5B"
    ]
   },
   "outputs": [
    {
     "data": {
      "application/vnd.jupyter.widget-view+json": {
       "model_id": "7af757bcaf594b0abd8d206fc8c851f5",
       "version_major": 2,
       "version_minor": 0
      },
      "text/plain": [
       "RadioButtons(description='Can you do all these things now? ', layout=Layout(width='100%'), options=('No', 'Yes…"
      ]
     },
     "metadata": {},
     "output_type": "display_data"
    },
    {
     "data": {
      "application/vnd.jupyter.widget-view+json": {
       "model_id": "977f4bcebcdb4540883ebf11c9b9fe80",
       "version_major": 2,
       "version_minor": 0
      },
      "text/plain": [
       "Button(description='Submit', icon='check', layout=Layout(height='auto', width='auto'), style=ButtonStyle())"
      ]
     },
     "metadata": {},
     "output_type": "display_data"
    },
    {
     "data": {
      "application/vnd.jupyter.widget-view+json": {
       "model_id": "4272bd6d8edf4f36af6be7c758b1a826",
       "version_major": 2,
       "version_minor": 0
      },
      "text/plain": [
       "Output()"
      ]
     },
     "metadata": {},
     "output_type": "display_data"
    }
   ],
   "source": [
    "\n",
    "# Multiple choice question\n",
    "widget1 = widgets.RadioButtons(\n",
    "    options = ['No', 'Yes'],\n",
    "    description = 'Can you do all these things now? ', style={'description_width': 'initial'},\n",
    "    layout = Layout(width='100%'),\n",
    "    value = None\n",
    ")\n",
    "\n",
    "display(widget1)\n",
    "\n",
    "hourofci.SubmitBtn(widget1)\n",
    "\n"
   ]
  },
  {
   "cell_type": "markdown",
   "metadata": {
    "slideshow": {
     "slide_type": "slide"
    }
   },
   "source": [
    "# Now let's do some site suitability modeling!\n",
    "\n",
    "Open <font><a style=\"background-color:blue;color:white;font-weight:bold;\" href=\"sma-exploration.ipynb\">this notebook</a></font> and run each of the code chunks sequentially by clicking the arrow beside the code chunk. "
   ]
  }
 ],
 "metadata": {
  "celltoolbar": "Slideshow",
  "kernelspec": {
   "display_name": "Python 3 (ipykernel)",
   "language": "python",
   "name": "python3"
  },
  "language_info": {
   "codemirror_mode": {
    "name": "ipython",
    "version": 3
   },
   "file_extension": ".py",
   "mimetype": "text/x-python",
   "name": "python",
   "nbconvert_exporter": "python",
   "pygments_lexer": "ipython3",
   "version": "3.9.5"
  },
  "rise": {
   "autolaunch": true,
   "overlay": "<div class='hciheader'></div><div class='hcifooter'></div>",
   "scroll": true
  }
 },
 "nbformat": 4,
 "nbformat_minor": 4
}
