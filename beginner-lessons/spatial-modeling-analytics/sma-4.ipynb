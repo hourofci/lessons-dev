{
 "cells": [
  {
   "cell_type": "markdown",
   "metadata": {
    "slideshow": {
     "slide_type": "slide"
    }
   },
   "source": [
    "### Spatial Modeling and Analytics\n",
    "\n",
    "## Part 3 of 4\n",
    "# How does it work?"
   ]
  },
  {
   "cell_type": "markdown",
   "metadata": {
    "slideshow": {
     "slide_type": "slide"
    }
   },
   "source": [
    "## Reminder\n",
    "<a href=\"#/slide-2-0\" class=\"navigate-right\" style=\"background-color:blue;color:white;padding:8px;margin:2px;font-weight:bold;\">Continue with the lesson</a>\n",
    "\n",
    "<br>\n",
    "</br>\n",
    "<font size=\"+1\">\n",
    "\n",
    "By continuing with this lesson you are granting your permission to take part in this research study for the Hour of Cyberinfrastructure: Developing Cyber Literacy for GIScience project. In this study, you will be learning about cyberinfrastructure and related concepts using a web-based platform that will take approximately one hour per lesson. Participation in this study is voluntary.\n",
    "\n",
    "Participants in this research must be 18 years or older. If you are under the age of 18 then please exit this webpage or navigate to another website such as the Hour of Code at https://hourofcode.com, which is designed for K-12 students.\n",
    "\n",
    "If you are not interested in participating please exit the browser or navigate to this website: http://www.umn.edu. Your participation is voluntary and you are free to stop the lesson at any time.\n",
    "\n",
    "For the full description please navigate to this website: <a href=\"../../gateway-lesson/gateway/gateway-1.ipynb\">Gateway Lesson Research Study Permission</a>.\n",
    "\n",
    "</font>"
   ]
  },
  {
   "cell_type": "code",
   "execution_count": 1,
   "metadata": {
    "slideshow": {
     "slide_type": "skip"
    }
   },
   "outputs": [
    {
     "data": {
      "text/html": [
       " \n",
       "    <script type=\"text/javascript\" src=\"../../supplementary/js/custom.js\"></script>\n",
       "    \n",
       "    <input id=\"toggle_code\" type=\"button\" value=\"Toggle raw code\">\n"
      ],
      "text/plain": [
       "<IPython.core.display.HTML object>"
      ]
     },
     "execution_count": 1,
     "metadata": {},
     "output_type": "execute_result"
    }
   ],
   "source": [
    "# This code cell starts the necessary setup for Hour of CI lesson notebooks.\n",
    "# First, it enables users to hide and unhide code by producing a 'Toggle raw code' button below.\n",
    "# Second, it imports the hourofci package, which is necessary for lessons and interactive Jupyter Widgets.\n",
    "# Third, it helps hide/control other aspects of Jupyter Notebooks to improve the user experience\n",
    "# This is an initialization cell\n",
    "# It is not displayed because the Slide Type is 'Skip'\n",
    "\n",
    "from IPython.display import HTML, IFrame, Javascript, display\n",
    "from ipywidgets import interactive\n",
    "import ipywidgets as widgets\n",
    "from ipywidgets import Layout\n",
    "\n",
    "import getpass # This library allows us to get the username (User agent string)\n",
    "\n",
    "# import package for hourofci project\n",
    "import sys\n",
    "sys.path.append('../../supplementary') # relative path (may change depending on the location of the lesson notebook)\n",
    "import hourofci\n",
    "\n",
    "\n",
    "import warnings\n",
    "warnings.filterwarnings('ignore') # Hide warnings\n",
    "\n",
    "# load javascript to initialize/hide cells, get user agent string, and hide output indicator\n",
    "# hide code by introducing a toggle button \"Toggle raw code\"\n",
    "HTML(''' \n",
    "    <script type=\"text/javascript\" src=\\\"../../supplementary/js/custom.js\\\"></script>\n",
    "    \n",
    "    <input id=\"toggle_code\" type=\"button\" value=\"Toggle raw code\">\n",
    "''')"
   ]
  },
  {
   "cell_type": "markdown",
   "metadata": {
    "slideshow": {
     "slide_type": "slide"
    }
   },
   "source": [
    "In this section we’ll see how to use some basic spatial concepts to answer spatial questions. \n",
    "\n",
    "*If you haven’t heard about spatial concepts and spatial questions before, you might want to complete the Spatial Thinking Lesson before going further here.*\n",
    "\n",
    "Remember these spatial questions from earlier in this lesson?\n",
    "\n",
    "- How many coffee shops are within 250 meters of where I am?\n",
    "- Where is the nearest coffee shop?\n",
    "- What is the distance between that coffee shop and my favorite grocery store?\n",
    "- What is the shortest route between the coffee shop and the grocery store?\n",
    "- Determining distance is perhaps the most basic calculation we have to do in spatial analytics.\n"
   ]
  },
  {
   "cell_type": "markdown",
   "metadata": {
    "slideshow": {
     "slide_type": "slide"
    }
   },
   "source": [
    "In order to calculate distance in the computer we have to have some spatial data. Let’s go get some!\n",
    "\n",
    "Earlier in this lesson, we used some coffee shop data from the <a href=\"https://www.openstreetmap.org/\">Open Street Map Project</a> which is a massive source of geographic data about streets and points of interest collected by volunteers around the world. This crowd-sourced data is deep and rich, but it is somewhat unreliable and incomplete. So use it and results from it with some caution. \n",
    "\n",
    "The python package <a href=\"https://osmnx.readthedocs.io/en/stable/\">OSMNX</a> (imported as \"os\") lets you \"download geospatial data from Open Street Map and model, project, visualize, and analyze real-world street networks and any other geospatial geometries.\" It's a very large package with lots of spatial analysis tools specially for modeling on networks, but we're just going to use it here to download data from Open Street Map. \n",
    "\n",
    "So first we import the packages we need."
   ]
  },
  {
   "cell_type": "code",
   "execution_count": 2,
   "metadata": {},
   "outputs": [],
   "source": [
    "import osmnx as ox \n",
    "import geopandas as gpd\n",
    "import matplotlib.pyplot as plt\n",
    "from matplotlib_scalebar.scalebar import ScaleBar"
   ]
  },
  {
   "cell_type": "markdown",
   "metadata": {
    "slideshow": {
     "slide_type": "slide"
    }
   },
   "source": [
    "Now let's get some spatial data about coffee shops (identified as amenity=cafe and cuisine=coffee-shop) in Minneapolis. Run this code, then look through the output to see what kind of information is collected for OSM features."
   ]
  },
  {
   "cell_type": "code",
   "execution_count": 3,
   "metadata": {},
   "outputs": [
    {
     "name": "stdout",
     "output_type": "stream",
     "text": [
      "<class 'geopandas.geodataframe.GeoDataFrame'>\n",
      "MultiIndex: 141 entries, ('node', 319434041) to ('way', 988165776)\n",
      "Data columns (total 62 columns):\n",
      " #   Column                 Non-Null Count  Dtype   \n",
      "---  ------                 --------------  -----   \n",
      " 0   amenity                141 non-null    object  \n",
      " 1   cuisine                95 non-null     object  \n",
      " 2   name                   139 non-null    object  \n",
      " 3   geometry               141 non-null    geometry\n",
      " 4   addr:city              73 non-null     object  \n",
      " 5   addr:country           3 non-null      object  \n",
      " 6   addr:housenumber       89 non-null     object  \n",
      " 7   addr:postcode          75 non-null     object  \n",
      " 8   addr:state             62 non-null     object  \n",
      " 9   addr:street            91 non-null     object  \n",
      " 10  atm                    2 non-null      object  \n",
      " 11  drive_through          5 non-null      object  \n",
      " 12  internet_access        35 non-null     object  \n",
      " 13  opening_hours          49 non-null     object  \n",
      " 14  outdoor_seating        21 non-null     object  \n",
      " 15  phone                  39 non-null     object  \n",
      " 16  website                62 non-null     object  \n",
      " 17  wheelchair             12 non-null     object  \n",
      " 18  brand                  37 non-null     object  \n",
      " 19  brand:wikidata         37 non-null     object  \n",
      " 20  brand:wikipedia        35 non-null     object  \n",
      " 21  official_name          18 non-null     object  \n",
      " 22  operator               4 non-null      object  \n",
      " 23  takeaway               41 non-null     object  \n",
      " 24  alt_name               1 non-null      object  \n",
      " 25  internet_access:fee    18 non-null     object  \n",
      " 26  smoking                11 non-null     object  \n",
      " 27  source                 7 non-null      object  \n",
      " 28  description            8 non-null      object  \n",
      " 29  level                  7 non-null      object  \n",
      " 30  addr:housename         1 non-null      object  \n",
      " 31  wifi                   1 non-null      object  \n",
      " 32  opening_hours:covid19  3 non-null      object  \n",
      " 33  layer                  1 non-null      object  \n",
      " 34  opening_date           1 non-null      object  \n",
      " 35  toilets:wheelchair     1 non-null      object  \n",
      " 36  air_conditioning       2 non-null      object  \n",
      " 37  bar                    2 non-null      object  \n",
      " 38  delivery               1 non-null      object  \n",
      " 39  internet_access:ssid   2 non-null      object  \n",
      " 40  opening_hours:signed   2 non-null      object  \n",
      " 41  email                  3 non-null      object  \n",
      " 42  name:fa                3 non-null      object  \n",
      " 43  indoor                 1 non-null      object  \n",
      " 44  diet:vegetarian        1 non-null      object  \n",
      " 45  payment:cash           1 non-null      object  \n",
      " 46  payment:credit_cards   1 non-null      object  \n",
      " 47  brand:en               1 non-null      object  \n",
      " 48  brand:zh               1 non-null      object  \n",
      " 49  name:en                1 non-null      object  \n",
      " 50  name:zh                1 non-null      object  \n",
      " 51  nodes                  27 non-null     object  \n",
      " 52  building               25 non-null     object  \n",
      " 53  note                   2 non-null      object  \n",
      " 54  start_date             3 non-null      object  \n",
      " 55  building:levels        2 non-null      object  \n",
      " 56  shop                   2 non-null      object  \n",
      " 57  was:name               1 non-null      object  \n",
      " 58  roof:levels            1 non-null      object  \n",
      " 59  addr:unit              1 non-null      object  \n",
      " 60  ref                    1 non-null      object  \n",
      " 61  room                   1 non-null      object  \n",
      "dtypes: geometry(1), object(61)\n",
      "memory usage: 74.1+ KB\n"
     ]
    }
   ],
   "source": [
    "tags = {\"amenity\": \"cafe\", \"cuisine\": \"coffee-shop\"} \n",
    "coffee_shops = ox.geometries_from_place(\"Minneapolis, MN\", tags) \n",
    "coffee_shops.info()"
   ]
  },
  {
   "cell_type": "markdown",
   "metadata": {
    "slideshow": {
     "slide_type": "slide"
    }
   },
   "source": [
    "When we built this lesson, we got 140 coffee shops. Is that what you got? (Go back to the previous page and see how many \"entries\" you got.) If your number is different, it means that the active OSMers in Minneapolis have been updating their data. That's good!\n",
    "\n",
    "Now, let's look at what data we've got in the dataframe. Most importantly, is there a column that always provides the location of each coffee shop? (Hint: note that address cells are often empty.)"
   ]
  },
  {
   "cell_type": "code",
   "execution_count": 4,
   "metadata": {},
   "outputs": [
    {
     "data": {
      "text/html": [
       "<div>\n",
       "<style scoped>\n",
       "    .dataframe tbody tr th:only-of-type {\n",
       "        vertical-align: middle;\n",
       "    }\n",
       "\n",
       "    .dataframe tbody tr th {\n",
       "        vertical-align: top;\n",
       "    }\n",
       "\n",
       "    .dataframe thead th {\n",
       "        text-align: right;\n",
       "    }\n",
       "</style>\n",
       "<table border=\"1\" class=\"dataframe\">\n",
       "  <thead>\n",
       "    <tr style=\"text-align: right;\">\n",
       "      <th></th>\n",
       "      <th></th>\n",
       "      <th>amenity</th>\n",
       "      <th>cuisine</th>\n",
       "      <th>name</th>\n",
       "      <th>geometry</th>\n",
       "      <th>addr:city</th>\n",
       "      <th>addr:country</th>\n",
       "      <th>addr:housenumber</th>\n",
       "      <th>addr:postcode</th>\n",
       "      <th>addr:state</th>\n",
       "      <th>addr:street</th>\n",
       "      <th>...</th>\n",
       "      <th>building</th>\n",
       "      <th>note</th>\n",
       "      <th>start_date</th>\n",
       "      <th>building:levels</th>\n",
       "      <th>shop</th>\n",
       "      <th>was:name</th>\n",
       "      <th>roof:levels</th>\n",
       "      <th>addr:unit</th>\n",
       "      <th>ref</th>\n",
       "      <th>room</th>\n",
       "    </tr>\n",
       "    <tr>\n",
       "      <th>element_type</th>\n",
       "      <th>osmid</th>\n",
       "      <th></th>\n",
       "      <th></th>\n",
       "      <th></th>\n",
       "      <th></th>\n",
       "      <th></th>\n",
       "      <th></th>\n",
       "      <th></th>\n",
       "      <th></th>\n",
       "      <th></th>\n",
       "      <th></th>\n",
       "      <th></th>\n",
       "      <th></th>\n",
       "      <th></th>\n",
       "      <th></th>\n",
       "      <th></th>\n",
       "      <th></th>\n",
       "      <th></th>\n",
       "      <th></th>\n",
       "      <th></th>\n",
       "      <th></th>\n",
       "      <th></th>\n",
       "    </tr>\n",
       "  </thead>\n",
       "  <tbody>\n",
       "    <tr>\n",
       "      <th rowspan=\"5\" valign=\"top\">node</th>\n",
       "      <th>319434041</th>\n",
       "      <td>cafe</td>\n",
       "      <td>coffee_shop</td>\n",
       "      <td>Corner Coffee</td>\n",
       "      <td>POINT (-93.27626 44.98576)</td>\n",
       "      <td>NaN</td>\n",
       "      <td>NaN</td>\n",
       "      <td>NaN</td>\n",
       "      <td>NaN</td>\n",
       "      <td>NaN</td>\n",
       "      <td>NaN</td>\n",
       "      <td>...</td>\n",
       "      <td>NaN</td>\n",
       "      <td>NaN</td>\n",
       "      <td>NaN</td>\n",
       "      <td>NaN</td>\n",
       "      <td>NaN</td>\n",
       "      <td>NaN</td>\n",
       "      <td>NaN</td>\n",
       "      <td>NaN</td>\n",
       "      <td>NaN</td>\n",
       "      <td>NaN</td>\n",
       "    </tr>\n",
       "    <tr>\n",
       "      <th>343298976</th>\n",
       "      <td>cafe</td>\n",
       "      <td>coffee_shop;cafe</td>\n",
       "      <td>Purple Onion Café</td>\n",
       "      <td>POINT (-93.23755 44.98014)</td>\n",
       "      <td>Minneapolis</td>\n",
       "      <td>US</td>\n",
       "      <td>1301</td>\n",
       "      <td>55414</td>\n",
       "      <td>MN</td>\n",
       "      <td>Southeast University Avenue</td>\n",
       "      <td>...</td>\n",
       "      <td>NaN</td>\n",
       "      <td>NaN</td>\n",
       "      <td>NaN</td>\n",
       "      <td>NaN</td>\n",
       "      <td>NaN</td>\n",
       "      <td>NaN</td>\n",
       "      <td>NaN</td>\n",
       "      <td>NaN</td>\n",
       "      <td>NaN</td>\n",
       "      <td>NaN</td>\n",
       "    </tr>\n",
       "    <tr>\n",
       "      <th>478479502</th>\n",
       "      <td>cafe</td>\n",
       "      <td>NaN</td>\n",
       "      <td>Dunn Bros</td>\n",
       "      <td>POINT (-93.20611 44.94855)</td>\n",
       "      <td>NaN</td>\n",
       "      <td>NaN</td>\n",
       "      <td>NaN</td>\n",
       "      <td>NaN</td>\n",
       "      <td>NaN</td>\n",
       "      <td>NaN</td>\n",
       "      <td>...</td>\n",
       "      <td>NaN</td>\n",
       "      <td>NaN</td>\n",
       "      <td>NaN</td>\n",
       "      <td>NaN</td>\n",
       "      <td>NaN</td>\n",
       "      <td>NaN</td>\n",
       "      <td>NaN</td>\n",
       "      <td>NaN</td>\n",
       "      <td>NaN</td>\n",
       "      <td>NaN</td>\n",
       "    </tr>\n",
       "    <tr>\n",
       "      <th>478479503</th>\n",
       "      <td>cafe</td>\n",
       "      <td>coffee_shop</td>\n",
       "      <td>Milkweed Cafe</td>\n",
       "      <td>POINT (-93.21675 44.94854)</td>\n",
       "      <td>Minneapolis</td>\n",
       "      <td>NaN</td>\n",
       "      <td>3822</td>\n",
       "      <td>55406</td>\n",
       "      <td>MN</td>\n",
       "      <td>East Lake Street</td>\n",
       "      <td>...</td>\n",
       "      <td>NaN</td>\n",
       "      <td>NaN</td>\n",
       "      <td>NaN</td>\n",
       "      <td>NaN</td>\n",
       "      <td>NaN</td>\n",
       "      <td>NaN</td>\n",
       "      <td>NaN</td>\n",
       "      <td>NaN</td>\n",
       "      <td>NaN</td>\n",
       "      <td>NaN</td>\n",
       "    </tr>\n",
       "    <tr>\n",
       "      <th>562529853</th>\n",
       "      <td>cafe</td>\n",
       "      <td>NaN</td>\n",
       "      <td>May Day Cafe</td>\n",
       "      <td>POINT (-93.25265 44.93988)</td>\n",
       "      <td>NaN</td>\n",
       "      <td>NaN</td>\n",
       "      <td>3440</td>\n",
       "      <td>NaN</td>\n",
       "      <td>NaN</td>\n",
       "      <td>Bloomington Avenue South</td>\n",
       "      <td>...</td>\n",
       "      <td>NaN</td>\n",
       "      <td>NaN</td>\n",
       "      <td>NaN</td>\n",
       "      <td>NaN</td>\n",
       "      <td>NaN</td>\n",
       "      <td>NaN</td>\n",
       "      <td>NaN</td>\n",
       "      <td>NaN</td>\n",
       "      <td>NaN</td>\n",
       "      <td>NaN</td>\n",
       "    </tr>\n",
       "  </tbody>\n",
       "</table>\n",
       "<p>5 rows × 62 columns</p>\n",
       "</div>"
      ],
      "text/plain": [
       "                       amenity           cuisine               name  \\\n",
       "element_type osmid                                                    \n",
       "node         319434041    cafe       coffee_shop      Corner Coffee   \n",
       "             343298976    cafe  coffee_shop;cafe  Purple Onion Café   \n",
       "             478479502    cafe               NaN          Dunn Bros   \n",
       "             478479503    cafe       coffee_shop      Milkweed Cafe   \n",
       "             562529853    cafe               NaN       May Day Cafe   \n",
       "\n",
       "                                          geometry    addr:city addr:country  \\\n",
       "element_type osmid                                                             \n",
       "node         319434041  POINT (-93.27626 44.98576)          NaN          NaN   \n",
       "             343298976  POINT (-93.23755 44.98014)  Minneapolis           US   \n",
       "             478479502  POINT (-93.20611 44.94855)          NaN          NaN   \n",
       "             478479503  POINT (-93.21675 44.94854)  Minneapolis          NaN   \n",
       "             562529853  POINT (-93.25265 44.93988)          NaN          NaN   \n",
       "\n",
       "                       addr:housenumber addr:postcode addr:state  \\\n",
       "element_type osmid                                                 \n",
       "node         319434041              NaN           NaN        NaN   \n",
       "             343298976             1301         55414         MN   \n",
       "             478479502              NaN           NaN        NaN   \n",
       "             478479503             3822         55406         MN   \n",
       "             562529853             3440           NaN        NaN   \n",
       "\n",
       "                                        addr:street  ... building note  \\\n",
       "element_type osmid                                   ...                 \n",
       "node         319434041                          NaN  ...      NaN  NaN   \n",
       "             343298976  Southeast University Avenue  ...      NaN  NaN   \n",
       "             478479502                          NaN  ...      NaN  NaN   \n",
       "             478479503             East Lake Street  ...      NaN  NaN   \n",
       "             562529853     Bloomington Avenue South  ...      NaN  NaN   \n",
       "\n",
       "                       start_date building:levels shop was:name roof:levels  \\\n",
       "element_type osmid                                                            \n",
       "node         319434041        NaN             NaN  NaN      NaN         NaN   \n",
       "             343298976        NaN             NaN  NaN      NaN         NaN   \n",
       "             478479502        NaN             NaN  NaN      NaN         NaN   \n",
       "             478479503        NaN             NaN  NaN      NaN         NaN   \n",
       "             562529853        NaN             NaN  NaN      NaN         NaN   \n",
       "\n",
       "                       addr:unit  ref room  \n",
       "element_type osmid                          \n",
       "node         319434041       NaN  NaN  NaN  \n",
       "             343298976       NaN  NaN  NaN  \n",
       "             478479502       NaN  NaN  NaN  \n",
       "             478479503       NaN  NaN  NaN  \n",
       "             562529853       NaN  NaN  NaN  \n",
       "\n",
       "[5 rows x 62 columns]"
      ]
     },
     "execution_count": 4,
     "metadata": {},
     "output_type": "execute_result"
    }
   ],
   "source": [
    "coffee_shops.head()"
   ]
  },
  {
   "cell_type": "code",
   "execution_count": 6,
   "metadata": {
    "tags": [
     "Hide",
     "4A"
    ]
   },
   "outputs": [
    {
     "name": "stdout",
     "output_type": "stream",
     "text": [
      "What is the name of the column that always contains a spatial location for these features?\n"
     ]
    },
    {
     "data": {
      "application/vnd.jupyter.widget-view+json": {
       "model_id": "8548b71810604f1784dbb0b4efc88942",
       "version_major": 2,
       "version_minor": 0
      },
      "text/plain": [
       "Text(value='', placeholder='Type your answer here...')"
      ]
     },
     "metadata": {},
     "output_type": "display_data"
    },
    {
     "data": {
      "application/vnd.jupyter.widget-view+json": {
       "model_id": "7ce54bdda67e455a9d88772d29de1687",
       "version_major": 2,
       "version_minor": 0
      },
      "text/plain": [
       "Button(description='Submit', icon='check', layout=Layout(height='auto', width='auto'), style=ButtonStyle())"
      ]
     },
     "metadata": {},
     "output_type": "display_data"
    },
    {
     "data": {
      "application/vnd.jupyter.widget-view+json": {
       "model_id": "43cd0c8fe9a040ffa68a96fde9162ac5",
       "version_major": 2,
       "version_minor": 0
      },
      "text/plain": [
       "Output()"
      ]
     },
     "metadata": {},
     "output_type": "display_data"
    }
   ],
   "source": [
    "user_agent = getpass.getuser()\n",
    "lesson = 'spatial-modeling-analytics'\n",
    "lesson_level = 'beginner'\n",
    "print('What is the name of the column that always contains a spatial location for these features?')\n",
    "text1 = widgets.Text( placeholder='Type your answer here...')\n",
    "# Display widget\n",
    "display(text1)\n",
    "\n",
    "# Output function\n",
    "def out1():\n",
    "    print(\"Your answer is successfully submitted!\")\n",
    "    \n",
    "# Submit button\n",
    "hourofci.SubmitBtn(user_agent, lesson, lesson_level, \"4A\", text1, out1)"
   ]
  },
  {
   "cell_type": "markdown",
   "metadata": {
    "slideshow": {
     "slide_type": "slide"
    }
   },
   "source": [
    "## It's geometry!\n",
    "<table>\n",
    "    <tr style=\"background: #fff\">       \n",
    "        <td width=30%> <a title=\"Dixy52, CC BY-SA 4.0 &lt;https://creativecommons.org/licenses/by-sa/4.0&gt;, via Wikimedia Commons\" href=\"https://commons.wikimedia.org/wiki/File:Cartesian_coordinate.svg\"><img width=\"512\" alt=\"Cartesian coordinate\" src=\"https://upload.wikimedia.org/wikipedia/commons/thumb/5/51/Cartesian_coordinate.svg/512px-Cartesian_coordinate.svg.png\"></a></td>\n",
    "        <td align=left valign=top>\n",
    "In spatial data, the location of points (such as cities on a national map, bus stops on a neighborhood map or weather stations) is often specified by a coordinate pair, such as (lat,long) or (x,y), or a series of pairs for lines or area boundaries. This geometry allows us to do spatial analysis. So, having a geometry column in our dataframe is essential. \n",
    "\n",
    "(There are other ways to record location, but coordinate pairs are by far the most common. For more on how we specify location, complete the Geospatial Data Lesson.)\n",
    "\n",
    "Remember from grade school geometry, Cartesian coordinates is how we plot points on a graph. One coordinate measures the distance from a point of origin horizontally (or East-West), the other vertically (or North-South). Latitude is the N-S measurement and longitude is the E-W measurement.</td>\n",
    "    </tr>\n",
    "</table>\n",
    "\n",
    "<small>Image via Wikimedia Commons by <a href=\"https://commons.wikimedia.org/wiki/File:Cartesian_coordinate.svg\">Dixy52</a>, <a href=\"https://creativecommons.org/licenses/by-sa/4.0\">CC BY-SA 4.0</a>"
   ]
  },
  {
   "cell_type": "markdown",
   "metadata": {
    "slideshow": {
     "slide_type": "slide"
    }
   },
   "source": [
    "Once we know we've got the location data, then we can make a plot."
   ]
  },
  {
   "cell_type": "code",
   "execution_count": 7,
   "metadata": {},
   "outputs": [
    {
     "data": {
      "text/plain": [
       "<AxesSubplot:>"
      ]
     },
     "execution_count": 7,
     "metadata": {},
     "output_type": "execute_result"
    },
    {
     "data": {
      "image/png": "[encoded data removed]",
      "text/plain": [
       "<Figure size 432x288 with 1 Axes>"
      ]
     },
     "metadata": {
      "needs_background": "light"
     },
     "output_type": "display_data"
    }
   ],
   "source": [
    "coffee_shops.plot()"
   ]
  },
  {
   "cell_type": "markdown",
   "metadata": {
    "slideshow": {
     "slide_type": "slide"
    }
   },
   "source": [
    "Good, now we've got lots of useful geospatial data. \n",
    "\n",
    "## *Can we start doing spatial analysis?* \n",
    "## *Can we figure out the distance between points?* \n",
    "\n",
    "Soon, but first we have to make a slight diversion into geospatial data concepts. Just a quick explanation here. If you are interested in more, be sure to complete the Intermediate Geospatial Data lesson. "
   ]
  },
  {
   "cell_type": "markdown",
   "metadata": {
    "slideshow": {
     "slide_type": "slide"
    }
   },
   "source": [
    "Like most geospatial data you find on the web, the geometry in OSM is provided in angular Lat/Long coordinates, measured in degrees. (Look at the axis labels in the plot above.)\n",
    "\n",
    "In order to find coordinates on the spherical earth we use an <i>angular</i> measurement system that produces the coordinates *latitude and longitude*. \n",
    "\n",
    "<table>\n",
    "    <tr style=\"background: #fff\">\n",
    "       <td width=30%><img src='supplementary/globelatlong.jpg' alt='Latitude and Longitude'></td> \n",
    "        <td>Latitude is the angle north or south of the plane of the equator.<br><br>Longitude is the angle east and west of the prime meridian (runs through Greenwich England).</td>\n",
    "    </tr>\n",
    "</table>\n",
    "\n",
    "<small>Image source <a href=\"https://openstax.org/details/books/calculus-volume-3\">openstax</a></small>"
   ]
  },
  {
   "cell_type": "markdown",
   "metadata": {
    "slideshow": {
     "slide_type": "slide"
    }
   },
   "source": [
    "These are not the rectangular measurements we need for doing Cartesian geometry. \n",
    "\n",
    "Thus we need to transform these angular lat/long values to rectangular UTM (universal transverse mercator) values, stated in meters. (You'll learn about UTM in the Intermediate Geospatial Data Lesson.)\n",
    "\n",
    "Fortunately, there's a simple-to-use coordinate reference system (CRS) transformation function built into our tools. Let's run it now and get on with our spatial analysis! Note the change in values in the geometry column. "
   ]
  },
  {
   "cell_type": "code",
   "execution_count": 8,
   "metadata": {},
   "outputs": [
    {
     "data": {
      "text/html": [
       "<div>\n",
       "<style scoped>\n",
       "    .dataframe tbody tr th:only-of-type {\n",
       "        vertical-align: middle;\n",
       "    }\n",
       "\n",
       "    .dataframe tbody tr th {\n",
       "        vertical-align: top;\n",
       "    }\n",
       "\n",
       "    .dataframe thead th {\n",
       "        text-align: right;\n",
       "    }\n",
       "</style>\n",
       "<table border=\"1\" class=\"dataframe\">\n",
       "  <thead>\n",
       "    <tr style=\"text-align: right;\">\n",
       "      <th></th>\n",
       "      <th></th>\n",
       "      <th>amenity</th>\n",
       "      <th>cuisine</th>\n",
       "      <th>name</th>\n",
       "      <th>geometry</th>\n",
       "      <th>addr:city</th>\n",
       "      <th>addr:country</th>\n",
       "      <th>addr:housenumber</th>\n",
       "      <th>addr:postcode</th>\n",
       "      <th>addr:state</th>\n",
       "      <th>addr:street</th>\n",
       "      <th>...</th>\n",
       "      <th>building</th>\n",
       "      <th>note</th>\n",
       "      <th>start_date</th>\n",
       "      <th>building:levels</th>\n",
       "      <th>shop</th>\n",
       "      <th>was:name</th>\n",
       "      <th>roof:levels</th>\n",
       "      <th>addr:unit</th>\n",
       "      <th>ref</th>\n",
       "      <th>room</th>\n",
       "    </tr>\n",
       "    <tr>\n",
       "      <th>element_type</th>\n",
       "      <th>osmid</th>\n",
       "      <th></th>\n",
       "      <th></th>\n",
       "      <th></th>\n",
       "      <th></th>\n",
       "      <th></th>\n",
       "      <th></th>\n",
       "      <th></th>\n",
       "      <th></th>\n",
       "      <th></th>\n",
       "      <th></th>\n",
       "      <th></th>\n",
       "      <th></th>\n",
       "      <th></th>\n",
       "      <th></th>\n",
       "      <th></th>\n",
       "      <th></th>\n",
       "      <th></th>\n",
       "      <th></th>\n",
       "      <th></th>\n",
       "      <th></th>\n",
       "      <th></th>\n",
       "    </tr>\n",
       "  </thead>\n",
       "  <tbody>\n",
       "    <tr>\n",
       "      <th>node</th>\n",
       "      <th>319434041</th>\n",
       "      <td>cafe</td>\n",
       "      <td>coffee_shop</td>\n",
       "      <td>Corner Coffee</td>\n",
       "      <td>POINT (306971.389 973129.746)</td>\n",
       "      <td>NaN</td>\n",
       "      <td>NaN</td>\n",
       "      <td>NaN</td>\n",
       "      <td>NaN</td>\n",
       "      <td>NaN</td>\n",
       "      <td>NaN</td>\n",
       "      <td>...</td>\n",
       "      <td>NaN</td>\n",
       "      <td>NaN</td>\n",
       "      <td>NaN</td>\n",
       "      <td>NaN</td>\n",
       "      <td>NaN</td>\n",
       "      <td>NaN</td>\n",
       "      <td>NaN</td>\n",
       "      <td>NaN</td>\n",
       "      <td>NaN</td>\n",
       "      <td>NaN</td>\n",
       "    </tr>\n",
       "  </tbody>\n",
       "</table>\n",
       "<p>1 rows × 62 columns</p>\n",
       "</div>"
      ],
      "text/plain": [
       "                       amenity      cuisine           name  \\\n",
       "element_type osmid                                           \n",
       "node         319434041    cafe  coffee_shop  Corner Coffee   \n",
       "\n",
       "                                             geometry addr:city addr:country  \\\n",
       "element_type osmid                                                             \n",
       "node         319434041  POINT (306971.389 973129.746)       NaN          NaN   \n",
       "\n",
       "                       addr:housenumber addr:postcode addr:state addr:street  \\\n",
       "element_type osmid                                                             \n",
       "node         319434041              NaN           NaN        NaN         NaN   \n",
       "\n",
       "                        ... building note start_date building:levels shop  \\\n",
       "element_type osmid      ...                                                 \n",
       "node         319434041  ...      NaN  NaN        NaN             NaN  NaN   \n",
       "\n",
       "                       was:name roof:levels addr:unit  ref room  \n",
       "element_type osmid                                               \n",
       "node         319434041      NaN         NaN       NaN  NaN  NaN  \n",
       "\n",
       "[1 rows x 62 columns]"
      ]
     },
     "execution_count": 8,
     "metadata": {},
     "output_type": "execute_result"
    }
   ],
   "source": [
    "warnings.filterwarnings('ignore') # Hide warnings\n",
    "coffee_shopsUTM = coffee_shops.to_crs('epsg:3174')\n",
    "coffee_shopsUTM.head(1)"
   ]
  },
  {
   "cell_type": "markdown",
   "metadata": {
    "slideshow": {
     "slide_type": "slide"
    }
   },
   "source": [
    "OK, now our coordinates are suitable for doing geometry. \n",
    "\n",
    "So how can we figure out the distance between points? \n",
    "\n",
    "One way is to do this visually. Using those coordinate pairs, we can make a map of this data. Then we can manually eyeball the distance between two points with our thumbs and compare that distance with the scale bar. \n",
    "\n",
    "On the next slide, you can figure out how far apart are the first two shops in the table (our points A and B). The scale bar is in meters. Then record your answer on the following slide."
   ]
  },
  {
   "cell_type": "markdown",
   "metadata": {
    "slideshow": {
     "slide_type": "slide"
    }
   },
   "source": [
    "We extract just the first two rows of the table and plot the points, along with a scale bar. Then you can estimate the distance between them. "
   ]
  },
  {
   "cell_type": "code",
   "execution_count": 9,
   "metadata": {
    "slideshow": {
     "slide_type": "-"
    }
   },
   "outputs": [
    {
     "data": {
      "image/png": "[encoded data removed]",
      "text/plain": [
       "<Figure size 432x288 with 1 Axes>"
      ]
     },
     "metadata": {
      "needs_background": "light"
     },
     "output_type": "display_data"
    }
   ],
   "source": [
    "warnings.filterwarnings('ignore') # Hide warnings\n",
    "AandB = coffee_shopsUTM.head(2)\n",
    "ax = AandB.plot()  \n",
    "ax.add_artist(ScaleBar(1))\n",
    "plt.show()"
   ]
  },
  {
   "cell_type": "code",
   "execution_count": 11,
   "metadata": {
    "tags": [
     "Hide",
     "4B"
    ]
   },
   "outputs": [
    {
     "data": {
      "application/vnd.jupyter.widget-view+json": {
       "model_id": "aef3ebf2de0e41f9a9a17f83964f6c1c",
       "version_major": 2,
       "version_minor": 0
      },
      "text/plain": [
       "RadioButtons(description='I guess the distance between the two points is (about): ', layout=Layout(width='100%…"
      ]
     },
     "metadata": {},
     "output_type": "display_data"
    },
    {
     "data": {
      "application/vnd.jupyter.widget-view+json": {
       "model_id": "ddce69a483374ceaa925b7543379c237",
       "version_major": 2,
       "version_minor": 0
      },
      "text/plain": [
       "Button(description='Submit', icon='check', layout=Layout(height='auto', width='auto'), style=ButtonStyle())"
      ]
     },
     "metadata": {},
     "output_type": "display_data"
    },
    {
     "data": {
      "application/vnd.jupyter.widget-view+json": {
       "model_id": "119d6ffb6e0c49bca789e0b0a06dadef",
       "version_major": 2,
       "version_minor": 0
      },
      "text/plain": [
       "Output()"
      ]
     },
     "metadata": {},
     "output_type": "display_data"
    }
   ],
   "source": [
    "# print('Which of these following situations demonstrate Tobler’s First Law of Geography?')\n",
    "# Multiple choice question\n",
    "widget2 = widgets.RadioButtons(\n",
    "    options = ['1 km', '3 km', '5 km', '100 km'],\n",
    "    description = 'I guess the distance between the two points is (about): ', style={'description_width': 'initial'},\n",
    "    layout = Layout(width='100%'),\n",
    "    value = None\n",
    ")\n",
    "\n",
    "display(widget2)\n",
    "\n",
    "hourofci.SubmitBtn(user_agent,lesson,lesson_level,'4B',widget2)\n"
   ]
  },
  {
   "cell_type": "markdown",
   "metadata": {
    "slideshow": {
     "slide_type": "slide"
    }
   },
   "source": [
    "And the answer is (in meters):"
   ]
  },
  {
   "cell_type": "code",
   "execution_count": 24,
   "metadata": {
    "slideshow": {
     "slide_type": "-"
    }
   },
   "outputs": [
    {
     "name": "stdout",
     "output_type": "stream",
     "text": [
      "The distance between the two points is 3111 m or 3.111 km\n"
     ]
    }
   ],
   "source": [
    "dist_ab = AandB.iloc[0].geometry.distance(AandB.iloc[1].geometry)\n",
    "print('The distance between the two points is', int(dist_ab),'m or', round(dist_ab/1000 ,3), 'km')\n",
    "     "
   ]
  },
  {
   "cell_type": "markdown",
   "metadata": {
    "slideshow": {
     "slide_type": "-"
    }
   },
   "source": [
    "OK, that was easy enough, but what if you wanted to figure the distance between every city and every other \n",
    "city on a national map? That’s a lot of eyeballing.\n",
    "\n",
    "Let’s figure out how to do this using the coordinate pair data and geometry.\n"
   ]
  },
  {
   "cell_type": "markdown",
   "metadata": {
    "slideshow": {
     "slide_type": "slide"
    }
   },
   "source": [
    "Remember the Pythagorean theorem?\n",
    "\n",
    "<table>\n",
    "    <tr style=\"background: #fff\">\n",
    "        <td width=30%><img src='supplementary/sma4-8.png' alt='Pythagorean'></td> \n",
    "        <td><a href = 'https://en.wikipedia.org/wiki/Pythagorean_theorem'>Wikipedia</a> says the Pythagorean Theorem proves that:\n",
    "\n",
    "*The length of the hypotenuse of a right angled triangle is equal to the square root of the sum of the squares of the other two sides.*\n",
    "\n",
    "Take a look at that Wikipedia article, very interesting! The pythagorean theorem is a BIG deal!</td>\n",
    "    </tr>\n",
    "</table>\n",
    "\n",
    "<small>Image source https://commons.wikimedia.org/wiki/File:Pythagoras_Euclid.svg"
   ]
  },
  {
   "cell_type": "markdown",
   "metadata": {
    "slideshow": {
     "slide_type": "slide"
    }
   },
   "source": [
    "## Sidenote\n",
    "\n",
    "<table>\n",
    "    <tr style=\"background: #fff\">\n",
    "        <td width=20%><img src='supplementary/sma4-9.png' alt='Babylonian tablet with theorem'></td>\n",
    "        <td>This is an ancient theorem. According to that Wikipedia article, “historians of Mesopotamian mathematics have concluded that the Pythagorean rule was in widespread use during the Old Babylonian period (20th to 16th centuries BC), over a thousand years before Pythagoras was born”. This is an image of a Babylonian tablet with the theorem inscribed.\n",
    "\n",
    "Wow, they knew how to do things like this way back then?????</td>\n",
    "    </tr>\n",
    "<table>\n",
    "\n",
    "<small>Image by Osama Shukir Muhammed Amin FRCP(Glasg) - Own work, CC BY-SA 4.0, https://commons.wikimedia.org/w/index.php?curid=90609207"
   ]
  },
  {
   "cell_type": "markdown",
   "metadata": {
    "slideshow": {
     "slide_type": "slide"
    }
   },
   "source": [
    "Maybe you remember the equation?\n",
    "\n",
    "If *c* denotes the length of the hypotenuse and *a* and *b* denote the lengths of the other two sides, the Pythagorean theorem can be expressed as the Pythagorean equation:\n",
    "<center><img src='supplementary/sma4-10-1.png' alt='Pythagorean' width = 150>\n",
    "  \n",
    "If the lengths of both *a* and *b* are known, then *c* can be calculated as  \n",
    "<center><img src='supplementary/sma4-10-2.png' alt='Pythagorean' width = 150>\n",
    "\n",
    "If we calculate *a* by finding the distance between the x coordinates and *b* by the distance between the y coordinates, then the length of the hypotenuse is the distance between the points!"
   ]
  },
  {
   "cell_type": "markdown",
   "metadata": {
    "slideshow": {
     "slide_type": "slide"
    }
   },
   "source": [
    "Perfect! Now all we have to do is to get the computer to understand those equations. \n",
    "\n",
    "Hmm, computers generally can’t read mathematical symbols and programming languages usually need to be coded in simple ASCII text (the roman alphabet plus numbers 0-9).\n",
    "\n",
    "For that we need an *algorithm*.\n",
    "\n",
    "What’s an algorithm, you say?\n",
    "\n",
    "Read on...\n"
   ]
  },
  {
   "cell_type": "markdown",
   "metadata": {
    "slideshow": {
     "slide_type": "slide"
    }
   },
   "source": [
    "## Definition of Algorithm\n",
    "\n",
    "<a href = 'https://en.wikipedia.org/wiki/Algorithm'>Wikipedia</a> says an algorithm is “a finite sequence of well-defined, computer-implementable instructions, typically to solve a class of problems or to perform a computation.”\n",
    "\n",
    "and\n",
    "\n",
    "“Algorithms are always unambiguous and are used as specifications for performing calculations, data processing, automated reasoning, and other tasks.”\n",
    "\n",
    "Again, the Wikipedia article on this topic is also very interesting and it gives several examples of algorithms to help you get the idea. "
   ]
  },
  {
   "cell_type": "markdown",
   "metadata": {
    "slideshow": {
     "slide_type": "slide"
    }
   },
   "source": [
    "## Algorithm for calculating distance between two points\n",
    "\n",
    "\n",
    "And here it is: \n",
    "1. Get two points as an input as A (x1,y1) and B (x2,y2)\n",
    "2. Calculate the difference between the x-coordinates\n",
    "3. Calculate the difference between the y-coordinates\n",
    "4. Apply the formula derived from Pythagorean Theorem\n"
   ]
  },
  {
   "cell_type": "markdown",
   "metadata": {
    "slideshow": {
     "slide_type": "slide"
    }
   },
   "source": [
    "And now, let’s see what that looks like in Python."
   ]
  },
  {
   "cell_type": "code",
   "execution_count": 25,
   "metadata": {
    "slideshow": {
     "slide_type": "-"
    }
   },
   "outputs": [
    {
     "name": "stdout",
     "output_type": "stream",
     "text": [
      "The distance between the two points is 3111 meters.\n"
     ]
    }
   ],
   "source": [
    "# Extract the variables from the dataframe\n",
    "x1 = AandB.iloc[0].geometry.x\n",
    "y1 = AandB.iloc[0].geometry.y\n",
    "x2 = AandB.iloc[1].geometry.x\n",
    "y2 = AandB.iloc[1].geometry.y\n",
    "\n",
    "# Use Pythagorean Theorem\n",
    "dist = ((x2-x1)**2 + (y2-y1)**2)**0.5 \n",
    "print(\"The distance between the two points is\",round(dist),\"meters.\")"
   ]
  },
  {
   "cell_type": "markdown",
   "metadata": {
    "slideshow": {
     "slide_type": "slide"
    }
   },
   "source": [
    "Of course, this is such a common function that it's already coded into the system. "
   ]
  },
  {
   "cell_type": "code",
   "execution_count": 26,
   "metadata": {},
   "outputs": [
    {
     "data": {
      "text/plain": [
       "3111"
      ]
     },
     "execution_count": 26,
     "metadata": {},
     "output_type": "execute_result"
    }
   ],
   "source": [
    "dist2 = AandB.iloc[0].geometry.distance(AandB.iloc[1].geometry)\n",
    "round(dist2)"
   ]
  },
  {
   "cell_type": "markdown",
   "metadata": {
    "slideshow": {
     "slide_type": "slide"
    }
   },
   "source": [
    "Now let's try this with a bigger dataset in our Try-it #2 notebook. And we've included a bonus algorithm for calculating the area of polygons. \n",
    "\n",
    "Go to <a style=\"background-color:blue;color:white;font-weight:bold;\" href=\"try_it2_sma.ipynb\">Try it #2</a> now."
   ]
  }
 ],
 "metadata": {
  "celltoolbar": "Slideshow",
  "kernelspec": {
   "display_name": "Python 3 (ipykernel)",
   "language": "python",
   "name": "python3"
  },
  "language_info": {
   "codemirror_mode": {
    "name": "ipython",
    "version": 3
   },
   "file_extension": ".py",
   "mimetype": "text/x-python",
   "name": "python",
   "nbconvert_exporter": "python",
   "pygments_lexer": "ipython3",
   "version": "3.7.3"
  },
  "rise": {
   "autolaunch": true,
   "overlay": "<div class='hciheader'></div><div class='hcifooter'></div>",
   "scroll": true
  }
 },
 "nbformat": 4,
 "nbformat_minor": 4
}
