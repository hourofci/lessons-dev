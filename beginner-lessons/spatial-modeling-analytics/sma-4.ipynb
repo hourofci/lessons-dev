{
 "cells": [
  {
   "cell_type": "markdown",
   "metadata": {
    "slideshow": {
     "slide_type": "slide"
    }
   },
   "source": [
    "### Spatial Modeling and Analytics\n",
    "\n",
    "## Part 3 of 4\n",
    "# How does it work?"
   ]
  },
  {
   "cell_type": "markdown",
   "metadata": {
    "slideshow": {
     "slide_type": "slide"
    }
   },
   "source": [
    "## Reminder\n",
    "<a href=\"#/slide-2-0\" class=\"navigate-right\" style=\"background-color:blue;color:white;padding:8px;margin:2px;font-weight:bold;\">Continue with the lesson</a>\n",
    "\n",
    "<br>\n",
    "</br>\n",
    "<font size=\"+1\">\n",
    "\n",
    "By continuing with this lesson you are granting your permission to take part in this research study for the Hour of Cyberinfrastructure: Developing Cyber Literacy for GIScience project. In this study, you will be learning about cyberinfrastructure and related concepts using a web-based platform that will take approximately one hour per lesson. Participation in this study is voluntary.\n",
    "\n",
    "Participants in this research must be 18 years or older. If you are under the age of 18 then please exit this webpage or navigate to another website such as the Hour of Code at https://hourofcode.com, which is designed for K-12 students.\n",
    "\n",
    "If you are not interested in participating please exit the browser or navigate to this website: http://www.umn.edu. Your participation is voluntary and you are free to stop the lesson at any time.\n",
    "\n",
    "For the full description please navigate to this website: <a href=\"../../gateway-lesson/gateway/gateway-1.ipynb\">Gateway Lesson Research Study Permission</a>.\n",
    "\n",
    "</font>"
   ]
  },
  {
   "cell_type": "code",
   "execution_count": 5,
   "metadata": {
    "hide_input": true,
    "init_cell": true,
    "slideshow": {
     "slide_type": "skip"
    },
    "tags": [
     "Hide"
    ]
   },
   "outputs": [
    {
     "data": {
      "text/html": [
       " \n",
       "    <script type=\"text/javascript\" src=\"../../supplementary/js/custom.js\"></script>\n",
       "    \n",
       "    <input id=\"toggle_code\" type=\"button\" value=\"Toggle raw code\">\n"
      ],
      "text/plain": [
       "<IPython.core.display.HTML object>"
      ]
     },
     "execution_count": 5,
     "metadata": {},
     "output_type": "execute_result"
    }
   ],
   "source": [
    "# This code cell starts the necessary setup for Hour of CI lesson notebooks.\n",
    "# First, it enables users to hide and unhide code by producing a 'Toggle raw code' button below.\n",
    "# Second, it imports the hourofci package, which is necessary for lessons and interactive Jupyter Widgets.\n",
    "# Third, it helps hide/control other aspects of Jupyter Notebooks to improve the user experience\n",
    "# This is an initialization cell\n",
    "# It is not displayed because the Slide Type is 'Skip'\n",
    "\n",
    "from IPython.display import HTML, IFrame, Javascript, display\n",
    "from ipywidgets import interactive\n",
    "import ipywidgets as widgets\n",
    "from ipywidgets import Layout\n",
    "\n",
    "import getpass # This library allows us to get the username (User agent string)\n",
    "\n",
    "# import package for hourofci project\n",
    "import sys\n",
    "sys.path.append('../../supplementary') # relative path (may change depending on the location of the lesson notebook)\n",
    "import hourofci\n",
    "\n",
    "\n",
    "import warnings\n",
    "warnings.filterwarnings('ignore') # Hide warnings\n",
    "\n",
    "# load javascript to initialize/hide cells, get user agent string, and hide output indicator\n",
    "# hide code by introducing a toggle button \"Toggle raw code\"\n",
    "HTML(''' \n",
    "    <script type=\"text/javascript\" src=\\\"../../supplementary/js/custom.js\\\"></script>\n",
    "    \n",
    "    <input id=\"toggle_code\" type=\"button\" value=\"Toggle raw code\">\n",
    "''')"
   ]
  },
  {
   "cell_type": "markdown",
   "metadata": {
    "slideshow": {
     "slide_type": "slide"
    }
   },
   "source": [
    "In this section we’ll see how to use some basic spatial concepts to answer spatial questions. \n",
    "\n",
    "*If you haven’t heard about spatial concepts and spatial questions before, you might want to complete the Spatial Thinking Lesson before going further here.*\n",
    "\n",
    "Remember these spatial questions from earlier in this lesson?\n",
    "\n",
    "- How many coffee shops are within 250 meters of where I am?\n",
    "- Where is the nearest coffee shop?\n",
    "- What is the distance between that coffee shop and my favorite grocery store?\n",
    "- What is the shortest route between the coffee shop and the grocery store?\n",
    "- Determining distance is perhaps the most basic calculation we have to do in spatial analytics.\n"
   ]
  },
  {
   "cell_type": "markdown",
   "metadata": {
    "slideshow": {
     "slide_type": "slide"
    }
   },
   "source": [
    "In order to calculate distance in the computer we have to have some spatial data. Let’s go get some!\n",
    "\n",
    "Earlier in this lesson, we used some coffee shop data from the <a href=\"https://www.openstreetmap.org/\">Open Street Map Project</a> which is a massive source of geographic data about streets and points of interest collected by volunteers around the world. This crowd-sourced data is deep and rich, but it is somewhat unreliable and incomplete. So use it and results from it with some caution. \n",
    "\n",
    "The python package <a href=\"https://osmnx.readthedocs.io/en/stable/\">OSMNX</a> (imported as \"os\") lets you \"download geospatial data from Open Street Map and model, project, visualize, and analyze real-world street networks and any other geospatial geometries.\" It's a very large package with lots of spatial analysis tools specially for modeling on networks, but we're just going to use it here to download data from Open Street Map. \n",
    "\n",
    "So first we import the packages we need."
   ]
  },
  {
   "cell_type": "code",
   "execution_count": 1,
   "metadata": {},
   "outputs": [],
   "source": [
    "import osmnx as ox \n",
    "import geopandas as gpd\n",
    "import matplotlib.pyplot as plt\n",
    "from matplotlib_scalebar.scalebar import ScaleBar"
   ]
  },
  {
   "cell_type": "markdown",
   "metadata": {
    "slideshow": {
     "slide_type": "slide"
    }
   },
   "source": [
    "Now let's get some spatial data about coffee shops (identified as amenity=cafe and cuisine=coffee-shop) in Minneapolis. Run this code, then look through the output to see what kind of information is collected for OSM features."
   ]
  },
  {
   "cell_type": "code",
   "execution_count": 2,
   "metadata": {},
   "outputs": [
    {
     "ename": "AttributeError",
     "evalue": "module 'osmnx' has no attribute 'geometries_from_place'",
     "output_type": "error",
     "traceback": [
      "\u001b[0;31m---------------------------------------------------------------------------\u001b[0m",
      "\u001b[0;31mAttributeError\u001b[0m                            Traceback (most recent call last)",
      "\u001b[0;32m<ipython-input-2-ad11ce5ea9e1>\u001b[0m in \u001b[0;36m<module>\u001b[0;34m\u001b[0m\n\u001b[1;32m      1\u001b[0m \u001b[0mtags\u001b[0m \u001b[0;34m=\u001b[0m \u001b[0;34m{\u001b[0m\u001b[0;34m\"amenity\"\u001b[0m\u001b[0;34m:\u001b[0m \u001b[0;34m\"cafe\"\u001b[0m\u001b[0;34m,\u001b[0m \u001b[0;34m\"cuisine\"\u001b[0m\u001b[0;34m:\u001b[0m \u001b[0;34m\"coffee-shop\"\u001b[0m\u001b[0;34m}\u001b[0m\u001b[0;34m\u001b[0m\u001b[0;34m\u001b[0m\u001b[0m\n\u001b[0;32m----> 2\u001b[0;31m \u001b[0mcoffee_shops\u001b[0m \u001b[0;34m=\u001b[0m \u001b[0mox\u001b[0m\u001b[0;34m.\u001b[0m\u001b[0mgeometries_from_place\u001b[0m\u001b[0;34m(\u001b[0m\u001b[0;34m\"Minneapolis, MN\"\u001b[0m\u001b[0;34m,\u001b[0m \u001b[0mtags\u001b[0m\u001b[0;34m)\u001b[0m\u001b[0;34m\u001b[0m\u001b[0;34m\u001b[0m\u001b[0m\n\u001b[0m\u001b[1;32m      3\u001b[0m \u001b[0mcoffee_shops\u001b[0m\u001b[0;34m.\u001b[0m\u001b[0minfo\u001b[0m\u001b[0;34m(\u001b[0m\u001b[0;34m)\u001b[0m\u001b[0;34m\u001b[0m\u001b[0;34m\u001b[0m\u001b[0m\n",
      "\u001b[0;31mAttributeError\u001b[0m: module 'osmnx' has no attribute 'geometries_from_place'"
     ]
    }
   ],
   "source": [
    "tags = {\"amenity\": \"cafe\", \"cuisine\": \"coffee-shop\"} \n",
    "coffee_shops = ox.geometries_from_place(\"Minneapolis, MN\", tags) \n",
    "coffee_shops.info()"
   ]
  },
  {
   "cell_type": "markdown",
   "metadata": {
    "slideshow": {
     "slide_type": "slide"
    }
   },
   "source": [
    "When we built this lesson, we got 140 coffee shops. Is that what you got? (Go back to the previous page and see how many \"entries\" you got.) If your number is different, it means that the active OSMers in Minneapolis have been updating their data. That's good!\n",
    "\n",
    "Now, let's look at what data we've got in the dataframe. Most importantly, is there a column that always provides the location of each coffee shop? (Hint: note that address cells are often empty.)"
   ]
  },
  {
   "cell_type": "code",
   "execution_count": 3,
   "metadata": {},
   "outputs": [
    {
     "ename": "NameError",
     "evalue": "name 'coffee_shops' is not defined",
     "output_type": "error",
     "traceback": [
      "\u001b[0;31m---------------------------------------------------------------------------\u001b[0m",
      "\u001b[0;31mNameError\u001b[0m                                 Traceback (most recent call last)",
      "\u001b[0;32m<ipython-input-3-389dd5a004b4>\u001b[0m in \u001b[0;36m<module>\u001b[0;34m\u001b[0m\n\u001b[0;32m----> 1\u001b[0;31m \u001b[0mcoffee_shops\u001b[0m\u001b[0;34m.\u001b[0m\u001b[0mhead\u001b[0m\u001b[0;34m(\u001b[0m\u001b[0;34m)\u001b[0m\u001b[0;34m\u001b[0m\u001b[0;34m\u001b[0m\u001b[0m\n\u001b[0m",
      "\u001b[0;31mNameError\u001b[0m: name 'coffee_shops' is not defined"
     ]
    }
   ],
   "source": [
    "coffee_shops.head()"
   ]
  },
  {
   "cell_type": "markdown",
   "metadata": {
    "slideshow": {
     "slide_type": "slide"
    }
   },
   "source": [
    "What is the name of the column that always contains a spatial location for these features?\n",
    "\n",
    "[NEED TEXT BOX TO CAPTURE THE RESPONSE]\n",
    "\n",
    "<span style=\"color:green\"> ***Implemented!*** </span>"
   ]
  },
  {
   "cell_type": "code",
   "execution_count": 6,
   "metadata": {
    "tags": [
     "Hide",
     "4A"
    ]
   },
   "outputs": [
    {
     "name": "stdout",
     "output_type": "stream",
     "text": [
      "What is the name of the column that always contains a spatial location for these features?\n"
     ]
    },
    {
     "data": {
      "application/vnd.jupyter.widget-view+json": {
       "model_id": "e02fa22dc7a341aaa697b85ff8525369",
       "version_major": 2,
       "version_minor": 0
      },
      "text/plain": [
       "Text(value='', placeholder='Type your answer here...')"
      ]
     },
     "metadata": {},
     "output_type": "display_data"
    },
    {
     "data": {
      "application/vnd.jupyter.widget-view+json": {
       "model_id": "f120481873454b39a16db57e9f9b1f13",
       "version_major": 2,
       "version_minor": 0
      },
      "text/plain": [
       "Button(description='Submit', icon='check', layout=Layout(height='auto', width='auto'), style=ButtonStyle())"
      ]
     },
     "metadata": {},
     "output_type": "display_data"
    },
    {
     "data": {
      "application/vnd.jupyter.widget-view+json": {
       "model_id": "9b3bf8bc32344409902152201582b5d2",
       "version_major": 2,
       "version_minor": 0
      },
      "text/plain": [
       "Output()"
      ]
     },
     "metadata": {},
     "output_type": "display_data"
    }
   ],
   "source": [
    "\n",
    "print('What is the name of the column that always contains a spatial location for these features?')\n",
    "text1 = widgets.Text( placeholder='Type your answer here...')\n",
    "# Display widget\n",
    "display(text1)\n",
    "\n",
    "# Output function\n",
    "def out1():\n",
    "    print(\"Your answer is successfully submitted!\")\n",
    "    \n",
    "# Submit button\n",
    "hourofci.SubmitBtn(user_agent, lesson, lesson_level, \"4A\", text1, out1)"
   ]
  },
  {
   "cell_type": "markdown",
   "metadata": {
    "slideshow": {
     "slide_type": "slide"
    }
   },
   "source": [
    "## It's geometry!\n",
    "<table>\n",
    "    <tr style=\"background: #fff\">       \n",
    "        <td width=30%> <a title=\"Dixy52, CC BY-SA 4.0 &lt;https://creativecommons.org/licenses/by-sa/4.0&gt;, via Wikimedia Commons\" href=\"https://commons.wikimedia.org/wiki/File:Cartesian_coordinate.svg\"><img width=\"512\" alt=\"Cartesian coordinate\" src=\"https://upload.wikimedia.org/wikipedia/commons/thumb/5/51/Cartesian_coordinate.svg/512px-Cartesian_coordinate.svg.png\"></a></td>\n",
    "        <td align=left valign=top>\n",
    "In spatial data, the location of points (such as cities on a national map, bus stops on a neighborhood map or weather stations) is often specified by a coordinate pair, such as (lat,long) or (x,y), or a series of pairs for lines or area boundaries. This geometry allows us to do spatial analysis. So, having a geometry column in our dataframe is essential. \n",
    "\n",
    "(There are other ways to record location, but coordinate pairs are by far the most common. For more on how we specify location, complete the Geospatial Data Lesson.)\n",
    "\n",
    "Remember from grade school geometry, Cartesian coordinates is how we plot points on a graph. One coordinate measures the distance from a point of origin horizontally (or East-West), the other vertically (or North-South). Latitude is the N-S measurement and longitude is the E-W measurement.</td>\n",
    "    </tr>\n",
    "</table>\n",
    "\n",
    "<small>Image via Wikimedia Commons by <a href=\"https://commons.wikimedia.org/wiki/File:Cartesian_coordinate.svg\">Dixy52</a>, <a href=\"https://creativecommons.org/licenses/by-sa/4.0\">CC BY-SA 4.0</a>"
   ]
  },
  {
   "cell_type": "markdown",
   "metadata": {
    "slideshow": {
     "slide_type": "slide"
    }
   },
   "source": [
    "Once we know we've got the location data, then we can make a plot."
   ]
  },
  {
   "cell_type": "code",
   "execution_count": 43,
   "metadata": {},
   "outputs": [
    {
     "data": {
      "text/plain": [
       "<AxesSubplot:>"
      ]
     },
     "execution_count": 43,
     "metadata": {},
     "output_type": "execute_result"
    }
   ],
   "source": [
    "coffee_shops.plot()"
   ]
  },
  {
   "cell_type": "markdown",
   "metadata": {
    "slideshow": {
     "slide_type": "slide"
    }
   },
   "source": [
    "Good, now we've got lots of useful geospatial data. \n",
    "\n",
    "## *Can we start doing spatial analysis?* \n",
    "## *Can we figure out the distance between points?* \n",
    "\n",
    "Soon, but first we have to make a slight diversion into geospatial data concepts. Just a quick explanation here. If you are interested in more, be sure to complete the Intermediate Geospatial Data lesson. "
   ]
  },
  {
   "cell_type": "markdown",
   "metadata": {
    "slideshow": {
     "slide_type": "slide"
    }
   },
   "source": [
    "Like most geospatial data you find on the web, the geometry in OSM is provided in angular Lat/Long coordinates, measured in degrees. (Look at the axis labels in the plot above.)\n",
    "\n",
    "In order to find coordinates on the spherical earth we use an <i>angular</i> measurement system that produces the coordinates *latitude and longitude*. \n",
    "\n",
    "<table>\n",
    "    <tr style=\"background: #fff\">\n",
    "       <td width=30%><img src='supplementary/globelatlong.jpg' alt='Latitude and Longitude'></td> \n",
    "        <td>Latitude is the angle north or south of the plane of the equator.<br><br>Longitude is the angle east and west of the prime meridian (runs through Greenwich England).</td>\n",
    "    </tr>\n",
    "</table>\n",
    "\n",
    "<small>Image source <a href=\"https://openstax.org/details/books/calculus-volume-3\">openstax</a></small>"
   ]
  },
  {
   "cell_type": "markdown",
   "metadata": {
    "slideshow": {
     "slide_type": "slide"
    }
   },
   "source": [
    "These are not the rectangular measurements we need for doing Cartesian geometry. \n",
    "\n",
    "Thus we need to transform these angular lat/long values to rectangular UTM (universal transverse mercator) values, stated in meters. (You'll learn about UTM in the Intermediate Geospatial Data Lesson.)\n",
    "\n",
    "Fortunately, there's a simple-to-use coordinate reference system (CRS) transformation function built into our tools. Let's run it now and get on with our spatial analysis! Note the change in values in the geometry column. "
   ]
  },
  {
   "cell_type": "code",
   "execution_count": 7,
   "metadata": {},
   "outputs": [
    {
     "ename": "NameError",
     "evalue": "name 'coffee_shops' is not defined",
     "output_type": "error",
     "traceback": [
      "\u001b[0;31m---------------------------------------------------------------------------\u001b[0m",
      "\u001b[0;31mNameError\u001b[0m                                 Traceback (most recent call last)",
      "\u001b[0;32m<ipython-input-7-f7891f311df4>\u001b[0m in \u001b[0;36m<module>\u001b[0;34m\u001b[0m\n\u001b[1;32m      1\u001b[0m \u001b[0mwarnings\u001b[0m\u001b[0;34m.\u001b[0m\u001b[0mfilterwarnings\u001b[0m\u001b[0;34m(\u001b[0m\u001b[0;34m'ignore'\u001b[0m\u001b[0;34m)\u001b[0m \u001b[0;31m# Hide warnings\u001b[0m\u001b[0;34m\u001b[0m\u001b[0;34m\u001b[0m\u001b[0m\n\u001b[0;32m----> 2\u001b[0;31m \u001b[0mcoffee_shopsUTM\u001b[0m \u001b[0;34m=\u001b[0m \u001b[0mcoffee_shops\u001b[0m\u001b[0;34m.\u001b[0m\u001b[0mto_crs\u001b[0m\u001b[0;34m(\u001b[0m\u001b[0;34m'epsg:3174'\u001b[0m\u001b[0;34m)\u001b[0m\u001b[0;34m\u001b[0m\u001b[0;34m\u001b[0m\u001b[0m\n\u001b[0m\u001b[1;32m      3\u001b[0m \u001b[0mcoffee_shopsUTM\u001b[0m\u001b[0;34m.\u001b[0m\u001b[0mhead\u001b[0m\u001b[0;34m(\u001b[0m\u001b[0;36m1\u001b[0m\u001b[0;34m)\u001b[0m\u001b[0;34m\u001b[0m\u001b[0;34m\u001b[0m\u001b[0m\n",
      "\u001b[0;31mNameError\u001b[0m: name 'coffee_shops' is not defined"
     ]
    }
   ],
   "source": [
    "warnings.filterwarnings('ignore') # Hide warnings\n",
    "coffee_shopsUTM = coffee_shops.to_crs('epsg:3174')\n",
    "coffee_shopsUTM.head(1)"
   ]
  },
  {
   "cell_type": "markdown",
   "metadata": {
    "slideshow": {
     "slide_type": "slide"
    }
   },
   "source": [
    "OK, now our coordinates are suitable for doing geometry. \n",
    "\n",
    "So how can we figure out the distance between points? \n",
    "\n",
    "One way is to do this visually. Using those coordinate pairs, we can make a map of this data. Then we can manually eyeball the distance between two points with our thumbs and compare that distance with the scale bar. \n",
    "\n",
    "On the next slide, you can figure out how far apart are the first two shops in the table (our points A and B). The scale bar is in meters. Then record your answer on the following slide."
   ]
  },
  {
   "cell_type": "markdown",
   "metadata": {
    "slideshow": {
     "slide_type": "slide"
    }
   },
   "source": [
    "We extract just the first two rows of the table and plot the points, along with a scale bar. Then you can estimate the distance between them. "
   ]
  },
  {
   "cell_type": "code",
   "execution_count": 45,
   "metadata": {
    "slideshow": {
     "slide_type": "-"
    }
   },
   "outputs": [
    {
     "data": {
      "image/png": "[encoded data removed]",
      "text/plain": [
       "<Figure size 640x480 with 1 Axes>"
      ]
     },
     "metadata": {},
     "output_type": "display_data"
    },
    {
     "data": {
      "image/png": "[encoded data removed]",
      "text/plain": [
       "<Figure size 640x480 with 1 Axes>"
      ]
     },
     "metadata": {},
     "output_type": "display_data"
    }
   ],
   "source": [
    "warnings.filterwarnings('ignore') # Hide warnings\n",
    "AandB = coffee_shopsUTM.head(2)\n",
    "ax = AandB.plot()  \n",
    "ax.add_artist(ScaleBar(1))\n",
    "plt.show()"
   ]
  },
  {
   "cell_type": "code",
   "execution_count": 46,
   "metadata": {
    "tags": [
     "Hide",
     "4B"
    ]
   },
   "outputs": [
    {
     "data": {
      "application/vnd.jupyter.widget-view+json": {
       "model_id": "79337099f7c04d9c80dfb0b505920471",
       "version_major": 2,
       "version_minor": 0
      },
      "text/plain": [
       "RadioButtons(description='I guess the distance between the two points is (about): ', layout=Layout(width='100%…"
      ]
     },
     "metadata": {},
     "output_type": "display_data"
    },
    {
     "data": {
      "application/vnd.jupyter.widget-view+json": {
       "model_id": "615f5d139eae4fa0b930d5ce87110d42",
       "version_major": 2,
       "version_minor": 0
      },
      "text/plain": [
       "Button(description='Submit', icon='check', layout=Layout(height='auto', width='auto'), style=ButtonStyle())"
      ]
     },
     "metadata": {},
     "output_type": "display_data"
    },
    {
     "data": {
      "application/vnd.jupyter.widget-view+json": {
       "model_id": "d42954f52e174d0a915806be31c4a2be",
       "version_major": 2,
       "version_minor": 0
      },
      "text/plain": [
       "Output()"
      ]
     },
     "metadata": {},
     "output_type": "display_data"
    }
   ],
   "source": [
    "# print('Which of these following situations demonstrate Tobler’s First Law of Geography?')\n",
    "# Multiple choice question\n",
    "widget2 = widgets.RadioButtons(\n",
    "    options = ['1 km', '3 km', '5 km', '100 km'],\n",
    "    description = 'I guess the distance between the two points is (about): ', style={'description_width': 'initial'},\n",
    "    layout = Layout(width='100%'),\n",
    "    value = None\n",
    ")\n",
    "\n",
    "display(widget2)\n",
    "\n",
    "hourofci.SubmitBtn(user_agent,'Modeling_analytics',\"beginner\",'4B',widget2)\n",
    "\n"
   ]
  },
  {
   "cell_type": "markdown",
   "metadata": {
    "slideshow": {
     "slide_type": "slide"
    }
   },
   "source": [
    "And the answer is (in meters):"
   ]
  },
  {
   "cell_type": "code",
   "execution_count": 47,
   "metadata": {
    "slideshow": {
     "slide_type": "-"
    }
   },
   "outputs": [
    {
     "data": {
      "text/plain": [
       "3111.2850327595343"
      ]
     },
     "execution_count": 47,
     "metadata": {},
     "output_type": "execute_result"
    }
   ],
   "source": [
    "AandB.iloc[0].geometry.distance(AandB.iloc[1].geometry)"
   ]
  },
  {
   "cell_type": "markdown",
   "metadata": {
    "slideshow": {
     "slide_type": "-"
    }
   },
   "source": [
    "OK, that was easy enough, but what if you wanted to figure the distance between every city and every other \n",
    "city on a national map? That’s a lot of eyeballing.\n",
    "\n",
    "Let’s figure out how to do this using the coordinate pair data and geometry.\n"
   ]
  },
  {
   "cell_type": "markdown",
   "metadata": {
    "slideshow": {
     "slide_type": "slide"
    }
   },
   "source": [
    "Remember the Pythagorean theorem?\n",
    "\n",
    "<table>\n",
    "    <tr style=\"background: #fff\">\n",
    "        <td width=30%><img src='supplementary/sma4-8.png' alt='Pythagorean'></td> \n",
    "        <td><a href = 'https://en.wikipedia.org/wiki/Pythagorean_theorem'>Wikipedia</a> says the Pythagorean Theorem proves that:\n",
    "\n",
    "*The length of the hypotenuse of a right angled triangle is equal to the square root of the sum of the squares of the other two sides.*\n",
    "\n",
    "Take a look at that Wikipedia article, very interesting! The pythagorean theorem is a BIG deal!</td>\n",
    "    </tr>\n",
    "</table>\n",
    "\n",
    "<small>Image source https://commons.wikimedia.org/wiki/File:Pythagoras_Euclid.svg"
   ]
  },
  {
   "cell_type": "markdown",
   "metadata": {
    "slideshow": {
     "slide_type": "slide"
    }
   },
   "source": [
    "## Sidenote\n",
    "\n",
    "<table>\n",
    "    <tr style=\"background: #fff\">\n",
    "        <td width=20%><img src='supplementary/sma4-9.png' alt='Babylonian tablet with theorem'></td>\n",
    "        <td>This is an ancient theorem. According to that Wikipedia article, “historians of Mesopotamian mathematics have concluded that the Pythagorean rule was in widespread use during the Old Babylonian period (20th to 16th centuries BC), over a thousand years before Pythagoras was born”. This is an image of a Babylonian tablet with the theorem inscribed.\n",
    "\n",
    "Wow, they knew how to do things like this way back then?????</td>\n",
    "    </tr>\n",
    "<table>\n",
    "\n",
    "<small>Image by Osama Shukir Muhammed Amin FRCP(Glasg) - Own work, CC BY-SA 4.0, https://commons.wikimedia.org/w/index.php?curid=90609207"
   ]
  },
  {
   "cell_type": "markdown",
   "metadata": {
    "slideshow": {
     "slide_type": "slide"
    }
   },
   "source": [
    "Maybe you remember the equation?\n",
    "\n",
    "If *c* denotes the length of the hypotenuse and *a* and *b* denote the lengths of the other two sides, the Pythagorean theorem can be expressed as the Pythagorean equation:\n",
    "<center><img src='supplementary/sma4-10-1.png' alt='Pythagorean' width = 150>\n",
    "  \n",
    "If the lengths of both *a* and *b* are known, then *c* can be calculated as  \n",
    "<center><img src='supplementary/sma4-10-2.png' alt='Pythagorean' width = 150>\n",
    "\n",
    "If we calculate *a* by finding the distance between the x coordinates and *b* by the distance between the y coordinates, then the length of the hypotenuse is the distance between the points!"
   ]
  },
  {
   "cell_type": "markdown",
   "metadata": {
    "slideshow": {
     "slide_type": "slide"
    }
   },
   "source": [
    "Perfect! Now all we have to do is to get the computer to understand those equations. \n",
    "\n",
    "Hmm, computers generally can’t read mathematical symbols and programming languages usually need to be coded in simple ASCII text (the roman alphabet plus numbers 0-9).\n",
    "\n",
    "For that we need an *algorithm*.\n",
    "\n",
    "What’s an algorithm, you say?\n",
    "\n",
    "Read on...\n"
   ]
  },
  {
   "cell_type": "markdown",
   "metadata": {
    "slideshow": {
     "slide_type": "slide"
    }
   },
   "source": [
    "## Definition of Algorithm\n",
    "\n",
    "<a href = 'https://en.wikipedia.org/wiki/Algorithm'>Wikipedia</a> says an algorithm is “a finite sequence of well-defined, computer-implementable instructions, typically to solve a class of problems or to perform a computation.”\n",
    "\n",
    "and\n",
    "\n",
    "“Algorithms are always unambiguous and are used as specifications for performing calculations, data processing, automated reasoning, and other tasks.”\n",
    "\n",
    "Again, the Wikipedia article on this topic is also very interesting and it gives several examples of algorithms to help you get the idea. "
   ]
  },
  {
   "cell_type": "markdown",
   "metadata": {
    "slideshow": {
     "slide_type": "slide"
    }
   },
   "source": [
    "## Algorithm for calculating distance between two points\n",
    "\n",
    "\n",
    "And here it is: \n",
    "1. Get two points as an input as A (x1,y1) and B (x2,y2)\n",
    "2. Calculate the difference between the x-coordinates\n",
    "3. Calculate the difference between the y-coordinates\n",
    "4. Apply the formula derived from Pythagorean Theorem\n"
   ]
  },
  {
   "cell_type": "markdown",
   "metadata": {
    "slideshow": {
     "slide_type": "slide"
    }
   },
   "source": [
    "And now, let’s see what that looks like in Python."
   ]
  },
  {
   "cell_type": "code",
   "execution_count": 8,
   "metadata": {
    "slideshow": {
     "slide_type": "-"
    }
   },
   "outputs": [
    {
     "ename": "NameError",
     "evalue": "name 'AandB' is not defined",
     "output_type": "error",
     "traceback": [
      "\u001b[0;31m---------------------------------------------------------------------------\u001b[0m",
      "\u001b[0;31mNameError\u001b[0m                                 Traceback (most recent call last)",
      "\u001b[0;32m<ipython-input-8-89f10f6c8223>\u001b[0m in \u001b[0;36m<module>\u001b[0;34m\u001b[0m\n\u001b[1;32m      1\u001b[0m \u001b[0;31m# Extract the variables from the dataframe\u001b[0m\u001b[0;34m\u001b[0m\u001b[0;34m\u001b[0m\u001b[0;34m\u001b[0m\u001b[0m\n\u001b[0;32m----> 2\u001b[0;31m \u001b[0mx1\u001b[0m \u001b[0;34m=\u001b[0m \u001b[0mAandB\u001b[0m\u001b[0;34m.\u001b[0m\u001b[0miloc\u001b[0m\u001b[0;34m[\u001b[0m\u001b[0;36m0\u001b[0m\u001b[0;34m]\u001b[0m\u001b[0;34m.\u001b[0m\u001b[0mgeometry\u001b[0m\u001b[0;34m.\u001b[0m\u001b[0mx\u001b[0m\u001b[0;34m\u001b[0m\u001b[0;34m\u001b[0m\u001b[0m\n\u001b[0m\u001b[1;32m      3\u001b[0m \u001b[0my1\u001b[0m \u001b[0;34m=\u001b[0m \u001b[0mAandB\u001b[0m\u001b[0;34m.\u001b[0m\u001b[0miloc\u001b[0m\u001b[0;34m[\u001b[0m\u001b[0;36m0\u001b[0m\u001b[0;34m]\u001b[0m\u001b[0;34m.\u001b[0m\u001b[0mgeometry\u001b[0m\u001b[0;34m.\u001b[0m\u001b[0my\u001b[0m\u001b[0;34m\u001b[0m\u001b[0;34m\u001b[0m\u001b[0m\n\u001b[1;32m      4\u001b[0m \u001b[0mx2\u001b[0m \u001b[0;34m=\u001b[0m \u001b[0mAandB\u001b[0m\u001b[0;34m.\u001b[0m\u001b[0miloc\u001b[0m\u001b[0;34m[\u001b[0m\u001b[0;36m1\u001b[0m\u001b[0;34m]\u001b[0m\u001b[0;34m.\u001b[0m\u001b[0mgeometry\u001b[0m\u001b[0;34m.\u001b[0m\u001b[0mx\u001b[0m\u001b[0;34m\u001b[0m\u001b[0;34m\u001b[0m\u001b[0m\n\u001b[1;32m      5\u001b[0m \u001b[0my2\u001b[0m \u001b[0;34m=\u001b[0m \u001b[0mAandB\u001b[0m\u001b[0;34m.\u001b[0m\u001b[0miloc\u001b[0m\u001b[0;34m[\u001b[0m\u001b[0;36m1\u001b[0m\u001b[0;34m]\u001b[0m\u001b[0;34m.\u001b[0m\u001b[0mgeometry\u001b[0m\u001b[0;34m.\u001b[0m\u001b[0my\u001b[0m\u001b[0;34m\u001b[0m\u001b[0;34m\u001b[0m\u001b[0m\n",
      "\u001b[0;31mNameError\u001b[0m: name 'AandB' is not defined"
     ]
    }
   ],
   "source": [
    "# Extract the variables from the dataframe\n",
    "x1 = AandB.iloc[0].geometry.x\n",
    "y1 = AandB.iloc[0].geometry.y\n",
    "x2 = AandB.iloc[1].geometry.x\n",
    "y2 = AandB.iloc[1].geometry.y\n",
    "\n",
    "# Use Pythagorean Theorem\n",
    "dist = ((x2-x1)**2 + (y2-y1)**2)**0.5 \n",
    "print(\"The distance between the two points is\",round(dist),\"meters.\")"
   ]
  },
  {
   "cell_type": "markdown",
   "metadata": {
    "slideshow": {
     "slide_type": "slide"
    }
   },
   "source": [
    "Of course, this is such a common function that it's already coded into the system. "
   ]
  },
  {
   "cell_type": "code",
   "execution_count": 49,
   "metadata": {},
   "outputs": [
    {
     "data": {
      "text/plain": [
       "3111"
      ]
     },
     "execution_count": 49,
     "metadata": {},
     "output_type": "execute_result"
    }
   ],
   "source": [
    "dist2 = AandB.iloc[0].geometry.distance(AandB.iloc[1].geometry)\n",
    "round(dist2)"
   ]
  },
  {
   "cell_type": "markdown",
   "metadata": {
    "slideshow": {
     "slide_type": "slide"
    }
   },
   "source": [
    "Now let's try this with a bigger dataset in our Try-it #2 notebook. And we've included a bonus algorithm for calculating the area of polygons. \n",
    "\n",
    "Go to <a style=\"background-color:blue;color:white;font-weight:bold;\" href=\"try_it2_sma.ipynb\">Try it #2</a> now."
   ]
  }
 ],
 "metadata": {
  "celltoolbar": "Edit Metadata",
  "kernelspec": {
   "display_name": "Python 3",
   "language": "python",
   "name": "python3"
  },
  "language_info": {
   "codemirror_mode": {
    "name": "ipython",
    "version": 3
   },
   "file_extension": ".py",
   "mimetype": "text/x-python",
   "name": "python",
   "nbconvert_exporter": "python",
   "pygments_lexer": "ipython3",
   "version": "3.7.7"
  },
  "rise": {
   "autolaunch": true,
   "overlay": "<div class='hciheader'></div><div class='hcifooter'></div>",
   "scroll": true
  }
 },
 "nbformat": 4,
 "nbformat_minor": 4
}
