{
 "cells": [
  {
   "cell_type": "markdown",
   "metadata": {
    "hide_input": true,
    "slideshow": {
     "slide_type": "slide"
    }
   },
   "source": [
    "## Introduction to Spatial Modeling and Analytics\n",
    "### Part 1 of 4\n",
    "# What are\n",
    "# Spatial Modeling and \n",
    "# Spatial Analytics?"
   ]
  },
  {
   "cell_type": "markdown",
   "metadata": {
    "slideshow": {
     "slide_type": "slide"
    }
   },
   "source": [
    "## Thank you for helping our study\n",
    "\n",
    "\n",
    "<a href=\"#/slide-1-0\" class=\"navigate-right\" style=\"background-color:blue;color:white;padding:8px;margin:2px;font-weight:bold;\">Continue with the lesson</a>\n",
    "\n",
    "Throughout this lesson you will see reminders, like the one below, to ensure that all participants understand that they are in a voluntary research study.\n",
    "\n",
    "### Reminder\n",
    "\n",
    "<font size=\"+1\">\n",
    "\n",
    "By continuing with this lesson you are granting your permission to take part in this research study for the Hour of Cyberinfrastructure: Developing Cyber Literacy for GIScience project. In this study, you will be learning about cyberinfrastructure and related concepts using a web-based platform that will take approximately one hour per lesson. Participation in this study is voluntary.\n",
    "\n",
    "Participants in this research must be 18 years or older. If you are under the age of 18 then please exit this webpage or navigate to another website such as the Hour of Code at https://hourofcode.com, which is designed for K-12 students.\n",
    "\n",
    "If you are not interested in participating please exit the browser or navigate to this website: http://www.umn.edu. Your participation is voluntary and you are free to stop the lesson at any time.\n",
    "\n",
    "For the full description please navigate to this website: <a href=\"../../gateway-lesson/gateway/gateway-1.ipynb\">Gateway Lesson Research Study Permission</a>.\n",
    "\n",
    "</font>"
   ]
  },
  {
   "cell_type": "code",
   "execution_count": 2,
   "metadata": {
    "hide_input": true,
    "init_cell": true,
    "slideshow": {
     "slide_type": "skip"
    },
    "tags": [
     "Hide"
    ]
   },
   "outputs": [
    {
     "data": {
      "text/html": [
       " \n",
       "    <script type=\"text/javascript\" src=\"../../supplementary/js/custom.js\"></script>\n",
       "    \n",
       "    <style>\n",
       "        .output_prompt{opacity:0;}\n",
       "    </style>\n",
       "    \n",
       "    <input id=\"toggle_code\" type=\"button\" value=\"Toggle raw code\">\n"
      ],
      "text/plain": [
       "<IPython.core.display.HTML object>"
      ]
     },
     "execution_count": 2,
     "metadata": {},
     "output_type": "execute_result"
    }
   ],
   "source": [
    "# This code cell starts the necessary setup for Hour of CI lesson notebooks.\n",
    "# First, it enables users to hide and unhide code by producing a 'Toggle raw code' button below.\n",
    "# Second, it imports the hourofci package, which is necessary for lessons and interactive Jupyter Widgets.\n",
    "# Third, it helps hide/control other aspects of Jupyter Notebooks to improve the user experience\n",
    "# This is an initialization cell\n",
    "# It is not displayed because the Slide Type is 'Skip'\n",
    "\n",
    "from IPython.display import HTML, IFrame, Javascript, display\n",
    "from ipywidgets import interactive\n",
    "import ipywidgets as widgets\n",
    "from ipywidgets import Layout\n",
    "\n",
    "import getpass # This library allows us to get the username (User agent string)\n",
    "\n",
    "# import package for hourofci project\n",
    "import sys\n",
    "sys.path.append('../../supplementary') # relative path (may change depending on the location of the lesson notebook)\n",
    "import hourofci\n",
    "\n",
    "import warnings\n",
    "warnings.filterwarnings('ignore') # Hide warnings\n",
    "\n",
    "# load javascript to initialize/hide cells, get user agent string, and hide output indicator\n",
    "# hide code by introducing a toggle button \"Toggle raw code\"\n",
    "# HTML(''' \n",
    "#     <script type=\"text/javascript\" src=\\\"../../supplementary/js/custom.js\\\"></script>\n",
    "    \n",
    "#     <input id=\"toggle_code\" type=\"button\" value=\"Toggle raw code\">\n",
    "# ''')\n",
    "\n",
    "HTML(''' \n",
    "    <script type=\"text/javascript\" src=\\\"../../supplementary/js/custom.js\\\"></script>\n",
    "    \n",
    "    <style>\n",
    "        .output_prompt{opacity:0;}\n",
    "    </style>\n",
    "    \n",
    "    <input id=\"toggle_code\" type=\"button\" value=\"Toggle raw code\">\n",
    "''')\n"
   ]
  },
  {
   "cell_type": "markdown",
   "metadata": {
    "slideshow": {
     "slide_type": "slide"
    }
   },
   "source": [
    "When you have successfully completed this lesson, you will be able to:<br>\n",
    "1. Distinguish between spatial modeling and spatial analytics.\n",
    "\n",
    "2. Describe how spatial modeling and analytics can be used to solve an everyday problem.\n",
    "\n",
    "3. State the First Law of Geography.\n",
    "\n",
    "4. List some kinds of results that might be generated by spatial modeling and analytics. \n",
    "\n",
    "5. Run Python code to execute simple spatial modeling and analytics tasks."
   ]
  },
  {
   "cell_type": "markdown",
   "metadata": {
    "slideshow": {
     "slide_type": "slide"
    }
   },
   "source": [
    "Data Analytics and its related profession Data Science are hot emerging careers. Hundreds of recent articles touting the glories of this career can be found with a quick Google search. Here’s a few: <br>\n",
    "- <a href=\"https://www.northeastern.edu/graduate/blog/data-science-careers-shaping-our-future/\">11 Data Science Careers Shaping Our Future</a>\n",
    "- <a href=\"https://www.noodle.com/articles/data-science-jobs-whos-hiring-how-much-do-they-pay\">Data Science Jobs: Who's Hiring + How Much Do They Pay?</a>\n",
    "- <a href=\"https://www.amazon.jobs/en/job_categories/data-science\">From Amazon: Data Science | Amazon.jobs</a>\n",
    "- <a href=\"https://www.linkedin.com/jobs/data-scientist-jobs\">From LinkedIn: 31,000+ Data Scientist jobs in United States</a>\n",
    "\n",
    "<c>Good news! Spatial Analytics and its related profession Spatial Data Science are just as hot!\n",
    "But what do spatial data scientists do? Read on! "
   ]
  },
  {
   "cell_type": "markdown",
   "metadata": {
    "slideshow": {
     "slide_type": "slide"
    }
   },
   "source": [
    "This lesson is called Spatial Modeling AND Analytics. Why does it need two words to describe this topic?\n",
    "\n",
    "They are related but distinct. Here’s some formal definitions:\n",
    "    \n",
    "- Spatial Analytics focus on statistical summaries and geometric analysis.\n",
    "- Spatial Modeling is used for prediction and understanding spatial behavior. \n",
    "\n",
    "Data Science has similar variation within it - check out the variants of Data Science in the articles listed a couple of slides ago. "
   ]
  },
  {
   "cell_type": "markdown",
   "metadata": {
    "slideshow": {
     "slide_type": "slide"
    }
   },
   "source": [
    "<center>However, in Geospatial Science these two are often intertwined and treated together.<p>\n",
    "<center>The key thing here is “Spatial”</p>\n",
    "\n",
    "\n",
    "## Spatial is Special!\n",
    "\n"
   ]
  },
  {
   "cell_type": "markdown",
   "metadata": {
    "slideshow": {
     "slide_type": "slide"
    }
   },
   "source": [
    "## Spatial analytics help us discover spatial patterns\n",
    "\n",
    "Consider the table below. Each row includes a location (x and y) and some attributes. It is very hard to tell by looking at this table if there's anything going on spatially.\n",
    "\n",
    "<img src='supplementary/sma2-5a.png' alt='Spatial pattern table'>"
   ]
  },
  {
   "cell_type": "markdown",
   "metadata": {
    "slideshow": {
     "slide_type": "slide"
    }
   },
   "source": [
    "Now let's put these data on a grid. \n",
    "\n",
    "<img src='supplementary/sma2-5b.png' alt='Spatial pattern grid'>\n",
    "\n",
    "Wow, there's a clear pattern that wasn't visible in the table. "
   ]
  },
  {
   "cell_type": "markdown",
   "metadata": {
    "slideshow": {
     "slide_type": "slide"
    }
   },
   "source": [
    "Spatial patterns arise because of interactions between things distributed across the landscape. Let's see if there's any pattern in the distribution of coffee shops in Minneapolis. On the left is a table of coffee shop data extracted from <a href=\"https://www.openstreetmap.org/\">Open Street Map</a>, on the right the points are plotted on a grid. There does seem to be some spatial pattern - are they clustered in certain areas?\n",
    "\n",
    "<table>\n",
    "    <tr style=\"background: #fff\">   \n",
    "        <td><img src='supplementary/sma2-6a.png' alt='shops table'></td>\n",
    "         <td><img src='supplementary/sma2-6a2.png' alt='Shops grid'></td>\n",
    "    </tr>\n",
    "</table>"
   ]
  },
  {
   "cell_type": "markdown",
   "metadata": {
    "slideshow": {
     "slide_type": "slide"
    }
   },
   "source": [
    "Using the location data in the table (lat and long), we performed a statistical cluster analysis which identifies points that are closer together than would be expected in a random distribution. Ah ha! There are three clear clusters. Let's take a look at these on the landscape. "
   ]
  },
  {
   "cell_type": "markdown",
   "metadata": {
    "slideshow": {
     "slide_type": "slide"
    }
   },
   "source": [
    "<table>\n",
    "    <tr style=\"background: #fff\">   \n",
    "        <td>Here we've labeled the three clusters by the names of their neighborhoods. \n",
    "            \n",
    "Yes, it makes sense for there to be lots of coffee shops around the university and in downtown. And according to <a href='https://www.minneapolis.org/neighborhoods/south/lyndale-lake/'>Wikipedia</a>, Lyndale is a \"fun selection of indie stores, entertainment, bars and restaurants in the most walkable neighborhood in Minneapolis [that] makes for a pleasant day and night of indulgence\". Sounds like a coffee shop hot spot!\n",
    "\n",
    "Here we have two kinds of spatial interaction. Between the coffee shops - if one is successful, others will pop up (think Starbucks). We also have interaction between coffee shops and the landscape - certain areas have economic activity that is favorable to coffee shop businesses. </td>\n",
    "         <td width=50%><img src='supplementary/sma2-6balt.png' alt='Coffee Shops in Minneapolis'></td>\n",
    "    </tr>\n",
    "</table>"
   ]
  },
  {
   "cell_type": "markdown",
   "metadata": {
    "slideshow": {
     "slide_type": "slide"
    }
   },
   "source": [
    "Once we understand the underlying structure or behavior of a spatial phenomenon, we can describe it using a mathematical framework called spatial modeling. \n",
    "\n",
    "Here's an example of a spatial model. (Don't worry about understanding it, just enjoy!)\n",
    "\n",
    "<img src='supplementary/sma2-7.png' alt='Equation for spatially weighted regression' width=\"700\" height=\"500\">\n",
    "\n",
    "We can use this equation to predict the value of something in a place where we did not measure it. "
   ]
  },
  {
   "cell_type": "markdown",
   "metadata": {
    "slideshow": {
     "slide_type": "slide"
    }
   },
   "source": [
    "So, let’s start at the beginning with spatial analytics.\n",
    "\n",
    "One of the most basic questions asked with spatial analytics is \"what's near what?\" \n",
    "\n"
   ]
  },
  {
   "cell_type": "markdown",
   "metadata": {
    "slideshow": {
     "slide_type": "slide"
    }
   },
   "source": [
    "For example:\n",
    "\n",
    "- Where is the nearest coffee shop?\n",
    "- How many coffee shops are within 2 blocks of where I am?\n",
    "- What is the distance between that coffee shop and my favorite grocery store?\n",
    "- What is the shortest route between the coffee shop and the grocery store?\n",
    "- What is the average distance between all the coffee shops in downtown?\n",
    "\n",
    "All of these questions involve knowing the location of things and calculating the distance between them. "
   ]
  },
  {
   "cell_type": "markdown",
   "metadata": {
    "slideshow": {
     "slide_type": "slide"
    }
   },
   "source": [
    "Now let’s try a more advanced problem. \n",
    "\n",
    "On the next slide is a map of a city with a river flowing through it. The emergency management people are forecasting the\n",
    "river will flood and need to evacuate all people within 500m of the river. \n",
    "\n",
    "Using the tools, draw the area that you would target for evacuation."
   ]
  },
  {
   "cell_type": "code",
   "execution_count": 3,
   "metadata": {
    "hide_input": true,
    "scrolled": true,
    "slideshow": {
     "slide_type": "slide"
    },
    "tags": [
     "Init",
     "Hide"
    ]
   },
   "outputs": [
    {
     "data": {
      "text/html": [
       "<iframe src='supplementary/drawing.html', width=920, height=700, allowfullscreen></iframe>\n",
       "<style>.output_wrapper, .output {height:auto !important; max-height:800px;}</style>\n"
      ],
      "text/plain": [
       "<IPython.core.display.HTML object>"
      ]
     },
     "metadata": {},
     "output_type": "display_data"
    }
   ],
   "source": [
    "%%html\n",
    "<iframe src='supplementary/drawing.html', width=920, height=700, allowfullscreen></iframe>\n",
    "<style>.output_wrapper, .output {height:auto !important; max-height:800px;}</style>"
   ]
  },
  {
   "cell_type": "code",
   "execution_count": null,
   "metadata": {
    "slideshow": {
     "slide_type": "slide"
    }
   },
   "outputs": [],
   "source": [
    "import rasterio\n",
    "from rasterio import plot\n",
    "import geopandas as gpd\n",
    "from shapely.geometry import LineString, Point, Polygon\n",
    "import matplotlib.pyplot as plt\n",
    "from mpl_toolkits.axes_grid1 import make_axes_locatable\n",
    "from matplotlib_scalebar.scalebar import ScaleBar\n",
    "import utm\n",
    "\n",
    "mississipi = [[45.03826,-93.28277],   # river center line\n",
    "[45.0346,-93.2838],\n",
    "[45.02717,-93.28013],\n",
    "[45.02216,-93.27776],\n",
    "[45.01207,-93.27404],\n",
    "[45.00332,-93.27409],\n",
    "[44.99841,-93.27555],\n",
    "[44.99295,-93.27349],\n",
    "[44.98961,-93.26774]]\n",
    "\n",
    "mississipi = [utm.from_latlon(mississipi[i][0], mississipi[i][1]) for i in range(len(mississipi))]\n",
    "mississipi = [[mississipi[i][0], mississipi[i][1]] for i in range(len(mississipi))]\n",
    "\n",
    "# convert the coordinates to Polygon feature (vector data)\n",
    "mississipi_line = LineString(mississipi)\n",
    "river_centerline = gpd.GeoDataFrame([mississipi_line], geometry = [mississipi_line]) # create the river centerline\n",
    "raster = rasterio.open('supplementary/sma2_river.tif')# EPSG:32615 utm 15n -- Minneapolis meters e n\n",
    "fig, ax = plt.subplots(figsize=(17, 17))\n",
    "rasterio.plot.show(raster, ax=ax)\n",
    "# river_centerline.plot(ax=ax, facecolor='none', edgecolor='Red', linewidth=5)\n",
    "fig = ax.get_figure()\n",
    "ax.add_artist(ScaleBar(1)) # add scale bar to the map\n",
    "plt.savefig('supplementary/sma2_river_buffer.jpg', bbox_inches='tight', pad_inches=0)\n",
    "plt.close(fig) #don't plot the image yet\n",
    "raster = rasterio.open('supplementary/sma2_river.tif')\n",
    "fig, ax = plt.subplots(figsize=(13, 13))\n",
    "plot.show(raster, ax=ax)\n",
    "river_centerline.crs = 3174\n",
    "buffer = river_centerline.buffer(500) # a buffer of 500 m around the river center line\n",
    "bounding = Polygon([[475700,4986050],[481376,4986050],[481353,4983439],[475717,4983439]]) #base map extent\n",
    "\n",
    "# Cropp the buffer polygon to the base map extent\n",
    "cropped = buffer[0].intersection(bounding)\n",
    "cropped_buffer = gpd.GeoDataFrame([cropped], geometry = [cropped])\n",
    "\n",
    "cropped_buffer.plot(ax=ax, facecolor='none', edgecolor='red', linewidth=2.5)\n",
    "ax.add_artist(ScaleBar(1))\n",
    "# river_centerline.plot(ax=ax, facecolor='none', edgecolor='blue', linewidth=5)\n",
    "\n",
    "plt.show()\n"
   ]
  },
  {
   "cell_type": "code",
   "execution_count": 6,
   "metadata": {
    "hide_input": true,
    "slideshow": {
     "slide_type": "slide"
    },
    "tags": [
     "Hide",
     "Init",
     "2A"
    ]
   },
   "outputs": [
    {
     "name": "stdout",
     "output_type": "stream",
     "text": [
      "How did you figure this out?\n"
     ]
    },
    {
     "data": {
      "application/vnd.jupyter.widget-view+json": {
       "model_id": "43f6cec5f3f946d38df4553b76dc6df4",
       "version_major": 2,
       "version_minor": 0
      },
      "text/plain": [
       "Text(value='', placeholder='Type your answer here...')"
      ]
     },
     "metadata": {},
     "output_type": "display_data"
    },
    {
     "data": {
      "application/vnd.jupyter.widget-view+json": {
       "model_id": "c188458429f94d539cb8c6e90593d933",
       "version_major": 2,
       "version_minor": 0
      },
      "text/plain": [
       "Button(description='Submit', icon='check', layout=Layout(height='auto', width='auto'), style=ButtonStyle())"
      ]
     },
     "metadata": {},
     "output_type": "display_data"
    },
    {
     "data": {
      "application/vnd.jupyter.widget-view+json": {
       "model_id": "68910850c5ea4bd090b894ea481ad84e",
       "version_major": 2,
       "version_minor": 0
      },
      "text/plain": [
       "Output()"
      ]
     },
     "metadata": {},
     "output_type": "display_data"
    }
   ],
   "source": [
    "import sys\n",
    "sys.path.append('../../supplementary') # relative path (may change depending on the location of the lesson notebook)\n",
    "import hourofci\n",
    "from ipywidgets import interactive\n",
    "import ipywidgets as widgets\n",
    "from ipywidgets import Layout\n",
    "print('How did you figure this out?')\n",
    "text1 = widgets.Text(name='How did you figure this out?', placeholder='Type your answer here...')\n",
    "# Display widget\n",
    "display(text1)\n",
    "\n",
    "# Output function\n",
    "def out1():\n",
    "    print(\"Your answer is successfully submitted!\")\n",
    "    \n",
    "# Submit button\n",
    "hourofci.SubmitBtn(text1, out1)\n"
   ]
  },
  {
   "cell_type": "markdown",
   "metadata": {
    "slideshow": {
     "slide_type": "slide"
    }
   },
   "source": [
    "Most likely you said something about drawing a line parallel to the river about 500 m away from it. Many of you probably drew a band around the river. \n",
    "This is something really easy to do with a GIS. We’ll learn more about that soon.\n"
   ]
  },
  {
   "cell_type": "code",
   "execution_count": null,
   "metadata": {
    "slideshow": {
     "slide_type": "slide"
    }
   },
   "outputs": [],
   "source": [
    "import osmnx as ox \n",
    "\n",
    "place = \"Minneapolis, MN\"\n",
    "# tags = {\"building\": True}\n",
    "# Run --->> list(risky_buildings['building'].unique()) to get the type of all \n",
    "# enclosed buildings that are ['yes', 'shelter', 'garage', 'apartments', 'house', 'shed']\n",
    "tags = {'building':['yes', 'shelter', 'garage', 'apartments', 'house', 'shed']}\n",
    "buildings = ox.geometries_from_place(place, tags)\n",
    "# buildings = buildings.to_crs('epsg:3174')\n",
    "buildings = buildings.to_crs('epsg:32615')\n",
    "\n",
    "cropped_buffer.crs = 32615\n",
    "risky_buildings = gpd.overlay(cropped_buffer, buildings[buildings.geometry.type=='Polygon'], how='intersection')\n",
    "\n",
    "# Map 1\n",
    "raster = rasterio.open('supplementary/sma2_river.tif')\n",
    "fig, ax = plt.subplots(figsize=(13, 13))\n",
    "rasterio.plot.show(raster, ax=ax)\n",
    "\n",
    "risky_buildings.plot(ax = ax, figsize = (13,13))\n",
    "cropped_buffer.plot(ax=ax, facecolor='none', edgecolor='red', linewidth=2.5)\n",
    "\n",
    "plt.show()"
   ]
  },
  {
   "cell_type": "code",
   "execution_count": null,
   "metadata": {
    "slideshow": {
     "slide_type": "slide"
    }
   },
   "outputs": [],
   "source": [
    "# Map 2\n",
    "import folium\n",
    "risky_buildings = risky_buildings.to_crs(epsg='4326')\n",
    "cropped_buffer = cropped_buffer.to_crs(epsg='4326')\n",
    "m = folium.Map(location = [45.01594481203401, -93.276039169286], tiles='OpenStreetMap' , zoom_start = 14) # tiles=\"Stamen Toner\"\n",
    "\n",
    "for _, r in cropped_buffer.iterrows():\n",
    "    sim_geo = gpd.GeoSeries(r['geometry']) \n",
    "    geo_j = sim_geo.to_json()\n",
    "    geo_j = folium.GeoJson(data=geo_j, \n",
    "                           style_function = lambda x: {'color': 'blue', 'weight': 3, 'fill' : False })\n",
    "    geo_j.add_to(m)\n",
    "    \n",
    "for _, r in risky_buildings.iterrows():\n",
    "    sim_geo = gpd.GeoSeries(r['geometry'])  \n",
    "    geo_j = sim_geo.to_json()\n",
    "    geo_j = folium.GeoJson(data=geo_j, \n",
    "                           style_function = lambda x: {'color': 'red', 'weight': 1,  'fillColor': 'YlGnBu'})\n",
    "    folium.Popup(f\"<i>House Number: {r['addr:housenumber']}, Street: {r['addr:street']}, Postal Code: {r['addr:postcode']}</i>\" , min_width=100, max_width=200).add_to(geo_j)\n",
    "    folium.Tooltip(f\"click me!\").add_to(geo_j)\n",
    "    \n",
    "    geo_j.add_to(m)\n",
    "m"
   ]
  },
  {
   "cell_type": "markdown",
   "metadata": {
    "slideshow": {
     "slide_type": "slide"
    }
   },
   "source": [
    "## An example of spatial analytics - Political Redistricting\n",
    "\n",
    "\n",
    "In the US, after each decennial census, boundaries for electoral districts may be redrawn due to shifts in population distribution. This is intended to ensure that all the people within each electoral district are represented equitably at the next election.\n",
    "Determining new boundaries is NOT EASY! It is highly political and there are many possible solutions. \n",
    "Fortunately, spatial analytics does provide many important and impartial measures to assess equitability.\n",
    "Read on...\n"
   ]
  },
  {
   "cell_type": "markdown",
   "metadata": {
    "slideshow": {
     "slide_type": "slide"
    }
   },
   "source": [
    "There are many spatial/geometric criteria that are used to assess the equitability of proposed redistricting schemes, including:\n",
    "1. Compactness - can be measured by determining the ratio of the area of the proposed district shape to the area of a circle (the most compact shape) having the same perimeter.\n",
    "2. Contiguity - exists when a single region is not interrupted by other areas, e.g. the contiguous US does not include Alaska and Hawaii.\n",
    "3. Equal population - determined by adding up the individuals in each census reporting zone that falls within the proposed district boundary. \n",
    "4. preservation of existing political communities\n",
    "5. partisan fairness\n",
    "6. racial fairness\n"
   ]
  },
  {
   "cell_type": "markdown",
   "metadata": {
    "slideshow": {
     "slide_type": "slide"
    }
   },
   "source": [
    "Take a few minutes to try your hand at redistricting at Districtr, \"a free, public web tool for districting and community identification, brought to you by the MGGG Redistricting Lab\".\n",
    "\n",
    "Choose a state in the US, then try to draw 3 or 4 districts that have equal population. Then use the tabs and drop-downs to show how you did in equalizing other characteristics. \n",
    "\n",
    "Play for a few minutes, but be sure to come back here as we’ve got a lot more ground to cover!\n",
    "\n",
    "<a href=\"https://districtr.org/\">Districtr.org</a>"
   ]
  },
  {
   "cell_type": "markdown",
   "metadata": {
    "slideshow": {
     "slide_type": "slide"
    }
   },
   "source": [
    "## Spatial modeling examples\n",
    "\n",
    "\n",
    "Remember that spatial modeling is used to predict or understand spatial distributions.\n",
    "There are lots of great examples of spatial modeling. Spatial models are used to:\n",
    "\n",
    "- *Hydrologic modeling* - Determine where water will flow during a heavy rainfall to calculate how high the rivers will get and whether water will flood across the land.\n",
    "- *Transportation modeling* - Plan the routes of delivery vehicles on a street network to ensure that all the destinations are visited while traveling the overall shortest distance. \n",
    "- *Groundwater modeling* - Groundwater can only be measured in widely dispersed wells, so spatial interpolation (we'll learn about that next) along with laws of physics that determine how water moves through the ground are the framework of these spatial models."
   ]
  },
  {
   "cell_type": "markdown",
   "metadata": {
    "slideshow": {
     "slide_type": "slide"
    }
   },
   "source": [
    "OK, that’s the introduction. Now let’s see if you understand the difference between spatial modeling and spatial analytics. Remember that spatial analytics involves statistics and geometric calculations while spatial modeling\n",
    "is for understanding and prediction. \n",
    "The following are examples of spatial modeling and analytics. Which do you think each of these is?\n"
   ]
  },
  {
   "cell_type": "code",
   "execution_count": 3,
   "metadata": {
    "hide_input": true,
    "slideshow": {
     "slide_type": "-"
    },
    "tags": [
     "Hide",
     "Init",
     "2B"
    ]
   },
   "outputs": [
    {
     "data": {
      "application/vnd.jupyter.widget-view+json": {
       "model_id": "2b7c6b2128674dacb66959d8f6e42d11",
       "version_major": 2,
       "version_minor": 0
      },
      "text/plain": [
       "RadioButtons(description='A. You are in an urban area and want to find the nearest Starbucks store.', layout=L…"
      ]
     },
     "metadata": {},
     "output_type": "display_data"
    },
    {
     "data": {
      "application/vnd.jupyter.widget-view+json": {
       "model_id": "a30fafe734104b539b1127642c405333",
       "version_major": 2,
       "version_minor": 0
      },
      "text/plain": [
       "Button(description='Submit', icon='check', layout=Layout(height='auto', width='auto'), style=ButtonStyle())"
      ]
     },
     "metadata": {},
     "output_type": "display_data"
    },
    {
     "data": {
      "application/vnd.jupyter.widget-view+json": {
       "model_id": "56e89da47a1b4c2da1279e4f4c6454a7",
       "version_major": 2,
       "version_minor": 0
      },
      "text/plain": [
       "Output()"
      ]
     },
     "metadata": {},
     "output_type": "display_data"
    }
   ],
   "source": [
    "\n",
    "# Multiple choice question\n",
    "widget1 = widgets.RadioButtons(\n",
    "    options = ['Analytics', 'Modeling'],\n",
    "    description = 'A. You are in an urban area and want to find the nearest Starbucks store.', style={'description_width': 'initial'},\n",
    "    layout = Layout(width='100%'),\n",
    "    value = None\n",
    ")\n",
    "\n",
    "display(widget1)\n",
    "\n",
    "hourofci.SubmitBtn(widget1)\n"
   ]
  },
  {
   "cell_type": "code",
   "execution_count": 4,
   "metadata": {
    "hide_input": true,
    "slideshow": {
     "slide_type": "-"
    },
    "tags": [
     "Hide",
     "Init",
     "2C"
    ]
   },
   "outputs": [
    {
     "data": {
      "application/vnd.jupyter.widget-view+json": {
       "model_id": "c9678561c7ab40c296950cd4ee719696",
       "version_major": 2,
       "version_minor": 0
      },
      "text/plain": [
       "RadioButtons(description='B. You would like to know the shortest route to that Starbucks.', layout=Layout(widt…"
      ]
     },
     "metadata": {},
     "output_type": "display_data"
    },
    {
     "data": {
      "application/vnd.jupyter.widget-view+json": {
       "model_id": "91c8eb3db3614644afaa8a0408170b85",
       "version_major": 2,
       "version_minor": 0
      },
      "text/plain": [
       "Button(description='Submit', icon='check', layout=Layout(height='auto', width='auto'), style=ButtonStyle())"
      ]
     },
     "metadata": {},
     "output_type": "display_data"
    },
    {
     "data": {
      "application/vnd.jupyter.widget-view+json": {
       "model_id": "ff290af3662044f6835b175aa1d05337",
       "version_major": 2,
       "version_minor": 0
      },
      "text/plain": [
       "Output()"
      ]
     },
     "metadata": {},
     "output_type": "display_data"
    }
   ],
   "source": [
    "# Multiple choice question\n",
    "widget2 = widgets.RadioButtons(\n",
    "    options = ['Analytics', 'Modeling'],\n",
    "    description = 'B. You would like to know the shortest route to that Starbucks.', style={'description_width': 'initial'},\n",
    "    layout = Layout(width='100%'),\n",
    "    value = None\n",
    ")\n",
    "\n",
    "display(widget2)\n",
    "\n",
    "hourofci.SubmitBtn(widget2)\n",
    "\n"
   ]
  },
  {
   "cell_type": "code",
   "execution_count": 5,
   "metadata": {
    "hide_input": true,
    "slideshow": {
     "slide_type": "-"
    },
    "tags": [
     "Hide",
     "Init",
     "2D"
    ]
   },
   "outputs": [
    {
     "data": {
      "application/vnd.jupyter.widget-view+json": {
       "model_id": "dec38ee7ca8b4e6ba90c964726d26979",
       "version_major": 2,
       "version_minor": 0
      },
      "text/plain": [
       "RadioButtons(description='C. Given the distribution of existing Starbucks and of the daytime population of an …"
      ]
     },
     "metadata": {},
     "output_type": "display_data"
    },
    {
     "data": {
      "application/vnd.jupyter.widget-view+json": {
       "model_id": "8b16b39d2db84f948b1e8b8e51d81dfd",
       "version_major": 2,
       "version_minor": 0
      },
      "text/plain": [
       "Button(description='Submit', icon='check', layout=Layout(height='auto', width='auto'), style=ButtonStyle())"
      ]
     },
     "metadata": {},
     "output_type": "display_data"
    },
    {
     "data": {
      "application/vnd.jupyter.widget-view+json": {
       "model_id": "d2606ef01bff4e19bb86780d373963b1",
       "version_major": 2,
       "version_minor": 0
      },
      "text/plain": [
       "Output()"
      ]
     },
     "metadata": {},
     "output_type": "display_data"
    }
   ],
   "source": [
    "# Multiple choice question\n",
    "widget3 = widgets.RadioButtons(\n",
    "    options = ['Analytics', 'Modeling'],\n",
    "    description = '''C. Given the distribution of existing Starbucks and of the daytime population of an area and  <br> \n",
    "    information about traffic congestion on various streets, choose the best location to build a new Starbucks.''', style={'description_width': 'initial'},\n",
    "    layout = Layout(width='200%'),\n",
    "    value = None\n",
    ")\n",
    "\n",
    "display(widget3)\n",
    "\n",
    "hourofci.SubmitBtn(widget3)\n",
    "\n"
   ]
  },
  {
   "cell_type": "markdown",
   "metadata": {
    "slideshow": {
     "slide_type": "slide"
    }
   },
   "source": [
    "Good, now let’s get started by learning the most important principle in spatial modeling and analytics:\n",
    "\n",
    "## The First Law of Geography\n",
    "\n",
    "\n",
    "<font size=\"+1\"><a style=\"background-color:blue;color:white;padding:12px;margin:10px;font-weight:bold;\" href=\"sma-3.ipynb\">Click here to go to the next notebook.</a></font>"
   ]
  }
 ],
 "metadata": {
  "celltoolbar": "Tags",
  "kernelspec": {
   "display_name": "Python 3 (ipykernel)",
   "language": "python",
   "name": "python3"
  },
  "language_info": {
   "codemirror_mode": {
    "name": "ipython",
    "version": 3
   },
   "file_extension": ".py",
   "mimetype": "text/x-python",
   "name": "python",
   "nbconvert_exporter": "python",
   "pygments_lexer": "ipython3",
   "version": "3.9.5"
  },
  "rise": {
   "autolaunch": true,
   "overlay": "<div class='hciheader'></div><div class='hcifooter'></div>",
   "scroll": true
  }
 },
 "nbformat": 4,
 "nbformat_minor": 4
}
