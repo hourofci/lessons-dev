{
 "cells": [
  {
   "cell_type": "markdown",
   "metadata": {
    "slideshow": {
     "slide_type": "slide"
    }
   },
   "source": [
    "## Spatial Modeling and Analytics\n",
    "\n",
    "### Part 2 of 4\n",
    "# Why does spatial analysis work?\n",
    "       \n",
    "### Tobler’s First Law of Geography and \n",
    "### Spatial Autocorrelation"
   ]
  },
  {
   "cell_type": "markdown",
   "metadata": {
    "slideshow": {
     "slide_type": "slide"
    }
   },
   "source": [
    "## Reminder\n",
    "<a href=\"#/slide-2-0\" class=\"navigate-right\" style=\"background-color:blue;color:white;padding:8px;margin:2px;font-weight:bold;\">Continue with the lesson</a>\n",
    "\n",
    "<br>\n",
    "</br>\n",
    "<font size=\"+1\">\n",
    "\n",
    "By continuing with this lesson you are granting your permission to take part in this research study for the Hour of Cyberinfrastructure: Developing Cyber Literacy for GIScience project. In this study, you will be learning about cyberinfrastructure and related concepts using a web-based platform that will take approximately one hour per lesson. Participation in this study is voluntary.\n",
    "\n",
    "Participants in this research must be 18 years or older. If you are under the age of 18 then please exit this webpage or navigate to another website such as the Hour of Code at https://hourofcode.com, which is designed for K-12 students.\n",
    "\n",
    "If you are not interested in participating please exit the browser or navigate to this website: http://www.umn.edu. Your participation is voluntary and you are free to stop the lesson at any time.\n",
    "\n",
    "For the full description please navigate to this website: <a href=\"../../gateway-lesson/gateway/gateway-1.ipynb\">Gateway Lesson Research Study Permission</a>.\n",
    "\n",
    "</font>"
   ]
  },
  {
   "cell_type": "code",
   "execution_count": 8,
   "metadata": {
    "hide_input": false,
    "init_cell": true,
    "slideshow": {
     "slide_type": "skip"
    },
    "tags": [
     "Hide"
    ]
   },
   "outputs": [
    {
     "data": {
      "text/html": [
       " \n",
       "    <script type=\"text/javascript\" src=\"../../supplementary/js/custom.js\"></script>\n",
       "    \n",
       "    <style>\n",
       "        .output_prompt{opacity:0;}\n",
       "    </style>\n",
       "    \n",
       "    <input id=\"toggle_code\" type=\"button\" value=\"Toggle raw code\">\n"
      ],
      "text/plain": [
       "<IPython.core.display.HTML object>"
      ]
     },
     "execution_count": 8,
     "metadata": {},
     "output_type": "execute_result"
    }
   ],
   "source": [
    "# This code cell starts the necessary setup for Hour of CI lesson notebooks.\n",
    "# First, it enables users to hide and unhide code by producing a 'Toggle raw code' button below.\n",
    "# Second, it imports the hourofci package, which is necessary for lessons and interactive Jupyter Widgets.\n",
    "# Third, it helps hide/control other aspects of Jupyter Notebooks to improve the user experience\n",
    "# This is an initialization cell\n",
    "# It is not displayed because the Slide Type is 'Skip'\n",
    "\n",
    "from IPython.display import HTML, IFrame, Javascript, display\n",
    "from ipywidgets import interactive\n",
    "import ipywidgets as widgets\n",
    "from ipywidgets import Layout\n",
    "\n",
    "import getpass # This library allows us to get the username (User agent string)\n",
    "\n",
    "# import package for hourofci project\n",
    "import sys\n",
    "sys.path.append('../../supplementary') # relative path (may change depending on the location of the lesson notebook)\n",
    "import hourofci\n",
    "\n",
    "\n",
    "# load javascript to initialize/hide cells, get user agent string, and hide output indicator\n",
    "# hide code by introducing a toggle button \"Toggle raw code\"\n",
    "HTML(''' \n",
    "    <script type=\"text/javascript\" src=\\\"../../supplementary/js/custom.js\\\"></script>\n",
    "    \n",
    "    <style>\n",
    "        .output_prompt{opacity:0;}\n",
    "    </style>\n",
    "    \n",
    "    <input id=\"toggle_code\" type=\"button\" value=\"Toggle raw code\">\n",
    "''')"
   ]
  },
  {
   "cell_type": "markdown",
   "metadata": {
    "slideshow": {
     "slide_type": "slide"
    }
   },
   "source": [
    "Buried in a 1970 scholarly article on spatial modeling in *Economic Geography*, full of statistical equations, greek letters and \n",
    "subscripts, the late, famous Professor Waldo Tobler, then at the University of Michigan, came up with a blindingly simple way to justify his argument: \n",
    "\n",
    "#### *‘‘I invoke the first law of geography: everything is related to everything else, but near things are more related than distant things’’*\n",
    "\n",
    "<br>\n",
    "<br>\n",
    "<small>Tobler W., (1970) \"A computer movie simulating urban growth in the Detroit region\". *Economic Geography*, 46(Supplement): 234–240."
   ]
  },
  {
   "cell_type": "markdown",
   "metadata": {
    "slideshow": {
     "slide_type": "slide"
    }
   },
   "source": [
    "## Think about it...\n",
    "\n",
    "In a city, are there ethnic areas where there are many restaurants and shops selling similar kinds of food? Is the income of people living in the high rises in the city center different from that of people living in the suburbs?\n",
    "\n",
    "If the air quality is poor where you are, is it likely to be different 1 km away, 10 km away or 200 km away?\n",
    "\n",
    "Imagine you are a gold prospector in California in 1850. Would your chances of finding gold be greater on a plot right next to where someone else has found gold, or on a plot two valleys away where it has not yet been found?"
   ]
  },
  {
   "cell_type": "markdown",
   "metadata": {
    "slideshow": {
     "slide_type": "slide"
    }
   },
   "source": [
    "Elevation is the classic illustration of Tobler’s First Law (often abbreviated as TFL). \n",
    "\n",
    "Consider the graphic below showing point elevations on a small section of landscape.\n",
    "\n",
    "On the landscape, places closer to one another generally have similar elevation. \n",
    "\n",
    "Elevations at places far apart tend to be less similar.\n",
    "\n",
    "<img src='supplementary/sma3-3sm.png' alt='elevations'>"
   ]
  },
  {
   "cell_type": "markdown",
   "metadata": {
    "slideshow": {
     "slide_type": "slide"
    }
   },
   "source": [
    "In spatial analytics we often want to know the strength of the relationship between values at nearby points. \n",
    "\n",
    "Traditional statistics gives us the tools to measure this through correlation analysis.\n",
    "\n",
    "Correlation analysis is a general method of statistical evaluation used to study the strength of a relationship between two variables. This particular type of analysis is useful when a researcher wants to establish if there are possible connections between variables. \n",
    "<img src='supplementary/sma3-8.jpg' alt='correlation' width = 600>"
   ]
  },
  {
   "cell_type": "markdown",
   "metadata": {
    "slideshow": {
     "slide_type": "slide"
    }
   },
   "source": [
    "Here is an example using real data of the relationship between occurences of the disease *brucellosis* and various attributes of the locations in which incidents of the disease were recorded. Lots of strong positive and negative correlation here.\n",
    "\n",
    "<img src='supplementary/sma3-test.png' alt='correlation' width = 600>\n",
    "\n",
    "<small>Ahmadkhani, Mohsen, and Alesheikh, Ali Asghar. \"Space-time analysis of human brucellosis considering environmental factors in Iran.\" Asian Pacific J Trop Dis 7.5 (2017): 257-65."
   ]
  },
  {
   "cell_type": "markdown",
   "metadata": {
    "slideshow": {
     "slide_type": "slide"
    }
   },
   "source": [
    "For those who want to see an equation for calculating a correlation coefficient, here you go! \n",
    "\n",
    "<span style=\"color:red\">Everyone else, feel free to go to the next slide</span> \n",
    "\n",
    "<img src='supplementary/sma3-7.png' alt='HK topo map' width=\"500\">\n",
    "\n",
    "<small>rxy = Pearson r correlation coefficient between x and y<br>\n",
    "n = number of observations<br>\n",
    "xi = value of x (for ith observation)<br>\n",
    "yi = value of y (for ith observation)<br>"
   ]
  },
  {
   "cell_type": "markdown",
   "metadata": {
    "slideshow": {
     "slide_type": "slide"
    }
   },
   "source": [
    "When we take correlation into the spatial context to demonstrate TFL, we are concerned about the correlation between the value of a single variable at different locations. How similar are the values at different locations?\n",
    "\n",
    "Thus we measure\n",
    "\n",
    "<center>Spatial <i>auto</i>correlation (auto = self)</center></p>\n",
    "\n",
    "<br>\n",
    "<br>\n",
    "<small>The math for this is way beyond a beginner lesson. Here’s <a href=\"https://gistbok.ucgis.org/bok-topics/global-measures-spatial-association\">a link</a> and <a href=\"https://gistbok.ucgis.org/bok-topics/local-measures-spatial-association\">another</a> if you must know."
   ]
  },
  {
   "cell_type": "markdown",
   "metadata": {
    "slideshow": {
     "slide_type": "slide"
    }
   },
   "source": [
    "When nearby observations have similar values, the map shows  <span style=\"color:red\">positive</span>\n",
    "spatial autocorrelation. \n",
    "\n",
    "When nearby observations tend to have very contrasting values then the map shows  <span style=\"color:red\">negative</span> spatial autocorrelation. \n",
    "\n",
    "Think of it like this:\n",
    "\n",
    "### Strong positive spatial autocorrelation is an illustration of TFL\n"
   ]
  },
  {
   "cell_type": "markdown",
   "metadata": {
    "slideshow": {
     "slide_type": "slide"
    }
   },
   "source": [
    "## Why is spatial autocorrelation so important?\n",
    "\n",
    "When something displays strong spatial autocorrelation (like elevation), then we can do spatial modeling! \n",
    "\n",
    "By knowing the elevation at some points and knowing that elevation is strongly spatially autocorrelated, we can calculate the elevation at any location between them.\n",
    "\n",
    "Using this knowledge is the process of <b>Spatial Interpolation."
   ]
  },
  {
   "cell_type": "markdown",
   "metadata": {
    "slideshow": {
     "slide_type": "slide"
    }
   },
   "source": [
    "## Why is spatial interpolation important?\n",
    "\n",
    "Fortunately, you don’t have to measure things like air pollution, temperature, ozone level, or air pressure everywhere to be able to map its value over large areas. Air temperature is typically measured at only a few points (often airports) but we often see maps like this showing the temperature across the landscape. \n",
    "\n",
    "<img src='supplementary/sma3-14.png' alt='correlation' width = 500>"
   ]
  },
  {
   "cell_type": "markdown",
   "metadata": {
    "slideshow": {
     "slide_type": "slide"
    }
   },
   "source": [
    "## Statistically speaking, spatial autocorrelation is REALLY important!\n",
    "\n",
    "Strong spatial autocorrelation is usually taken to indicate that there is something of interest in the mapped distribution of values. This is particularly important in data like census or disease counts that is mapped over regions like counties or states. If we see (or measure) strong spatial autocorrelation between counties with high disease counts, that likely means there’s something going on that is causing a hot spot. \n",
    "\n",
    "Also, the presence of strong spatial autocorrelation (either positive or negative) implies information redundancy (i.e. you don’t need all your data points to capture the distribution). This has really important implications for a lot of traditional statistical analyses - in fact the existence of spatial autocorrelation invalidates the results of many traditional statistical analysis methods!\n",
    "\n",
    "If you want to dive deep into this - <a href='https://gistbok.ucgis.org/bok-topics/spatial-autocorrelation'>here’s a great source</a>. Or just store that thought in your brain until you see someone doing traditional statistics on spatial data."
   ]
  },
  {
   "cell_type": "code",
   "execution_count": 3,
   "metadata": {
    "hide_input": true,
    "slideshow": {
     "slide_type": "slide"
    },
    "tags": [
     "Hide",
     "Init",
     "3A"
    ]
   },
   "outputs": [
    {
     "name": "stdout",
     "output_type": "stream",
     "text": [
      "Which of these following situations demonstrate Tobler’s First Law of Geography?\n"
     ]
    },
    {
     "data": {
      "application/vnd.jupyter.widget-view+json": {
       "model_id": "01a27ec191aa42e294adb1c9002e471c",
       "version_major": 2,
       "version_minor": 0
      },
      "text/plain": [
       "RadioButtons(description='A. Soil types are similar within 10 feet of a soil pit.', layout=Layout(width='100%'…"
      ]
     },
     "metadata": {},
     "output_type": "display_data"
    },
    {
     "data": {
      "application/vnd.jupyter.widget-view+json": {
       "model_id": "89d1ff7eca624401bb218284a4043d7b",
       "version_major": 2,
       "version_minor": 0
      },
      "text/plain": [
       "Button(description='Submit', icon='check', layout=Layout(height='auto', width='auto'), style=ButtonStyle())"
      ]
     },
     "metadata": {},
     "output_type": "display_data"
    },
    {
     "data": {
      "application/vnd.jupyter.widget-view+json": {
       "model_id": "22459e056c7b4dbf8500f51b573a6fd0",
       "version_major": 2,
       "version_minor": 0
      },
      "text/plain": [
       "Output()"
      ]
     },
     "metadata": {},
     "output_type": "display_data"
    }
   ],
   "source": [
    "import sys\n",
    "sys.path.append('../../supplementary') # relative path (may change depending on the location of the lesson notebook)\n",
    "import hourofci\n",
    "from ipywidgets import interactive\n",
    "import ipywidgets as widgets\n",
    "from ipywidgets import Layout\n",
    "print('Which of these following situations demonstrate Tobler’s First Law of Geography?')\n",
    "# Multiple choice question\n",
    "widget1 = widgets.RadioButtons(\n",
    "    options = ['No', 'Yes'],\n",
    "    description = 'A. Soil types are similar within 10 feet of a soil pit.', style={'description_width': 'initial'},\n",
    "    layout = Layout(width='100%'),\n",
    "    value = None\n",
    ")\n",
    "\n",
    "display(widget1)\n",
    "\n",
    "hourofci.SubmitBtn(widget1)\n",
    "\n",
    "\n"
   ]
  },
  {
   "cell_type": "code",
   "execution_count": 4,
   "metadata": {
    "hide_input": true,
    "slideshow": {
     "slide_type": "-"
    },
    "tags": [
     "Hide",
     "Init",
     "3B"
    ]
   },
   "outputs": [
    {
     "data": {
      "application/vnd.jupyter.widget-view+json": {
       "model_id": "374e54c6593244b9b96c57cbe42e356e",
       "version_major": 2,
       "version_minor": 0
      },
      "text/plain": [
       "RadioButtons(description='B. Cookies on the shelf in the grocery store near where your favorite cookie is foun…"
      ]
     },
     "metadata": {},
     "output_type": "display_data"
    },
    {
     "data": {
      "application/vnd.jupyter.widget-view+json": {
       "model_id": "bde938ae6a894b2d9bf1775db66dfdd2",
       "version_major": 2,
       "version_minor": 0
      },
      "text/plain": [
       "Button(description='Submit', icon='check', layout=Layout(height='auto', width='auto'), style=ButtonStyle())"
      ]
     },
     "metadata": {},
     "output_type": "display_data"
    },
    {
     "data": {
      "application/vnd.jupyter.widget-view+json": {
       "model_id": "50913333f0dd4b6ca0626eaa1b65e582",
       "version_major": 2,
       "version_minor": 0
      },
      "text/plain": [
       "Output()"
      ]
     },
     "metadata": {},
     "output_type": "display_data"
    }
   ],
   "source": [
    "\n",
    "# Multiple choice question\n",
    "widget2 = widgets.RadioButtons(\n",
    "    options = ['No', 'Yes'],\n",
    "    description = 'B. Cookies on the shelf in the grocery store near where your favorite cookie is found will also be delicious.', style={'description_width': 'initial'},\n",
    "    layout = Layout(width='100%'),\n",
    "    value = None\n",
    ")\n",
    "\n",
    "display(widget2)\n",
    "\n",
    "hourofci.SubmitBtn(widget2)\n",
    "\n"
   ]
  },
  {
   "cell_type": "code",
   "execution_count": 5,
   "metadata": {
    "hide_input": true,
    "slideshow": {
     "slide_type": "-"
    },
    "tags": [
     "Hide",
     "Init",
     "3C"
    ]
   },
   "outputs": [
    {
     "data": {
      "application/vnd.jupyter.widget-view+json": {
       "model_id": "975efd00482e4c398960b47085e53903",
       "version_major": 2,
       "version_minor": 0
      },
      "text/plain": [
       "RadioButtons(description='C. Families in neighborhoods tend to have similar demographic characteristics.', lay…"
      ]
     },
     "metadata": {},
     "output_type": "display_data"
    },
    {
     "data": {
      "application/vnd.jupyter.widget-view+json": {
       "model_id": "c4a6817186b34cbdab5e780f0e8a8429",
       "version_major": 2,
       "version_minor": 0
      },
      "text/plain": [
       "Button(description='Submit', icon='check', layout=Layout(height='auto', width='auto'), style=ButtonStyle())"
      ]
     },
     "metadata": {},
     "output_type": "display_data"
    },
    {
     "data": {
      "application/vnd.jupyter.widget-view+json": {
       "model_id": "304844832fd84accb5e628e22cdeeddf",
       "version_major": 2,
       "version_minor": 0
      },
      "text/plain": [
       "Output()"
      ]
     },
     "metadata": {},
     "output_type": "display_data"
    }
   ],
   "source": [
    "\n",
    "# Multiple choice question\n",
    "widget3 = widgets.RadioButtons(\n",
    "    options = ['No', 'Yes'],\n",
    "    description = 'C. Families in neighborhoods tend to have similar demographic characteristics.', style={'description_width': 'initial'},\n",
    "    layout = Layout(width='100%'),\n",
    "    value = None\n",
    ")\n",
    "\n",
    "display(widget3)\n",
    "\n",
    "hourofci.SubmitBtn(widget3)\n"
   ]
  },
  {
   "cell_type": "markdown",
   "metadata": {
    "slideshow": {
     "slide_type": "slide"
    }
   },
   "source": [
    "If you want to read more about Tobler's First Law, here are some interesting reads\n",
    "\n",
    "- Miller, H.J. (2004), Tobler's First Law and Spatial Analysis. Annals of the Association of American Geographers, 94: 284-289. https://doi.org/10.1111/j.1467-8306.2004.09402005.x\n",
    "\n",
    "- Daniel Z. Sui (2004) Tobler's First Law of Geography: A Big Idea for a Small World?, Annals of the Association of American Geographers, 94:2, 269-277, DOI: 10.1111/j.1467-8306.2004.09402003.x"
   ]
  },
  {
   "cell_type": "markdown",
   "metadata": {
    "slideshow": {
     "slide_type": "slide"
    }
   },
   "source": [
    "OK, let’s try running some code chunks to illustrate TFL and spatial autocorrelation.\n",
    "\n",
    "<font size=\"+1\"><a style=\"background-color:blue;color:white;padding:12px;margin:10px;font-weight:bold;\" \n",
    "href=\"try_it1_sma.ipynb\">Click here to go to Try it #1.</a></font>"
   ]
  }
 ],
 "metadata": {
  "celltoolbar": "Edit Metadata",
  "kernelspec": {
   "display_name": "Python 3 (ipykernel)",
   "language": "python",
   "name": "python3"
  },
  "language_info": {
   "codemirror_mode": {
    "name": "ipython",
    "version": 3
   },
   "file_extension": ".py",
   "mimetype": "text/x-python",
   "name": "python",
   "nbconvert_exporter": "python",
   "pygments_lexer": "ipython3",
   "version": "3.9.5"
  },
  "rise": {
   "autolaunch": true,
   "overlay": "<div class='hciheader'></div><div class='hcifooter'></div>",
   "scroll": true
  }
 },
 "nbformat": 4,
 "nbformat_minor": 4
}
