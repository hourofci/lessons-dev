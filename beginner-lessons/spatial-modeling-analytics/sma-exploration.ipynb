{
 "cells": [
  {
   "cell_type": "markdown",
   "id": "bbb9debd",
   "metadata": {
    "slideshow": {
     "slide_type": "slide"
    }
   },
   "source": [
    "## Spatial Modeling and Analytics\n",
    "### Exploration\n",
    "# A Simple Site Selection Example"
   ]
  },
  {
   "cell_type": "markdown",
   "id": "dfe11edf",
   "metadata": {
    "slideshow": {
     "slide_type": "slide"
    }
   },
   "source": [
    "## Reminder\n",
    "<a href=\"#/slide-2-0\" class=\"navigate-right\" style=\"background-color:blue;color:white;padding:8px;margin:2px;font-weight:bold;\">Continue with the lesson</a>\n",
    "\n",
    "<br>\n",
    "</br>\n",
    "<font size=\"+1\">\n",
    "\n",
    "By continuing with this lesson you are granting your permission to take part in this research study for the Hour of Cyberinfrastructure: Developing Cyber Literacy for GIScience project. In this study, you will be learning about cyberinfrastructure and related concepts using a web-based platform that will take approximately one hour per lesson. Participation in this study is voluntary.\n",
    "\n",
    "Participants in this research must be 18 years or older. If you are under the age of 18 then please exit this webpage or navigate to another website such as the Hour of Code at https://hourofcode.com, which is designed for K-12 students.\n",
    "\n",
    "If you are not interested in participating please exit the browser or navigate to this website: http://www.umn.edu. Your participation is voluntary and you are free to stop the lesson at any time.\n",
    "\n",
    "For the full description please navigate to this website: <a href=\"../../gateway-lesson/gateway/gateway-1.ipynb\">Gateway Lesson Research Study Permission</a>.\n",
    "\n",
    "</font>"
   ]
  },
  {
   "cell_type": "markdown",
   "id": "scenic-clone",
   "metadata": {
    "slideshow": {
     "slide_type": "slide"
    }
   },
   "source": [
    "# Let's Create a Basic Site Suitability Model\n",
    "\n",
    "## Goal: \n",
    "Find buildings in a city that are suitable candidates for a new coffee shop business.\n",
    "\n",
    "## Criteria:\n",
    "The candidate buildings should be:\n",
    "1. A building type of commercial, retail, or office building\n",
    "1. At least 400 meters from other coffee shops\n",
    "1. Close to a bikepath\n",
    "1. Close to a cinema\n",
    "\n",
    "## The process:\n",
    "1. Determine the criteria (done!)\n",
    "1. Get data\n",
    "1. Create buffers\n",
    "1. Assign weights\n",
    "1. Intersect and sum values\n",
    "\n",
    "The result is a map showing the site suitability values. Suitability is indicated by the value - high values are highly suitable. "
   ]
  },
  {
   "cell_type": "markdown",
   "id": "sustained-burner",
   "metadata": {
    "slideshow": {
     "slide_type": "slide"
    }
   },
   "source": [
    "# Get the data\n",
    "First, as usual, we need to import the appropriate python packages, with `osmnx` being the most important one since this is where our data come from."
   ]
  },
  {
   "cell_type": "code",
   "execution_count": null,
   "id": "drawn-sample",
   "metadata": {
    "slideshow": {
     "slide_type": "fragment"
    }
   },
   "outputs": [],
   "source": [
    "from IPython import get_ipython\n",
    "import osmnx as ox \n",
    "import pandas as pd\n",
    "import geopandas as gpd\n",
    "import folium\n",
    "import matplotlib.pyplot as plt\n",
    "get_ipython().run_line_magic('matplotlib', 'inline')\n",
    "#Tells jupyter to plot matplotlib figures inline\n"
   ]
  },
  {
   "cell_type": "markdown",
   "id": "obvious-childhood",
   "metadata": {
    "slideshow": {
     "slide_type": "slide"
    }
   },
   "source": [
    "Since we're going to call for Minneapolis repeatedly, let's set a variable to store our location. \n",
    "\n",
    "[In OSM, you can use standard place names. If you want to run this notebook later for a different place, you can simply put a new placename in here. Remember that since OSM is crowd-sourced, you might not find all the places you want to use in the dataset. However, all major US and global cities are probably there.] "
   ]
  },
  {
   "cell_type": "code",
   "execution_count": null,
   "id": "a6a30c39",
   "metadata": {},
   "outputs": [],
   "source": [
    "place = 'Minneapolis, MN'\n",
    "place"
   ]
  },
  {
   "cell_type": "markdown",
   "id": "8e889f9a",
   "metadata": {
    "slideshow": {
     "slide_type": "slide"
    }
   },
   "source": [
    "Our criteria require that we get data about coffee shops, bikepaths, cinemas and buildings. The OSM data contains all these kinds of data, but we have to extract each one separately for our model.\n",
    "\n",
    "In this first block, we'll get cafes whose cuisine is coffee shop in Minneapolis, Minnesota. \n",
    "We use osmnx to create a gdf (GeoDataFrame) which is stored in the `coffee_shops` variable."
   ]
  },
  {
   "cell_type": "code",
   "execution_count": null,
   "id": "golden-essex",
   "metadata": {
    "slideshow": {
     "slide_type": "fragment"
    }
   },
   "outputs": [],
   "source": [
    "tags = {'amenity':'cafe', 'cuisine':'coffee-shop'}  \n",
    "coffee_shops = ox.geometries_from_place(place, tags) \n",
    "\n",
    "# Convert to UTM\n",
    "coffee_shops = coffee_shops.to_crs('epsg:3174') \n",
    "\n",
    "coffee_shops.info()\n",
    "coffee_shops.head()"
   ]
  },
  {
   "cell_type": "markdown",
   "id": "d22a8a90",
   "metadata": {},
   "source": [
    "We got 140 coffee shops, did you? \n",
    "\n",
    "And what does this look like?"
   ]
  },
  {
   "cell_type": "code",
   "execution_count": null,
   "id": "86cc076e",
   "metadata": {},
   "outputs": [],
   "source": [
    "coffee_shops.plot()"
   ]
  },
  {
   "cell_type": "markdown",
   "id": "c220b8c4",
   "metadata": {
    "slideshow": {
     "slide_type": "slide"
    }
   },
   "source": [
    "Next we'll get the bikepaths. Since OSM is crowd-sourced, the tagging of features is often inconsistent. Sometimes you need to use more than one tag to find all the features you are looking for. Here we're using three. \n",
    "\n",
    "[If you want to know more about OSM tags for mapped features, see https://wiki.openstreetmap.org/wiki/Map_features.] "
   ]
  },
  {
   "cell_type": "code",
   "execution_count": null,
   "id": "44302d28",
   "metadata": {},
   "outputs": [],
   "source": [
    "tags = {'highway':'cycleway','route':'bicycle','cycleway':True}\n",
    "bikepaths = ox.geometries_from_place(place, tags)\n",
    "bikepaths = bikepaths.to_crs('epsg:3174') \n",
    "bikepaths.info()\n",
    "bikepaths.plot()\n",
    "bikepaths.head()"
   ]
  },
  {
   "cell_type": "markdown",
   "id": "fe0d2044",
   "metadata": {
    "slideshow": {
     "slide_type": "slide"
    }
   },
   "source": [
    "Now get the cinema point features."
   ]
  },
  {
   "cell_type": "code",
   "execution_count": null,
   "id": "developmental-johnson",
   "metadata": {
    "slideshow": {
     "slide_type": "fragment"
    }
   },
   "outputs": [],
   "source": [
    "tags = {'amenity':'cinema'} \n",
    "cinemas = ox.geometries_from_place(place, tags)\n",
    "cinemas = cinemas.to_crs('epsg:3174') \n",
    "cinemas.info()\n",
    "cinemas.plot()\n",
    "cinemas"
   ]
  },
  {
   "cell_type": "markdown",
   "id": "2df03d75",
   "metadata": {
    "slideshow": {
     "slide_type": "slide"
    }
   },
   "source": [
    "Finally fetch the footprints (outlines, i.e. polygons) for commerical, retail and office buildings in Minneapolis. This may take some time, so be patient while waiting for the asterisk to change to a number. "
   ]
  },
  {
   "cell_type": "code",
   "execution_count": null,
   "id": "9d36ef9e",
   "metadata": {
    "slideshow": {
     "slide_type": "fragment"
    }
   },
   "outputs": [],
   "source": [
    "tags = {'building':['commercial','retail','offices']}\n",
    "buildings = ox.geometries_from_place(place, tags)\n",
    "buildings = buildings.to_crs('epsg:3174') \n",
    "buildings.info()\n",
    "buildings.plot(figsize = (20,10))\n",
    "buildings.head()"
   ]
  },
  {
   "cell_type": "markdown",
   "id": "9a8ec357",
   "metadata": {},
   "source": [
    "Now, we have all our data. Let's go back to the criteria so we can see how we need to manipulate these data.\n",
    "\n",
    "Recall that the candidate buildings should be:\n",
    "\n",
    "1. A building type of commercial, retail, or office building\n",
    "1. At least 400 meters from other coffee shops\n",
    "1. Close to a bikepath\n",
    "1. Close to a cinema\n",
    "\n",
    "OK, we've already taken care of criteria #1 by getting data about only buildings of these types. To do criteria #2 we need to create buffers..."
   ]
  },
  {
   "cell_type": "markdown",
   "id": "0ff27dd8",
   "metadata": {
    "slideshow": {
     "slide_type": "slide"
    }
   },
   "source": [
    "## Create buffers\n",
    "\n",
    "Buffers are used to define the area of influence of features. We'll buffer the coffee shops by 400m as an exclusion zone in which we don't want to select candidate sites. "
   ]
  },
  {
   "cell_type": "code",
   "execution_count": null,
   "id": "9bd5dc91",
   "metadata": {},
   "outputs": [],
   "source": [
    "coffee_shops_buffer = gpd.GeoDataFrame(coffee_shops.buffer(400), geometry = coffee_shops.buffer(400))\n",
    "coffee_shops_buffer.plot(figsize = (5,5))"
   ]
  },
  {
   "cell_type": "markdown",
   "id": "7b2daa51",
   "metadata": {
    "slideshow": {
     "slide_type": "slide"
    }
   },
   "source": [
    "Good. This plot shows all those areas that are within 400m buffer of existing coffee shops. We do not want to include buildings in these areas in our result. \n",
    "\n",
    "Now we need to deal with the final two criteria in which locations close to cinemas and bikepaths are more favorable than those that are farther away. Thus places nearby should have higher value in our site selection than places far away - we do this by assigning weights.\n",
    "\n",
    "## Assign weights\n",
    "\n",
    "There are many ways to assign weights in site suitability models. Since this is all vector data, we're going to assign weights by creating concentric buffers with declining value as distance from the feature increases. For example, we prefer places that are close to cinemas, so locations that are less than 500 m get a higher weight than places between 500 and 1000 m, and those get more than places 1000 to 1500m away. Anything futher than 1500 gets no weight at all! \n",
    "\n",
    "Let's see how this works with our Cinema data."
   ]
  },
  {
   "cell_type": "code",
   "execution_count": null,
   "id": "bfd18afa",
   "metadata": {
    "slideshow": {
     "slide_type": "fragment"
    }
   },
   "outputs": [],
   "source": [
    "# Cinema weighting\n",
    "cinema_df1 = gpd.GeoDataFrame(cinemas.buffer(1500), geometry = cinemas.buffer(1500))\n",
    "cinema_df2 = gpd.GeoDataFrame(cinemas.buffer(1000), geometry = cinemas.buffer(1000))\n",
    "cinema_df3 = gpd.GeoDataFrame(cinemas.buffer(500), geometry = cinemas.buffer(500))\n",
    "\n",
    "cinema3 = cinema_df3\n",
    "cinema3['weight'] = 3\n",
    "\n",
    "cinema2 = gpd.overlay(cinema_df2, cinema_df3, how='difference')\n",
    "cinema2['weight'] = 2\n",
    "\n",
    "cinema1 = gpd.overlay(cinema_df1, cinema_df2, how='difference')\n",
    "cinema1['weight'] = 1\n",
    "\n",
    "cinemas.plot(figsize = (5,5))\n",
    "cinema3.plot(figsize = (5,5))\n",
    "cinema2.plot(figsize = (5,5))\n",
    "cinema1.plot(figsize = (5,5))\n",
    "\n",
    "cinema2"
   ]
  },
  {
   "cell_type": "markdown",
   "id": "a048f0bc",
   "metadata": {},
   "source": [
    "Note how the buffers nest inside of each other. Weights are 3 for the smallest, 2 for the middle one and 1 for the largest/furthest away. \n",
    "\n",
    "MOHSEN - why do this this way. Why not just stick all the data together sequentially?"
   ]
  },
  {
   "cell_type": "code",
   "execution_count": null,
   "id": "61ec2c25",
   "metadata": {
    "slideshow": {
     "slide_type": "fragment"
    }
   },
   "outputs": [],
   "source": [
    "cinema_w = gpd.overlay(cinema1, cinema2, how='union')\n",
    "cinema_w = gpd.overlay(cinema_w, cinema3, how='union')\n",
    "cinema_w.plot(figsize = (10,10))\n",
    "\n",
    "cinema_w['weights'] = pd.concat([cinema_w['weight_1'].fillna(0).astype('int'), \n",
    "                                 cinema_w['weight_2'].fillna(0).astype('int'), \n",
    "                                 cinema_w['weight'].fillna(0).astype('int')], axis = 1).max(axis=1)\n",
    "\n",
    "cinema_w"
   ]
  },
  {
   "cell_type": "markdown",
   "id": "618a2109",
   "metadata": {
    "slideshow": {
     "slide_type": "slide"
    }
   },
   "source": [
    "Now we assign weights to the bikepaths. We'll set only 2 weights - 2 for locations less than 15100 m away and 1 for locations between 150 to 300m. "
   ]
  },
  {
   "cell_type": "code",
   "execution_count": null,
   "id": "b7317a8a",
   "metadata": {
    "slideshow": {
     "slide_type": "fragment"
    }
   },
   "outputs": [],
   "source": [
    "bikepaths_df2 = gpd.GeoDataFrame(bikepaths.buffer(150), geometry = bikepaths.buffer(150))\n",
    "bikepaths_df1 = gpd.GeoDataFrame(bikepaths.buffer(300), geometry = bikepaths.buffer(300))\n",
    "\n",
    "bikepaths2 = bikepaths_df2\n",
    "bikepaths2['weight'] = 2\n",
    "\n",
    "bikepaths1 = gpd.overlay(bikepaths_df1, bikepaths_df2, how='difference')\n",
    "bikepaths1['weight'] = 1\n",
    "\n",
    "bikepaths.plot(figsize = (5,5))\n",
    "bikepaths2.plot(figsize = (5,5))\n",
    "bikepaths1.plot(figsize = (5,5))"
   ]
  },
  {
   "cell_type": "code",
   "execution_count": null,
   "id": "0b38fcd5",
   "metadata": {
    "slideshow": {
     "slide_type": "fragment"
    }
   },
   "outputs": [],
   "source": [
    "bikepaths_df2 = gpd.GeoDataFrame(bikepaths.buffer(500), geometry = bikepaths.buffer(500))\n",
    "bikepaths_df1 = gpd.GeoDataFrame(bikepaths.buffer(1000), geometry = bikepaths.buffer(1000))\n",
    "\n",
    "bikepaths2 = bikepaths_df2\n",
    "bikepaths2['weight'] = 2\n",
    "\n",
    "bikepaths1 = gpd.overlay(bikepaths_df1, bikepaths_df2, how='difference')\n",
    "bikepaths1['weight'] = 1\n",
    "\n",
    "bikepaths1.plot(figsize = (10,10))\n",
    "bikepaths2.plot(figsize = (10,10))\n",
    "\n",
    "bikepaths_w = gpd.overlay(bikepaths1, bikepaths2, how='union')\n",
    "\n",
    "bikepaths_w.plot(figsize = (10,10))\n",
    "\n",
    "bikepaths_w['weights'] = pd.concat([bikepaths_w['weight_1'].fillna(0).astype('int'), \n",
    "                                 bikepaths_w['weight_2'].fillna(0).astype('int')], axis = 1).max(axis=1)\n",
    "\n",
    "bikepaths_w"
   ]
  },
  {
   "cell_type": "markdown",
   "id": "045a83f1",
   "metadata": {
    "slideshow": {
     "slide_type": "slide"
    }
   },
   "source": [
    "## Intersect and sum values to find the highest value locations"
   ]
  },
  {
   "cell_type": "code",
   "execution_count": null,
   "id": "857b0673",
   "metadata": {
    "slideshow": {
     "slide_type": "fragment"
    }
   },
   "outputs": [],
   "source": [
    "\n",
    "res_union1 = gpd.overlay(bikepaths_w, coffee_shops_buffer, how='difference')\n",
    "\n",
    "res_union = gpd.overlay(res_union1[res_union1.geometry.type=='Polygon'], cinema_w, how='intersection')\n",
    "\n",
    "# sum up the weights\n",
    "res_union['final_weights'] = res_union['weights_1'].fillna(0).astype('int') + res_union['weights_2'].fillna(0).astype('int')\n",
    "\n",
    "res_union = res_union[['final_weights', 'geometry']] # keep only the final_weights and geometry columns\n",
    "\n",
    "res_union.columns = ['weight', 'geometry'] # rename the columns \n",
    "\n",
    "res_union"
   ]
  },
  {
   "cell_type": "code",
   "execution_count": null,
   "id": "cca43e5c",
   "metadata": {
    "slideshow": {
     "slide_type": "slide"
    }
   },
   "outputs": [],
   "source": [
    "res_union.plot(figsize = (10,10), column = 'weight', cmap = 'Reds')\n"
   ]
  },
  {
   "cell_type": "markdown",
   "id": "c10ce771",
   "metadata": {
    "slideshow": {
     "slide_type": "slide"
    }
   },
   "source": [
    "Fetch the building footprints in Minneapolis"
   ]
  },
  {
   "cell_type": "code",
   "execution_count": null,
   "id": "2b91d8aa",
   "metadata": {
    "slideshow": {
     "slide_type": "fragment"
    }
   },
   "outputs": [],
   "source": [
    "import warnings\n",
    "warnings.filterwarnings('ignore') # Hide warnings\n",
    "\n",
    "place = \"Minneapolis, MN\"\n",
    "tags = {\"building\": True}\n",
    "building = ox.geometries_from_place(place, tags)\n",
    "building = building.to_crs('epsg:3174')\n",
    "\n",
    "building.plot(figsize = (10,10))\n"
   ]
  },
  {
   "cell_type": "markdown",
   "id": "7d3577fa",
   "metadata": {
    "slideshow": {
     "slide_type": "slide"
    }
   },
   "source": [
    "Filtering out the candidate buildings"
   ]
  },
  {
   "cell_type": "code",
   "execution_count": null,
   "id": "bbc8a6b7",
   "metadata": {
    "slideshow": {
     "slide_type": "skip"
    }
   },
   "outputs": [],
   "source": [
    "sites = gpd.overlay(res_union, building[building.geometry.type=='Polygon'], how='intersection')\n",
    "sites.plot(figsize = (20,20), column = 'weight', cmap = 'Reds')\n"
   ]
  },
  {
   "cell_type": "code",
   "execution_count": null,
   "id": "b7030847",
   "metadata": {
    "slideshow": {
     "slide_type": "fragment"
    }
   },
   "outputs": [],
   "source": [
    "sites[(sites['building'] == 'commercial') | \n",
    "              (sites['building'] == 'retail') | \n",
    "              (sites['building'] == 'offices')].plot(figsize = (20,20), column = 'weight', cmap = 'Reds')\n"
   ]
  },
  {
   "cell_type": "code",
   "execution_count": null,
   "id": "f4019b2a",
   "metadata": {
    "slideshow": {
     "slide_type": "skip"
    }
   },
   "outputs": [],
   "source": [
    "warnings.filterwarnings(\"ignore\")\n",
    "selected_sites = sites[(sites['building'] == 'commercial') | (sites['building'] == 'retail') | \n",
    "              (sites['building'] == 'offices')]\n",
    "\n",
    "selected_sites['geo_area'] = selected_sites.area\n",
    "\n",
    "selected_sites = selected_sites.to_crs(epsg='4326')\n",
    "selected_sites['centroid'] = selected_sites.centroid\n"
   ]
  },
  {
   "cell_type": "markdown",
   "id": "0474a213",
   "metadata": {
    "slideshow": {
     "slide_type": "slide"
    }
   },
   "source": [
    "Visualize the final result on a folium interactive map\n"
   ]
  },
  {
   "cell_type": "code",
   "execution_count": null,
   "id": "3056fd96",
   "metadata": {
    "slideshow": {
     "slide_type": "fragment"
    }
   },
   "outputs": [],
   "source": [
    "m = folium.Map(location = [44.9778, -93.2650], tiles='OpenStreetMap' , zoom_start = 13) # tiles=\"Stamen Toner\"\n",
    "\n",
    "\n",
    "for _, r in selected_sites.iterrows():\n",
    "\n",
    "    sim_geo = gpd.GeoSeries(r['geometry']) #.simplify(tolerance=0.001) \n",
    "    geo_j = sim_geo.to_json()\n",
    "    geo_j = folium.GeoJson(data=geo_j, \n",
    "                           style_function = lambda x: {'color': 'red', 'weight': 1,  'fillColor': 'YlGnBu'})\n",
    "    folium.Popup(f\"<i>Type: {r['building']}, Area: {r['geo_area']}</i>\").add_to(geo_j)\n",
    "\n",
    "    \n",
    "    geo_j.add_to(m)\n",
    "    \n",
    "    folium.Marker([r['centroid'].y, r['centroid'].x], popup=f\"<i>Type: {r['building']}</i>\", tooltip=f\"<i>Area: {r['geo_area']}</i>\").add_to(m)\n",
    "\n",
    "\n",
    "m"
   ]
  },
  {
   "cell_type": "markdown",
   "id": "7d0c664a",
   "metadata": {
    "slideshow": {
     "slide_type": "slide"
    }
   },
   "source": [
    "<font size=\"+1\"><a style=\"background-color:blue;color:white;font-weight:bold;\" \n",
    "href=\"./\">Click here to go back to the root folder!</a></font>\n",
    "\n"
   ]
  }
 ],
 "metadata": {
  "celltoolbar": "Slideshow",
  "kernelspec": {
   "display_name": "Python 3 (ipykernel)",
   "language": "python",
   "name": "python3"
  },
  "language_info": {
   "codemirror_mode": {
    "name": "ipython",
    "version": 3
   },
   "file_extension": ".py",
   "mimetype": "text/x-python",
   "name": "python",
   "nbconvert_exporter": "python",
   "pygments_lexer": "ipython3",
   "version": "3.9.5"
  }
 },
 "nbformat": 4,
 "nbformat_minor": 5
}
