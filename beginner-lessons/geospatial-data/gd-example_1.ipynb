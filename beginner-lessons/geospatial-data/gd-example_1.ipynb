{
 "cells": [
  {
   "cell_type": "markdown",
   "metadata": {
    "slideshow": {
     "slide_type": "slide"
    }
   },
   "source": [
    "# Geospatial Data - Try it Notebook #1\n",
    "## Retrieving and mapping geospatial data\n",
    "First of all, as in all Python programs, we have to load the special program libraries we want to use. There are several libraries that can handle geospatial data. Here we're going to use two modules of ipyleaflet (for making interactive maps) and geopandas (for managing geospatial data).<p>\n",
    "Remember for each of the code chunks below, click the arrow to the left of the box. Be patient, sometimes these take a few seconds to execute."
   ]
  },
  {
   "cell_type": "code",
   "execution_count": 2,
   "metadata": {
    "init_cell": true,
    "tags": [
     "Hide"
    ]
   },
   "outputs": [
    {
     "data": {
      "text/html": [
       " \n",
       "    <script type=\"text/javascript\" src=\"../../supplementary/js/custom.js\"></script>\n",
       "    \n",
       "    <style>\n",
       "        .output_prompt{opacity:0;}\n",
       "    </style>\n",
       "    \n",
       "    <input id=\"toggle_code\" type=\"button\" value=\"Toggle raw code\">\n"
      ],
      "text/plain": [
       "<IPython.core.display.HTML object>"
      ]
     },
     "execution_count": 2,
     "metadata": {},
     "output_type": "execute_result"
    }
   ],
   "source": [
    "# This code cell starts the necessary setup for Hour of CI lesson notebooks.\n",
    "# First, it enables users to hide and unhide code by producing a 'Toggle raw code' button below.\n",
    "# Second, it imports the hourofci package, which is necessary for lessons and interactive Jupyter Widgets.\n",
    "# Third, it helps hide/control other aspects of Jupyter Notebooks to improve the user experience\n",
    "# This is an initialization cell\n",
    "# It is not displayed because the Slide Type is 'Skip'\n",
    "\n",
    "from IPython.display import HTML, IFrame, Javascript, display\n",
    "from ipywidgets import interactive\n",
    "import ipywidgets as widgets\n",
    "from ipywidgets import Layout\n",
    "\n",
    "import getpass # This library allows us to get the username (User agent string)\n",
    "\n",
    "# import package for hourofci project\n",
    "import sys\n",
    "sys.path.append('../../supplementary') # relative path (may change depending on the location of the lesson notebook)\n",
    "import hourofci\n",
    "\n",
    "# load javascript to initialize/hide cells, get user agent string, and hide output indicator\n",
    "# hide code by introducing a toggle button \"Toggle raw code\"\n",
    "HTML(''' \n",
    "    <script type=\"text/javascript\" src=\\\"../../supplementary/js/custom.js\\\"></script>\n",
    "    \n",
    "    <style>\n",
    "        .output_prompt{opacity:0;}\n",
    "    </style>\n",
    "    \n",
    "    <input id=\"toggle_code\" type=\"button\" value=\"Toggle raw code\">\n",
    "''')"
   ]
  },
  {
   "cell_type": "code",
   "execution_count": 3,
   "metadata": {
    "slideshow": {
     "slide_type": "fragment"
    }
   },
   "outputs": [],
   "source": [
    "from ipyleaflet import Map, GeoData\n",
    "import geopandas"
   ]
  },
  {
   "cell_type": "markdown",
   "metadata": {
    "slideshow": {
     "slide_type": "slide"
    }
   },
   "source": [
    "Don't worry if nothing happens. With import statements, if you get no error messages and the code chunk has been given a number, you're good to move on.<p>\n",
    "To get started, let's make a basic map. (click the arrow)"
   ]
  },
  {
   "cell_type": "code",
   "execution_count": 4,
   "metadata": {
    "slideshow": {
     "slide_type": "fragment"
    }
   },
   "outputs": [
    {
     "data": {
      "application/vnd.jupyter.widget-view+json": {
       "model_id": "b372f37e33d14c26a30723a26a00dcb7",
       "version_major": 2,
       "version_minor": 0
      },
      "text/plain": [
       "Map(center=[40, -100], controls=(ZoomControl(options=['position', 'zoom_in_text', 'zoom_in_title', 'zoom_out_t…"
      ]
     },
     "metadata": {},
     "output_type": "display_data"
    }
   ],
   "source": [
    "mymap1 = Map(center=(40,-100), zoom = 4)\n",
    "mymap1"
   ]
  },
  {
   "cell_type": "markdown",
   "metadata": {
    "slideshow": {
     "slide_type": "slide"
    }
   },
   "source": [
    "This is a really simple interactive map. You can pan and zoom.<p>\n",
    "Now, let's get some geospatial data. The website www.naturalearthdata.com has a lot of very basic geospatial data for making simple maps. You can access this directly in Python code. We're going to retrieve and display major world rivers and cities.<p>\n",
    "Below, we're using a function from geopandas to retrieve the rivers data (geopandas.read_file) and then we use the \"head\" parameter to look at the first 5 rows of the data. <p>\n",
    "Click on the arrow. Note this one will take a bit longer to complete - there will be an asterisk in [ ] while processing proceeds. "
   ]
  },
  {
   "cell_type": "code",
   "execution_count": 7,
   "metadata": {},
   "outputs": [
    {
     "data": {
      "text/html": [
       "<div>\n",
       "<style scoped>\n",
       "    .dataframe tbody tr th:only-of-type {\n",
       "        vertical-align: middle;\n",
       "    }\n",
       "\n",
       "    .dataframe tbody tr th {\n",
       "        vertical-align: top;\n",
       "    }\n",
       "\n",
       "    .dataframe thead th {\n",
       "        text-align: right;\n",
       "    }\n",
       "</style>\n",
       "<table border=\"1\" class=\"dataframe\">\n",
       "  <thead>\n",
       "    <tr style=\"text-align: right;\">\n",
       "      <th></th>\n",
       "      <th>dissolve</th>\n",
       "      <th>scalerank</th>\n",
       "      <th>featurecla</th>\n",
       "      <th>name</th>\n",
       "      <th>name_alt</th>\n",
       "      <th>rivernum</th>\n",
       "      <th>note</th>\n",
       "      <th>min_zoom</th>\n",
       "      <th>name_en</th>\n",
       "      <th>min_label</th>\n",
       "      <th>...</th>\n",
       "      <th>name_pl</th>\n",
       "      <th>name_pt</th>\n",
       "      <th>name_ru</th>\n",
       "      <th>name_sv</th>\n",
       "      <th>name_tr</th>\n",
       "      <th>name_vi</th>\n",
       "      <th>name_zh</th>\n",
       "      <th>wdid_score</th>\n",
       "      <th>ne_id</th>\n",
       "      <th>geometry</th>\n",
       "    </tr>\n",
       "  </thead>\n",
       "  <tbody>\n",
       "    <tr>\n",
       "      <th>0</th>\n",
       "      <td>0River</td>\n",
       "      <td>1.0</td>\n",
       "      <td>River</td>\n",
       "      <td>Irrawaddy Delta</td>\n",
       "      <td>None</td>\n",
       "      <td>0</td>\n",
       "      <td>None</td>\n",
       "      <td>2.0</td>\n",
       "      <td>Irrawaddy</td>\n",
       "      <td>3.0</td>\n",
       "      <td>...</td>\n",
       "      <td>Irawadi</td>\n",
       "      <td>Rio Irauádi</td>\n",
       "      <td>Иравади</td>\n",
       "      <td>Irrawaddy</td>\n",
       "      <td>İravadi Nehri</td>\n",
       "      <td>Sông Ayeyarwaddy</td>\n",
       "      <td>伊洛瓦底江</td>\n",
       "      <td>2</td>\n",
       "      <td>1159109417</td>\n",
       "      <td>MULTILINESTRING ((95.45110 17.82050, 95.42766 ...</td>\n",
       "    </tr>\n",
       "    <tr>\n",
       "      <th>1</th>\n",
       "      <td>1001Lake Centerline</td>\n",
       "      <td>9.0</td>\n",
       "      <td>Lake Centerline</td>\n",
       "      <td>Tonle Sap</td>\n",
       "      <td>None</td>\n",
       "      <td>1001</td>\n",
       "      <td>None</td>\n",
       "      <td>7.1</td>\n",
       "      <td>None</td>\n",
       "      <td>8.1</td>\n",
       "      <td>...</td>\n",
       "      <td>Tonle Sap</td>\n",
       "      <td>None</td>\n",
       "      <td>Тонлесап</td>\n",
       "      <td>None</td>\n",
       "      <td>None</td>\n",
       "      <td>None</td>\n",
       "      <td>None</td>\n",
       "      <td>4</td>\n",
       "      <td>1159109429</td>\n",
       "      <td>MULTILINESTRING ((103.68743 13.22468, 103.7133...</td>\n",
       "    </tr>\n",
       "    <tr>\n",
       "      <th>2</th>\n",
       "      <td>1001River</td>\n",
       "      <td>9.0</td>\n",
       "      <td>River</td>\n",
       "      <td>Tonle Sap</td>\n",
       "      <td>None</td>\n",
       "      <td>1001</td>\n",
       "      <td>None</td>\n",
       "      <td>7.1</td>\n",
       "      <td>None</td>\n",
       "      <td>8.1</td>\n",
       "      <td>...</td>\n",
       "      <td>Tonle Sap</td>\n",
       "      <td>None</td>\n",
       "      <td>Тонлесап</td>\n",
       "      <td>None</td>\n",
       "      <td>None</td>\n",
       "      <td>None</td>\n",
       "      <td>None</td>\n",
       "      <td>4</td>\n",
       "      <td>1159109445</td>\n",
       "      <td>LINESTRING (104.61476 12.38203, 104.61769 12.3...</td>\n",
       "    </tr>\n",
       "    <tr>\n",
       "      <th>3</th>\n",
       "      <td>1002Lake Centerline</td>\n",
       "      <td>9.0</td>\n",
       "      <td>Lake Centerline</td>\n",
       "      <td>Sheksna</td>\n",
       "      <td>None</td>\n",
       "      <td>1002</td>\n",
       "      <td>None</td>\n",
       "      <td>7.1</td>\n",
       "      <td>Sheksna</td>\n",
       "      <td>8.1</td>\n",
       "      <td>...</td>\n",
       "      <td>Szeksna</td>\n",
       "      <td>None</td>\n",
       "      <td>Шексна</td>\n",
       "      <td>Sjeksna</td>\n",
       "      <td>None</td>\n",
       "      <td>None</td>\n",
       "      <td>舍克斯納河</td>\n",
       "      <td>4</td>\n",
       "      <td>1159109447</td>\n",
       "      <td>LINESTRING (37.73951 59.07954, 37.75733 59.103...</td>\n",
       "    </tr>\n",
       "    <tr>\n",
       "      <th>4</th>\n",
       "      <td>1002River</td>\n",
       "      <td>9.0</td>\n",
       "      <td>River</td>\n",
       "      <td>Sheksna</td>\n",
       "      <td>None</td>\n",
       "      <td>1002</td>\n",
       "      <td>None</td>\n",
       "      <td>7.1</td>\n",
       "      <td>Sheksna</td>\n",
       "      <td>8.1</td>\n",
       "      <td>...</td>\n",
       "      <td>Szeksna</td>\n",
       "      <td>None</td>\n",
       "      <td>Шексна</td>\n",
       "      <td>Sjeksna</td>\n",
       "      <td>None</td>\n",
       "      <td>None</td>\n",
       "      <td>舍克斯納河</td>\n",
       "      <td>4</td>\n",
       "      <td>1159109461</td>\n",
       "      <td>LINESTRING (38.47804 59.21666, 38.48528 59.228...</td>\n",
       "    </tr>\n",
       "  </tbody>\n",
       "</table>\n",
       "<p>5 rows × 35 columns</p>\n",
       "</div>"
      ],
      "text/plain": [
       "              dissolve  scalerank       featurecla             name name_alt  \\\n",
       "0               0River        1.0            River  Irrawaddy Delta     None   \n",
       "1  1001Lake Centerline        9.0  Lake Centerline        Tonle Sap     None   \n",
       "2            1001River        9.0            River        Tonle Sap     None   \n",
       "3  1002Lake Centerline        9.0  Lake Centerline          Sheksna     None   \n",
       "4            1002River        9.0            River          Sheksna     None   \n",
       "\n",
       "   rivernum  note  min_zoom    name_en  min_label  ...    name_pl  \\\n",
       "0         0  None       2.0  Irrawaddy        3.0  ...    Irawadi   \n",
       "1      1001  None       7.1       None        8.1  ...  Tonle Sap   \n",
       "2      1001  None       7.1       None        8.1  ...  Tonle Sap   \n",
       "3      1002  None       7.1    Sheksna        8.1  ...    Szeksna   \n",
       "4      1002  None       7.1    Sheksna        8.1  ...    Szeksna   \n",
       "\n",
       "       name_pt   name_ru    name_sv        name_tr           name_vi name_zh  \\\n",
       "0  Rio Irauádi   Иравади  Irrawaddy  İravadi Nehri  Sông Ayeyarwaddy   伊洛瓦底江   \n",
       "1         None  Тонлесап       None           None              None    None   \n",
       "2         None  Тонлесап       None           None              None    None   \n",
       "3         None    Шексна    Sjeksna           None              None   舍克斯納河   \n",
       "4         None    Шексна    Sjeksna           None              None   舍克斯納河   \n",
       "\n",
       "  wdid_score       ne_id                                           geometry  \n",
       "0          2  1159109417  MULTILINESTRING ((95.45110 17.82050, 95.42766 ...  \n",
       "1          4  1159109429  MULTILINESTRING ((103.68743 13.22468, 103.7133...  \n",
       "2          4  1159109445  LINESTRING (104.61476 12.38203, 104.61769 12.3...  \n",
       "3          4  1159109447  LINESTRING (37.73951 59.07954, 37.75733 59.103...  \n",
       "4          4  1159109461  LINESTRING (38.47804 59.21666, 38.48528 59.228...  \n",
       "\n",
       "[5 rows x 35 columns]"
      ]
     },
     "execution_count": 7,
     "metadata": {},
     "output_type": "execute_result"
    }
   ],
   "source": [
    "rivers = geopandas.read_file(\"https://www.naturalearthdata.com/http//www.naturalearthdata.com/download/10m/physical/ne_10m_rivers_lake_centerlines.zip\")\n",
    "rivers.head()"
   ]
  },
  {
   "cell_type": "markdown",
   "metadata": {},
   "source": [
    "Scroll the output table all the way to the right and you'll see a column called \"geometry\". That's the geographic reference that is used to draw the lines and it's coded by listing a sequence of long/lat points along the river. Only the first one or two long/lat pairs are listed but the \"linestring\" is actually very long.<p>\n",
    "OK, now let's put those rivers on our map. We have to start with a function from ipyleaflet (GeoData) to reformat the downloaded dataset so that it can be displayed on the interactive map."
   ]
  },
  {
   "cell_type": "code",
   "execution_count": 6,
   "metadata": {},
   "outputs": [
    {
     "data": {
      "application/vnd.jupyter.widget-view+json": {
       "model_id": "a2c038590e38401e89489bd4b35f34f9",
       "version_major": 2,
       "version_minor": 0
      },
      "text/plain": [
       "Map(center=[40, -100], controls=(ZoomControl(options=['position', 'zoom_in_text', 'zoom_in_title', 'zoom_out_t…"
      ]
     },
     "metadata": {},
     "output_type": "display_data"
    }
   ],
   "source": [
    "rivers_layer = GeoData(geo_dataframe = rivers, style={'color':'blue'})\n",
    "mymap2 = Map(center=(40,-100), zoom = 4)\n",
    "mymap2.add_layer(rivers_layer)\n",
    "mymap2"
   ]
  },
  {
   "cell_type": "markdown",
   "metadata": {},
   "source": [
    "Great! You've just made a map showing the major rivers of the world. Now, let's get some point data for cities."
   ]
  },
  {
   "cell_type": "code",
   "execution_count": 8,
   "metadata": {},
   "outputs": [
    {
     "data": {
      "text/html": [
       "<div>\n",
       "<style scoped>\n",
       "    .dataframe tbody tr th:only-of-type {\n",
       "        vertical-align: middle;\n",
       "    }\n",
       "\n",
       "    .dataframe tbody tr th {\n",
       "        vertical-align: top;\n",
       "    }\n",
       "\n",
       "    .dataframe thead th {\n",
       "        text-align: right;\n",
       "    }\n",
       "</style>\n",
       "<table border=\"1\" class=\"dataframe\">\n",
       "  <thead>\n",
       "    <tr style=\"text-align: right;\">\n",
       "      <th></th>\n",
       "      <th>scalerank</th>\n",
       "      <th>natscale</th>\n",
       "      <th>labelrank</th>\n",
       "      <th>featurecla</th>\n",
       "      <th>name</th>\n",
       "      <th>namepar</th>\n",
       "      <th>namealt</th>\n",
       "      <th>diffascii</th>\n",
       "      <th>nameascii</th>\n",
       "      <th>adm0cap</th>\n",
       "      <th>...</th>\n",
       "      <th>rank_max</th>\n",
       "      <th>rank_min</th>\n",
       "      <th>geonameid</th>\n",
       "      <th>meganame</th>\n",
       "      <th>ls_name</th>\n",
       "      <th>ls_match</th>\n",
       "      <th>checkme</th>\n",
       "      <th>min_zoom</th>\n",
       "      <th>ne_id</th>\n",
       "      <th>geometry</th>\n",
       "    </tr>\n",
       "  </thead>\n",
       "  <tbody>\n",
       "    <tr>\n",
       "      <th>0</th>\n",
       "      <td>8</td>\n",
       "      <td>10</td>\n",
       "      <td>3</td>\n",
       "      <td>Admin-0 capital</td>\n",
       "      <td>Vatican City</td>\n",
       "      <td>None</td>\n",
       "      <td>None</td>\n",
       "      <td>0</td>\n",
       "      <td>Vatican City</td>\n",
       "      <td>1.0</td>\n",
       "      <td>...</td>\n",
       "      <td>2</td>\n",
       "      <td>2</td>\n",
       "      <td>6691831.0</td>\n",
       "      <td>None</td>\n",
       "      <td>Vatican City</td>\n",
       "      <td>1</td>\n",
       "      <td>0</td>\n",
       "      <td>7.0</td>\n",
       "      <td>1159127243</td>\n",
       "      <td>POINT (12.45339 41.90328)</td>\n",
       "    </tr>\n",
       "    <tr>\n",
       "      <th>1</th>\n",
       "      <td>7</td>\n",
       "      <td>20</td>\n",
       "      <td>0</td>\n",
       "      <td>Admin-0 capital</td>\n",
       "      <td>San Marino</td>\n",
       "      <td>None</td>\n",
       "      <td>None</td>\n",
       "      <td>0</td>\n",
       "      <td>San Marino</td>\n",
       "      <td>1.0</td>\n",
       "      <td>...</td>\n",
       "      <td>7</td>\n",
       "      <td>7</td>\n",
       "      <td>3168070.0</td>\n",
       "      <td>None</td>\n",
       "      <td>San Marino</td>\n",
       "      <td>1</td>\n",
       "      <td>5</td>\n",
       "      <td>6.1</td>\n",
       "      <td>1159146051</td>\n",
       "      <td>POINT (12.44177 43.93610)</td>\n",
       "    </tr>\n",
       "    <tr>\n",
       "      <th>2</th>\n",
       "      <td>7</td>\n",
       "      <td>20</td>\n",
       "      <td>0</td>\n",
       "      <td>Admin-0 capital</td>\n",
       "      <td>Vaduz</td>\n",
       "      <td>None</td>\n",
       "      <td>None</td>\n",
       "      <td>0</td>\n",
       "      <td>Vaduz</td>\n",
       "      <td>1.0</td>\n",
       "      <td>...</td>\n",
       "      <td>7</td>\n",
       "      <td>5</td>\n",
       "      <td>3042030.0</td>\n",
       "      <td>None</td>\n",
       "      <td>Vaduz</td>\n",
       "      <td>1</td>\n",
       "      <td>0</td>\n",
       "      <td>6.7</td>\n",
       "      <td>1159146061</td>\n",
       "      <td>POINT (9.51667 47.13372)</td>\n",
       "    </tr>\n",
       "    <tr>\n",
       "      <th>3</th>\n",
       "      <td>6</td>\n",
       "      <td>30</td>\n",
       "      <td>8</td>\n",
       "      <td>Admin-0 capital alt</td>\n",
       "      <td>Lobamba</td>\n",
       "      <td>None</td>\n",
       "      <td>None</td>\n",
       "      <td>0</td>\n",
       "      <td>Lobamba</td>\n",
       "      <td>0.0</td>\n",
       "      <td>...</td>\n",
       "      <td>5</td>\n",
       "      <td>4</td>\n",
       "      <td>935048.0</td>\n",
       "      <td>None</td>\n",
       "      <td>Lobamba</td>\n",
       "      <td>1</td>\n",
       "      <td>5</td>\n",
       "      <td>6.0</td>\n",
       "      <td>1159146343</td>\n",
       "      <td>POINT (31.20000 -26.46667)</td>\n",
       "    </tr>\n",
       "    <tr>\n",
       "      <th>4</th>\n",
       "      <td>6</td>\n",
       "      <td>30</td>\n",
       "      <td>8</td>\n",
       "      <td>Admin-0 capital</td>\n",
       "      <td>Luxembourg</td>\n",
       "      <td>None</td>\n",
       "      <td>None</td>\n",
       "      <td>0</td>\n",
       "      <td>Luxembourg</td>\n",
       "      <td>1.0</td>\n",
       "      <td>...</td>\n",
       "      <td>9</td>\n",
       "      <td>8</td>\n",
       "      <td>2960316.0</td>\n",
       "      <td>None</td>\n",
       "      <td>Luxembourg</td>\n",
       "      <td>1</td>\n",
       "      <td>0</td>\n",
       "      <td>6.0</td>\n",
       "      <td>1159146437</td>\n",
       "      <td>POINT (6.13000 49.61166)</td>\n",
       "    </tr>\n",
       "  </tbody>\n",
       "</table>\n",
       "<p>5 rows × 39 columns</p>\n",
       "</div>"
      ],
      "text/plain": [
       "   scalerank  natscale  labelrank           featurecla          name namepar  \\\n",
       "0          8        10          3      Admin-0 capital  Vatican City    None   \n",
       "1          7        20          0      Admin-0 capital    San Marino    None   \n",
       "2          7        20          0      Admin-0 capital         Vaduz    None   \n",
       "3          6        30          8  Admin-0 capital alt       Lobamba    None   \n",
       "4          6        30          8      Admin-0 capital    Luxembourg    None   \n",
       "\n",
       "  namealt  diffascii     nameascii  adm0cap  ...  rank_max rank_min  \\\n",
       "0    None          0  Vatican City      1.0  ...         2        2   \n",
       "1    None          0    San Marino      1.0  ...         7        7   \n",
       "2    None          0         Vaduz      1.0  ...         7        5   \n",
       "3    None          0       Lobamba      0.0  ...         5        4   \n",
       "4    None          0    Luxembourg      1.0  ...         9        8   \n",
       "\n",
       "   geonameid  meganame       ls_name ls_match checkme min_zoom       ne_id  \\\n",
       "0  6691831.0      None  Vatican City        1       0      7.0  1159127243   \n",
       "1  3168070.0      None    San Marino        1       5      6.1  1159146051   \n",
       "2  3042030.0      None         Vaduz        1       0      6.7  1159146061   \n",
       "3   935048.0      None       Lobamba        1       5      6.0  1159146343   \n",
       "4  2960316.0      None    Luxembourg        1       0      6.0  1159146437   \n",
       "\n",
       "                     geometry  \n",
       "0   POINT (12.45339 41.90328)  \n",
       "1   POINT (12.44177 43.93610)  \n",
       "2    POINT (9.51667 47.13372)  \n",
       "3  POINT (31.20000 -26.46667)  \n",
       "4    POINT (6.13000 49.61166)  \n",
       "\n",
       "[5 rows x 39 columns]"
      ]
     },
     "execution_count": 8,
     "metadata": {},
     "output_type": "execute_result"
    }
   ],
   "source": [
    "cities = geopandas.read_file(\"https://www.naturalearthdata.com/http//www.naturalearthdata.com/download/110m/cultural/ne_110m_populated_places_simple.zip\")\n",
    "cities.head()"
   ]
  },
  {
   "cell_type": "markdown",
   "metadata": {},
   "source": [
    "Scroll this table to the right and you'll see the geometry column again. This time the data are points so all we need is a single long/lat pair for each city.<p>\n",
    "\n",
    "And now, put that data on a map!"
   ]
  },
  {
   "cell_type": "code",
   "execution_count": 9,
   "metadata": {},
   "outputs": [
    {
     "data": {
      "application/vnd.jupyter.widget-view+json": {
       "model_id": "c2a9506f05f74d09b262b63931ec0e2b",
       "version_major": 2,
       "version_minor": 0
      },
      "text/plain": [
       "Map(center=[40, -100], controls=(ZoomControl(options=['position', 'zoom_in_text', 'zoom_in_title', 'zoom_out_t…"
      ]
     },
     "metadata": {},
     "output_type": "display_data"
    }
   ],
   "source": [
    "cities_layer= GeoData(geo_dataframe = cities)\n",
    "mymap3 = Map(center=(40,-100), zoom = 4)\n",
    "mymap3.add_layer(cities_layer)\n",
    "mymap3"
   ]
  },
  {
   "cell_type": "markdown",
   "metadata": {
    "hide_input": true,
    "tags": [
     "6A"
    ]
   },
   "source": [
    "Excellent! You've made some simple maps with Python!<p>\n",
    "\n",
    "But how do we actually figure out and code the location of real things in the world? \n",
    "\n",
    "<a href=\"gd-3.ipynb\" class=\"link-logging\">Click here to move to the next set of slides to learn more!</a>"
   ]
  }
 ],
 "metadata": {
  "celltoolbar": "Tags",
  "kernelspec": {
   "display_name": "Python 3",
   "language": "python",
   "name": "python3"
  },
  "language_info": {
   "codemirror_mode": {
    "name": "ipython",
    "version": 3
   },
   "file_extension": ".py",
   "mimetype": "text/x-python",
   "name": "python",
   "nbconvert_exporter": "python",
   "pygments_lexer": "ipython3",
   "version": "3.7.7"
  }
 },
 "nbformat": 4,
 "nbformat_minor": 4
}
