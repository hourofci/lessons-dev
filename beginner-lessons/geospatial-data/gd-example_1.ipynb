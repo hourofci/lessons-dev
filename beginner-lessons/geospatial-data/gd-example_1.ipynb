{
 "cells": [
  {
   "cell_type": "markdown",
   "metadata": {
    "slideshow": {
     "slide_type": "slide"
    }
   },
   "source": [
    "# Geospatial Data - Try it Notebook #1\n",
    "## Retrieving and mapping geospatial data\n",
    "First of all, as in all Python programs, we have to load the special program libraries we want to use. There are several libraries that can handle geospatial data. Here we're going to use two modules of ipyleaflet (for making interactive maps) and geopandas (for managing geospatial data).<p>\n",
    "Remember for each of the code chunks below, click the arrow to the left of the box. Be patient, sometimes these take a few seconds to execute."
   ]
  },
  {
   "cell_type": "code",
   "execution_count": 3,
   "metadata": {
    "hide_input": true,
    "init_cell": true,
    "tags": [
     "Hide"
    ]
   },
   "outputs": [
    {
     "data": {
      "text/html": [
       " \n",
       "    <script type=\"text/javascript\" src=\"../../supplementary/js/custom.js\"></script>\n",
       "    \n",
       "    <style>\n",
       "        .output_prompt{opacity:0;}\n",
       "    </style>\n",
       "    \n",
       "    <input id=\"toggle_code\" type=\"button\" value=\"Toggle raw code\">\n"
      ],
      "text/plain": [
       "<IPython.core.display.HTML object>"
      ]
     },
     "execution_count": 3,
     "metadata": {},
     "output_type": "execute_result"
    }
   ],
   "source": [
    "# This code cell starts the necessary setup for Hour of CI lesson notebooks.\n",
    "# First, it enables users to hide and unhide code by producing a 'Toggle raw code' button below.\n",
    "# Second, it imports the hourofci package, which is necessary for lessons and interactive Jupyter Widgets.\n",
    "# Third, it helps hide/control other aspects of Jupyter Notebooks to improve the user experience\n",
    "# This is an initialization cell\n",
    "# It is not displayed because the Slide Type is 'Skip'\n",
    "\n",
    "from IPython.display import HTML, IFrame, Javascript, display\n",
    "from ipywidgets import interactive\n",
    "import ipywidgets as widgets\n",
    "from ipywidgets import Layout\n",
    "\n",
    "import getpass # This library allows us to get the username (User agent string)\n",
    "\n",
    "# import package for hourofci project\n",
    "import sys\n",
    "sys.path.append('../../supplementary') # relative path (may change depending on the location of the lesson notebook)\n",
    "import hourofci\n",
    "\n",
    "# load javascript to initialize/hide cells, get user agent string, and hide output indicator\n",
    "# hide code by introducing a toggle button \"Toggle raw code\"\n",
    "HTML(''' \n",
    "    <script type=\"text/javascript\" src=\\\"../../supplementary/js/custom.js\\\"></script>\n",
    "    \n",
    "    <style>\n",
    "        .output_prompt{opacity:0;}\n",
    "    </style>\n",
    "    \n",
    "    <input id=\"toggle_code\" type=\"button\" value=\"Toggle raw code\">\n",
    "''')"
   ]
  },
  {
   "cell_type": "code",
   "execution_count": null,
   "metadata": {
    "slideshow": {
     "slide_type": "fragment"
    }
   },
   "outputs": [],
   "source": [
    "from ipyleaflet import Map, GeoData\n",
    "import geopandas"
   ]
  },
  {
   "cell_type": "markdown",
   "metadata": {
    "slideshow": {
     "slide_type": "slide"
    }
   },
   "source": [
    "Don't worry if nothing happens. With import statements, if you get no error messages and the code chunk has been given a number, you're good to move on.<p>\n",
    "To get started, let's make a basic map. (click the arrow)"
   ]
  },
  {
   "cell_type": "code",
   "execution_count": null,
   "metadata": {
    "slideshow": {
     "slide_type": "fragment"
    }
   },
   "outputs": [],
   "source": [
    "mymap1 = Map(center=(40,-100), zoom = 4)\n",
    "mymap1"
   ]
  },
  {
   "cell_type": "markdown",
   "metadata": {
    "slideshow": {
     "slide_type": "slide"
    }
   },
   "source": [
    "This is a really simple interactive map. You can pan and zoom.<p>\n",
    "Now, let's get some geospatial data. The website www.naturalearthdata.com has a lot of very basic geospatial data for making simple maps. You can access this directly in Python code. We're going to retrieve and display major world rivers and cities.<p>\n",
    "Below, we're using a function from geopandas to retrieve the rivers data (geopandas.read_file) and then we use the \"head\" parameter to look at the first 5 rows of the data. <p>\n",
    "Click on the arrow. Note this one will take a bit longer to complete - there will be an asterisk in [ ] while processing proceeds. "
   ]
  },
  {
   "cell_type": "code",
   "execution_count": null,
   "metadata": {},
   "outputs": [],
   "source": [
    "rivers = geopandas.read_file(\"https://www.naturalearthdata.com/http//www.naturalearthdata.com/download/10m/physical/ne_10m_rivers_lake_centerlines.zip\")\n",
    "rivers.head()"
   ]
  },
  {
   "cell_type": "markdown",
   "metadata": {},
   "source": [
    "Scroll the output table all the way to the right and you'll see a column called \"geometry\". That's the geographic reference that is used to draw the lines and it's coded by listing a sequence of long/lat points along the river. Only the first one or two long/lat pairs are listed but the \"linestring\" is actually very long.<p>\n",
    "OK, now let's put those rivers on our map. We have to start with a function from ipyleaflet (GeoData) to reformat the downloaded dataset so that it can be displayed on the interactive map."
   ]
  },
  {
   "cell_type": "code",
   "execution_count": null,
   "metadata": {},
   "outputs": [],
   "source": [
    "rivers_layer = GeoData(geo_dataframe = rivers, style={'color':'blue'})\n",
    "mymap2 = Map(center=(40,-100), zoom = 4)\n",
    "mymap2.add_layer(rivers_layer)\n",
    "mymap2"
   ]
  },
  {
   "cell_type": "markdown",
   "metadata": {},
   "source": [
    "Great! You've just made a map showing the major rivers of the world. Now, let's get some point data for cities."
   ]
  },
  {
   "cell_type": "code",
   "execution_count": null,
   "metadata": {},
   "outputs": [],
   "source": [
    "cities = geopandas.read_file(\"https://www.naturalearthdata.com/http//www.naturalearthdata.com/download/110m/cultural/ne_110m_populated_places_simple.zip\")\n",
    "cities.head()"
   ]
  },
  {
   "cell_type": "markdown",
   "metadata": {},
   "source": [
    "Scroll this table to the right and you'll see the geometry column again. This time the data are points so all we need is a single long/lat pair for each city.<p>\n",
    "\n",
    "And now, put that data on a map!"
   ]
  },
  {
   "cell_type": "code",
   "execution_count": null,
   "metadata": {},
   "outputs": [],
   "source": [
    "cities_layer= GeoData(geo_dataframe = cities)\n",
    "mymap3 = Map(center=(40,-100), zoom = 4)\n",
    "mymap3.add_layer(cities_layer)\n",
    "mymap3"
   ]
  },
  {
   "cell_type": "markdown",
   "metadata": {
    "hide_input": true,
    "tags": [
     "6A"
    ]
   },
   "source": [
    "Excellent! You've made some simple maps with Python!<p>\n",
    "\n",
    "But how do we actually figure out and code the location of real things in the world? \n",
    "\n",
    "<a href=\"gd-3.ipynb\" class=\"link-logging\">Click here to move to the next set of slides to learn more!</a>"
   ]
  }
 ],
 "metadata": {
  "kernelspec": {
   "display_name": "Python 3 (ipykernel)",
   "language": "python",
   "name": "python3"
  },
  "language_info": {
   "codemirror_mode": {
    "name": "ipython",
    "version": 3
   },
   "file_extension": ".py",
   "mimetype": "text/x-python",
   "name": "python",
   "nbconvert_exporter": "python",
   "pygments_lexer": "ipython3",
   "version": "3.9.5"
  }
 },
 "nbformat": 4,
 "nbformat_minor": 4
}
