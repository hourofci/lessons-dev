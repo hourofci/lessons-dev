{
 "cells": [
  {
   "cell_type": "markdown",
   "metadata": {
    "slideshow": {
     "slide_type": "fragment"
    }
   },
   "source": [
    "## Introduction to Geospatial Data\n",
    "### Part 5 of 5\n",
    "# Storing geography in the computer"
   ]
  },
  {
   "cell_type": "markdown",
   "metadata": {
    "slideshow": {
     "slide_type": "slide"
    }
   },
   "source": [
    "\n",
    "## Reminder\n",
    "<a href=\"#/slide-2-0\" class=\"navigate-right\" style=\"background-color:blue;color:white;padding:8px;margin:2px;font-weight:bold;\">Continue with the lesson</a>\n",
    "\n",
    "<font size=\"+1\">\n",
    "\n",
    "By continuing with this lesson you are granting your permission to take part in this research study for the Hour of Cyberinfrastructure: Developing Cyber Literacy for GIScience project. In this study, you will be learning about cyberinfrastructure and related concepts using a web-based platform that will take approximately one hour per lesson. Participation in this study is voluntary.\n",
    "\n",
    "Participants in this research must be 18 years or older. If you are under the age of 18 then please exit this webpage or navigate to another website such as the Hour of Code at https://hourofcode.com, which is designed for K-12 students.\n",
    "\n",
    "If you are not interested in participating please exit the browser or navigate to this website: http://www.umn.edu. Your participation is voluntary and you are free to stop the lesson at any time.\n",
    "\n",
    "For the full description please navigate to this website: <a href=\"gateway-1.ipynb\">Gateway Lesson Research Study Permission</a>.\n",
    "\n",
    "</font>"
   ]
  },
  {
   "cell_type": "code",
   "execution_count": 12,
   "metadata": {
    "hide_input": true,
    "init_cell": true,
    "slideshow": {
     "slide_type": "skip"
    },
    "tags": [
     "Hide"
    ]
   },
   "outputs": [
    {
     "data": {
      "text/html": [
       " \n",
       "    <script type=\"text/javascript\" src=\"../../supplementary/js/custom.js\"></script>\n",
       "    \n",
       "    <style>\n",
       "        .output_prompt{opacity:0;}\n",
       "    </style>\n",
       "    \n",
       "    <input id=\"toggle_code\" type=\"button\" value=\"Toggle raw code\">\n"
      ],
      "text/plain": [
       "<IPython.core.display.HTML object>"
      ]
     },
     "execution_count": 12,
     "metadata": {},
     "output_type": "execute_result"
    }
   ],
   "source": [
    "# This code cell starts the necessary setup for Hour of CI lesson notebooks.\n",
    "# First, it enables users to hide and unhide code by producing a 'Toggle raw code' button below.\n",
    "# Second, it imports the hourofci package, which is necessary for lessons and interactive Jupyter Widgets.\n",
    "# Third, it helps hide/control other aspects of Jupyter Notebooks to improve the user experience\n",
    "# This is an initialization cell\n",
    "# It is not displayed because the Slide Type is 'Skip'\n",
    "\n",
    "from IPython.display import HTML, IFrame, Javascript, display\n",
    "from ipywidgets import interactive\n",
    "import ipywidgets as widgets\n",
    "from ipywidgets import Layout\n",
    "\n",
    "import getpass # This library allows us to get the username (User agent string)\n",
    "\n",
    "# import package for hourofci project\n",
    "import sys\n",
    "sys.path.append('../../supplementary') # relative path (may change depending on the location of the lesson notebook)\n",
    "import hourofci\n",
    "\n",
    "# load javascript to initialize/hide cells, get user agent string, and hide output indicator\n",
    "# hide code by introducing a toggle button \"Toggle raw code\"\n",
    "HTML(''' \n",
    "    <script type=\"text/javascript\" src=\\\"../../supplementary/js/custom.js\\\"></script>\n",
    "    \n",
    "    <style>\n",
    "        .output_prompt{opacity:0;}\n",
    "    </style>\n",
    "    \n",
    "    <input id=\"toggle_code\" type=\"button\" value=\"Toggle raw code\">\n",
    "''')"
   ]
  },
  {
   "cell_type": "markdown",
   "metadata": {
    "slideshow": {
     "slide_type": "slide"
    }
   },
   "source": [
    "## The world is infinitely complex\n",
    "<table>\n",
    "    <tr style=\"background: #fff\">\n",
    "        <td width=50%> <img src='supplementary/queenstown.jpg' alt='Picture of Queenstown, New Zealand'></td>\n",
    "        <td align=left valign=top>This is a photo looking down towards the SE on the mountain resort town of Queenstown, New Zealand (at 45.03 N lat, 168.66 E long).<br><br>\n",
    "            How many different kinds of things do you see here?\n",
    "            <br><br>\n",
    "            How can we decide what to measure and record?\n",
    "            <br><br>\n",
    "            And how can we structure data about this complex world into tables to represent this?????</td>\n",
    "    </tr>\n",
    "</table>"
   ]
  },
  {
   "cell_type": "markdown",
   "metadata": {
    "slideshow": {
     "slide_type": "slide"
    }
   },
   "source": [
    "## A famous GIScientist once said\n",
    "<i>\"People cultivate fields (but manipulate objects)\"</i> <small>**</small></p>\n",
    "This phrase summarizes the most important distinction we make when capturing geospatial data --\n",
    "<table>\n",
    "    <tr style=\"background: #fff\">\n",
    "        <td width=40%> <img src='supplementary/raster_vector.png' alt='Raster or vector?'></td>\n",
    "        <td align=left valign=top><b><u>Is the world made up of <i>fields</i> or <i>objects</i>?</u></b></td>\n",
    "    </tr>\n",
    "</table>\n",
    "<small>** by Helen Couclelis, 1992, <a href=\"https://www.researchgate.net/publication/221589734_People_Manipulate_Objects_but_Cultivate_Fields_Beyond_the_Raster-Vector_Debate_in_GIS\">\"People Manipulate Objects (but Cultivate Fields): Beyond the Raster-Vector Debate in GIS\"</a> from the book *Theories and Methods of Spatio-Temporal Reasoning in Geographic Space: International Conference GIS — From Space to Territory: Theories and Methods of Spatio-Temporal Reasoning* Pisa, Italy, September 21–23, 1992 (pp.65-77)</small>"
   ]
  },
  {
   "cell_type": "markdown",
   "metadata": {
    "slideshow": {
     "slide_type": "slide"
    }
   },
   "source": [
    "Think about the picture of Queenstown we looked at earlier. \n",
    " \n",
    "The rolling surface of the landscape is continuous. There's land or water, at various elevations, everywhere. That's a *field*. Elevation is the classic field. There is a value of elevation everywhere. \n",
    "\n",
    "Then consider all the manmade structures in the picture. There are buildings, lightposts, roads. These are *objects*. The object world view is mostly empty, with objects scattered around. "
   ]
  },
  {
   "cell_type": "markdown",
   "metadata": {
    "slideshow": {
     "slide_type": "slide"
    },
    "tags": [
     "6A"
    ],
    "variables": {
     "IFrame(\"supplementary/sort-field-object.html\", width=970, height=530)": "\n        <iframe\n            width=\"970\"\n            height=\"530\"\n            src=\"supplementary/sort-field-object.html\"\n            frameborder=\"0\"\n            allowfullscreen\n        ></iframe>\n        "
    }
   },
   "source": [
    "So, let's see if you can separate these two perspectives.\n",
    "\n",
    "{{IFrame(\"supplementary/sort-field-object.html\", width=970, height=530)}}"
   ]
  },
  {
   "cell_type": "markdown",
   "metadata": {
    "slideshow": {
     "slide_type": "slide"
    }
   },
   "source": [
    "<center><large>Now let's look at some geospatial data that are coded as either objects or fields."
   ]
  },
  {
   "cell_type": "markdown",
   "metadata": {
    "slideshow": {
     "slide_type": "slide"
    }
   },
   "source": [
    "Starting with field data, here is a file of elevation measurements in the area to the south of Queenstown which is located near the center top of the image. You can see the lakes in the pale grey color."
   ]
  },
  {
   "cell_type": "code",
   "execution_count": 2,
   "metadata": {
    "scrolled": false,
    "tags": [
     "6B"
    ]
   },
   "outputs": [
    {
     "data": {
      "image/png": "[encoded data removed]",
      "text/plain": [
       "<Figure size 432x288 with 1 Axes>"
      ]
     },
     "metadata": {
      "needs_background": "light"
     },
     "output_type": "display_data"
    }
   ],
   "source": [
    "import rasterio\n",
    "from matplotlib import pyplot\n",
    "filepath = 'https://dds.cr.usgs.gov/srtm/version1/Islands/S46E168.hgt.zip'\n",
    "raster = rasterio.open(filepath, 'r')\n",
    "pyplot.imshow(raster.read(1), cmap='terrain')\n",
    "pyplot.show()"
   ]
  },
  {
   "cell_type": "markdown",
   "metadata": {
    "slideshow": {
     "slide_type": "slide"
    }
   },
   "source": [
    "Now we can look at how the field data is actually stored."
   ]
  },
  {
   "cell_type": "code",
   "execution_count": 3,
   "metadata": {
    "scrolled": true,
    "tags": [
     "6C"
    ]
   },
   "outputs": [
    {
     "data": {
      "text/plain": [
       "array([[[ 398,  388,  382, ...,  983,  999, 1014],\n",
       "        [ 401,  387,  379, ...,  955,  976,  992],\n",
       "        [ 395,  384,  375, ...,  934,  952,  969],\n",
       "        ...,\n",
       "        [ 149,  142,  137, ...,  164,  163,  162],\n",
       "        [ 165,  150,  145, ...,  159,  160,  160],\n",
       "        [ 171,  158,  158, ...,  153,  151,  153]]], dtype=int16)"
      ]
     },
     "execution_count": 3,
     "metadata": {},
     "output_type": "execute_result"
    }
   ],
   "source": [
    "raster.read()"
   ]
  },
  {
   "cell_type": "markdown",
   "metadata": {},
   "source": [
    "What we're seeing here is the beginning and end of the first three and last three lines of the file. What's all this???"
   ]
  },
  {
   "cell_type": "markdown",
   "metadata": {
    "slideshow": {
     "slide_type": "slide"
    }
   },
   "source": [
    "Field data is usually stored as *rasters*.\n",
    "\n",
    "To store the world into a raster, the surface of the earth is divided into a grid of equal sized cells that covers a specific chunk of the earth, say a square that is 10 m by 10 m. \n",
    "\n",
    "<table>\n",
    "    <tr style=\"background: #fff\">\n",
    "        <td width=40%> <img src='supplementary/world_to_raster_sm.png' alt='World to raster'></td>\n",
    "        <td align=left valign=top>Each cell is given a value that represents the data that has been measured on the earth in that cell.<br><br>\n",
    "            In the raster in this graphic, the building has been coded with the value green and the road has been coded with the value red.\n",
    "        </td>\n",
    "    </tr>\n",
    "</table>"
   ]
  },
  {
   "cell_type": "markdown",
   "metadata": {
    "slideshow": {
     "slide_type": "slide"
    }
   },
   "source": [
    "So, let's look again at that field data. Run both of these code chunks."
   ]
  },
  {
   "cell_type": "code",
   "execution_count": 5,
   "metadata": {
    "scrolled": true,
    "tags": [
     "6D"
    ]
   },
   "outputs": [
    {
     "name": "stdout",
     "output_type": "stream",
     "text": [
      "The Raster is 1201 cells wide and 1201 cells high\n"
     ]
    }
   ],
   "source": [
    "print(\"The Raster is\", raster.width, \"cells wide and\", raster.height, \"cells high\")"
   ]
  },
  {
   "cell_type": "code",
   "execution_count": 6,
   "metadata": {
    "scrolled": true,
    "tags": [
     "6E"
    ]
   },
   "outputs": [
    {
     "data": {
      "text/plain": [
       "BoundingBox(left=167.99958333333333, bottom=-46.000416666666666, right=169.00041666666667, top=-44.999583333333334)"
      ]
     },
     "execution_count": 6,
     "metadata": {},
     "output_type": "execute_result"
    }
   ],
   "source": [
    "raster.bounds"
   ]
  },
  {
   "cell_type": "markdown",
   "metadata": {
    "slideshow": {
     "slide_type": "-"
    }
   },
   "source": [
    "These show us that the NW (top left) corner of the area covered is 45 S latitude and 168 E longitude and the area covered is 1 degree of latitude high and 1 degree of longitude wide. Since 1 degree is 3600 seconds, this means the cell dimensions are 3 arc seconds of a degree (that's approx 100m wide and 300m high at this latitude). <large><i>ERIC!! Is this correct???</i></large>"
   ]
  },
  {
   "cell_type": "markdown",
   "metadata": {
    "slideshow": {
     "slide_type": "slide"
    }
   },
   "source": [
    "Each row in the file shows us the average elevation value (in meters) in each cell across a row of the grid. Run this code to see the file again."
   ]
  },
  {
   "cell_type": "code",
   "execution_count": 7,
   "metadata": {
    "tags": [
     "6F"
    ]
   },
   "outputs": [
    {
     "data": {
      "text/plain": [
       "array([[[ 398,  388,  382, ...,  983,  999, 1014],\n",
       "        [ 401,  387,  379, ...,  955,  976,  992],\n",
       "        [ 395,  384,  375, ...,  934,  952,  969],\n",
       "        ...,\n",
       "        [ 149,  142,  137, ...,  164,  163,  162],\n",
       "        [ 165,  150,  145, ...,  159,  160,  160],\n",
       "        [ 171,  158,  158, ...,  153,  151,  153]]], dtype=int16)"
      ]
     },
     "execution_count": 7,
     "metadata": {},
     "output_type": "execute_result"
    }
   ],
   "source": [
    "raster.read()"
   ]
  },
  {
   "cell_type": "markdown",
   "metadata": {},
   "source": [
    "Note that the elevations are much higher in the NE corner (as evidenced by the high values at the end of the first few rows) and lower along the southern edge (shown in the final rows). "
   ]
  },
  {
   "cell_type": "markdown",
   "metadata": {
    "slideshow": {
     "slide_type": "slide"
    }
   },
   "source": [
    "Now let's look at how object data is stored - hint, it's completely different! And WAY more complex. \n",
    "\n",
    "We'll start simple. When you ask Google to show you all the nearby restaurants on a map, you get a map with a bunch of pins, some with labels. You can click on them and find out information about those places. Those dots represent restaurant objects.\n",
    "\n",
    "For example..."
   ]
  },
  {
   "cell_type": "markdown",
   "metadata": {
    "slideshow": {
     "slide_type": "slide"
    }
   },
   "source": [
    "Here's a map of Queenstown showing some points of interest. Now we're looking north and the camera point for the photo used earlier is the cleared area at the top of the hill on the left.\n",
    "\n",
    "<a href=\"https://www.google.com/maps/place/Queenstown,+New+Zealand/@-45.0514839,168.6648181,1609a,35y,345.22h,54.63t/data=!3m1!1e3!4m5!3m4!1s0xa9d51df1d7a8de5f:0x500ef868479a600!8m2!3d-45.0301511!4d168.6616206\">This link will take you to this map live in Google Maps.</a>\n",
    "![Queenstown POIs](supplementary/queenstown_google_POI.png)\n"
   ]
  },
  {
   "cell_type": "markdown",
   "metadata": {
    "slideshow": {
     "slide_type": "slide"
    }
   },
   "source": [
    "Now, let's see how that data is stored in a file. In Try-it Exercise #1 you looked at a point dataset. Remember this? (click the arrow to the left of the code)"
   ]
  },
  {
   "cell_type": "code",
   "execution_count": 8,
   "metadata": {
    "tags": [
     "6G"
    ]
   },
   "outputs": [
    {
     "data": {
      "text/html": [
       "<div>\n",
       "<style scoped>\n",
       "    .dataframe tbody tr th:only-of-type {\n",
       "        vertical-align: middle;\n",
       "    }\n",
       "\n",
       "    .dataframe tbody tr th {\n",
       "        vertical-align: top;\n",
       "    }\n",
       "\n",
       "    .dataframe thead th {\n",
       "        text-align: right;\n",
       "    }\n",
       "</style>\n",
       "<table border=\"1\" class=\"dataframe\">\n",
       "  <thead>\n",
       "    <tr style=\"text-align: right;\">\n",
       "      <th></th>\n",
       "      <th>scalerank</th>\n",
       "      <th>natscale</th>\n",
       "      <th>labelrank</th>\n",
       "      <th>featurecla</th>\n",
       "      <th>name</th>\n",
       "      <th>namepar</th>\n",
       "      <th>namealt</th>\n",
       "      <th>diffascii</th>\n",
       "      <th>nameascii</th>\n",
       "      <th>adm0cap</th>\n",
       "      <th>...</th>\n",
       "      <th>rank_max</th>\n",
       "      <th>rank_min</th>\n",
       "      <th>geonameid</th>\n",
       "      <th>meganame</th>\n",
       "      <th>ls_name</th>\n",
       "      <th>ls_match</th>\n",
       "      <th>checkme</th>\n",
       "      <th>min_zoom</th>\n",
       "      <th>ne_id</th>\n",
       "      <th>geometry</th>\n",
       "    </tr>\n",
       "  </thead>\n",
       "  <tbody>\n",
       "    <tr>\n",
       "      <th>0</th>\n",
       "      <td>10</td>\n",
       "      <td>1</td>\n",
       "      <td>5</td>\n",
       "      <td>Admin-1 region capital</td>\n",
       "      <td>Bombo</td>\n",
       "      <td>None</td>\n",
       "      <td>None</td>\n",
       "      <td>0</td>\n",
       "      <td>Bombo</td>\n",
       "      <td>0.0</td>\n",
       "      <td>...</td>\n",
       "      <td>8</td>\n",
       "      <td>7</td>\n",
       "      <td>0.0</td>\n",
       "      <td>None</td>\n",
       "      <td>None</td>\n",
       "      <td>0</td>\n",
       "      <td>0</td>\n",
       "      <td>7.0</td>\n",
       "      <td>1159113923</td>\n",
       "      <td>POINT (32.53330 0.58330)</td>\n",
       "    </tr>\n",
       "    <tr>\n",
       "      <th>1</th>\n",
       "      <td>10</td>\n",
       "      <td>1</td>\n",
       "      <td>5</td>\n",
       "      <td>Admin-1 region capital</td>\n",
       "      <td>Fort Portal</td>\n",
       "      <td>None</td>\n",
       "      <td>None</td>\n",
       "      <td>0</td>\n",
       "      <td>Fort Portal</td>\n",
       "      <td>0.0</td>\n",
       "      <td>...</td>\n",
       "      <td>7</td>\n",
       "      <td>7</td>\n",
       "      <td>233476.0</td>\n",
       "      <td>None</td>\n",
       "      <td>None</td>\n",
       "      <td>0</td>\n",
       "      <td>0</td>\n",
       "      <td>7.0</td>\n",
       "      <td>1159113959</td>\n",
       "      <td>POINT (30.27500 0.67100)</td>\n",
       "    </tr>\n",
       "    <tr>\n",
       "      <th>2</th>\n",
       "      <td>10</td>\n",
       "      <td>1</td>\n",
       "      <td>3</td>\n",
       "      <td>Admin-1 region capital</td>\n",
       "      <td>Potenza</td>\n",
       "      <td>None</td>\n",
       "      <td>None</td>\n",
       "      <td>0</td>\n",
       "      <td>Potenza</td>\n",
       "      <td>0.0</td>\n",
       "      <td>...</td>\n",
       "      <td>8</td>\n",
       "      <td>8</td>\n",
       "      <td>3170027.0</td>\n",
       "      <td>None</td>\n",
       "      <td>None</td>\n",
       "      <td>0</td>\n",
       "      <td>0</td>\n",
       "      <td>7.0</td>\n",
       "      <td>1159117259</td>\n",
       "      <td>POINT (15.79900 40.64200)</td>\n",
       "    </tr>\n",
       "    <tr>\n",
       "      <th>3</th>\n",
       "      <td>10</td>\n",
       "      <td>1</td>\n",
       "      <td>3</td>\n",
       "      <td>Admin-1 region capital</td>\n",
       "      <td>Campobasso</td>\n",
       "      <td>None</td>\n",
       "      <td>None</td>\n",
       "      <td>0</td>\n",
       "      <td>Campobasso</td>\n",
       "      <td>0.0</td>\n",
       "      <td>...</td>\n",
       "      <td>8</td>\n",
       "      <td>8</td>\n",
       "      <td>3180991.0</td>\n",
       "      <td>None</td>\n",
       "      <td>None</td>\n",
       "      <td>0</td>\n",
       "      <td>0</td>\n",
       "      <td>7.0</td>\n",
       "      <td>1159117283</td>\n",
       "      <td>POINT (14.65600 41.56300)</td>\n",
       "    </tr>\n",
       "    <tr>\n",
       "      <th>4</th>\n",
       "      <td>10</td>\n",
       "      <td>1</td>\n",
       "      <td>3</td>\n",
       "      <td>Admin-1 region capital</td>\n",
       "      <td>Aosta</td>\n",
       "      <td>None</td>\n",
       "      <td>None</td>\n",
       "      <td>0</td>\n",
       "      <td>Aosta</td>\n",
       "      <td>0.0</td>\n",
       "      <td>...</td>\n",
       "      <td>7</td>\n",
       "      <td>7</td>\n",
       "      <td>3182997.0</td>\n",
       "      <td>None</td>\n",
       "      <td>None</td>\n",
       "      <td>0</td>\n",
       "      <td>0</td>\n",
       "      <td>7.0</td>\n",
       "      <td>1159117361</td>\n",
       "      <td>POINT (7.31500 45.73700)</td>\n",
       "    </tr>\n",
       "  </tbody>\n",
       "</table>\n",
       "<p>5 rows × 39 columns</p>\n",
       "</div>"
      ],
      "text/plain": [
       "   scalerank  natscale  labelrank              featurecla         name  \\\n",
       "0         10         1          5  Admin-1 region capital        Bombo   \n",
       "1         10         1          5  Admin-1 region capital  Fort Portal   \n",
       "2         10         1          3  Admin-1 region capital      Potenza   \n",
       "3         10         1          3  Admin-1 region capital   Campobasso   \n",
       "4         10         1          3  Admin-1 region capital        Aosta   \n",
       "\n",
       "  namepar namealt  diffascii    nameascii  adm0cap  ...  rank_max rank_min  \\\n",
       "0    None    None          0        Bombo      0.0  ...         8        7   \n",
       "1    None    None          0  Fort Portal      0.0  ...         7        7   \n",
       "2    None    None          0      Potenza      0.0  ...         8        8   \n",
       "3    None    None          0   Campobasso      0.0  ...         8        8   \n",
       "4    None    None          0        Aosta      0.0  ...         7        7   \n",
       "\n",
       "   geonameid  meganame ls_name ls_match checkme min_zoom       ne_id  \\\n",
       "0        0.0      None    None        0       0      7.0  1159113923   \n",
       "1   233476.0      None    None        0       0      7.0  1159113959   \n",
       "2  3170027.0      None    None        0       0      7.0  1159117259   \n",
       "3  3180991.0      None    None        0       0      7.0  1159117283   \n",
       "4  3182997.0      None    None        0       0      7.0  1159117361   \n",
       "\n",
       "                    geometry  \n",
       "0   POINT (32.53330 0.58330)  \n",
       "1   POINT (30.27500 0.67100)  \n",
       "2  POINT (15.79900 40.64200)  \n",
       "3  POINT (14.65600 41.56300)  \n",
       "4   POINT (7.31500 45.73700)  \n",
       "\n",
       "[5 rows x 39 columns]"
      ]
     },
     "execution_count": 8,
     "metadata": {},
     "output_type": "execute_result"
    }
   ],
   "source": [
    "import geopandas\n",
    "#cities = geopandas.read_file(\"https://www.naturalearthdata.com/http//www.naturalearthdata.com/download/110m/cultural/ne_110m_populated_places.zip\")\n",
    "cities = geopandas.read_file(\"https://www.naturalearthdata.com/http//www.naturalearthdata.com/download/50m/cultural/ne_50m_populated_places_simple.zip\")\n",
    "cities.head()"
   ]
  },
  {
   "cell_type": "markdown",
   "metadata": {
    "slideshow": {
     "slide_type": "slide"
    }
   },
   "source": [
    "In the table we just generated, each row has \n",
    "- an object ID\n",
    "- some data about various attributes for that object\n",
    "- then a column with an entry that is the point location \n",
    "\n",
    "Click back one slide to check this out. "
   ]
  },
  {
   "cell_type": "markdown",
   "metadata": {
    "slideshow": {
     "slide_type": "slide"
    }
   },
   "source": [
    "Now let's see again how that table can generate the dots on a map..."
   ]
  },
  {
   "cell_type": "code",
   "execution_count": 9,
   "metadata": {
    "tags": [
     "6H"
    ]
   },
   "outputs": [
    {
     "data": {
      "application/vnd.jupyter.widget-view+json": {
       "model_id": "ef4e5e1e10b04ab8ab81c1cb79033349",
       "version_major": 2,
       "version_minor": 0
      },
      "text/plain": [
       "Map(center=[-43, 168], controls=(ZoomControl(options=['position', 'zoom_in_text', 'zoom_in_title', 'zoom_out_t…"
      ]
     },
     "metadata": {},
     "output_type": "display_data"
    }
   ],
   "source": [
    "from ipyleaflet import Map, GeoData\n",
    "cities_layer= GeoData(geo_dataframe = cities)\n",
    "mymap = Map(center=(-43,168), zoom = 5)\n",
    "mymap.add_layer(cities_layer)\n",
    "mymap"
   ]
  },
  {
   "cell_type": "markdown",
   "metadata": {
    "slideshow": {
     "slide_type": "slide"
    }
   },
   "source": [
    "OK, let's get back to fields and objects and how we put them into the computer. Remember this? \n",
    "\n",
    "<table>\n",
    "    <tr style=\"background: #fff\">\n",
    "        <td width=40%> <img src='supplementary/raster_vector.png' alt='Raster or vector'></td>\n",
    "        <td align=left valign=top>These two graphics show the two most common <i><u>data models</u></i> for geospatial data.<br><br> \n",
    "            Fields are stored as grids called <i>rasters</i> and there is a value everywhere. <br><br> \n",
    "            Objects, which are scattered around mostly empty space, are stored as <i>vectors</i>.<br><br><br> \n",
    "            So, tell me more about vectors, you say...</td>\n",
    "    </tr>\n",
    "</table>"
   ]
  },
  {
   "cell_type": "markdown",
   "metadata": {
    "slideshow": {
     "slide_type": "slide"
    }
   },
   "source": [
    "Vectors usually come in three varieties - points, lines and polygons. \n",
    "<table>\n",
    "    <tr style=\"background: #fff\">\n",
    "        <td width=30%> <img src='supplementary/vectors_sm.png' alt='Raster or vector'></td>\n",
    "        <td align=left valign=top>Points are good for things like cities on a world map, or lightpoles and signposts on a neighborhood map.<br><br> \n",
    "            Lines are for rivers, roads, railways, boundaries - that sort of thing.<br><br> \n",
    "            Polygons are areas. So they're used for lakes, building footprints, parks.</td>\n",
    "    </tr>\n",
    "</table>"
   ]
  },
  {
   "cell_type": "markdown",
   "metadata": {
    "slideshow": {
     "slide_type": "slide"
    }
   },
   "source": [
    "Vector data has two components.\n",
    "<table>\n",
    "    <tr style=\"background: #fff\">\n",
    "        <td width=40%> <img src='supplementary/vector_structure.png' alt='Vector structure'></td>\n",
    "        <td align=left valign=top>These components can be stored together in a table by including one or more columns that provide the direct georeference (e.g. lat and long).<br><br>\n",
    "            <i>OR</i>, these components can be stored separately. Attributes with an object ID in one table and the geometry labelled with the same IDs in a separate file. </td>\n",
    "    </tr>\n",
    "</table>"
   ]
  },
  {
   "cell_type": "markdown",
   "metadata": {
    "slideshow": {
     "slide_type": "slide"
    }
   },
   "source": [
    "By the way, it's important to know that you can't mix up points, lines and polygons in a single geospatial data file. If you want a map that shows points, lines and polygons, then you'll need at least three different datasets, one for each type of vector object.\n",
    "\n",
    "Remember the rivers data in our Try-it Exercise #1? Let's add it to the map. \n",
    "\n",
    "First, we'll get it again, just in case it's not currently loaded. (click the arrow to the left)"
   ]
  },
  {
   "cell_type": "code",
   "execution_count": 10,
   "metadata": {
    "tags": [
     "6I"
    ]
   },
   "outputs": [],
   "source": [
    "rivers = geopandas.read_file(\"https://www.naturalearthdata.com/http//www.naturalearthdata.com/download/10m/physical/ne_10m_rivers_lake_centerlines.zip\")\n",
    "rivers_layer = GeoData(geo_dataframe = rivers, style={'color':'blue'})"
   ]
  },
  {
   "cell_type": "markdown",
   "metadata": {},
   "source": [
    "(wait for the asterisk to turn into a number...) then go to the next slide and we'll add it to the cities data..."
   ]
  },
  {
   "cell_type": "code",
   "execution_count": 11,
   "metadata": {
    "scrolled": false,
    "slideshow": {
     "slide_type": "slide"
    },
    "tags": [
     "6J"
    ]
   },
   "outputs": [
    {
     "data": {
      "application/vnd.jupyter.widget-view+json": {
       "model_id": "73dbf491afa3434cab5f3cc4213b431e",
       "version_major": 2,
       "version_minor": 0
      },
      "text/plain": [
       "Map(center=[-43, 168], controls=(ZoomControl(options=['position', 'zoom_in_text', 'zoom_in_title', 'zoom_out_t…"
      ]
     },
     "metadata": {},
     "output_type": "display_data"
    }
   ],
   "source": [
    "mymap2 = Map(center=(-43,168), zoom = 5)\n",
    "mymap2.add_layer(cities_layer)\n",
    "mymap2.add_layer(rivers_layer)\n",
    "mymap2"
   ]
  },
  {
   "cell_type": "markdown",
   "metadata": {
    "slideshow": {
     "slide_type": "slide"
    },
    "tags": [
     "6K"
    ],
    "variables": {
     "IFrame(\"supplementary/sort-raster-vector.html\", width=970, height=430)": "\n        <iframe\n            width=\"970\"\n            height=\"430\"\n            src=\"supplementary/sort-raster-vector.html\"\n            frameborder=\"0\"\n            allowfullscreen\n        ></iframe>\n        "
    }
   },
   "source": [
    "OK, now let's practice these concepts. For each of the following kinds of geospatial data, choose the data model (raster or vector) that it's most likely to be stored in.<p> \n",
    "\n",
    "{{IFrame(\"supplementary/sort-raster-vector.html\", width=970, height=430)}}"
   ]
  },
  {
   "cell_type": "markdown",
   "metadata": {
    "slideshow": {
     "slide_type": "slide"
    }
   },
   "source": [
    "Well done! Now you know a little bit about geospatial data. \n",
    "\n",
    "If you have worked through this lesson carefully, you should now be able to: \n",
    "1. Explain what is special about geospatial data.\n",
    "2. Describe how location can be measured and recorded in geospatial data.\n",
    "3. Explain the difference between raster and vector data.\n",
    "4. Identify several different types of geospatial data.\n",
    "5. Load and view different kinds of geospatial data in Python Notebooks."
   ]
  },
  {
   "cell_type": "markdown",
   "metadata": {
    "slideshow": {
     "slide_type": "slide"
    }
   },
   "source": [
    "If you still have time, feel free to go back to the two Try-It exercises and try out downloading some different datasets from the sources. Make maps of different parts of the earth or of different days from the Johns Hopkins data server. \n",
    "\n",
    "If you want to learn more about geospatial data, you can go on to the intermediate Geospatial Data lesson.\n",
    "\n",
    "Or you can go back and complete some of the other introductory lessons as they all touch on the use of geospatial data. "
   ]
  }
 ],
 "metadata": {
  "celltoolbar": "Tags",
  "kernelspec": {
   "display_name": "Python 3",
   "language": "python",
   "name": "python3"
  },
  "language_info": {
   "codemirror_mode": {
    "name": "ipython",
    "version": 3
   },
   "file_extension": ".py",
   "mimetype": "text/x-python",
   "name": "python",
   "nbconvert_exporter": "python",
   "pygments_lexer": "ipython3",
   "version": "3.7.7"
  },
  "rise": {
   "autolaunch": true,
   "overlay": "<div class='hciheader'></div><div class='hcifooter'></div>",
   "scroll": true
  }
 },
 "nbformat": 4,
 "nbformat_minor": 4
}
