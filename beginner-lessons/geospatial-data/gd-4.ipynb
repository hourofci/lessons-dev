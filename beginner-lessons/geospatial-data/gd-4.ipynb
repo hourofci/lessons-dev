{
 "cells": [
  {
   "cell_type": "code",
   "execution_count": 1,
   "metadata": {
    "hide_input": false,
    "init_cell": true,
    "slideshow": {
     "slide_type": "skip"
    },
    "tags": [
     "Hide"
    ]
   },
   "outputs": [
    {
     "data": {
      "text/html": [
       " \n",
       "    <script type=\"text/javascript\" src=\"../../supplementary/js/custom.js\"></script>\n",
       "    \n",
       "    <style>\n",
       "        .output_prompt{opacity:0;}\n",
       "    </style>\n",
       "    \n",
       "    <input id=\"toggle_code\" type=\"button\" value=\"Toggle raw code\">\n"
      ],
      "text/plain": [
       "<IPython.core.display.HTML object>"
      ]
     },
     "execution_count": 1,
     "metadata": {},
     "output_type": "execute_result"
    }
   ],
   "source": [
    "# This code cell starts the necessary setup for Hour of CI lesson notebooks.\n",
    "# First, it enables users to hide and unhide code by producing a 'Toggle raw code' button below.\n",
    "# Second, it imports the hourofci package, which is necessary for lessons and interactive Jupyter Widgets.\n",
    "# Third, it helps hide/control other aspects of Jupyter Notebooks to improve the user experience\n",
    "# This is an initialization cell\n",
    "# It is not displayed because the Slide Type is 'Skip'\n",
    "\n",
    "from IPython.display import HTML, IFrame, Javascript, display\n",
    "from ipywidgets import interactive\n",
    "import ipywidgets as widgets\n",
    "from ipywidgets import Layout\n",
    "\n",
    "import getpass # This library allows us to get the username (User agent string)\n",
    "\n",
    "# import package for hourofci project\n",
    "import sys\n",
    "sys.path.append('../../supplementary') # relative path (may change depending on the location of the lesson notebook)\n",
    "import hourofci\n",
    "\n",
    "# load javascript to initialize/hide cells, get user agent string, and hide output indicator\n",
    "# hide code by introducing a toggle button \"Toggle raw code\"\n",
    "HTML(''' \n",
    "    <script type=\"text/javascript\" src=\\\"../../supplementary/js/custom.js\\\"></script>\n",
    "    \n",
    "    <style>\n",
    "        .output_prompt{opacity:0;}\n",
    "    </style>\n",
    "    \n",
    "    <input id=\"toggle_code\" type=\"button\" value=\"Toggle raw code\">\n",
    "''')"
   ]
  },
  {
   "cell_type": "markdown",
   "metadata": {
    "slideshow": {
     "slide_type": "slide"
    }
   },
   "source": [
    "## Introduction to Geospatial Data\n",
    "### Part 3 of 5\n",
    "# Exploring Direct Georeferencing"
   ]
  },
  {
   "cell_type": "markdown",
   "metadata": {
    "slideshow": {
     "slide_type": "slide"
    }
   },
   "source": [
    "\n",
    "## Reminder\n",
    "<a href=\"#/slide-2-0\" class=\"navigate-right\" style=\"background-color:blue;color:white;padding:8px;margin:2px;font-weight:bold;\">Continue with the lesson</a>\n",
    "\n",
    "<font size=\"+1\">\n",
    "\n",
    "By continuing with this lesson you are granting your permission to take part in this research study for the Hour of Cyberinfrastructure: Developing Cyber Literacy for GIScience project. In this study, you will be learning about cyberinfrastructure and related concepts using a web-based platform that will take approximately one hour per lesson. Participation in this study is voluntary.\n",
    "\n",
    "Participants in this research must be 18 years or older. If you are under the age of 18 then please exit this webpage or navigate to another website such as the Hour of Code at https://hourofcode.com, which is designed for K-12 students.\n",
    "\n",
    "If you are not interested in participating please exit the browser or navigate to this website: http://www.umn.edu. Your participation is voluntary and you are free to stop the lesson at any time.\n",
    "\n",
    "For the full description please navigate to this website: <a href=\"gateway-1.ipynb\">Gateway Lesson Research Study Permission</a>.\n",
    "\n",
    "</font>"
   ]
  },
  {
   "cell_type": "markdown",
   "metadata": {
    "hide_input": false,
    "slideshow": {
     "slide_type": "slide"
    },
    "tags": [
     "4A"
    ],
    "variables": {
     "IFrame(\"supplementary/grid-1.html\", width=970, height=530)": "\n        <iframe\n            width=\"970\"\n            height=\"530\"\n            src=\"supplementary/grid-1.html\"\n            frameborder=\"0\"\n            allowfullscreen\n        ></iframe>\n        "
    }
   },
   "source": [
    "## Let’s try using descriptions to identify location.\n",
    "Drag each symbol to its correct location as shown in the table.\n",
    "\n",
    "{{IFrame(\"supplementary/grid-1.html\", width=970, height=530)}}"
   ]
  },
  {
   "cell_type": "markdown",
   "metadata": {
    "slideshow": {
     "slide_type": "slide"
    },
    "tags": [
     "4B"
    ],
    "variables": {
     "IFrame(\"supplementary/grid-2.html\", width=970, height=530)": "\n        <iframe\n            width=\"970\"\n            height=\"530\"\n            src=\"supplementary/grid-2.html\"\n            frameborder=\"0\"\n            allowfullscreen\n        ></iframe>\n        "
    }
   },
   "source": [
    "### Let's use numeric coordinates this time.\n",
    "Drag each symbol to its correct location as shown in the table. This may be a little less easy, but use the same thinking as before!\n",
    "\n",
    "{{IFrame(\"supplementary/grid-2.html\", width=970, height=530)}}"
   ]
  },
  {
   "cell_type": "markdown",
   "metadata": {
    "slideshow": {
     "slide_type": "slide"
    },
    "tags": [
     "4C"
    ],
    "variables": {
     "IFrame(\"supplementary/dresser.html\", width=620, height=630)": "\n        <iframe\n            width=\"620\"\n            height=\"630\"\n            src=\"supplementary/dresser.html\"\n            frameborder=\"0\"\n            allowfullscreen\n        ></iframe>\n        "
    }
   },
   "source": [
    "### Coordinate systems are everywhere\n",
    "They are used to label the location of things, so that we can find them again.\n",
    "\n",
    "This dresser, for example, has a coordinate system!\n",
    "- Your stuffed hippo is in the lower right drawer, go get it!\n",
    "- Stuffed hippo **coordinates**: (lower, right drawer)\n",
    "\n",
    "{{IFrame(\"supplementary/dresser.html\", width=620, height=630)}}"
   ]
  },
  {
   "cell_type": "markdown",
   "metadata": {
    "slideshow": {
     "slide_type": "slide"
    },
    "tags": [
     "2D"
    ],
    "variables": {
     "IFrame(\"supplementary/bookshelf.html\", width=620, height=430)": "\n        <iframe\n            width=\"620\"\n            height=\"430\"\n            src=\"supplementary/bookshelf.html\"\n            frameborder=\"0\"\n            allowfullscreen\n        ></iframe>\n        "
    }
   },
   "source": [
    "This library too, has a coordinate system!\n",
    "- The book about hippos you want to read is in aisle 1A on the upper shelf. Go get it!\n",
    "- Hippo book **coordinates**: (1A aisle, upper shelf)\n",
    "\n",
    "{{IFrame(\"supplementary/bookshelf.html\", width=620, height=430)}}"
   ]
  },
  {
   "cell_type": "markdown",
   "metadata": {
    "slideshow": {
     "slide_type": "slide"
    }
   },
   "source": [
    "Some **coordinate systems** are used so frequently that they are given dedicated names.\n",
    "\n",
    "The **“Cartesian” coordinate system**, for example, was thought of by René Descartes. You learned about this in your math classes in grade school.\n",
    "\n",
    "### Let’s try using the Cartesian coordinate system to draw a trajectory (path)."
   ]
  },
  {
   "cell_type": "markdown",
   "metadata": {
    "slideshow": {
     "slide_type": "slide"
    },
    "tags": [
     "4E"
    ],
    "variables": {
     "IFrame(\"supplementary/cartesian.html\", width=620, height=540)": "\n        <iframe\n            width=\"620\"\n            height=\"540\"\n            src=\"supplementary/cartesian.html\"\n            frameborder=\"0\"\n            allowfullscreen\n        ></iframe>\n        "
    }
   },
   "source": [
    "### Someone recorded the path of the hippo across this map.\n",
    "Use the Cartesian coordinate system to draw the trajectory (path) of the hippo.\n",
    "- The hippo's trajectory coordinates are: `[(-4,6), (0,5), (3,-2)]`\n",
    "\n",
    "{{IFrame(\"supplementary/cartesian.html\", width=620, height=540)}}"
   ]
  },
  {
   "cell_type": "markdown",
   "metadata": {
    "slideshow": {
     "slide_type": "slide"
    }
   },
   "source": [
    "## <center> But the earth is a sphere!\n",
    "<center><img src='supplementary/globe.jpg' alt='globe' style=\"width:300px;\"> \n",
    "<small>Photo by <a href=\"https://unsplash.com/@bill_oxford\">Bill Oxford</a> on <a href=\"https://unsplash.com/s/photos/globe\">Unsplash</a></small>"
   ]
  },
  {
   "cell_type": "markdown",
   "metadata": {
    "slideshow": {
     "slide_type": "slide"
    }
   },
   "source": [
    "In order to find coordinates on the spherical earth we use an <i>angular</i> measurement system that produces the coordinates *latitude and longitude*. \n",
    "<table>\n",
    "    <tr style=\"background: #fff\">\n",
    "        <td><img src='supplementary/globelatlong.jfif' alt='Latitude and Longitude'></td> \n",
    "        <td><large>Latitude is the angle north or south of the plane of the equator.<br><br>Longitude is the angle east and west of a standard meridian (a line running pole to pole).</td>\n",
    "    </tr>\n",
    "</table>\n",
    "\n",
    "<small>Image source <a href=\"https://openstax.org/details/books/calculus-volume-3\">openstax</a></small>"
   ]
  },
  {
   "cell_type": "markdown",
   "metadata": {
    "slideshow": {
     "slide_type": "slide"
    },
    "variables": {
     "IFrame(\"supplementary/geodetic.html\", width=650, height=530)": "\n        <iframe\n            width=\"650\"\n            height=\"530\"\n            src=\"supplementary/geodetic.html\"\n            frameborder=\"0\"\n            allowfullscreen\n        ></iframe>\n        "
    }
   },
   "source": [
    "This map shows the World Geodetic System (WGS for short). It is the coordinate system used to locate things on the Earth. It is what you get when you ask for coordinates in Google Maps and often what you get from a GPS.\n",
    "<table>\n",
    "    <tr style=\"background: #fff\">\n",
    "        <td width=60%> {{IFrame(\"supplementary/geodetic.html\", width=650, height=530)}}</td>\n",
    "        <td><large>The first number in WGS coordinates is the <i>latitude</i> - measured north and south from the equator.<br><br>The second number in WGS coordinates is the <i>longitude</i> - measured east and west from the prime meridian (runs through Greenwich England).</td>\n",
    "    </tr>\n",
    "</table>"
   ]
  },
  {
   "cell_type": "markdown",
   "metadata": {
    "slideshow": {
     "slide_type": "slide"
    },
    "variables": {
     "IFrame(\"supplementary/geodetic.html\", width=980, height=530)": "\n        <iframe\n            width=\"980\"\n            height=\"530\"\n            src=\"supplementary/geodetic.html\"\n            frameborder=\"0\"\n            allowfullscreen\n        ></iframe>\n        "
    }
   },
   "source": [
    "### Find the location of hippos on this world map!\n",
    "\n",
    "- There is a hippo family at coordinates (30°E, 15°N). Click on that location.<p> \n",
    "\n",
    "{{IFrame(\"supplementary/geodetic.html\", width=980, height=530)}}"
   ]
  },
  {
   "cell_type": "markdown",
   "metadata": {
    "slideshow": {
     "slide_type": "slide"
    }
   },
   "source": [
    "Now, let's look at the geographic references in that cities data again.<p>\n",
    "On the next slide, remember to click the arrow left of the code chunk to run it. "
   ]
  },
  {
   "cell_type": "code",
   "execution_count": null,
   "metadata": {
    "scrolled": true,
    "slideshow": {
     "slide_type": "slide"
    },
    "tags": [
     "4G"
    ]
   },
   "outputs": [],
   "source": [
    "import geopandas\n",
    "cities = geopandas.read_file(\"https://www.naturalearthdata.com/http//www.naturalearthdata.com/download/110m/cultural/ne_110m_populated_places_simple.zip\")\n",
    "cities.head()\n",
    "#this will take a while so be patient. Wait for the asterisk to change to a number."
   ]
  },
  {
   "cell_type": "markdown",
   "metadata": {
    "slideshow": {
     "slide_type": "slide"
    }
   },
   "source": [
    "Back in that table, in the first row, rightmost column, you'll see that Vatican City is listed with the point geometry (12.45339 41.90328).<p>\n",
    "<small><i>Hint: To go back one slide, click the '<' symbol in the bottom right.</i></small><p>\n",
    "This is 12.45 degrees east of the prime meridian (E longitude) and 41.90 degrees north of the equator (N latitude). Thus the Vatican is a city in the middle of Europe.<p>\n",
    "<font color = red>HOWEVER, and this is IMPORTANT!</font> We usually would state its WGS coordinate as<br>(41.9 N, 12.45 E), stating the latitude value first.<br><p><p>\n",
    "While we commonly say WGS coodinates as the pair (lat long), when we record a geometric coordinate, we always state the horizontal distance before the vertical distance. That's why the table shows the location as (12.45339 41.90328)."
   ]
  },
  {
   "cell_type": "markdown",
   "metadata": {
    "slideshow": {
     "slide_type": "slide"
    }
   },
   "source": [
    "## Assessment"
   ]
  },
  {
   "cell_type": "markdown",
   "metadata": {
    "slideshow": {
     "slide_type": "-"
    }
   },
   "source": [
    "Now, look at the geometry for Lobamba (4th row in the table two slides back). Answer the following questions.\n",
    "\n",
    "What is the longitude? (first number, report only the full number before decimal)"
   ]
  },
  {
   "cell_type": "code",
   "execution_count": 5,
   "metadata": {
    "hide_input": false,
    "tags": [
     "Hide",
     "Init",
     "4H"
    ]
   },
   "outputs": [
    {
     "data": {
      "application/vnd.jupyter.widget-view+json": {
       "model_id": "36c129baaed245e09b171afb59c991ce",
       "version_major": 2,
       "version_minor": 0
      },
      "text/plain": [
       "Text(value='', placeholder='Type your answer here...')"
      ]
     },
     "metadata": {},
     "output_type": "display_data"
    },
    {
     "data": {
      "application/vnd.jupyter.widget-view+json": {
       "model_id": "9eca276f94234c45bd318e0ab5baec5a",
       "version_major": 2,
       "version_minor": 0
      },
      "text/plain": [
       "Button(description='Submit', icon='check', layout=Layout(height='auto', width='auto'), style=ButtonStyle())"
      ]
     },
     "metadata": {},
     "output_type": "display_data"
    },
    {
     "data": {
      "application/vnd.jupyter.widget-view+json": {
       "model_id": "532e280eb3a14388b943ecb9adac4a34",
       "version_major": 2,
       "version_minor": 0
      },
      "text/plain": [
       "Output()"
      ]
     },
     "metadata": {},
     "output_type": "display_data"
    }
   ],
   "source": [
    "text1 = widgets.Text(placeholder='Type your answer here...')\n",
    "# Display widget\n",
    "display(text1)\n",
    "\n",
    "# Output function\n",
    "def out1():\n",
    "    print(\"The correct answer is 31.\")\n",
    "    \n",
    "# Submit button\n",
    "hourofci.SubmitBtn(user_agent, lesson, lesson_level, \"4H\", text1, out1)"
   ]
  },
  {
   "cell_type": "markdown",
   "metadata": {
    "slideshow": {
     "slide_type": "-"
    }
   },
   "source": [
    "What is the latitude? (second number, report only the full number)"
   ]
  },
  {
   "cell_type": "code",
   "execution_count": 6,
   "metadata": {
    "hide_input": false,
    "tags": [
     "Hide",
     "Init",
     "4I"
    ]
   },
   "outputs": [
    {
     "data": {
      "application/vnd.jupyter.widget-view+json": {
       "model_id": "832a386751784547b994d125280c60fc",
       "version_major": 2,
       "version_minor": 0
      },
      "text/plain": [
       "Text(value='', placeholder='Type your answer here...')"
      ]
     },
     "metadata": {},
     "output_type": "display_data"
    },
    {
     "data": {
      "application/vnd.jupyter.widget-view+json": {
       "model_id": "086f39e0564844d4a23b2f3d1f8fb61c",
       "version_major": 2,
       "version_minor": 0
      },
      "text/plain": [
       "Button(description='Submit', icon='check', layout=Layout(height='auto', width='auto'), style=ButtonStyle())"
      ]
     },
     "metadata": {},
     "output_type": "display_data"
    },
    {
     "data": {
      "application/vnd.jupyter.widget-view+json": {
       "model_id": "03458e0654324feb8d492a1fbc5b96cc",
       "version_major": 2,
       "version_minor": 0
      },
      "text/plain": [
       "Output()"
      ]
     },
     "metadata": {},
     "output_type": "display_data"
    }
   ],
   "source": [
    "text2 = widgets.Text(placeholder='Type your answer here...')\n",
    "# Display widget\n",
    "display(text2)\n",
    "\n",
    "# Output function\n",
    "def out2():\n",
    "    print(\"The correct answer is -26.\\n\")\n",
    "    print(\"The negative latitude value indicates a location south of the equator.\")\n",
    "    \n",
    "# Submit button\n",
    "hourofci.SubmitBtn(user_agent, lesson, lesson_level, \"4I\", text2, out2)"
   ]
  },
  {
   "cell_type": "markdown",
   "metadata": {
    "slideshow": {
     "slide_type": "-"
    }
   },
   "source": [
    "What continent is this city on?"
   ]
  },
  {
   "cell_type": "code",
   "execution_count": 7,
   "metadata": {
    "hide_input": true,
    "tags": [
     "Hide",
     "Init",
     "4J"
    ]
   },
   "outputs": [
    {
     "data": {
      "application/vnd.jupyter.widget-view+json": {
       "model_id": "3ceaf0c9a63348bcb37aa075604c6e87",
       "version_major": 2,
       "version_minor": 0
      },
      "text/plain": [
       "Text(value='', placeholder='Type your answer here...')"
      ]
     },
     "metadata": {},
     "output_type": "display_data"
    },
    {
     "data": {
      "application/vnd.jupyter.widget-view+json": {
       "model_id": "9599c7e2e2d040c794409f14b36bc76f",
       "version_major": 2,
       "version_minor": 0
      },
      "text/plain": [
       "Button(description='Submit', icon='check', layout=Layout(height='auto', width='auto'), style=ButtonStyle())"
      ]
     },
     "metadata": {},
     "output_type": "display_data"
    },
    {
     "data": {
      "application/vnd.jupyter.widget-view+json": {
       "model_id": "61c1d53e55ab485e9caea8018c7df376",
       "version_major": 2,
       "version_minor": 0
      },
      "text/plain": [
       "Output()"
      ]
     },
     "metadata": {},
     "output_type": "display_data"
    }
   ],
   "source": [
    "text3 = widgets.Text(placeholder='Type your answer here...')\n",
    "# Display widget\n",
    "display(text3)\n",
    "\n",
    "# Output function\n",
    "def out3():\n",
    "    print(\"The correct answer is Africa.\")\n",
    "    \n",
    "# Submit button\n",
    "hourofci.SubmitBtn(user_agent, lesson, lesson_level, \"4J\", text3, out3)"
   ]
  },
  {
   "cell_type": "markdown",
   "metadata": {
    "slideshow": {
     "slide_type": "slide"
    }
   },
   "source": [
    "Ok, you've mastered direct georeferencing - identifing the location of anything using a coordinate system. \n",
    "\n",
    "Let's take a look at indirect georeferencing next.\n",
    "\n",
    "<a href=\"gd-5.ipynb\">Click here to move on.</a>"
   ]
  }
 ],
 "metadata": {
  "celltoolbar": "Raw Cell Format",
  "kernelspec": {
   "display_name": "Python 3",
   "language": "python",
   "name": "python3"
  },
  "language_info": {
   "codemirror_mode": {
    "name": "ipython",
    "version": 3
   },
   "file_extension": ".py",
   "mimetype": "text/x-python",
   "name": "python",
   "nbconvert_exporter": "python",
   "pygments_lexer": "ipython3",
   "version": "3.7.7"
  },
  "rise": {
   "autolaunch": true,
   "overlay": "<div class='hciheader'></div><div class='hcifooter'></div>",
   "scroll": true
  }
 },
 "nbformat": 4,
 "nbformat_minor": 2
}
