{
 "cells": [
  {
   "cell_type": "markdown",
   "metadata": {
    "slideshow": {
     "slide_type": "slide"
    }
   },
   "source": [
    "## Thank you for helping our study\n",
    "\n",
    "\n",
    "<a href=\"#/slide-1-0\" class=\"navigate-right\" style=\"background-color:blue;color:white;padding:8px;margin:2px;font-weight:bold;\">Continue with the lesson</a>\n",
    "\n",
    "Throughout this lesson you will see reminders, like the one below, to ensure that all participants understand that they are in a voluntary research study.\n",
    "\n",
    "### Reminder\n",
    "\n",
    "<font size=\"+1\">\n",
    "\n",
    "By continuing with this lesson you are granting your permission to take part in this research study for the Hour of Cyberinfrastructure: Developing Cyber Literacy for GIScience project. In this study, you will be learning about cyberinfrastructure and related concepts using a web-based platform that will take approximately one hour per lesson. Participation in this study is voluntary.\n",
    "\n",
    "Participants in this research must be 18 years or older. If you are under the age of 18 then please exit this webpage or navigate to another website such as the Hour of Code at https://hourofcode.com, which is designed for K-12 students.\n",
    "\n",
    "If you are not interested in participating please exit the browser or navigate to this website: http://www.umn.edu. Your participation is voluntary and you are free to stop the lesson at any time.\n",
    "\n",
    "For the full description please navigate to this website: <a href=\"../../gateway-lesson/gateway/gateway-1.ipynb\">Gateway Lesson Research Study Permission</a>.\n",
    "\n",
    "</font>"
   ]
  },
  {
   "cell_type": "markdown",
   "metadata": {
    "slideshow": {
     "slide_type": "slide"
    }
   },
   "source": [
    "# Interdisciplinary Communication\n",
    "## Overview\n",
    "\n",
    "Throughout this lesson, you'll think about how we communicate scientific concepts, what makes learning, thinking, or discussing those concepts easy or difficult, and how your understanding of concepts might differ from someone with a different background and experience than your own.\n",
    "\n",
    "*Lesson Developer: Forrest Bowlick fbowlick@umass.edu*"
   ]
  },
  {
   "cell_type": "code",
   "execution_count": null,
   "metadata": {
    "hide_input": true,
    "init_cell": true,
    "slideshow": {
     "slide_type": "skip"
    },
    "tags": [
     "Hide"
    ]
   },
   "outputs": [],
   "source": [
    "# This code cell starts the necessary setup for Hour of CI lesson notebooks.\n",
    "# First, it enables users to hide and unhide code by producing a 'Toggle raw code' button below.\n",
    "# Second, it imports the hourofci package, which is necessary for lessons and interactive Jupyter Widgets.\n",
    "# Third, it helps hide/control other aspects of Jupyter Notebooks to improve the user experience\n",
    "# This is an initialization cell\n",
    "# It is not displayed because the Slide Type is 'Skip'\n",
    "\n",
    "from IPython.display import HTML, IFrame, Javascript, display\n",
    "from ipywidgets import interactive\n",
    "import ipywidgets as widgets\n",
    "from ipywidgets import Layout\n",
    "\n",
    "import getpass # This library allows us to get the username (User agent string)\n",
    "\n",
    "# import package for hourofci project\n",
    "import sys\n",
    "sys.path.append('../../supplementary') # relative path (may change depending on the location of the lesson notebook)\n",
    "import hourofci\n",
    "\n",
    "# load javascript to initialize/hide cells, get user agent string, and hide output indicator\n",
    "# hide code by introducing a toggle button \"Toggle raw code\"\n",
    "HTML(''' \n",
    "    <script type=\"text/javascript\" src=\\\"../../supplementary/js/custom.js\\\"></script>\n",
    "    \n",
    "    <style>\n",
    "        .output_prompt{opacity:0;}\n",
    "    </style>\n",
    "    \n",
    "    <input id=\"toggle_code\" type=\"button\" value=\"Toggle raw code\">\n",
    "''')"
   ]
  },
  {
   "cell_type": "markdown",
   "metadata": {
    "slideshow": {
     "slide_type": "slide"
    }
   },
   "source": [
    "Communicating within and across disciplines, domains, and areas of study can be difficult, especially when learning about a new area of interest.  \n",
    "\n",
    "However, it is essential to be able to talk to people across domains. Building skills in interdisciplinary communication allows you to understand, and be understood, in a diverse set of environments and contexts."
   ]
  },
  {
   "cell_type": "markdown",
   "metadata": {
    "slideshow": {
     "slide_type": "fragment"
    }
   },
   "source": [
    "In the world of cyberinfrastructure, different domains are often interacting with each other in novel and unique ways. But each domain builds its own vocabulary which can be difficult to interact with."
   ]
  },
  {
   "cell_type": "markdown",
   "metadata": {
    "slideshow": {
     "slide_type": "fragment"
    }
   },
   "source": [
    "Let’s look at some examples from our work and see what terminology you feel comfortable with."
   ]
  },
  {
   "cell_type": "markdown",
   "metadata": {
    "slideshow": {
     "slide_type": "slide"
    }
   },
   "source": [
    "# Word Clouds\n",
    "\n",
    "Let's start off by considering some word clouds. Word clouds are graphic representations of the content in a body of text. In this case, you'll see a word cloud generated from an article on Cyber Literacy in GIScience (hyperlink: https://www.tandfonline.com/doi/full/10.1080/00330124.2018.1518720). \n",
    "\n",
    "The word cloud on the **next page** has removed common 'dictionary' words, like 'the' or 'and', so the remaining words are core ideas, topics, and concepts in the work.\n",
    "\n",
    "Think about which of these words you've seen before in classes, working on projects, in your daily life, and so forth. Also, think about which of these words are new or unfamiliar. After considering these words for a while, click on three words that you don’t feel confident you know the definition for. (Please go to the next page to see)"
   ]
  },
  {
   "cell_type": "markdown",
   "metadata": {
    "slideshow": {
     "slide_type": "slide"
    },
    "tags": [
     "Init",
     "2A"
    ],
    "variables": {
     "IFrame(\"supplementary/wordcloud-phase1.html\", width=\"750\", height=\"550\")": "\n        <iframe\n            width=\"750\"\n            height=\"550\"\n            src=\"supplementary/wordcloud-phase1.html\"\n            frameborder=\"0\"\n            allowfullscreen\n            \n        ></iframe>\n        "
    }
   },
   "source": [
    "{{IFrame(\"supplementary/wordcloud-phase1.html\", width=\"750\", height=\"550\")}}"
   ]
  },
  {
   "cell_type": "code",
   "execution_count": null,
   "metadata": {
    "hide_input": true,
    "init_cell": true,
    "slideshow": {
     "slide_type": "skip"
    },
    "tags": [
     "Hide"
    ]
   },
   "outputs": [],
   "source": [
    "%%javascript\n",
    "// listen for word arrays from each iframe\n",
    "var data = [];\n",
    "window.addEventListener(\"message\", function(e) {\n",
    "    // parse data received from iframe\n",
    "    var kernel = IPython.notebook.kernel;\n",
    "    var key = e.message ? \"message\" : \"data\";\n",
    "    data += \",\" + e[key].join(', ');\n",
    "    var command = key + \" = \\\"\" + data + \"\\\"\";\n",
    "    kernel.execute(command);\n",
    "\n",
    "    // store unknown words\n",
    "    var cell = Jupyter.notebook.get_cell(9);\n",
    "    cell.execute();\n",
    "    \n",
    "    // store known words\n",
    "    cell = Jupyter.notebook.get_cell(10);\n",
    "    cell.execute();\n",
    "}, false);"
   ]
  },
  {
   "cell_type": "code",
   "execution_count": null,
   "metadata": {
    "hide_input": true,
    "scrolled": false,
    "slideshow": {
     "slide_type": "skip"
    },
    "tags": [
     "Hide"
    ]
   },
   "outputs": [],
   "source": [
    "# Cell[9]\n",
    "# runs after words are selected in iframe\n",
    "try:\n",
    "    unknown = data\n",
    "except NameError:\n",
    "    unknown = \"\"\n",
    "\n",
    "Javascript(\"Jupyter.notebook.execute_cells([12])\")"
   ]
  },
  {
   "cell_type": "code",
   "execution_count": null,
   "metadata": {
    "hide_input": true,
    "scrolled": true,
    "slideshow": {
     "slide_type": "skip"
    },
    "tags": [
     "Hide"
    ]
   },
   "outputs": [],
   "source": [
    "# Cell[10]\n",
    "# runs after words are selected in iframe\n",
    "try:\n",
    "    known = data\n",
    "except NameError:\n",
    "    known = \"\"\n",
    "\n",
    "Javascript(\"Jupyter.notebook.execute_cells([13])\")"
   ]
  },
  {
   "cell_type": "markdown",
   "metadata": {
    "hide_input": false,
    "slideshow": {
     "slide_type": "slide"
    },
    "tags": [
     "Init",
     "2B"
    ],
    "variables": {
     "IFrame(\"supplementary/wordcloud-phase2.html\", width=\"750\", height=\"510\")": "\n        <iframe\n            width=\"750\"\n            height=\"510\"\n            src=\"supplementary/wordcloud-phase2.html\"\n            frameborder=\"0\"\n            allowfullscreen\n            \n        ></iframe>\n        "
    }
   },
   "source": [
    "Here are the words again. Now, click on three words you feel confident you know the definition for.\n",
    "\n",
    "{{IFrame(\"supplementary/wordcloud-phase2.html\", width=\"750\", height=\"510\")}}"
   ]
  },
  {
   "cell_type": "code",
   "execution_count": null,
   "metadata": {
    "hide_input": true,
    "scrolled": false,
    "slideshow": {
     "slide_type": "slide"
    },
    "tags": [
     "Hide"
    ]
   },
   "outputs": [],
   "source": [
    "# Cell[12]\n",
    "\n",
    "print(\"Here are the words you clicked on that you are not confident about:\")\n",
    "# Runs after three words are selected in first iframe\n",
    "words = [n.strip() for n in unknown.split(',')]\n",
    "    \n",
    "for num, word in enumerate(words[1:4]):\n",
    "    print(num+1, word)"
   ]
  },
  {
   "cell_type": "code",
   "execution_count": null,
   "metadata": {
    "hide_input": true,
    "scrolled": true,
    "slideshow": {
     "slide_type": "fragment"
    },
    "tags": [
     "Hide"
    ]
   },
   "outputs": [],
   "source": [
    "# Cell[13]\n",
    "\n",
    "print(\"And here are the words you clicked on that you are confident about:\")\n",
    "\n",
    "# Runs after three words are selected in second iframe\n",
    "words = [n.strip() for n in unknown.split(',')]\n",
    "\n",
    "for num, word in enumerate(words[4:7]):\n",
    "    print(num+1, word)\n",
    "    \n",
    "# Execute cells asking for user definition\n",
    "Javascript(\"Jupyter.notebook.execute_cells([17,18,19])\")"
   ]
  },
  {
   "cell_type": "markdown",
   "metadata": {
    "slideshow": {
     "slide_type": "fragment"
    }
   },
   "source": [
    "Do you notice any similarities in the words you picked in each group? Does anything seem to connect those terms or ideas? Depending on what you picked, you might've revealed some of your own expertise or skill, or shown an area where you don't have a lot of practice."
   ]
  },
  {
   "cell_type": "markdown",
   "metadata": {
    "slideshow": {
     "slide_type": "slide"
    }
   },
   "source": [
    "### Defining Comfortable Terms"
   ]
  },
  {
   "cell_type": "markdown",
   "metadata": {
    "slideshow": {
     "slide_type": "fragment"
    }
   },
   "source": [
    "Let's focus on the terms you were comfortable with. Each term is listed below with its own definition box. For each term, write out <b>your</b> definition of the term - no dictionaries, please! - and we'll compare that with a more formal definition later."
   ]
  },
  {
   "cell_type": "code",
   "execution_count": null,
   "metadata": {
    "hide_input": true,
    "slideshow": {
     "slide_type": "slide"
    },
    "tags": [
     "Hide",
     "2C"
    ]
   },
   "outputs": [],
   "source": [
    "\n",
    "# Cell[17]\n",
    "\n",
    "print(\"Provide your definition of \\\"\" + words[4] + \"\\\":\")\n",
    "\n",
    "# Text widget\n",
    "t1 = widgets.Text(\n",
    "    placeholder = \"\\\"\" + words[4] + \"\\\"\" + \" definition\",\n",
    "    description = \"Definition:\",\n",
    "    value=None,\n",
    "    disabled=False\n",
    ")\n",
    "\n",
    "# Display widget\n",
    "display(t1)\n",
    "\n",
    "# Output function\n",
    "def out1():\n",
    "    print(\"Your definition: \" + t1.value)\n",
    "        \n",
    "    # Execute cell that fetches stored definition and compare\n",
    "    display(Javascript(\"Jupyter.notebook.execute_cells([22])\"))\n",
    "\n",
    "# Submit button\n",
    "hourofci.SubmitBtn(t1, out1)"
   ]
  },
  {
   "cell_type": "code",
   "execution_count": null,
   "metadata": {
    "hide_input": true,
    "slideshow": {
     "slide_type": "fragment"
    },
    "tags": [
     "Hide",
     "2D"
    ]
   },
   "outputs": [],
   "source": [
    "# Cell[18]\n",
    "\n",
    "print(\"Provide your definition of \\\"\" + words[5] + \"\\\":\")\n",
    "\n",
    "# Text widget\n",
    "t2 = widgets.Text(\n",
    "    placeholder = \"\\\"\" + words[5] + \"\\\"\" + \" definition\",\n",
    "    description = \"Definition:\",\n",
    "    value=None,\n",
    "    disabled=False\n",
    ")\n",
    "\n",
    "# Display widgets together\n",
    "display(t2)\n",
    "\n",
    "# Output function\n",
    "def out2():\n",
    "    print(\"Your definition: \" + t2.value)\n",
    "        \n",
    "    # Execute cell that fetches stored definition and compare\n",
    "    display(Javascript(\"Jupyter.notebook.execute_cells([23])\"));\n",
    "        \n",
    "# Submit button\n",
    "hourofci.SubmitBtn(t2, out2)"
   ]
  },
  {
   "cell_type": "code",
   "execution_count": null,
   "metadata": {
    "hide_input": true,
    "slideshow": {
     "slide_type": "fragment"
    },
    "tags": [
     "Hide",
     "2E"
    ]
   },
   "outputs": [],
   "source": [
    "# Cell[19]\n",
    "\n",
    "print(\"Provide your definition of \\\"\" + words[6] + \"\\\":\")\n",
    "\n",
    "# Text widget\n",
    "t3 = widgets.Text(\n",
    "    placeholder = \"\\\"\" + words[6] + \"\\\"\" + \" definition\",\n",
    "    description = \"Definition:\",\n",
    "    value=None,\n",
    "    disabled=False\n",
    ")\n",
    "\n",
    "# Display widgets together\n",
    "display(t3)\n",
    "\n",
    "# Output function\n",
    "def out3():\n",
    "    print(\"Your definition: \" + t3.value)\n",
    "\n",
    "    # Execute cell that fetches stored definition and compare\n",
    "    display(Javascript(\"Jupyter.notebook.execute_cells([24])\"));\n",
    "        \n",
    "# Submit button\n",
    "hourofci.SubmitBtn(t3, out3)"
   ]
  },
  {
   "cell_type": "markdown",
   "metadata": {
    "slideshow": {
     "slide_type": "slide"
    }
   },
   "source": [
    "### Compare\n",
    "\n",
    "Now let’s see how your definitions compare to ours.\n",
    "\n",
    "Depending on your experience and expertise, you might define terms differently. At the same time, you might need to use different types of definitions when talking to people with different backgrounds and expertise"
   ]
  },
  {
   "cell_type": "code",
   "execution_count": null,
   "metadata": {
    "hide_input": true,
    "init_cell": true,
    "slideshow": {
     "slide_type": "skip"
    },
    "tags": [
     "Hide"
    ]
   },
   "outputs": [],
   "source": [
    "# TODO: FILL DEFINITION FOR \"CYBERINFRASTRUCTURE\" KEY\n",
    "\n",
    "definitions = {\n",
    "    \"spatial\": \"of, relating to, or involved in the perception of relationships in space\",\n",
    "    \"https\": \"hyper-text transfer protocol\",\n",
    "    \"geospatial\": \"relating to or denoting data that is associated with a particular location\",\n",
    "    \"parallel computing\": \"a type of computation in which many calculations or execution of processes are carried out simultaneously\",\n",
    "    \"gis\": \"geographic information science\",\n",
    "    \"geography\": \"a field of science devoted to the study of the lands, features, inhabitants, and phenomena of the Earth\",\n",
    "    \"cyberinfrastructure\": \"the network of computer systems used to share discoveries and research across the internet\",\n",
    "    \"cybergis\": \"a multidisciplinary field with a focus on computational and data-intensive geospatial problem-solving\",\n",
    "    \"interdisciplinary\": \"relating to more than one branch of knowledge\",\n",
    "    \"curriculum\": \"a set of courses constituting an area of specialization\",\n",
    "    \"communication\": \"a process by which information is exchanged between individuals through a common system of symbols, signs, or behavior\",\n",
    "    \"programming\": \"the process of developing and implementing various sets of instructions to enable a computer to do a certain task\",\n",
    "    \"abstraction\": \"the process of removing physical, spatial, or temporal details or attributes in the study of objects or systems in order to focus attention on details of higher importance\",\n",
    "    \"cyberliteracy\": \"the ability to understand and use established and emerging technologies to transform all forms and magnitudes of geospatial data into information for interdisciplinary problem solving\",\n",
    "    \"cognition\": \"the mental action or process of acquiring knowledge and understanding through thought, experience, and the senses\",\n",
    "    \"spatiotemporal\": \"belonging to both space and time, or time-space\",\n",
    "    \"interoperability\": \"the ability of computer systems or software to exchange and make use of information\",\n",
    "    \"geocomputing\": \"the process of applying computing technology to geographical problems\",\n",
    "    \"geovisualization\": \"the process of interactively visualizing geographic information in any of the steps in spatial analyses\",\n",
    "    \"reproducibility\": \"the extent to which consistent results are obtained when an experiment is repeated\"\n",
    "}"
   ]
  },
  {
   "cell_type": "code",
   "execution_count": null,
   "metadata": {
    "hide_input": true,
    "slideshow": {
     "slide_type": "slide"
    },
    "tags": [
     "Hide"
    ]
   },
   "outputs": [],
   "source": [
    "# Cell[22]\n",
    "\n",
    "print(\"\\nThe first term selected was \" + \"\\\"\" + words[4] + \"\\\".\")\n",
    "print(\"Your definition: \" + t1.value)\n",
    "print(\"Web definition: \" + definitions[words[4]])"
   ]
  },
  {
   "cell_type": "code",
   "execution_count": null,
   "metadata": {
    "hide_input": true,
    "slideshow": {
     "slide_type": "fragment"
    },
    "tags": [
     "Hide"
    ]
   },
   "outputs": [],
   "source": [
    "# Cell[23]\n",
    "\n",
    "print(\"\\nThe second term selected was \" + \"\\\"\" + words[5] + \"\\\".\")\n",
    "print(\"Your definition: \" + t2.value)\n",
    "print(\"Web definition: \" + definitions[words[5]])\n"
   ]
  },
  {
   "cell_type": "code",
   "execution_count": null,
   "metadata": {
    "hide_input": true,
    "slideshow": {
     "slide_type": "fragment"
    },
    "tags": [
     "Hide"
    ]
   },
   "outputs": [],
   "source": [
    "# Cell[24]\n",
    "\n",
    "print(\"\\nThe third term selected was \" + \"\\\"\" + words[6] + \"\\\".\")\n",
    "print(\"Your definition: \" + t3.value)\n",
    "print(\"Web definition: \" + definitions[words[6]])"
   ]
  },
  {
   "cell_type": "markdown",
   "metadata": {
    "slideshow": {
     "slide_type": "slide"
    },
    "tags": [
     "Init"
    ],
    "variables": {
     "IFrame(\"../../supplementary/confetti.html\", width=\"620\", height=\"450\")": "\n        <iframe\n            width=\"620\"\n            height=\"450\"\n            src=\"../../supplementary/confetti.html\"\n            frameborder=\"0\"\n            allowfullscreen\n            \n        ></iframe>\n        "
    }
   },
   "source": [
    "{{IFrame(\"../../supplementary/confetti.html\", width=\"620\", height=\"450\")}}\n",
    "\n",
    "Congratulations, you just learned about jargon! Jargon words are specialized for a given domain or application. And they can be confusing. Click through to the next notebook to learn more.\n",
    "\n",
    "**Continue the journey: [Next Section](ic-3.ipynb)**"
   ]
  }
 ],
 "metadata": {
  "celltoolbar": "Tags",
  "kernelspec": {
   "display_name": "Python 3 (ipykernel)",
   "language": "python",
   "name": "python3"
  },
  "language_info": {
   "codemirror_mode": {
    "name": "ipython",
    "version": 3
   },
   "file_extension": ".py",
   "mimetype": "text/x-python",
   "name": "python",
   "nbconvert_exporter": "python",
   "pygments_lexer": "ipython3",
   "version": "3.9.5"
  },
  "rise": {
   "autolaunch": true,
   "overlay": "<div class='hciheader'></div><div class='hcifooter'></div>",
   "scroll": true
  },
  "toc": {
   "base_numbering": 1,
   "nav_menu": {},
   "number_sections": true,
   "sideBar": true,
   "skip_h1_title": false,
   "title_cell": "Table of Contents",
   "title_sidebar": "Contents",
   "toc_cell": false,
   "toc_position": {},
   "toc_section_display": true,
   "toc_window_display": false
  },
  "widgets": {
   "application/vnd.jupyter.widget-state+json": {
    "state": {
     "01d7edc49cd74a349aba36a1905a30a6": {
      "model_module": "@jupyter-widgets/controls",
      "model_module_version": "1.5.0",
      "model_name": "ButtonModel",
      "state": {
       "description": "Finish",
       "icon": "check",
       "layout": "IPY_MODEL_ffc73bc74b1f47249fb025c2cead6663",
       "style": "IPY_MODEL_a34a65811b9347ecb0367556141cc7b3"
      }
     },
     "067ec038b01a4e4c85f3e9b91381f10f": {
      "model_module": "@jupyter-widgets/output",
      "model_module_version": "1.0.0",
      "model_name": "OutputModel",
      "state": {
       "layout": "IPY_MODEL_f0db7b48a7c44b9f8cc2fe548cbe5d84"
      }
     },
     "0aae2514bcbc4d0f80aba8307be05906": {
      "model_module": "@jupyter-widgets/controls",
      "model_module_version": "1.5.0",
      "model_name": "DescriptionStyleModel",
      "state": {
       "description_width": ""
      }
     },
     "0bfc50f6631e4c468096d7ea9ac0ad8b": {
      "model_module": "@jupyter-widgets/base",
      "model_module_version": "1.2.0",
      "model_name": "LayoutModel",
      "state": {}
     },
     "12c896ec4aed46cbae75a9d2fbdbb70d": {
      "model_module": "@jupyter-widgets/base",
      "model_module_version": "1.2.0",
      "model_name": "LayoutModel",
      "state": {}
     },
     "1803a03c6c2d4db382b392df110abdbe": {
      "model_module": "@jupyter-widgets/base",
      "model_module_version": "1.2.0",
      "model_name": "LayoutModel",
      "state": {}
     },
     "18a877da93df4b2bbd7ab8a367c5190a": {
      "model_module": "@jupyter-widgets/controls",
      "model_module_version": "1.5.0",
      "model_name": "TextModel",
      "state": {
       "description": "Definition:",
       "layout": "IPY_MODEL_78fb7fec75494cfab3b581f4d8052b6f",
       "placeholder": "Term 3 definition",
       "style": "IPY_MODEL_7094742e05ae4fbeb8083a434ca1d009"
      }
     },
     "19a3192224e2468ab0e620883bff50bf": {
      "model_module": "@jupyter-widgets/output",
      "model_module_version": "1.0.0",
      "model_name": "OutputModel",
      "state": {
       "layout": "IPY_MODEL_40851d5ec4814a06a5b40ee0654074a5"
      }
     },
     "1be166c13acd4736ba2ef785999727d0": {
      "model_module": "@jupyter-widgets/base",
      "model_module_version": "1.2.0",
      "model_name": "LayoutModel",
      "state": {}
     },
     "1d077ffea48740e3984f004b75981956": {
      "model_module": "@jupyter-widgets/controls",
      "model_module_version": "1.5.0",
      "model_name": "TextModel",
      "state": {
       "description": "Definition:",
       "layout": "IPY_MODEL_69f8cfcdf7b84dbd90677deecddbc88d",
       "placeholder": "Term 2 definition",
       "style": "IPY_MODEL_0aae2514bcbc4d0f80aba8307be05906"
      }
     },
     "1fcd9d3a417943a2bc42f8d0374cdb03": {
      "model_module": "@jupyter-widgets/controls",
      "model_module_version": "1.5.0",
      "model_name": "ButtonModel",
      "state": {
       "description": "Finish",
       "icon": "check",
       "layout": "IPY_MODEL_b577f52fb4ec49f58ef62e17449ced90",
       "style": "IPY_MODEL_c028bc33fe9641a49e3b4e56ee426113"
      }
     },
     "223acef779274cc8b5020afeffb49dc0": {
      "model_module": "@jupyter-widgets/output",
      "model_module_version": "1.0.0",
      "model_name": "OutputModel",
      "state": {
       "layout": "IPY_MODEL_12c896ec4aed46cbae75a9d2fbdbb70d"
      }
     },
     "26e86bac1cd14759b373885342e17daf": {
      "model_module": "@jupyter-widgets/controls",
      "model_module_version": "1.5.0",
      "model_name": "TextModel",
      "state": {
       "description": "Definition:",
       "layout": "IPY_MODEL_d027e889436747b2990960222569ce4e",
       "placeholder": "Term 2 definition",
       "style": "IPY_MODEL_7d99e4f32df94abc9b9061e3d608c900"
      }
     },
     "27a182ea9e1c408f97922edb42dfba94": {
      "model_module": "@jupyter-widgets/controls",
      "model_module_version": "1.5.0",
      "model_name": "VBoxModel",
      "state": {
       "_dom_classes": [
        "widget-interact"
       ],
       "children": [
        "IPY_MODEL_18a877da93df4b2bbd7ab8a367c5190a",
        "IPY_MODEL_cd1c28574810420eaf1f2ba32c33f232"
       ],
       "layout": "IPY_MODEL_5fddd220a77e4e4bbb336ba3d84b5b64"
      }
     },
     "297ce44638094c2fb556193304eec2f7": {
      "model_module": "@jupyter-widgets/controls",
      "model_module_version": "1.5.0",
      "model_name": "DescriptionStyleModel",
      "state": {
       "description_width": ""
      }
     },
     "2be80342dbdf468baea3e5ba79ef6262": {
      "model_module": "@jupyter-widgets/base",
      "model_module_version": "1.2.0",
      "model_name": "LayoutModel",
      "state": {}
     },
     "2ca1d112a8da4890bc0b64e594f97aae": {
      "model_module": "@jupyter-widgets/controls",
      "model_module_version": "1.5.0",
      "model_name": "VBoxModel",
      "state": {
       "_dom_classes": [
        "widget-interact"
       ],
       "children": [
        "IPY_MODEL_6a9e774fdaef40c3a16ea5bcec8a0342",
        "IPY_MODEL_32860e5326ef41d9960c9cbb2acf6ead"
       ],
       "layout": "IPY_MODEL_a90dc82a053a4d06bb411580051ece1e"
      }
     },
     "2cebb90fda3c4bae83c9edafae2d4126": {
      "model_module": "@jupyter-widgets/base",
      "model_module_version": "1.2.0",
      "model_name": "LayoutModel",
      "state": {}
     },
     "2ff5f974424a4c0bb9f17ee268eae702": {
      "model_module": "@jupyter-widgets/output",
      "model_module_version": "1.0.0",
      "model_name": "OutputModel",
      "state": {
       "layout": "IPY_MODEL_f5481fd6dfc0444c9388d9751f4ddcf0"
      }
     },
     "32860e5326ef41d9960c9cbb2acf6ead": {
      "model_module": "@jupyter-widgets/output",
      "model_module_version": "1.0.0",
      "model_name": "OutputModel",
      "state": {
       "layout": "IPY_MODEL_2be80342dbdf468baea3e5ba79ef6262"
      }
     },
     "34849d626c154dcdb9b2fe338182a8b7": {
      "model_module": "@jupyter-widgets/controls",
      "model_module_version": "1.5.0",
      "model_name": "TextModel",
      "state": {
       "description": "Definition:",
       "layout": "IPY_MODEL_b43b3de8210346c28cb45ed539d1a486",
       "placeholder": "Term 1 definition",
       "style": "IPY_MODEL_fdaaf571591346d09e99c9b680fa68df"
      }
     },
     "40851d5ec4814a06a5b40ee0654074a5": {
      "model_module": "@jupyter-widgets/base",
      "model_module_version": "1.2.0",
      "model_name": "LayoutModel",
      "state": {}
     },
     "413d15d57b564b498ecfb153dc6c2732": {
      "model_module": "@jupyter-widgets/base",
      "model_module_version": "1.2.0",
      "model_name": "LayoutModel",
      "state": {}
     },
     "41c569f5aed84c7d8c8afe150e85ac41": {
      "model_module": "@jupyter-widgets/controls",
      "model_module_version": "1.5.0",
      "model_name": "VBoxModel",
      "state": {
       "_dom_classes": [
        "widget-interact"
       ],
       "children": [
        "IPY_MODEL_d75cb070e48f44b0b69172ae0fcdad27",
        "IPY_MODEL_54b50645d76440e4b24cd7da1d751087"
       ],
       "layout": "IPY_MODEL_9285e71fb7fc46d6b1fc83e813695173"
      }
     },
     "420d80b5b0524f65853baae0a58a3fa7": {
      "model_module": "@jupyter-widgets/controls",
      "model_module_version": "1.5.0",
      "model_name": "ButtonStyleModel",
      "state": {}
     },
     "42adb448d2bf44eabf42e3988bfde588": {
      "model_module": "@jupyter-widgets/output",
      "model_module_version": "1.0.0",
      "model_name": "OutputModel",
      "state": {
       "layout": "IPY_MODEL_0bfc50f6631e4c468096d7ea9ac0ad8b"
      }
     },
     "4429deedf4b84d9dbc48981d4258fe4c": {
      "model_module": "@jupyter-widgets/controls",
      "model_module_version": "1.5.0",
      "model_name": "ButtonStyleModel",
      "state": {}
     },
     "4d84cf672e0345cd833dbaceff97453f": {
      "model_module": "@jupyter-widgets/controls",
      "model_module_version": "1.5.0",
      "model_name": "TextModel",
      "state": {
       "description": "Definition:",
       "layout": "IPY_MODEL_ec477da9e69c42daa876468c086e309e",
       "placeholder": "Term 2 definition",
       "style": "IPY_MODEL_297ce44638094c2fb556193304eec2f7"
      }
     },
     "4ded9fd4a4124a21bd6b81c568277e69": {
      "model_module": "@jupyter-widgets/base",
      "model_module_version": "1.2.0",
      "model_name": "LayoutModel",
      "state": {}
     },
     "54b50645d76440e4b24cd7da1d751087": {
      "model_module": "@jupyter-widgets/output",
      "model_module_version": "1.0.0",
      "model_name": "OutputModel",
      "state": {
       "layout": "IPY_MODEL_2cebb90fda3c4bae83c9edafae2d4126"
      }
     },
     "57080f56d90b448691719f982c86bcc8": {
      "model_module": "@jupyter-widgets/controls",
      "model_module_version": "1.5.0",
      "model_name": "DescriptionStyleModel",
      "state": {
       "description_width": ""
      }
     },
     "5fddd220a77e4e4bbb336ba3d84b5b64": {
      "model_module": "@jupyter-widgets/base",
      "model_module_version": "1.2.0",
      "model_name": "LayoutModel",
      "state": {}
     },
     "608e861d73614f4889effa666d4dc216": {
      "model_module": "@jupyter-widgets/base",
      "model_module_version": "1.2.0",
      "model_name": "LayoutModel",
      "state": {}
     },
     "69f8cfcdf7b84dbd90677deecddbc88d": {
      "model_module": "@jupyter-widgets/base",
      "model_module_version": "1.2.0",
      "model_name": "LayoutModel",
      "state": {}
     },
     "6a9e774fdaef40c3a16ea5bcec8a0342": {
      "model_module": "@jupyter-widgets/controls",
      "model_module_version": "1.5.0",
      "model_name": "TextModel",
      "state": {
       "description": "Definition:",
       "layout": "IPY_MODEL_894f1d5af17142ceab6779cbdf828966",
       "placeholder": "Term 3 definition",
       "style": "IPY_MODEL_97bfc4ba5aba4d44ad48635cdbf70ec4"
      }
     },
     "6ac82692d3c645ce8f31c020cce12a2e": {
      "model_module": "@jupyter-widgets/base",
      "model_module_version": "1.2.0",
      "model_name": "LayoutModel",
      "state": {}
     },
     "7094742e05ae4fbeb8083a434ca1d009": {
      "model_module": "@jupyter-widgets/controls",
      "model_module_version": "1.5.0",
      "model_name": "DescriptionStyleModel",
      "state": {
       "description_width": ""
      }
     },
     "7522f4e4a13a4f5f8e5c3f78beac17f3": {
      "model_module": "@jupyter-widgets/controls",
      "model_module_version": "1.5.0",
      "model_name": "ButtonModel",
      "state": {
       "description": "Finish",
       "icon": "check",
       "layout": "IPY_MODEL_ea03bf6f73ab47f8b4ec87e19e905d93",
       "style": "IPY_MODEL_4429deedf4b84d9dbc48981d4258fe4c"
      }
     },
     "766b84b8ff4f47f689c1c64ba31ff1f3": {
      "model_module": "@jupyter-widgets/output",
      "model_module_version": "1.0.0",
      "model_name": "OutputModel",
      "state": {
       "layout": "IPY_MODEL_6ac82692d3c645ce8f31c020cce12a2e"
      }
     },
     "78fb7fec75494cfab3b581f4d8052b6f": {
      "model_module": "@jupyter-widgets/base",
      "model_module_version": "1.2.0",
      "model_name": "LayoutModel",
      "state": {}
     },
     "7a2dad2d88c24de4bbeb6de3bf0f12d8": {
      "model_module": "@jupyter-widgets/controls",
      "model_module_version": "1.5.0",
      "model_name": "VBoxModel",
      "state": {
       "_dom_classes": [
        "widget-interact"
       ],
       "children": [
        "IPY_MODEL_be769da90c0044728e1f0f4f63a29ae0",
        "IPY_MODEL_223acef779274cc8b5020afeffb49dc0"
       ],
       "layout": "IPY_MODEL_c940004e959e46e7bbfd18bb1221f93b"
      }
     },
     "7d99e4f32df94abc9b9061e3d608c900": {
      "model_module": "@jupyter-widgets/controls",
      "model_module_version": "1.5.0",
      "model_name": "DescriptionStyleModel",
      "state": {
       "description_width": ""
      }
     },
     "7f411c10420e4f749a167f8fccc92ba4": {
      "model_module": "@jupyter-widgets/controls",
      "model_module_version": "1.5.0",
      "model_name": "ButtonModel",
      "state": {
       "description": "Finish",
       "icon": "check",
       "layout": "IPY_MODEL_96c3dcfe71874d3f8c154695535c32af",
       "style": "IPY_MODEL_420d80b5b0524f65853baae0a58a3fa7"
      }
     },
     "83567998ee0045a2b8d25adb2caabb97": {
      "model_module": "@jupyter-widgets/base",
      "model_module_version": "1.2.0",
      "model_name": "LayoutModel",
      "state": {}
     },
     "894f1d5af17142ceab6779cbdf828966": {
      "model_module": "@jupyter-widgets/base",
      "model_module_version": "1.2.0",
      "model_name": "LayoutModel",
      "state": {}
     },
     "8d10899b13db4b75ab8419b4d923bed4": {
      "model_module": "@jupyter-widgets/controls",
      "model_module_version": "1.5.0",
      "model_name": "ButtonModel",
      "state": {
       "description": "Finish",
       "icon": "check",
       "layout": "IPY_MODEL_9dc18dc8f2f24f72aecbed544fbf2b90",
       "style": "IPY_MODEL_fc6004362103470c937ffe25974f7aec"
      }
     },
     "9285e71fb7fc46d6b1fc83e813695173": {
      "model_module": "@jupyter-widgets/base",
      "model_module_version": "1.2.0",
      "model_name": "LayoutModel",
      "state": {}
     },
     "96c3dcfe71874d3f8c154695535c32af": {
      "model_module": "@jupyter-widgets/base",
      "model_module_version": "1.2.0",
      "model_name": "LayoutModel",
      "state": {}
     },
     "97bfc4ba5aba4d44ad48635cdbf70ec4": {
      "model_module": "@jupyter-widgets/controls",
      "model_module_version": "1.5.0",
      "model_name": "DescriptionStyleModel",
      "state": {
       "description_width": ""
      }
     },
     "9dc18dc8f2f24f72aecbed544fbf2b90": {
      "model_module": "@jupyter-widgets/base",
      "model_module_version": "1.2.0",
      "model_name": "LayoutModel",
      "state": {}
     },
     "9e92880654ea4a03a9263a7c707795c2": {
      "model_module": "@jupyter-widgets/controls",
      "model_module_version": "1.5.0",
      "model_name": "DescriptionStyleModel",
      "state": {
       "description_width": ""
      }
     },
     "a08bb06175554f4694f1a66d55419c82": {
      "model_module": "@jupyter-widgets/base",
      "model_module_version": "1.2.0",
      "model_name": "LayoutModel",
      "state": {}
     },
     "a23f55a069374b5abdf97f8ac0583d13": {
      "model_module": "@jupyter-widgets/controls",
      "model_module_version": "1.5.0",
      "model_name": "VBoxModel",
      "state": {
       "_dom_classes": [
        "widget-interact"
       ],
       "children": [
        "IPY_MODEL_34849d626c154dcdb9b2fe338182a8b7",
        "IPY_MODEL_19a3192224e2468ab0e620883bff50bf"
       ],
       "layout": "IPY_MODEL_413d15d57b564b498ecfb153dc6c2732"
      }
     },
     "a34a65811b9347ecb0367556141cc7b3": {
      "model_module": "@jupyter-widgets/controls",
      "model_module_version": "1.5.0",
      "model_name": "ButtonStyleModel",
      "state": {}
     },
     "a90dc82a053a4d06bb411580051ece1e": {
      "model_module": "@jupyter-widgets/base",
      "model_module_version": "1.2.0",
      "model_name": "LayoutModel",
      "state": {}
     },
     "b43b3de8210346c28cb45ed539d1a486": {
      "model_module": "@jupyter-widgets/base",
      "model_module_version": "1.2.0",
      "model_name": "LayoutModel",
      "state": {}
     },
     "b577f52fb4ec49f58ef62e17449ced90": {
      "model_module": "@jupyter-widgets/base",
      "model_module_version": "1.2.0",
      "model_name": "LayoutModel",
      "state": {}
     },
     "be769da90c0044728e1f0f4f63a29ae0": {
      "model_module": "@jupyter-widgets/controls",
      "model_module_version": "1.5.0",
      "model_name": "TextModel",
      "state": {
       "description": "Definition:",
       "layout": "IPY_MODEL_ea3768e2753c474a947d129f9a634b40",
       "placeholder": "Term 1 definition",
       "style": "IPY_MODEL_9e92880654ea4a03a9263a7c707795c2"
      }
     },
     "c028bc33fe9641a49e3b4e56ee426113": {
      "model_module": "@jupyter-widgets/controls",
      "model_module_version": "1.5.0",
      "model_name": "ButtonStyleModel",
      "state": {}
     },
     "c940004e959e46e7bbfd18bb1221f93b": {
      "model_module": "@jupyter-widgets/base",
      "model_module_version": "1.2.0",
      "model_name": "LayoutModel",
      "state": {}
     },
     "cc92610fd0c84a15936ba4faec906e62": {
      "model_module": "@jupyter-widgets/base",
      "model_module_version": "1.2.0",
      "model_name": "LayoutModel",
      "state": {}
     },
     "cd1c28574810420eaf1f2ba32c33f232": {
      "model_module": "@jupyter-widgets/output",
      "model_module_version": "1.0.0",
      "model_name": "OutputModel",
      "state": {
       "layout": "IPY_MODEL_a08bb06175554f4694f1a66d55419c82"
      }
     },
     "cd1dad905f15410ba37531d11654db1c": {
      "model_module": "@jupyter-widgets/controls",
      "model_module_version": "1.5.0",
      "model_name": "DescriptionStyleModel",
      "state": {
       "description_width": ""
      }
     },
     "cea83f02fe314860ab01fc6732729db9": {
      "model_module": "@jupyter-widgets/controls",
      "model_module_version": "1.5.0",
      "model_name": "VBoxModel",
      "state": {
       "_dom_classes": [
        "widget-interact"
       ],
       "children": [
        "IPY_MODEL_4d84cf672e0345cd833dbaceff97453f",
        "IPY_MODEL_067ec038b01a4e4c85f3e9b91381f10f"
       ],
       "layout": "IPY_MODEL_1be166c13acd4736ba2ef785999727d0"
      }
     },
     "d027e889436747b2990960222569ce4e": {
      "model_module": "@jupyter-widgets/base",
      "model_module_version": "1.2.0",
      "model_name": "LayoutModel",
      "state": {}
     },
     "d75cb070e48f44b0b69172ae0fcdad27": {
      "model_module": "@jupyter-widgets/controls",
      "model_module_version": "1.5.0",
      "model_name": "TextModel",
      "state": {
       "description": "Definition:",
       "layout": "IPY_MODEL_1803a03c6c2d4db382b392df110abdbe",
       "placeholder": "Term 3 definition",
       "style": "IPY_MODEL_57080f56d90b448691719f982c86bcc8"
      }
     },
     "d7a00f5bb0734227bb5535bbfd01e299": {
      "model_module": "@jupyter-widgets/controls",
      "model_module_version": "1.5.0",
      "model_name": "ButtonModel",
      "state": {
       "description": "Finish",
       "icon": "check",
       "layout": "IPY_MODEL_cc92610fd0c84a15936ba4faec906e62",
       "style": "IPY_MODEL_db8cabcfba984ee5b192784fa71ebb47"
      }
     },
     "db2b10abb5244779b5c60903199e6028": {
      "model_module": "@jupyter-widgets/controls",
      "model_module_version": "1.5.0",
      "model_name": "VBoxModel",
      "state": {
       "_dom_classes": [
        "widget-interact"
       ],
       "children": [
        "IPY_MODEL_eb71102a2297453f9541f78eceb9a250",
        "IPY_MODEL_42adb448d2bf44eabf42e3988bfde588"
       ],
       "layout": "IPY_MODEL_4ded9fd4a4124a21bd6b81c568277e69"
      }
     },
     "db8cabcfba984ee5b192784fa71ebb47": {
      "model_module": "@jupyter-widgets/controls",
      "model_module_version": "1.5.0",
      "model_name": "ButtonStyleModel",
      "state": {}
     },
     "e0d48d1474e94d6fb600e11d4abfaf29": {
      "model_module": "@jupyter-widgets/controls",
      "model_module_version": "1.5.0",
      "model_name": "VBoxModel",
      "state": {
       "_dom_classes": [
        "widget-interact"
       ],
       "children": [
        "IPY_MODEL_1d077ffea48740e3984f004b75981956",
        "IPY_MODEL_2ff5f974424a4c0bb9f17ee268eae702"
       ],
       "layout": "IPY_MODEL_608e861d73614f4889effa666d4dc216"
      }
     },
     "ea03bf6f73ab47f8b4ec87e19e905d93": {
      "model_module": "@jupyter-widgets/base",
      "model_module_version": "1.2.0",
      "model_name": "LayoutModel",
      "state": {}
     },
     "ea3768e2753c474a947d129f9a634b40": {
      "model_module": "@jupyter-widgets/base",
      "model_module_version": "1.2.0",
      "model_name": "LayoutModel",
      "state": {}
     },
     "eb71102a2297453f9541f78eceb9a250": {
      "model_module": "@jupyter-widgets/controls",
      "model_module_version": "1.5.0",
      "model_name": "TextModel",
      "state": {
       "description": "Definition:",
       "layout": "IPY_MODEL_83567998ee0045a2b8d25adb2caabb97",
       "placeholder": "Term 1 definition",
       "style": "IPY_MODEL_cd1dad905f15410ba37531d11654db1c"
      }
     },
     "ec477da9e69c42daa876468c086e309e": {
      "model_module": "@jupyter-widgets/base",
      "model_module_version": "1.2.0",
      "model_name": "LayoutModel",
      "state": {}
     },
     "ee822eda703446d3ae4ac9af71332d8a": {
      "model_module": "@jupyter-widgets/controls",
      "model_module_version": "1.5.0",
      "model_name": "VBoxModel",
      "state": {
       "_dom_classes": [
        "widget-interact"
       ],
       "children": [
        "IPY_MODEL_26e86bac1cd14759b373885342e17daf",
        "IPY_MODEL_766b84b8ff4f47f689c1c64ba31ff1f3"
       ],
       "layout": "IPY_MODEL_f521d509fcad4f5682befdad4ce1f04b"
      }
     },
     "f0db7b48a7c44b9f8cc2fe548cbe5d84": {
      "model_module": "@jupyter-widgets/base",
      "model_module_version": "1.2.0",
      "model_name": "LayoutModel",
      "state": {}
     },
     "f521d509fcad4f5682befdad4ce1f04b": {
      "model_module": "@jupyter-widgets/base",
      "model_module_version": "1.2.0",
      "model_name": "LayoutModel",
      "state": {}
     },
     "f5481fd6dfc0444c9388d9751f4ddcf0": {
      "model_module": "@jupyter-widgets/base",
      "model_module_version": "1.2.0",
      "model_name": "LayoutModel",
      "state": {}
     },
     "fc6004362103470c937ffe25974f7aec": {
      "model_module": "@jupyter-widgets/controls",
      "model_module_version": "1.5.0",
      "model_name": "ButtonStyleModel",
      "state": {}
     },
     "fdaaf571591346d09e99c9b680fa68df": {
      "model_module": "@jupyter-widgets/controls",
      "model_module_version": "1.5.0",
      "model_name": "DescriptionStyleModel",
      "state": {
       "description_width": ""
      }
     },
     "ffc73bc74b1f47249fb025c2cead6663": {
      "model_module": "@jupyter-widgets/base",
      "model_module_version": "1.2.0",
      "model_name": "LayoutModel",
      "state": {}
     }
    },
    "version_major": 2,
    "version_minor": 0
   }
  }
 },
 "nbformat": 4,
 "nbformat_minor": 2
}
