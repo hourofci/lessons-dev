{
 "cells": [
  {
   "cell_type": "markdown",
   "metadata": {
    "slideshow": {
     "slide_type": "slide"
    }
   },
   "source": [
    "## Interdisciplinary Communication\n",
    "### Part 2 of 4\n",
    "# Jargon"
   ]
  },
  {
   "cell_type": "markdown",
   "metadata": {
    "slideshow": {
     "slide_type": "slide"
    }
   },
   "source": [
    "\n",
    "## Reminder\n",
    "<a href=\"#/slide-2-0\" class=\"navigate-right\" style=\"background-color:blue;color:white;padding:8px;margin:2px;font-weight:bold;\">Continue with the lesson</a>\n",
    "\n",
    "<font size=\"+1\">\n",
    "\n",
    "By continuing with this lesson you are granting your permission to take part in this research study for the Hour of Cyberinfrastructure: Developing Cyber Literacy for GIScience project. In this study, you will be learning about cyberinfrastructure and related concepts using a web-based platform that will take approximately one hour per lesson. Participation in this study is voluntary.\n",
    "\n",
    "Participants in this research must be 18 years or older. If you are under the age of 18 then please exit this webpage or navigate to another website such as the Hour of Code at https://hourofcode.com, which is designed for K-12 students.\n",
    "\n",
    "If you are not interested in participating please exit the browser or navigate to this website: http://www.umn.edu. Your participation is voluntary and you are free to stop the lesson at any time.\n",
    "\n",
    "For the full description please navigate to this website: <a href=\"../../gateway-lesson/gateway/gateway-1.ipynb\">Gateway Lesson Research Study Permission</a>.\n",
    "\n",
    "</font>"
   ]
  },
  {
   "cell_type": "code",
   "execution_count": 2,
   "metadata": {
    "hide_input": true,
    "init_cell": true,
    "slideshow": {
     "slide_type": "skip"
    },
    "tags": [
     "Hide"
    ]
   },
   "outputs": [
    {
     "data": {
      "text/html": [
       " \n",
       "    <script type=\"text/javascript\" src=\"../../supplementary/js/custom.js\"></script>\n",
       "    \n",
       "    <style>\n",
       "        .output_prompt{opacity:0;}\n",
       "    </style>\n",
       "    \n",
       "    <input id=\"toggle_code\" type=\"button\" value=\"Toggle raw code\">\n"
      ],
      "text/plain": [
       "<IPython.core.display.HTML object>"
      ]
     },
     "execution_count": 2,
     "metadata": {},
     "output_type": "execute_result"
    }
   ],
   "source": [
    "# This code cell starts the necessary setup for Hour of CI lesson notebooks.\n",
    "# First, it enables users to hide and unhide code by producing a 'Toggle raw code' button below.\n",
    "# Second, it imports the hourofci package, which is necessary for lessons and interactive Jupyter Widgets.\n",
    "# Third, it helps hide/control other aspects of Jupyter Notebooks to improve the user experience\n",
    "# This is an initialization cell\n",
    "# It is not displayed because the Slide Type is 'Skip'\n",
    "\n",
    "from IPython.display import HTML, IFrame, Javascript, display\n",
    "from ipywidgets import interactive\n",
    "import ipywidgets as widgets\n",
    "from ipywidgets import Layout\n",
    "\n",
    "import getpass # This library allows us to get the username (User agent string)\n",
    "\n",
    "# import package for hourofci project\n",
    "import sys\n",
    "sys.path.append('../../supplementary') # relative path (may change depending on the location of the lesson notebook)\n",
    "import hourofci\n",
    "\n",
    "\n",
    "# load javascript to initialize/hide cells, get user agent string, and hide output indicator\n",
    "# hide code by introducing a toggle button \"Toggle raw code\"\n",
    "HTML(''' \n",
    "    <script type=\"text/javascript\" src=\\\"../../supplementary/js/custom.js\\\"></script>\n",
    "    \n",
    "    <style>\n",
    "        .output_prompt{opacity:0;}\n",
    "    </style>\n",
    "    \n",
    "    <input id=\"toggle_code\" type=\"button\" value=\"Toggle raw code\">\n",
    "''')"
   ]
  },
  {
   "cell_type": "markdown",
   "metadata": {
    "slideshow": {
     "slide_type": "slide"
    },
    "variables": {
     "IFrame(\"supplementary/jargon.html\", width=\"650\", height=\"400\")": "\n        <iframe\n            width=\"650\"\n            height=\"400\"\n            src=\"supplementary/jargon.html\"\n            frameborder=\"0\"\n            allowfullscreen\n            \n        ></iframe>\n        "
    }
   },
   "source": [
    "Let's start by thinking about those terms from our previous notebook. We've added some more domain-specific jargon for your to consider!\n",
    "\n",
    "But wait a second! What does jargon mean? Click the word below to find out.\n",
    "\n",
    "{{IFrame(\"supplementary/jargon.html\", width=\"650\", height=\"400\")}}"
   ]
  },
  {
   "cell_type": "markdown",
   "metadata": {
    "hide_input": true,
    "slideshow": {
     "slide_type": "slide"
    }
   },
   "source": [
    "In this section, we'll think about jargon, what role it plays in scientific communication, and what impacts it can have with different audiences. Let's see the words from our previous notebook again, only this time with a bit more domain specific terminology. Do any of the words in the word cloud **on the next page** feel like jargon to you? Click on any terms that feel like jargon."
   ]
  },
  {
   "cell_type": "markdown",
   "metadata": {
    "slideshow": {
     "slide_type": "slide"
    },
    "tags": [
     "3A"
    ],
    "variables": {
     "IFrame(\"supplementary/wordcloud-phase3.html\", width=\"970\", height=\"700\")": "\n        <iframe\n            width=\"970\"\n            height=\"700\"\n            src=\"supplementary/wordcloud-phase3.html\"\n            frameborder=\"0\"\n            allowfullscreen\n            \n        ></iframe>\n        "
    }
   },
   "source": [
    "{{IFrame(\"supplementary/wordcloud-phase3.html\", width=\"970\", height=\"700\")}}"
   ]
  },
  {
   "cell_type": "markdown",
   "metadata": {
    "slideshow": {
     "slide_type": "slide"
    },
    "tags": [
     "3B"
    ],
    "variables": {
     "IFrame(\"supplementary/comparison.html\", width=\"960\", height=\"400\")": "\n        <iframe\n            width=\"960\"\n            height=\"400\"\n            src=\"supplementary/comparison.html\"\n            frameborder=\"0\"\n            allowfullscreen\n            \n        ></iframe>\n        "
    }
   },
   "source": [
    "### Comparisons of Definitions\n",
    "\n",
    "Consider the four definitions of GIS here. Think about the way the content is delivered. Click and drag the jargon descriptors to match the GIS definitions here. When you’re done, click the \"Submit\" button to to see if you’re right.\n",
    "\n",
    "{{IFrame(\"supplementary/comparison.html\", width=\"960\", height=\"400\")}}"
   ]
  },
  {
   "cell_type": "markdown",
   "metadata": {
    "slideshow": {
     "slide_type": "slide"
    }
   },
   "source": [
    "Not everyone will understand these presentations or definitions the same way. Our understanding of terms, practices, dialogue, and content depends on our own experiences and backgrounds."
   ]
  },
  {
   "cell_type": "markdown",
   "metadata": {
    "slideshow": {
     "slide_type": "fragment"
    }
   },
   "source": [
    "The use of jargon is always a balance of the positive and negative outcomes of using such jargon. Understanding how to use jargon appropriately can make it easier to build relationships both within and across domains of expertise."
   ]
  },
  {
   "cell_type": "markdown",
   "metadata": {
    "slideshow": {
     "slide_type": "slide"
    },
    "tags": [
     "3C"
    ],
    "variables": {
     "IFrame(\"supplementary/sort.html\", width=950, height=600)": "\n        <iframe\n            width=\"950\"\n            height=\"600\"\n            src=\"supplementary/sort.html\"\n            frameborder=\"0\"\n            allowfullscreen\n            \n        ></iframe>\n        "
    }
   },
   "source": [
    "Next, you'll see a list of outcomes of using jargon. Click and drag to sort these into categories: Benefits/Assets and Drawbacks/Barriers\n",
    "\n",
    "{{IFrame(\"supplementary/sort.html\", width=950, height=600)}}"
   ]
  },
  {
   "cell_type": "markdown",
   "metadata": {
    "slideshow": {
     "slide_type": "slide"
    }
   },
   "source": [
    "## Choosing the Audience"
   ]
  },
  {
   "cell_type": "markdown",
   "metadata": {
    "slideshow": {
     "slide_type": "fragment"
    }
   },
   "source": [
    "There are appropriate and inappropriate places for jargon, and its use has different impacts on different people.\n",
    "\n",
    "In this activity, you’ll think about how to choose a presentation style that matches your audience.\n",
    "\n",
    "Given a specific audience, pick a level of jargon and detail in terminology that's appropriate. In each situation, think about why the given level of detail is appopriate or not. (Please go to the next page)"
   ]
  },
  {
   "cell_type": "markdown",
   "metadata": {
    "slideshow": {
     "slide_type": "slide"
    },
    "tags": [
     "3D"
    ],
    "variables": {
     "IFrame(\"supplementary/audience.html\", width=1000, height=500)": "\n        <iframe\n            width=\"1000\"\n            height=\"500\"\n            src=\"supplementary/audience.html\"\n            frameborder=\"0\"\n            allowfullscreen\n            \n        ></iframe>\n        "
    }
   },
   "source": [
    "{{IFrame(\"supplementary/audience.html\", width=1000, height=500)}}"
   ]
  },
  {
   "cell_type": "markdown",
   "metadata": {
    "slideshow": {
     "slide_type": "slide"
    }
   },
   "source": [
    "**Continue the journey: [Next Section](ic-4.ipynb)**"
   ]
  }
 ],
 "metadata": {
  "celltoolbar": "Tags",
  "kernelspec": {
   "display_name": "Python 3 (ipykernel)",
   "language": "python",
   "name": "python3"
  },
  "language_info": {
   "codemirror_mode": {
    "name": "ipython",
    "version": 3
   },
   "file_extension": ".py",
   "mimetype": "text/x-python",
   "name": "python",
   "nbconvert_exporter": "python",
   "pygments_lexer": "ipython3",
   "version": "3.9.5"
  },
  "rise": {
   "autolaunch": true,
   "overlay": "<div class='hciheader'></div><div class='hcifooter'></div>",
   "scroll": true
  },
  "widgets": {
   "application/vnd.jupyter.widget-state+json": {
    "state": {},
    "version_major": 2,
    "version_minor": 0
   }
  }
 },
 "nbformat": 4,
 "nbformat_minor": 2
}
