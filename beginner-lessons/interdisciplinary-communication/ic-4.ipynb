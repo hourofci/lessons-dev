{
 "cells": [
  {
   "cell_type": "markdown",
   "metadata": {
    "slideshow": {
     "slide_type": "slide"
    }
   },
   "source": [
    "## Interdisciplinary Communication\n",
    "### Part 3 of 4\n",
    "# Jargon and Domains\n",
    "In this section, we’ll explore more impacts of jargon within ourselves and within different domain contexts."
   ]
  },
  {
   "cell_type": "markdown",
   "metadata": {
    "slideshow": {
     "slide_type": "slide"
    }
   },
   "source": [
    "\n",
    "## Reminder\n",
    "<a href=\"#/slide-2-0\" class=\"navigate-right\" style=\"background-color:blue;color:white;padding:8px;margin:2px;font-weight:bold;\">Continue with the lesson</a>\n",
    "\n",
    "<font size=\"+1\">\n",
    "\n",
    "By continuing with this lesson you are granting your permission to take part in this research study for the Hour of Cyberinfrastructure: Developing Cyber Literacy for GIScience project. In this study, you will be learning about cyberinfrastructure and related concepts using a web-based platform that will take approximately one hour per lesson. Participation in this study is voluntary.\n",
    "\n",
    "Participants in this research must be 18 years or older. If you are under the age of 18 then please exit this webpage or navigate to another website such as the Hour of Code at https://hourofcode.com, which is designed for K-12 students.\n",
    "\n",
    "If you are not interested in participating please exit the browser or navigate to this website: http://www.umn.edu. Your participation is voluntary and you are free to stop the lesson at any time.\n",
    "\n",
    "For the full description please navigate to this website: <a href=\"../../gateway-lesson/gateway/gateway-1.ipynb\">Gateway Lesson Research Study Permission</a>.\n",
    "\n",
    "</font>"
   ]
  },
  {
   "cell_type": "code",
   "execution_count": 1,
   "metadata": {
    "hide_input": true,
    "init_cell": true,
    "slideshow": {
     "slide_type": "skip"
    },
    "tags": [
     "Hide"
    ]
   },
   "outputs": [
    {
     "data": {
      "text/html": [
       " \n",
       "    <script type=\"text/javascript\" src=\"../../supplementary/js/custom.js\"></script>\n",
       "    \n",
       "    <style>\n",
       "        .output_prompt{opacity:0;}\n",
       "    </style>\n",
       "    \n",
       "    <input id=\"toggle_code\" type=\"button\" value=\"Toggle raw code\">\n"
      ],
      "text/plain": [
       "<IPython.core.display.HTML object>"
      ]
     },
     "execution_count": 1,
     "metadata": {},
     "output_type": "execute_result"
    }
   ],
   "source": [
    "# This code cell starts the necessary setup for Hour of CI lesson notebooks.\n",
    "# First, it enables users to hide and unhide code by producing a 'Toggle raw code' button below.\n",
    "# Second, it imports the hourofci package, which is necessary for lessons and interactive Jupyter Widgets.\n",
    "# Third, it helps hide/control other aspects of Jupyter Notebooks to improve the user experience\n",
    "# This is an initialization cell\n",
    "# It is not displayed because the Slide Type is 'Skip'\n",
    "\n",
    "from IPython.display import HTML, IFrame, Javascript, display\n",
    "from ipywidgets import interactive\n",
    "import ipywidgets as widgets\n",
    "from ipywidgets import Layout\n",
    "\n",
    "import getpass # This library allows us to get the username (User agent string)\n",
    "\n",
    "# import package for hourofci project\n",
    "import sys\n",
    "sys.path.append('../../supplementary') # relative path (may change depending on the location of the lesson notebook)\n",
    "import hourofci\n",
    "\n",
    "# load javascript to initialize/hide cells, get user agent string, and hide output indicator\n",
    "# hide code by introducing a toggle button \"Toggle raw code\"\n",
    "HTML(''' \n",
    "    <script type=\"text/javascript\" src=\\\"../../supplementary/js/custom.js\\\"></script>\n",
    "    \n",
    "    <style>\n",
    "        .output_prompt{opacity:0;}\n",
    "    </style>\n",
    "    \n",
    "    <input id=\"toggle_code\" type=\"button\" value=\"Toggle raw code\">\n",
    "''')"
   ]
  },
  {
   "cell_type": "markdown",
   "metadata": {
    "slideshow": {
     "slide_type": "slide"
    }
   },
   "source": [
    "## How Do You Feel?"
   ]
  },
  {
   "cell_type": "code",
   "execution_count": 2,
   "metadata": {
    "hide_input": true,
    "slideshow": {
     "slide_type": "fragment"
    },
    "tags": [
     "Init",
     "Hide",
     "4A"
    ]
   },
   "outputs": [
    {
     "data": {
      "application/vnd.jupyter.widget-view+json": {
       "model_id": "08c9da91f78c4b08bd39de638477e620",
       "version_major": 2,
       "version_minor": 0
      },
      "text/plain": [
       "Text(value='', description='How do you feel?', placeholder='I feel...', style=DescriptionStyle(description_wid…"
      ]
     },
     "metadata": {},
     "output_type": "display_data"
    },
    {
     "data": {
      "application/vnd.jupyter.widget-view+json": {
       "model_id": "1adb8d61485648b49652289641a923c7",
       "version_major": 2,
       "version_minor": 0
      },
      "text/plain": [
       "Button(description='Submit', icon='check', layout=Layout(height='auto', width='auto'), style=ButtonStyle())"
      ]
     },
     "metadata": {},
     "output_type": "display_data"
    },
    {
     "data": {
      "application/vnd.jupyter.widget-view+json": {
       "model_id": "ffd6a04b46404814a8810236c5261588",
       "version_major": 2,
       "version_minor": 0
      },
      "text/plain": [
       "Output()"
      ]
     },
     "metadata": {},
     "output_type": "display_data"
    }
   ],
   "source": [
    "# Text box\n",
    "text1 = widgets.Text(\n",
    "    placeholder='I feel...',\n",
    "    description='How do you feel?', style={'description_width': 'initial'},\n",
    ")\n",
    "\n",
    "display(text1)\n",
    "\n",
    "# Output function\n",
    "def out1():\n",
    "    print(\"The positionality of a speaker, and the audience they are speaking to, matters immensely when trying to share a message, concept, or idea.\")\n",
    "\n",
    "\n",
    "# Submit button\n",
    "hourofci.SubmitBtn(text1,out1)\n"
   ]
  },
  {
   "cell_type": "markdown",
   "metadata": {
    "slideshow": {
     "slide_type": "slide"
    },
    "tags": [
     "4B"
    ],
    "variables": {
     "IFrame(\"supplementary/feelings.html\", width=\"520\", height=\"230\")": "\n        <iframe\n            width=\"520\"\n            height=\"230\"\n            src=\"supplementary/feelings.html\"\n            frameborder=\"0\"\n            allowfullscreen\n            \n        ></iframe>\n        "
    }
   },
   "source": [
    "The use, or non-use, of jargon in different contexts might have unexpected impacts. Given the speaker type and the audience listed, select a feeling from the list that is appropriate given the context.\n",
    "\n",
    "{{IFrame(\"supplementary/feelings.html\", width=\"520\", height=\"230\")}}"
   ]
  },
  {
   "cell_type": "markdown",
   "metadata": {
    "slideshow": {
     "slide_type": "slide"
    }
   },
   "source": [
    "## Domains\n",
    "\n",
    "Throughout your time interacting with cyberinfrastruture, you will interact with many different domains.\n",
    "\n",
    "For example:\n",
    "- Geography\n",
    "- Spatial Analysis\n",
    "- Computer Science\n",
    "- Remote Sensing"
   ]
  },
  {
   "cell_type": "markdown",
   "metadata": {
    "slideshow": {
     "slide_type": "fragment"
    }
   },
   "source": [
    "What domain are you in?"
   ]
  },
  {
   "cell_type": "code",
   "execution_count": 3,
   "metadata": {
    "hide_input": true,
    "slideshow": {
     "slide_type": "fragment"
    },
    "tags": [
     "Init",
     "Hide",
     "4C"
    ]
   },
   "outputs": [
    {
     "data": {
      "application/vnd.jupyter.widget-view+json": {
       "model_id": "c021f1b9e3814ab88f5177e270a98aab",
       "version_major": 2,
       "version_minor": 0
      },
      "text/plain": [
       "Text(value='', description='Enter your domain:', style=DescriptionStyle(description_width='initial'))"
      ]
     },
     "metadata": {},
     "output_type": "display_data"
    },
    {
     "data": {
      "application/vnd.jupyter.widget-view+json": {
       "model_id": "063fbefb5af94733b1674f9d4da5bfc2",
       "version_major": 2,
       "version_minor": 0
      },
      "text/plain": [
       "Button(description='Submit', icon='check', layout=Layout(height='auto', width='auto'), style=ButtonStyle())"
      ]
     },
     "metadata": {},
     "output_type": "display_data"
    },
    {
     "data": {
      "application/vnd.jupyter.widget-view+json": {
       "model_id": "6cddf0cdb4404e5db699bc2474fe9af3",
       "version_major": 2,
       "version_minor": 0
      },
      "text/plain": [
       "Output()"
      ]
     },
     "metadata": {},
     "output_type": "display_data"
    }
   ],
   "source": [
    "# Text box\n",
    "text2 = widgets.Text(\n",
    "    description='Enter your domain:', style={'description_width': 'initial'},\n",
    ")\n",
    "display(text2)\n",
    "\n",
    "# Submit button\n",
    "\n",
    "# Output function\n",
    "def out2():\n",
    "    print(\"The domain you entered is \" + text2.value)\n",
    "#   Jupyter.notebook.execute_cells([Jupyter.notebook.get_cell()+2])\n",
    "\n",
    "# Handle click event\n",
    "hourofci.SubmitBtn(text2, out2)"
   ]
  },
  {
   "cell_type": "markdown",
   "metadata": {
    "slideshow": {
     "slide_type": "slide"
    }
   },
   "source": [
    "How do you think cyberinfrastructure is relevant in these domains?"
   ]
  },
  {
   "cell_type": "code",
   "execution_count": 5,
   "metadata": {
    "hide_input": true,
    "slideshow": {
     "slide_type": "fragment"
    },
    "tags": [
     "Init",
     "Hide",
     "4D"
    ]
   },
   "outputs": [
    {
     "data": {
      "application/vnd.jupyter.widget-view+json": {
       "model_id": "9773f9409e1b4e92888160d49ce1cc0f",
       "version_major": 2,
       "version_minor": 0
      },
      "text/plain": [
       "Text(value='', description='Geography:', style=DescriptionStyle(description_width='initial'))"
      ]
     },
     "metadata": {},
     "output_type": "display_data"
    },
    {
     "data": {
      "application/vnd.jupyter.widget-view+json": {
       "model_id": "ec6644ad4a874ff6b17d4129afe9c799",
       "version_major": 2,
       "version_minor": 0
      },
      "text/plain": [
       "Text(value='', description='Spatial Analysis:', style=DescriptionStyle(description_width='initial'))"
      ]
     },
     "metadata": {},
     "output_type": "display_data"
    },
    {
     "data": {
      "application/vnd.jupyter.widget-view+json": {
       "model_id": "ed53849437a5482d9f44ee38c08effde",
       "version_major": 2,
       "version_minor": 0
      },
      "text/plain": [
       "Text(value='', description='Computer Science:', style=DescriptionStyle(description_width='initial'))"
      ]
     },
     "metadata": {},
     "output_type": "display_data"
    },
    {
     "data": {
      "application/vnd.jupyter.widget-view+json": {
       "model_id": "82834d9462be4b008f053895db895c3d",
       "version_major": 2,
       "version_minor": 0
      },
      "text/plain": [
       "Text(value='', description='Remote Sensing:', style=DescriptionStyle(description_width='initial'))"
      ]
     },
     "metadata": {},
     "output_type": "display_data"
    },
    {
     "data": {
      "application/vnd.jupyter.widget-view+json": {
       "model_id": "4928f702758e4aed907afd66b8defc42",
       "version_major": 2,
       "version_minor": 0
      },
      "text/plain": [
       "Text(value='', description='Your domain:', style=DescriptionStyle(description_width='initial'))"
      ]
     },
     "metadata": {},
     "output_type": "display_data"
    },
    {
     "data": {
      "application/vnd.jupyter.widget-view+json": {
       "model_id": "91a8a4e79c174870add404fdf47a44c2",
       "version_major": 2,
       "version_minor": 0
      },
      "text/plain": [
       "Button(description='Submit', icon='check', layout=Layout(height='auto', width='auto'), style=ButtonStyle())"
      ]
     },
     "metadata": {},
     "output_type": "display_data"
    },
    {
     "data": {
      "application/vnd.jupyter.widget-view+json": {
       "model_id": "bc929cf652f54645bd542690afe66920",
       "version_major": 2,
       "version_minor": 0
      },
      "text/plain": [
       "Output()"
      ]
     },
     "metadata": {},
     "output_type": "display_data"
    }
   ],
   "source": [
    "# Check if there is a value for personal domain\n",
    "#   If not, display \"Your domain\"\n",
    "if text2.value:\n",
    "    domain = text2.value\n",
    "else:\n",
    "    domain = \"Your domain\"\n",
    "\n",
    "# Text boxes\n",
    "text3 = widgets.Text(\n",
    "    description='Geography:', style={'description_width': 'initial'},\n",
    ")\n",
    "text4 = widgets.Text(\n",
    "    description='Spatial Analysis:', style={'description_width': 'initial'},\n",
    ")\n",
    "text5 = widgets.Text(\n",
    "    description='Computer Science:', style={'description_width': 'initial'},\n",
    ")\n",
    "text6 = widgets.Text(\n",
    "    description='Remote Sensing:', style={'description_width': 'initial'},\n",
    ")\n",
    "text7 = widgets.Text(\n",
    "    description=domain + ':', style={'description_width': 'initial'},\n",
    ")\n",
    "\n",
    "widgets1 = [text3, text4, text5, text6, text7]\n",
    "\n",
    "display(text3, text4, text5, text6, text7)\n",
    "\n",
    "\n",
    "# Submit button\n",
    "hourofci.SubmitBtn(widgets1)"
   ]
  },
  {
   "cell_type": "markdown",
   "metadata": {
    "slideshow": {
     "slide_type": "slide"
    }
   },
   "source": [
    "How do you think cyberinfrastructure is relevant in these _combined_ domains?\n",
    "\n",
    "Think hard about these combinations - it's a great test for your future work in these domains!"
   ]
  },
  {
   "cell_type": "code",
   "execution_count": 6,
   "metadata": {
    "hide_input": true,
    "scrolled": true,
    "slideshow": {
     "slide_type": "fragment"
    },
    "tags": [
     "Init",
     "Hide"
    ]
   },
   "outputs": [
    {
     "data": {
      "application/vnd.jupyter.widget-view+json": {
       "model_id": "181e6815f12c426baa52e7adc40c60ff",
       "version_major": 2,
       "version_minor": 0
      },
      "text/plain": [
       "Text(value='', description='Geography and Computer Science:', layout=Layout(width='50%'), style=DescriptionSty…"
      ]
     },
     "metadata": {},
     "output_type": "display_data"
    },
    {
     "data": {
      "application/vnd.jupyter.widget-view+json": {
       "model_id": "425a4d0dfbd6495f97c687aa8b0642d7",
       "version_major": 2,
       "version_minor": 0
      },
      "text/plain": [
       "Text(value='', description='Computer Science and Spatial Analysis:', layout=Layout(width='50%'), style=Descrip…"
      ]
     },
     "metadata": {},
     "output_type": "display_data"
    },
    {
     "data": {
      "application/vnd.jupyter.widget-view+json": {
       "model_id": "992d867f25784cdcbbfafd78a6cec947",
       "version_major": 2,
       "version_minor": 0
      },
      "text/plain": [
       "Text(value='', description='Remote Sensing and Computer Science:', layout=Layout(width='50%'), style=Descripti…"
      ]
     },
     "metadata": {},
     "output_type": "display_data"
    },
    {
     "data": {
      "application/vnd.jupyter.widget-view+json": {
       "model_id": "6c1e5623b57143928c8cdb4716faff0a",
       "version_major": 2,
       "version_minor": 0
      },
      "text/plain": [
       "Text(value='', description='Your domain and Computer Science:', layout=Layout(width='50%'), style=DescriptionS…"
      ]
     },
     "metadata": {},
     "output_type": "display_data"
    },
    {
     "data": {
      "application/vnd.jupyter.widget-view+json": {
       "model_id": "17e183520fc44224b3b2fa976aa23a99",
       "version_major": 2,
       "version_minor": 0
      },
      "text/plain": [
       "Text(value='', description='Your domain and Spatial Analysis:', layout=Layout(width='50%'), style=DescriptionS…"
      ]
     },
     "metadata": {},
     "output_type": "display_data"
    },
    {
     "data": {
      "application/vnd.jupyter.widget-view+json": {
       "model_id": "a3af90522ba6482e9781cfc0be8752a4",
       "version_major": 2,
       "version_minor": 0
      },
      "text/plain": [
       "Button(description='Submit', icon='check', layout=Layout(height='auto', width='auto'), style=ButtonStyle())"
      ]
     },
     "metadata": {},
     "output_type": "display_data"
    },
    {
     "data": {
      "application/vnd.jupyter.widget-view+json": {
       "model_id": "e1264b59c8924ec3ab639a4cd5313632",
       "version_major": 2,
       "version_minor": 0
      },
      "text/plain": [
       "Output()"
      ]
     },
     "metadata": {},
     "output_type": "display_data"
    }
   ],
   "source": [
    "# Text box\n",
    "text8 = widgets.Text(\n",
    "    description='Geography and Computer Science:', style={'description_width': 'initial'}, layout=Layout(width='50%')\n",
    ")\n",
    "text9 = widgets.Text(\n",
    "    description='Computer Science and Spatial Analysis:', style={'description_width': 'initial'}, layout=Layout(width='50%')\n",
    ")\n",
    "text10 = widgets.Text(\n",
    "    description='Remote Sensing and Computer Science:', style={'description_width': 'initial'}, layout=Layout(width='50%')\n",
    ")\n",
    "text11 = widgets.Text(\n",
    "    description=domain + ' and Computer Science:', style={'description_width': 'initial'}, layout=Layout(width='50%')\n",
    ")\n",
    "text12 = widgets.Text(\n",
    "    description=domain + ' and Spatial Analysis:', style={'description_width': 'initial'}, layout=Layout(width='50%')\n",
    ")\n",
    "\n",
    "widgets2 = [text8, text9, text10, text11, text12]\n",
    "\n",
    "display(text8, text9, text10, text11, text12)\n",
    "\n",
    "\n",
    "# Submit button\n",
    "hourofci.SubmitBtn(widgets2)\n"
   ]
  },
  {
   "cell_type": "markdown",
   "metadata": {
    "slideshow": {
     "slide_type": "slide"
    }
   },
   "source": [
    "**Continue the journey: [Next Section](ic-5.ipynb)**"
   ]
  }
 ],
 "metadata": {
  "celltoolbar": "Tags",
  "kernelspec": {
   "display_name": "Python 3 (ipykernel)",
   "language": "python",
   "name": "python3"
  },
  "language_info": {
   "codemirror_mode": {
    "name": "ipython",
    "version": 3
   },
   "file_extension": ".py",
   "mimetype": "text/x-python",
   "name": "python",
   "nbconvert_exporter": "python",
   "pygments_lexer": "ipython3",
   "version": "3.9.5"
  },
  "rise": {
   "autolaunch": true,
   "overlay": "<div class='hciheader'></div><div class='hcifooter'></div>",
   "scroll": true
  },
  "widgets": {
   "application/vnd.jupyter.widget-state+json": {
    "state": {},
    "version_major": 2,
    "version_minor": 0
   }
  }
 },
 "nbformat": 4,
 "nbformat_minor": 2
}
