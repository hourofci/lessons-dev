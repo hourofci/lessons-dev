{
 "cells": [
  {
   "cell_type": "markdown",
   "metadata": {
    "slideshow": {
     "slide_type": "slide"
    }
   },
   "source": [
    "# Using Cyberinfrastructure\n",
    "\n",
    "We will show you that you are indeed a user of cyberinfrastructure!"
   ]
  },
  {
   "cell_type": "code",
   "execution_count": 1,
   "metadata": {
    "hide_input": false,
    "init_cell": true,
    "slideshow": {
     "slide_type": "skip"
    },
    "tags": [
     "Hide"
    ]
   },
   "outputs": [
    {
     "data": {
      "text/html": [
       " \n",
       "    <script type=\"text/javascript\" src=\"../../supplementary/js/custom.js\"></script>\n",
       "    \n",
       "    <style>\n",
       "        .output_prompt{opacity:0;}\n",
       "    </style>\n",
       "    \n",
       "    <input id=\"toggle_code\" type=\"button\" value=\"Toggle raw code\">\n"
      ],
      "text/plain": [
       "<IPython.core.display.HTML object>"
      ]
     },
     "execution_count": 1,
     "metadata": {},
     "output_type": "execute_result"
    }
   ],
   "source": [
    "# This code cell starts the necessary setup for Hour of CI lesson notebooks.\n",
    "# First, it enables users to hide and unhide code by producing a 'Toggle raw code' button below.\n",
    "# Second, it imports the hourofci package, which is necessary for lessons and interactive Jupyter Widgets.\n",
    "# Third, it helps hide/control other aspects of Jupyter Notebooks to improve the user experience\n",
    "# This is an initialization cell\n",
    "# It is not displayed because the Slide Type is 'Skip'\n",
    "\n",
    "from IPython.display import HTML, IFrame, Javascript, display\n",
    "from ipywidgets import interactive\n",
    "import ipywidgets as widgets\n",
    "from ipywidgets import Layout\n",
    "\n",
    "import getpass # This library allows us to get the username (User agent string)\n",
    "\n",
    "# import package for hourofci project\n",
    "import sys\n",
    "sys.path.append('../../supplementary') # relative path (may change depending on the location of the lesson notebook)\n",
    "import hourofci\n",
    "\n",
    "# load javascript to initialize/hide cells, get user agent string, and hide output indicator\n",
    "# hide code by introducing a toggle button \"Toggle raw code\"\n",
    "HTML(''' \n",
    "    <script type=\"text/javascript\" src=\\\"../../supplementary/js/custom.js\\\"></script>\n",
    "    \n",
    "    <style>\n",
    "        .output_prompt{opacity:0;}\n",
    "    </style>\n",
    "    \n",
    "    <input id=\"toggle_code\" type=\"button\" value=\"Toggle raw code\">\n",
    "''')"
   ]
  },
  {
   "cell_type": "markdown",
   "metadata": {
    "slideshow": {
     "slide_type": "slide"
    }
   },
   "source": [
    "\n",
    "## Reminder\n",
    "\n",
    "<a href=\"#/slide-2-0\" class=\"navigate-right\" style=\"background-color:blue;color:white;padding:8px;margin:2px;font-weight:bold;\">Continue with the lesson</a>\n",
    "\n",
    "<font size=\"+1\">\n",
    "\n",
    "By continuing with this lesson you are granting your permission to take part in this research study for the Hour of Cyberinfrastructure: Developing Cyber Literacy for GIScience project. In this study, you will be learning about cyberinfrastructure and related concepts using a web-based platform that will take approximately one hour per lesson. Participation in this study is voluntary.\n",
    "\n",
    "Participants in this research must be 18 years or older. If you are under the age of 18 then please exit this webpage or navigate to another website such as the Hour of Code at https://hourofcode.com, which is designed for K-12 students.\n",
    "\n",
    "If you are not interested in participating please exit the browser or navigate to this website: http://www.umn.edu. Your participation is voluntary and you are free to stop the lesson at any time.\n",
    "\n",
    "For the full description please navigate to this website: <a href=\"gateway-1.ipynb\">Gateway Lesson Research Study Permission</a>.\n",
    "\n",
    "</font>\n",
    "\n"
   ]
  },
  {
   "cell_type": "markdown",
   "metadata": {
    "hide_input": true,
    "slideshow": {
     "slide_type": "slide"
    },
    "tags": [
     "5A"
    ]
   },
   "source": [
    "# My Python In the World of Cyberinfrastructure\n",
    "\n",
    "I wrote a few lines of Python... am I using cyberinfrastructure?\n",
    "\n",
    "<a href=\"#/slide-3-0\" class=\"link-logging\">No way!</a>\n",
    "\n",
    "<a href=\"#/slide-4-0\" class=\"link-logging\">Yes, I am!</a>"
   ]
  },
  {
   "cell_type": "markdown",
   "metadata": {
    "slideshow": {
     "slide_type": "slide"
    }
   },
   "source": [
    "## No? \n",
    "\n",
    "### Well, actually ...\n",
    "\n",
    "You are using cyberinfrastrucuture! \n",
    "\n",
    "Let's see why..."
   ]
  },
  {
   "cell_type": "markdown",
   "metadata": {
    "slideshow": {
     "slide_type": "slide"
    }
   },
   "source": [
    "## Yes, I am using Cyberinfrastructure!\n",
    "\n",
    "You are using Cyberinfrastructure this very moment. The Hour of CI lessons are built using **computational notebooks** that enables scientists to combine text, figures, executable code, and visualizations - just like your Covid-19 map.\n",
    "\n"
   ]
  },
  {
   "cell_type": "markdown",
   "metadata": {
    "slideshow": {
     "slide_type": "slide"
    }
   },
   "source": [
    "## Not convinced? \n",
    "\n",
    "We'll prove it!  \n",
    "\n",
    "Currently, you are in 'Presentation mode.' Let's check out the Jupyter Notebook. It is the field notebook for computational and data scientists around the world.\n",
    "\n",
    "Click on the **X** in the upper left hand corner to exit RISE Presentation mode and see the regular Jupyter Notebook."
   ]
  },
  {
   "cell_type": "markdown",
   "metadata": {
    "slideshow": {
     "slide_type": "skip"
    }
   },
   "source": [
    "# Welcome to Jupyter Notebooks!\n",
    "\n",
    "As you can see, the content you already went through is part of this computational notebook called a **Jupyter Notebook**. Jupyter Notebooks are used by thousands of data and computational scientists around the world. It is free and open source. You can check it out here ([jupyter.org](http://jupyter.org)).\n",
    "\n",
    "There are two important components in a Jupyter Notebook."
   ]
  },
  {
   "cell_type": "markdown",
   "metadata": {
    "slideshow": {
     "slide_type": "skip"
    }
   },
   "source": [
    "# A Markdown cell like this one.\n",
    "\n",
    "Where you can insert formatted text such as **bold** or _italicized_ text.\n",
    "\n",
    "* Lists\n",
    "* With\n",
    "* Things\n",
    "\n",
    "> Blocks of text\n",
    "\n",
    "1. Other\n",
    "1. Lists\n",
    "4. Using numbers\n",
    "  \n",
    "\n",
    "  "
   ]
  },
  {
   "cell_type": "code",
   "execution_count": null,
   "metadata": {
    "slideshow": {
     "slide_type": "skip"
    }
   },
   "outputs": [],
   "source": [
    "print(\"Or a code cell like the one you used to print hello world like this:\")\n",
    "print(\"Hello World!\")"
   ]
  },
  {
   "cell_type": "markdown",
   "metadata": {
    "slideshow": {
     "slide_type": "skip"
    }
   },
   "source": [
    "## Getting back to Presentation Mode\n",
    "If you ever want to return to \"Presentation Mode\" just click on the \"Enter/Exit RISE Slideshow button,\" which is located to the right side of the row of icons in the toolbar at the top of the page. It looks like the chart picture below.\n",
    "![Slideshow button](supplementary/rise-button.png \"What the RISE Slideshow button looks like\")\n"
   ]
  },
  {
   "cell_type": "markdown",
   "metadata": {
    "slideshow": {
     "slide_type": "skip"
    }
   },
   "source": [
    "### Let's learn more about how to use Jupyter Notebooks.\n",
    "\n",
    "1. Click on the \"Help\" menu above.\n",
    "2. Then click \"User Interface Tour\".\n",
    "3. **Important note:** Use the right arrow button on your keyboard to move through the tutorial windows."
   ]
  },
  {
   "cell_type": "markdown",
   "metadata": {
    "slideshow": {
     "slide_type": "skip"
    }
   },
   "source": [
    "Now that you have learned about how to use Jupyter Notebooks you should know that Hour of CI lessons are a series of Jupyter Notebooks designed to engage you to explore the world of cyberinfrastructure and help you become cyber literate. And the Hour of CI lessons are focused, not just on cyber literacy in general, but on cyber literacy for Geographic Information Science in particular. So to end this Gateway Lesson, let's take a quick look at what that means.\n",
    "\n",
    "<a href=\"gateway-6.ipynb\">Click here to move on to the final section to learn more!</a>"
   ]
  }
 ],
 "metadata": {
  "celltoolbar": "Raw Cell Format",
  "kernelspec": {
   "display_name": "Python 3 (ipykernel)",
   "language": "python",
   "name": "python3"
  },
  "language_info": {
   "codemirror_mode": {
    "name": "ipython",
    "version": 3
   },
   "file_extension": ".py",
   "mimetype": "text/x-python",
   "name": "python",
   "nbconvert_exporter": "python",
   "pygments_lexer": "ipython3",
   "version": "3.9.5"
  },
  "rise": {
   "auto_select": "none",
   "autolaunch": true
  }
 },
 "nbformat": 4,
 "nbformat_minor": 2
}
