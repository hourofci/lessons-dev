{
 "cells": [
  {
   "cell_type": "markdown",
   "metadata": {
    "slideshow": {
     "slide_type": "slide"
    }
   },
   "source": [
    "# Python Primer for Non-Programmers\n",
    "\n",
    "\n",
    "Cyberinfrastructure is powered by computers and advanced technologies. We use **computer programs** written in **programming languages** to communicate with these technologies. A popular programming language for scientists around the world is called **Python**. You will learn the basics of Python and start on the path to becoming a programming superstar!\n",
    "\n",
    "\n"
   ]
  },
  {
   "cell_type": "code",
   "execution_count": 2,
   "metadata": {
    "hide_input": false,
    "init_cell": true,
    "slideshow": {
     "slide_type": "skip"
    },
    "tags": [
     "Hide"
    ]
   },
   "outputs": [
    {
     "data": {
      "text/html": [
       " \n",
       "    <script type=\"text/javascript\" src=\"../../supplementary/js/custom.js\"></script>\n",
       "    \n",
       "    <style>\n",
       "        .output_prompt{opacity:0;}\n",
       "    </style>\n",
       "    \n",
       "    <input id=\"toggle_code\" type=\"button\" value=\"Toggle raw code\">\n"
      ],
      "text/plain": [
       "<IPython.core.display.HTML object>"
      ]
     },
     "execution_count": 2,
     "metadata": {},
     "output_type": "execute_result"
    }
   ],
   "source": [
    "# This code cell starts the necessary setup for Hour of CI lesson notebooks.\n",
    "# First, it enables users to hide and unhide code by producing a 'Toggle raw code' button below.\n",
    "# Second, it imports the hourofci package, which is necessary for lessons and interactive Jupyter Widgets.\n",
    "# Third, it helps hide/control other aspects of Jupyter Notebooks to improve the user experience\n",
    "# This is an initialization cell\n",
    "# It is not displayed because the Slide Type is 'Skip'\n",
    "\n",
    "from IPython.display import HTML, IFrame, Javascript, display\n",
    "from ipywidgets import interactive\n",
    "import ipywidgets as widgets\n",
    "from ipywidgets import Layout\n",
    "\n",
    "import getpass # This library allows us to get the username (User agent string)\n",
    "\n",
    "# import package for hourofci project\n",
    "import sys\n",
    "sys.path.append('../../supplementary') # relative path (may change depending on the location of the lesson notebook)\n",
    "import hourofci\n",
    "\n",
    "# load javascript to initialize/hide cells, get user agent string, and hide output indicator\n",
    "# hide code by introducing a toggle button \"Toggle raw code\"\n",
    "HTML(''' \n",
    "    <script type=\"text/javascript\" src=\\\"../../supplementary/js/custom.js\\\"></script>\n",
    "    \n",
    "    <style>\n",
    "        .output_prompt{opacity:0;}\n",
    "    </style>\n",
    "    \n",
    "    <input id=\"toggle_code\" type=\"button\" value=\"Toggle raw code\">\n",
    "''')"
   ]
  },
  {
   "cell_type": "markdown",
   "metadata": {
    "slideshow": {
     "slide_type": "slide"
    }
   },
   "source": [
    "\n",
    "## Reminder\n",
    "<a href=\"#/slide-2-0\" class=\"navigate-right\" style=\"background-color:blue;color:white;padding:8px;margin:2px;font-weight:bold;\">Continue with the lesson</a>\n",
    "\n",
    "<font size=\"+1\">\n",
    "\n",
    "By continuing with this lesson you are granting your permission to take part in this research study for the Hour of Cyberinfrastructure: Developing Cyber Literacy for GIScience project. In this study, you will be learning about cyberinfrastructure and related concepts using a web-based platform that will take approximately one hour per lesson. Participation in this study is voluntary.\n",
    "\n",
    "Participants in this research must be 18 years or older. If you are under the age of 18 then please exit this webpage or navigate to another website such as the Hour of Code at https://hourofcode.com, which is designed for K-12 students.\n",
    "\n",
    "If you are not interested in participating please exit the browser or navigate to this website: http://www.umn.edu. Your participation is voluntary and you are free to stop the lesson at any time.\n",
    "\n",
    "For the full description please navigate to this website: <a href=\"gateway-1.ipynb\">Gateway Lesson Research Study Permission</a>.\n",
    "\n",
    "</font>\n",
    "\n"
   ]
  },
  {
   "cell_type": "markdown",
   "metadata": {
    "slideshow": {
     "slide_type": "slide"
    }
   },
   "source": [
    "## A Python Statement\n",
    "\n",
    "This is a Python Statement.\n",
    "\n",
    "```python\n",
    "mystring = \"Hello World!\"\n",
    "     \n",
    "```\n",
    "\n"
   ]
  },
  {
   "cell_type": "markdown",
   "metadata": {
    "slideshow": {
     "slide_type": "slide"
    }
   },
   "source": [
    "## Statement Breakdown\n",
    "\n",
    "This is a Python Statement. \n",
    "\n",
    "```python\n",
    "mystring = \"Hello World!\"\n",
    "------------------------- <-- This line is not code!\n",
    "```\n",
    "\n",
    "The dashed line above is not code. It draws your attention to parts of code as we breakdown the Python statement.\n",
    "\n",
    "> **Statement**\n",
    ">\n",
    "> A statement is a single command that tells the computer to do something. \n",
    "\n"
   ]
  },
  {
   "cell_type": "markdown",
   "metadata": {
    "slideshow": {
     "slide_type": "slide"
    }
   },
   "source": [
    "## Statement Breakdown\n",
    "\n",
    "mystring is a Variable.\n",
    "\n",
    "```python\n",
    "mystring = \"Hello World!\"\n",
    "--------\n",
    "```\n",
    "\n",
    "> **Variable**\n",
    ">\n",
    "> Variables can hold values (think back to math class).  \n",
    "> They can be referred by a name such as **x**, **mystring**, or **this_is_a_variable**.\n"
   ]
  },
  {
   "cell_type": "markdown",
   "metadata": {
    "slideshow": {
     "slide_type": "slide"
    }
   },
   "source": [
    "## Statement Breakdown\n",
    "\n",
    "Assignment using =\n",
    "\n",
    "```python\n",
    "mystring = \"Hello World!\"\n",
    "        ---\n",
    "```\n",
    "\n",
    "> **Assignment**\n",
    ">\n",
    "> The equals sign assigns the value:\n",
    ">\n",
    ">  **\"Hello World!\"**\n",
    ">  \n",
    "> to the variable:\n",
    "> \n",
    "> **mystring**"
   ]
  },
  {
   "cell_type": "markdown",
   "metadata": {
    "slideshow": {
     "slide_type": "slide"
    }
   },
   "source": [
    "## Statement Breakdown\n",
    "\n",
    "\"Hello World\" is a Value.\n",
    "\n",
    "```python\n",
    "mystring = \"Hello World!\"\n",
    "           --------------\n",
    "```\n",
    "\n",
    "> **Value**\n",
    "> \n",
    "> Values can be:\n",
    ">  \n",
    "> quoted strings such as **\"hello\"**\n",
    ">  \n",
    "> or\n",
    ">  \n",
    "> numbers such as **123** or **3.14**\n",
    "\n"
   ]
  },
  {
   "cell_type": "markdown",
   "metadata": {
    "slideshow": {
     "slide_type": "slide"
    }
   },
   "source": [
    "## Let's try it! \n",
    "\n",
    "Move your mouse to the left of the Python statement and click on the Run button ( <img src=\"supplementary/play-button.png\" alt=\"Run button picture\" style=\"display: inline-block;\">) below."
   ]
  },
  {
   "cell_type": "code",
   "execution_count": null,
   "metadata": {
    "slideshow": {
     "slide_type": "-"
    },
    "tags": [
     "3A"
    ]
   },
   "outputs": [],
   "source": [
    "mystring = \"Hello World!\""
   ]
  },
  {
   "cell_type": "markdown",
   "metadata": {
    "slideshow": {
     "slide_type": "-"
    }
   },
   "source": [
    "Then hit [Space] to continue."
   ]
  },
  {
   "cell_type": "markdown",
   "metadata": {
    "slideshow": {
     "slide_type": "fragment"
    }
   },
   "source": [
    "### Nothing?\n",
    "Well, not exactly."
   ]
  },
  {
   "cell_type": "markdown",
   "metadata": {
    "slideshow": {
     "slide_type": "slide"
    }
   },
   "source": [
    "## A foundational rule in computing\n",
    "\n",
    "> The computer does _exactly_ what you **tell** it to do!\n"
   ]
  },
  {
   "cell_type": "markdown",
   "metadata": {
    "slideshow": {
     "slide_type": "-"
    }
   },
   "source": [
    "## A foundational challenge in computing\n",
    "\n",
    "> This isn't necessarily what you **want** it to do!\n"
   ]
  },
  {
   "cell_type": "markdown",
   "metadata": {
    "slideshow": {
     "slide_type": "slide"
    }
   },
   "source": [
    "## So what did we tell it to do?!\n",
    "\n",
    "Our code:\n",
    "\n",
    "```python\n",
    "mystring = \"Hello World!\"\n",
    "```\n",
    "\n",
    "Remember, the statement breakdown explanation. \n",
    "\n",
    "We assigned the value \"Hello World!\" to the variable mystring.\n",
    "\n",
    "That's it.\n"
   ]
  },
  {
   "cell_type": "markdown",
   "metadata": {
    "slideshow": {
     "slide_type": "slide"
    }
   },
   "source": [
    "## So let's tell it to do a bit more.\n",
    "\n",
    "If we add one more statement, we can see some results.\n",
    "\n",
    "```python\n",
    "mystring = \"Hello World!\"\n",
    "print(mystring)\n",
    "```"
   ]
  },
  {
   "cell_type": "markdown",
   "metadata": {
    "slideshow": {
     "slide_type": "slide"
    }
   },
   "source": [
    "## Statement Breakdown\n",
    "\n",
    "print is a function call.\n",
    "\n",
    "```python\n",
    "print(mystring)\n",
    "-----\n",
    "```\n",
    "\n",
    "> **Function call**\n",
    "> \n",
    "> A function is a defined piece of Python code that can be called upon \n",
    "> such as a 'print' function that prints information to the screen.\n",
    "> Each function name is followed by parentheses.\n",
    ">\n",
    "> *function_name(arguments)*"
   ]
  },
  {
   "cell_type": "markdown",
   "metadata": {
    "slideshow": {
     "slide_type": "slide"
    }
   },
   "source": [
    "## Statement Breakdown\n",
    "\n",
    "mystring is an argument.\n",
    "\n",
    "```python\n",
    "print(mystring)\n",
    "      --------\n",
    "```\n",
    "\n",
    "> **Arguments**\n",
    "> \n",
    "> Arguments also known as parameters are passed into functions. \n",
    "> This argument is a variable, but strings and numbers can also be arguments.\n",
    ">\n",
    "> *(this_is_a_variable, \"string 1\" , 2345, 3.14)*\n"
   ]
  },
  {
   "cell_type": "markdown",
   "metadata": {
    "slideshow": {
     "slide_type": "slide"
    }
   },
   "source": [
    "## Let's try it! \n",
    "\n",
    "Move your mouse to the left of the Python statement and click on the Run button ( <img src=\"supplementary/play-button.png\" alt=\"Run button picture\" style=\"display: inline-block;\">) below."
   ]
  },
  {
   "cell_type": "code",
   "execution_count": null,
   "metadata": {
    "slideshow": {
     "slide_type": "-"
    },
    "tags": [
     "3B"
    ]
   },
   "outputs": [],
   "source": [
    "mystring = \"Hello World!\"\n",
    "print(mystring)"
   ]
  },
  {
   "cell_type": "markdown",
   "metadata": {
    "slideshow": {
     "slide_type": "slide"
    }
   },
   "source": [
    "### Success!\n",
    "We told the computer to assign \"Hello World\" to mystring, and then print it to the screen."
   ]
  },
  {
   "cell_type": "markdown",
   "metadata": {
    "slideshow": {
     "slide_type": "slide"
    }
   },
   "source": [
    "# Your First Program\n",
    "\n",
    "The classic program that every programmer makes is a simple statement to the world.\n",
    "\n",
    "> Hello World!\n",
    "\n",
    "```python\n",
    "print(\"Hello World!\")\n",
    "```\n",
    "\n",
    "Below, is a code box. Type the Python code above into the code box below and click the Run button ( <img src=\"supplementary/play-button.png\" alt=\"Run button picture\" style=\"display: inline-block;\">) below."
   ]
  },
  {
   "cell_type": "code",
   "execution_count": null,
   "metadata": {
    "slideshow": {
     "slide_type": "-"
    },
    "tags": [
     "3C"
    ]
   },
   "outputs": [],
   "source": []
  },
  {
   "cell_type": "markdown",
   "metadata": {
    "slideshow": {
     "slide_type": "slide"
    }
   },
   "source": [
    "# Congratulations!\n",
    "\n",
    "You are officially a programmer."
   ]
  },
  {
   "cell_type": "markdown",
   "metadata": {
    "slideshow": {
     "slide_type": "slide"
    }
   },
   "source": [
    "## You can modify your code to say something else.\n",
    "\n",
    "How about ... \n",
    "\n",
    "```python\n",
    "print(\"Hello World of Cyberinfrastructure, I am here!\")\n",
    "```\n",
    "\n",
    "Try it! Write your code and then click the run button ( <img src=\"supplementary/play-button.png\" alt=\"Run button picture\" style=\"display: inline-block;\">) below."
   ]
  },
  {
   "cell_type": "code",
   "execution_count": null,
   "metadata": {
    "slideshow": {
     "slide_type": "-"
    },
    "tags": [
     "3D"
    ]
   },
   "outputs": [],
   "source": []
  },
  {
   "cell_type": "markdown",
   "metadata": {
    "slideshow": {
     "slide_type": "slide"
    }
   },
   "source": [
    "## Expressions\n",
    "\n",
    "Surprise. Computers are good at math!\n",
    "\n",
    "We can program mathematical expressions using Python. Let's try a really simple addition problem. \n",
    "\n",
    "```python\n",
    "result = 1 + 1\n",
    "print(result)\n",
    "```\n",
    "Try it! Write and run the code you see above.\n",
    "\n"
   ]
  },
  {
   "cell_type": "code",
   "execution_count": null,
   "metadata": {
    "slideshow": {
     "slide_type": "-"
    },
    "tags": [
     "3E"
    ]
   },
   "outputs": [],
   "source": []
  },
  {
   "cell_type": "markdown",
   "metadata": {
    "slideshow": {
     "slide_type": "slide"
    }
   },
   "source": [
    "## Expressions\n",
    "\n",
    "We can program all sorts of mathematical expressions. Try running these yourself.\n"
   ]
  },
  {
   "cell_type": "code",
   "execution_count": null,
   "metadata": {
    "slideshow": {
     "slide_type": "-"
    },
    "tags": [
     "3F"
    ]
   },
   "outputs": [],
   "source": [
    "print(1 + 2 - 3)\n",
    "print(4 * 5 / 6)\n",
    "print(7 ** 8)\n",
    "print( ( (1 - 2)**2 + (0 - 1)**2 )**(1/2) )"
   ]
  },
  {
   "cell_type": "markdown",
   "metadata": {
    "slideshow": {
     "slide_type": "-"
    }
   },
   "source": [
    "_That last one is the Euclidean Distance between point (1,0) and point (2,1)_"
   ]
  },
  {
   "cell_type": "markdown",
   "metadata": {
    "slideshow": {
     "slide_type": "slide"
    }
   },
   "source": [
    "## Comments\n",
    "\n",
    "How can we tell other programmers that it is Euclidean Distance? Comments!\n",
    "\n",
    "```python\n",
    "print( ( (1 - 2)**2 + (0 - 1)**2 )**(1/2) ) # Euclidean Distance between (1,0) and (2,1)\n",
    "```"
   ]
  },
  {
   "cell_type": "markdown",
   "metadata": {
    "slideshow": {
     "slide_type": "slide"
    }
   },
   "source": [
    "## Statement Breakdown\n",
    "\n",
    "How can we tell other programmers that it is Euclidean Distance? Comments!\n",
    "\n",
    "```python\n",
    "print( ( (1 - 2)**2 + (0 - 1)**2 )**(1/2) ) # Euclidean Distance between (1,0) and (2,1)\n",
    "                                            --------------------------------------------\n",
    "```\n",
    "\n",
    "\n",
    "> **Comments**\n",
    "> \n",
    "> Comments allow programmers to leave plain text explanations of code.\n",
    "> Comments are ignored by Python.\n",
    ">\n",
    "> *# This is a comment and will not be executed by Python*\n",
    "\n"
   ]
  },
  {
   "cell_type": "markdown",
   "metadata": {
    "slideshow": {
     "slide_type": "slide"
    }
   },
   "source": [
    "## Dynamics\n",
    "\n",
    "What if we want our programs to be dynamic and respond in certain ways based on data or user input?"
   ]
  },
  {
   "cell_type": "markdown",
   "metadata": {
    "slideshow": {
     "slide_type": "fragment"
    }
   },
   "source": [
    "One way to make our programs more dynamic is to use **conditional statements.**\n"
   ]
  },
  {
   "cell_type": "markdown",
   "metadata": {
    "slideshow": {
     "slide_type": "slide"
    }
   },
   "source": [
    "## If statements\n",
    "\n",
    "We will start with the most basic conditional statement. The 'if' statement. It is a bit complex so let's break it down.\n",
    "\n",
    "```python\n",
    "if 1<2:\n",
    "    print(\"1 IS less than 2!\")\n",
    "```\n",
    "\n",
    "> **If statement**\n",
    "> \n",
    "> An if conditional statement will execute all indented code\n",
    "> if the condition evaluates to be _true_.\n",
    ">\n",
    "> if condition:\n",
    ">\n",
    ">     do something\n"
   ]
  },
  {
   "cell_type": "markdown",
   "metadata": {
    "slideshow": {
     "slide_type": "slide"
    }
   },
   "source": [
    "## Statement Breakdown\n",
    "\n",
    "```python\n",
    "if 1<2:\n",
    "--\n",
    "    print(\"1 IS less than 2!\")\n",
    "\n",
    "```\n",
    "\n",
    "> An if conditional statement will execute all indented code\n",
    "> if the condition evaluates to be _true_."
   ]
  },
  {
   "cell_type": "markdown",
   "metadata": {
    "slideshow": {
     "slide_type": "slide"
    }
   },
   "source": [
    "## Statement Breakdown\n",
    "\n",
    "```python\n",
    "if 1<2:\n",
    "   ---\n",
    "    print(\"1 IS less than 2!\")\n",
    "\n",
    "```\n",
    "\n",
    "> The **condition** that will be evaluated. It will either evaluate to be **True** or **False**. "
   ]
  },
  {
   "cell_type": "markdown",
   "metadata": {
    "slideshow": {
     "slide_type": "slide"
    }
   },
   "source": [
    "## Statement Breakdown\n",
    "\n",
    "```python\n",
    "if 1<2:\n",
    "      -\n",
    "    print(\"1 IS less than 2!\")\n",
    "\n",
    "```\n",
    "\n",
    "> The **colon** tells Python that the if condition is complete and to expect an indented line next."
   ]
  },
  {
   "cell_type": "markdown",
   "metadata": {
    "slideshow": {
     "slide_type": "slide"
    }
   },
   "source": [
    "## Statement Breakdown\n",
    "\n",
    "```python\n",
    "if 1<2:\n",
    "    print(\"1 IS less than 2!\")\n",
    "----\n",
    "```\n",
    "\n",
    "> **Indentation** The code that will be conditionally executed must be indented following the if statement (4 spaces is typical)."
   ]
  },
  {
   "cell_type": "markdown",
   "metadata": {
    "slideshow": {
     "slide_type": "slide"
    }
   },
   "source": [
    "## Statement Breakdown\n",
    "\n",
    "```python\n",
    "if 1<2:\n",
    "    print(\"1 IS less than 2!\")\n",
    "    --------------------------\n",
    "```\n",
    "\n",
    "> **Python code.** This indented code will be executed _only if_ if the condition is **True**."
   ]
  },
  {
   "cell_type": "markdown",
   "metadata": {
    "slideshow": {
     "slide_type": "slide"
    }
   },
   "source": [
    "## Conditions\n",
    "\n",
    "There are a variety of different types of conditions. Here are a few examples. If you want to see more examples check out the chapter in the open book \"Python For Everyone\" <a href=\"https://www.py4e.com/html3/03-conditional\">here</a>. The **bold** conditions evaluate as True.\n",
    "\n",
    "| Condition  | Operator  | Example   | T/F  |\n",
    "|:---|:---|:---|:---|\n",
    "| **Equal to**           | **==**  | **1==1**  | **T** |\n",
    "| Not equal to       | !=  | 1!=1  | F  |\n",
    "| Greater than (GT)  | >   | 1> 1  | F  |\n",
    "|**GT / equal to**      | **<=**  | **1>=1**  | **T** |\n",
    "| Less than (LT)     | <   | 1< 1  | F  |\n",
    "| **LT / equal to**     | **<=**  | **1<=1**  | **T**  |\n"
   ]
  },
  {
   "cell_type": "markdown",
   "metadata": {
    "slideshow": {
     "slide_type": "slide"
    }
   },
   "source": [
    "# Let's check your knowledge\n",
    "\n",
    "Let's see if you can follow the conditions. Will you see the printed statement?\n",
    "\n",
    "```python\n",
    "x = 5\n",
    "y = 10\n",
    "if x<=5:\n",
    "    print(\"WILL YOU SEE THIS?\")\n",
    "```"
   ]
  },
  {
   "cell_type": "code",
   "execution_count": 4,
   "metadata": {
    "hide_input": false,
    "scrolled": true,
    "slideshow": {
     "slide_type": "-"
    },
    "tags": [
     "Init",
     "Hide",
     "3G"
    ]
   },
   "outputs": [
    {
     "data": {
      "application/vnd.jupyter.widget-view+json": {
       "model_id": "72178756ad8848e4b37bc03bbfaddb79",
       "version_major": 2,
       "version_minor": 0
      },
      "text/plain": [
       "ToggleButtons(options=('No', 'Yes'), tooltips=('No I will not see it', 'Yes I will see it'), value='No')"
      ]
     },
     "metadata": {},
     "output_type": "display_data"
    },
    {
     "data": {
      "application/vnd.jupyter.widget-view+json": {
       "model_id": "87bf8042e9ff47309e0750c3b19ed170",
       "version_major": 2,
       "version_minor": 0
      },
      "text/plain": [
       "Button(description='Submit', icon='check', layout=Layout(height='auto', width='auto'), style=ButtonStyle())"
      ]
     },
     "metadata": {},
     "output_type": "display_data"
    },
    {
     "data": {
      "application/vnd.jupyter.widget-view+json": {
       "model_id": "acc0c088c6d143489a8bf169af7ea3fb",
       "version_major": 2,
       "version_minor": 0
      },
      "text/plain": [
       "Output()"
      ]
     },
     "metadata": {},
     "output_type": "display_data"
    }
   ],
   "source": [
    "# Multiple choice question using a ToggleButton widget\n",
    "# This code cell has tags \"Init\", \"Hide\", and \"3G\"\n",
    "\n",
    "widget1=widgets.ToggleButtons(\n",
    "    options=['No','Yes'],\n",
    "    description='',\n",
    "    disabled=False,\n",
    "    button_style='', # 'success', 'info', 'warning', 'danger' or ''\n",
    "    tooltips=['No I will not see it', 'Yes I will see it'],\n",
    ")\n",
    "\n",
    "# Show the options.\n",
    "display(widget1)\n",
    "\n",
    "def out1():\n",
    "    print(\"Yes you will! The value of x is 5, the condition \\\"x<=5\\\" is asking whether\")\n",
    "    print(\"\\\"x is less than or equal to 5?\\\" Since 5 is equal to 5, it evalutes to True.\")\n",
    "    \n",
    "hourofci.SubmitBtn(widget1,out1)"
   ]
  },
  {
   "cell_type": "markdown",
   "metadata": {
    "slideshow": {
     "slide_type": "slide"
    }
   },
   "source": [
    "# Let's check your knowledge (again)\n",
    "\n",
    "Let's see if you can follow the conditions. Will you see the printed statement?\n",
    "\n",
    "```python\n",
    "x = 5\n",
    "y = 10\n",
    "if y<=5:\n",
    "    print(\"HOW ABOUT THIS? WILL YOU SEE THIS?\")\n",
    "```"
   ]
  },
  {
   "cell_type": "code",
   "execution_count": 5,
   "metadata": {
    "hide_input": false,
    "scrolled": true,
    "slideshow": {
     "slide_type": "-"
    },
    "tags": [
     "Init",
     "Hide",
     "3H"
    ]
   },
   "outputs": [
    {
     "data": {
      "application/vnd.jupyter.widget-view+json": {
       "model_id": "618d9a48642a4175bcc06ba3c0a3c7de",
       "version_major": 2,
       "version_minor": 0
      },
      "text/plain": [
       "ToggleButtons(options=('No', 'Yes'), tooltips=('No I will not see it', 'Yes I will see it'), value='No')"
      ]
     },
     "metadata": {},
     "output_type": "display_data"
    },
    {
     "data": {
      "application/vnd.jupyter.widget-view+json": {
       "model_id": "924afac0cb5646acba6d36924a51cdbd",
       "version_major": 2,
       "version_minor": 0
      },
      "text/plain": [
       "Button(description='Submit', icon='check', layout=Layout(height='auto', width='auto'), style=ButtonStyle())"
      ]
     },
     "metadata": {},
     "output_type": "display_data"
    },
    {
     "data": {
      "application/vnd.jupyter.widget-view+json": {
       "model_id": "30a6f51f472b4ed6a6ea498feabeebb8",
       "version_major": 2,
       "version_minor": 0
      },
      "text/plain": [
       "Output()"
      ]
     },
     "metadata": {},
     "output_type": "display_data"
    }
   ],
   "source": [
    "# Multiple choice question using a ToggleButton widget\n",
    "# This code cell has tags \"Init\", \"Hide\", and \"3H\"\n",
    "\n",
    "widget2=widgets.ToggleButtons(\n",
    "    options=['No','Yes'],\n",
    "    description='',\n",
    "    disabled=False,\n",
    "    button_style='', # 'success', 'info', 'warning', 'danger' or ''\n",
    "    tooltips=['No I will not see it', 'Yes I will see it'],\n",
    ")\n",
    "\n",
    "# Show the options.\n",
    "display(widget2)\n",
    "\n",
    "def out2():\n",
    "    print(\"Nope. The value of y is 10, the condition \\\"y<=5\\\" is asking whether\")\n",
    "    print(\"\\\"y is less than or equal to 5?\\\" Since 10 is greater than 5, it evalutes to False.\")\n",
    "\n",
    "hourofci.SubmitBtn(widget2,out2)\n"
   ]
  },
  {
   "cell_type": "markdown",
   "metadata": {
    "slideshow": {
     "slide_type": "slide"
    }
   },
   "source": [
    "# Modules and Packages\n",
    "\n",
    "It is important to know that programming is not just about you and your programming abilities. When learning to program, it is important to use code that other people have written for you. The phrase _\"Don't reinvent the wheel\"_ is often used in programming. How can you use other code? Modules! (also known as libraries and packages). We can **import** modules, which will make pre-packaged code available for you to use.\n",
    "\n",
    "It looks like this:\n",
    "\n",
    "``` python\n",
    "import pandas # Pandas is the Python Data Analysis Library. \n",
    "```"
   ]
  },
  {
   "cell_type": "markdown",
   "metadata": {
    "slideshow": {
     "slide_type": "slide"
    }
   },
   "source": [
    "## Statement Breakdown\n",
    "\n",
    "How can we use code written by other programmers? Import modules!\n",
    "\n",
    "```python\n",
    "import modulename\n",
    "------\n",
    "```\n",
    "\n",
    "\n",
    "> **Import**\n",
    "> \n",
    "> Will import a module, which can contain executable statements as well as functions\n"
   ]
  },
  {
   "cell_type": "markdown",
   "metadata": {
    "slideshow": {
     "slide_type": "slide"
    }
   },
   "source": [
    "## Statement Breakdown\n",
    "\n",
    "How can we use code written by other programmers? Import modules!\n",
    "\n",
    "```python\n",
    "import modulename\n",
    "       ----------\n",
    "```\n",
    "\n",
    "\n",
    "> **Module name**\n",
    "> \n",
    "> Module names are the packages that you will be importing. Examples in Python include **datetime**, **sys**, and **io**. Some modules must be installed by you using *pip* or *Anaconda*. Example modules commonly used in CI and GIS include **pandas**, **rasterio**, and **shapely**.\n"
   ]
  },
  {
   "cell_type": "markdown",
   "metadata": {
    "slideshow": {
     "slide_type": "slide"
    }
   },
   "source": [
    "Now that you have learned the basics of programming, you can apply geospatial analytics and visualization.\n",
    "\n",
    "<a href=\"gateway-4.ipynb\">Click here to move to the next section to learn more!</a>"
   ]
  }
 ],
 "metadata": {
  "celltoolbar": "Edit Metadata",
  "kernelspec": {
   "display_name": "Python 3 (ipykernel)",
   "language": "python",
   "name": "python3"
  },
  "language_info": {
   "codemirror_mode": {
    "name": "ipython",
    "version": 3
   },
   "file_extension": ".py",
   "mimetype": "text/x-python",
   "name": "python",
   "nbconvert_exporter": "python",
   "pygments_lexer": "ipython3",
   "version": "3.9.5"
  },
  "rise": {
   "auto_select": "none",
   "autolaunch": true
  }
 },
 "nbformat": 4,
 "nbformat_minor": 2
}
