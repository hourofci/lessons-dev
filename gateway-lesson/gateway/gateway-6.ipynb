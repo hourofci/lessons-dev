{
 "cells": [
  {
   "cell_type": "markdown",
   "metadata": {
    "slideshow": {
     "slide_type": "slide"
    }
   },
   "source": [
    "# Cyber Literacy in the World of Cyberinfrastructure\n",
    "\n",
    "Here you will learn about Cyber Literacy for GIScience. "
   ]
  },
  {
   "cell_type": "code",
   "execution_count": 2,
   "metadata": {
    "hide_input": false,
    "init_cell": true,
    "slideshow": {
     "slide_type": "skip"
    },
    "tags": [
     "Hide"
    ]
   },
   "outputs": [
    {
     "data": {
      "text/html": [
       " \n",
       "    <script type=\"text/javascript\" src=\"../../supplementary/js/custom.js\"></script>\n",
       "    \n",
       "    <style>\n",
       "        .output_prompt{opacity:0;}\n",
       "    </style>\n",
       "    \n",
       "    <input id=\"toggle_code\" type=\"button\" value=\"Toggle raw code\">\n"
      ],
      "text/plain": [
       "<IPython.core.display.HTML object>"
      ]
     },
     "execution_count": 2,
     "metadata": {},
     "output_type": "execute_result"
    }
   ],
   "source": [
    "# This code cell starts the necessary setup for Hour of CI lesson notebooks.\n",
    "# First, it enables users to hide and unhide code by producing a 'Toggle raw code' button below.\n",
    "# Second, it imports the hourofci package, which is necessary for lessons and interactive Jupyter Widgets.\n",
    "# Third, it helps hide/control other aspects of Jupyter Notebooks to improve the user experience\n",
    "# This is an initialization cell\n",
    "# It is not displayed because the Slide Type is 'Skip'\n",
    "\n",
    "from IPython.display import HTML, IFrame, Javascript, display\n",
    "from ipywidgets import interactive\n",
    "import ipywidgets as widgets\n",
    "from ipywidgets import Layout\n",
    "\n",
    "import getpass # This library allows us to get the username (User agent string)\n",
    "\n",
    "# import package for hourofci project\n",
    "import sys\n",
    "sys.path.append('../../supplementary') # relative path (may change depending on the location of the lesson notebook)\n",
    "import hourofci\n",
    "\n",
    "# load javascript to initialize/hide cells, get user agent string, and hide output indicator\n",
    "# hide code by introducing a toggle button \"Toggle raw code\"\n",
    "HTML(''' \n",
    "    <script type=\"text/javascript\" src=\\\"../../supplementary/js/custom.js\\\"></script>\n",
    "    \n",
    "    <style>\n",
    "        .output_prompt{opacity:0;}\n",
    "    </style>\n",
    "    \n",
    "    <input id=\"toggle_code\" type=\"button\" value=\"Toggle raw code\">\n",
    "''')"
   ]
  },
  {
   "cell_type": "markdown",
   "metadata": {
    "slideshow": {
     "slide_type": "slide"
    }
   },
   "source": [
    "\n",
    "## Reminder\n",
    "\n",
    "<a href=\"#/slide-2-0\" class=\"navigate-right\" style=\"background-color:blue;color:white;padding:8px;margin:2px;font-weight:bold;\">Continue with the lesson</a>\n",
    "\n",
    "<font size=\"+1\">\n",
    "\n",
    "By continuing with this lesson you are granting your permission to take part in this research study for the Hour of Cyberinfrastructure: Developing Cyber Literacy for GIScience project. In this study, you will be learning about cyberinfrastructure and related concepts using a web-based platform that will take approximately one hour per lesson. Participation in this study is voluntary.\n",
    "\n",
    "Participants in this research must be 18 years or older. If you are under the age of 18 then please exit this webpage or navigate to another website such as the Hour of Code at https://hourofcode.com, which is designed for K-12 students.\n",
    "\n",
    "If you are not interested in participating please exit the browser or navigate to this website: http://www.umn.edu. Your participation is voluntary and you are free to stop the lesson at any time.\n",
    "\n",
    "For the full description please navigate to this website: <a href=\"gateway-1.ipynb\">Gateway Lesson Research Study Permission</a>.\n",
    "\n",
    "</font>\n",
    "\n"
   ]
  },
  {
   "cell_type": "markdown",
   "metadata": {
    "slideshow": {
     "slide_type": "slide"
    }
   },
   "source": [
    "# What is in the World of Cyberinfrastructure?\n",
    "\n",
    "To become a user of cyberinfrastructure to solve geospatial problems you must first know what it is all about.\n",
    "You need to develop 'Cyber Literacy,' but what does that mean?\n",
    "\n"
   ]
  },
  {
   "cell_type": "markdown",
   "metadata": {
    "slideshow": {
     "slide_type": "fragment"
    }
   },
   "source": [
    "### Cyber Literacy for GIScience\n",
    "\n",
    "> The ability to understand and use established and emerging technologies to transform all forms and magnitudes of geospatial data into information for interdisciplinary problem solving."
   ]
  },
  {
   "cell_type": "markdown",
   "metadata": {
    "slideshow": {
     "slide_type": "slide"
    }
   },
   "source": [
    "## Literacy and the Three R's\n",
    "<table>\n",
    "    <tr style=\"background: #fff\">\n",
    "        <td align=left valign=top>\n",
    "\n",
    "In the 18th and 19th centuries, general education was framed around gaining literacy in the Three R’s:\n",
    "\n",
    "\n",
    "1. Reading\n",
    "2. wRiting\n",
    "3. Reckoning (or, aRithmetic)        \n",
    "\n",
    "Here, \"literacy\" meant the ability to decode and comprehend written language at a rudimentary level.\n",
    "\n",
    "</td>\n",
    "<td width=40%> <img src='supplementary/library_icon.png' alt='Person reading a book'></td>\n",
    "    </tr>\n",
    "</table>"
   ]
  },
  {
   "cell_type": "markdown",
   "metadata": {
    "slideshow": {
     "slide_type": "slide"
    }
   },
   "source": [
    "## Literacies\n",
    "\n",
    "<table>\n",
    "    <tr style=\"background: #fff\">\n",
    "        <td align=\"left\" valign=\"top\">\n",
    "\n",
    "Literacies outline essential abilities and foundational knowledge. In the 21st century we recognize many new literacies ...\n",
    "\n",
    "  * Financial literacy\n",
    "  * Health literacy\n",
    "  * Ecoliteracy\n",
    "\n",
    "And now\n",
    "  * Cyber literacy\n",
    "\n",
    "</td>\n",
    "<td width=40%> <img src='supplementary/hippo-mag-glass.png' alt='Hippo with magnifying glass'></td>\n",
    "    </tr>\n",
    "</table>"
   ]
  },
  {
   "cell_type": "markdown",
   "metadata": {
    "slideshow": {
     "slide_type": "slide"
    }
   },
   "source": [
    "## Cyber Literacy\n",
    "\n",
    "<table>\n",
    "    <tr style=\"background: #fff\">\n",
    "        <td align=\"left\" valign=\"top\">\n",
    "\n",
    "Basically ... Cyber Literacy for GIScience helps us make sense of the data-rich world using geospatial technologies and cyberinfrastructure.\n",
    "\n",
    "</td>\n",
    "<td width=30%> <img src='supplementary/world-to-server.png' alt='Data-rich world going into a server'></td>\n",
    "    </tr>\n",
    "</table>"
   ]
  },
  {
   "cell_type": "markdown",
   "metadata": {
    "slideshow": {
     "slide_type": "slide"
    }
   },
   "source": [
    "## Cyber Literacy: Breaking it down\n",
    "\n",
    "> “**the ability to understand and use \n",
    ">  established and emerging technologies**\n",
    ">  to transform all forms and magnitudes\n",
    "> of geospatial data into information\n",
    "> for interdisciplinary problem solving.”"
   ]
  },
  {
   "cell_type": "markdown",
   "metadata": {
    "slideshow": {
     "slide_type": "fragment"
    }
   },
   "source": [
    "You mean like Jupyter Notebooks?! Like these lessons?! \n",
    "\n",
    "Yes! You have learned how to use Jupyter Notebooks and are currently using Cyberinfrastructure. You are using a National Science and Engineering Cloud resource called **'Jetstream'** led by the Indiana University Pervasive Technology Institute (PTI). <a href=\"https://jetstream-cloud.org/\">Click hear to learn more about Jetstream including how you can use Jetstream for free.</a>"
   ]
  },
  {
   "cell_type": "markdown",
   "metadata": {
    "slideshow": {
     "slide_type": "slide"
    }
   },
   "source": [
    "## Cyber Literacy: Breaking it down\n",
    "\n",
    "> “the ability to understand and use \n",
    ">  established and emerging technologies\n",
    ">  **to transform all forms and magnitudes\n",
    "> of geospatial data into information**\n",
    "> for interdisciplinary problem solving.”\n",
    "\n"
   ]
  },
  {
   "cell_type": "markdown",
   "metadata": {
    "slideshow": {
     "slide_type": "fragment"
    }
   },
   "source": [
    "You mean like mapping Covid-19 using Python?! Yes! You have learned how to use Python to transform geospatial data into a useful map.\n",
    "\n"
   ]
  },
  {
   "cell_type": "markdown",
   "metadata": {
    "slideshow": {
     "slide_type": "slide"
    }
   },
   "source": [
    "## Cyber Literacy: Breaking it down\n",
    "\n",
    "> “the ability to understand and use \n",
    ">  established and emerging technologies\n",
    ">  to transform all forms and magnitudes\n",
    "> of geospatial data into information\n",
    "> **for interdisciplinary problem solving.**”"
   ]
  },
  {
   "cell_type": "markdown",
   "metadata": {
    "slideshow": {
     "slide_type": "fragment"
    }
   },
   "source": [
    "You mean like combining Covid-19 cases (health science) and county geometry using geospatial technologies (geographic information science) and cyberinfrastructure (computational science)? Yes!"
   ]
  },
  {
   "cell_type": "markdown",
   "metadata": {
    "slideshow": {
     "slide_type": "slide"
    }
   },
   "source": [
    "## Can you write? Are you a poet?\n",
    "\n",
    "Cyber Literacy is NOT about being a computer genius or a programming wizard. Most people have learned basic literacy--the ability to read and write--however most people are not poets or experts in modern Nepali literature. Similarly, many people can learn basic cyber literacy while not being a programming wizard or expert in high-performance computing resources.\n",
    "\n",
    "You are already on your way to learning cyber literacy. So let's take a closer look at the eight core areas of cyber literacy for GIScience."
   ]
  },
  {
   "cell_type": "markdown",
   "metadata": {
    "slideshow": {
     "slide_type": "slide"
    }
   },
   "source": [
    "## Eight core areas \n",
    "\n",
    "<table>\n",
    "    <tr style=\"background: #fff\">\n",
    "        <td align=left valign=top>\n",
    "\n",
    "![Eight core areas of cyber literacy for GIScience](supplementary/cyberliteracyareas.png)\n",
    "\n",
    "\n",
    "</td>\n",
    "<td width=50%> \n",
    "\n",
    "Here are the eight core areas of cyber literacy for GIScience.\n",
    "\n",
    "\n",
    "\n",
    "</td>\n",
    "\n",
    "</tr>\n",
    "</table>\n",
    "\n",
    "\n"
   ]
  },
  {
   "cell_type": "markdown",
   "metadata": {
    "slideshow": {
     "slide_type": "slide"
    }
   },
   "source": [
    "## Eight core areas \n",
    "\n",
    "<table>\n",
    "    <tr style=\"background: #fff\">\n",
    "        <td align=left valign=top>\n",
    "\n",
    "![Eight core areas of cyber literacy for GIScience](supplementary/cyberliteracyareas.png)\n",
    "\n",
    "\n",
    "</td>\n",
    "<td width=50%> \n",
    "\n",
    "The left side represents three key knowledge areas in GIScience: \n",
    "1. **Spatial Modeling and Analytics** \n",
    "2. **Geospatial Data** \n",
    "3. **Spatial Thinking**\n",
    "\n",
    "</td>\n",
    "\n",
    "</tr>\n",
    "</table>"
   ]
  },
  {
   "cell_type": "markdown",
   "metadata": {
    "slideshow": {
     "slide_type": "slide"
    }
   },
   "source": [
    "## Eight core areas \n",
    "\n",
    "<table>\n",
    "    <tr style=\"background: #fff\">\n",
    "        <td align=left valign=top>\n",
    "\n",
    "![Eight core areas of cyber literacy for GIScience](supplementary/cyberliteracyareas.png)\n",
    "\n",
    "\n",
    "</td>\n",
    "<td width=50%> \n",
    "\n",
    "The right side represents three key knowledge areas in computational science: \n",
    "1. **Parallel Computing** \n",
    "2. **Big Data** \n",
    "3. **Computational Thinking**\n",
    "\n",
    "\n",
    "\n",
    "</td>\n",
    "\n",
    "</tr>\n",
    "</table>\n",
    "\n",
    "\n"
   ]
  },
  {
   "cell_type": "markdown",
   "metadata": {
    "slideshow": {
     "slide_type": "slide"
    }
   },
   "source": [
    "## Eight core areas \n",
    "\n",
    "<table>\n",
    "    <tr style=\"background: #fff\">\n",
    "        <td align=left valign=top>\n",
    "\n",
    "![Eight core areas of cyber literacy for GIScience](supplementary/cyberliteracyareas.png)\n",
    "\n",
    "\n",
    "</td>\n",
    "<td width=50%> \n",
    "\n",
    "The top center represents a knowledge area to help these two disciplines integrate technologically: \n",
    "1. **Cyberinfrastructure** \n",
    "\n",
    "</td>\n",
    "\n",
    "</tr>\n",
    "</table>\n",
    "\n",
    "\n"
   ]
  },
  {
   "cell_type": "markdown",
   "metadata": {
    "slideshow": {
     "slide_type": "slide"
    }
   },
   "source": [
    "## Eight core areas \n",
    "\n",
    "<table>\n",
    "    <tr style=\"background: #fff\">\n",
    "        <td align=left valign=top>\n",
    "\n",
    "![Eight core areas of cyber literacy for GIScience](supplementary/cyberliteracyareas.png)\n",
    "\n",
    "\n",
    "</td>\n",
    "<td width=50%> \n",
    "\n",
    "Just as important; the bottom center represents a knowledge area to help these two disciplines integrate on the people and problem solving side: \n",
    "1. **Interdisciplinary Communication** \n",
    "\n",
    "</td>\n",
    "\n",
    "</tr>\n",
    "</table>\n",
    "\n",
    "\n"
   ]
  },
  {
   "cell_type": "markdown",
   "metadata": {
    "slideshow": {
     "slide_type": "slide"
    }
   },
   "source": [
    "## Let's check in\n",
    "\n",
    "Do you have to be an expert in parallel computing to be cyber literate?\n"
   ]
  },
  {
   "cell_type": "code",
   "execution_count": 4,
   "metadata": {
    "hide_input": false,
    "slideshow": {
     "slide_type": "-"
    },
    "tags": [
     "Init",
     "Hide",
     "6A"
    ]
   },
   "outputs": [
    {
     "data": {
      "application/vnd.jupyter.widget-view+json": {
       "model_id": "61513fe25d534906b2f20fe20981900a",
       "version_major": 2,
       "version_minor": 0
      },
      "text/plain": [
       "ToggleButtons(options=('Yes, absolutely!', 'No'), tooltips=('Yes!', 'No way!'), value='Yes, absolutely!')"
      ]
     },
     "metadata": {},
     "output_type": "display_data"
    },
    {
     "data": {
      "application/vnd.jupyter.widget-view+json": {
       "model_id": "79c10a2d48684edc83c814dc72ec06b1",
       "version_major": 2,
       "version_minor": 0
      },
      "text/plain": [
       "Button(description='Submit', icon='check', layout=Layout(height='auto', width='auto'), style=ButtonStyle())"
      ]
     },
     "metadata": {},
     "output_type": "display_data"
    },
    {
     "data": {
      "application/vnd.jupyter.widget-view+json": {
       "model_id": "172214ab50e847f19fcc09ab4095821d",
       "version_major": 2,
       "version_minor": 0
      },
      "text/plain": [
       "Output()"
      ]
     },
     "metadata": {},
     "output_type": "display_data"
    }
   ],
   "source": [
    "# Multiple choice question using a ToggleButton widget\n",
    "# This code cell has tags \"Init\", \"Hide\", and \"5A\"\n",
    "\n",
    "widget1=widgets.ToggleButtons(\n",
    "    options=['Yes, absolutely!','No'],\n",
    "    description='',\n",
    "    disabled=False,\n",
    "    button_style='', # 'success', 'info', 'warning', 'danger' or ''\n",
    "    tooltips=['Yes!', 'No way!'],\n",
    ")\n",
    "\n",
    "# Show the options.\n",
    "display(widget1)\n",
    "\n",
    "def out1():\n",
    "    print(\"Go to the next slide to see if you were correct.\")\n",
    "    \n",
    "hourofci.SubmitBtn(widget1,out1)"
   ]
  },
  {
   "cell_type": "markdown",
   "metadata": {
    "slideshow": {
     "slide_type": "slide"
    }
   },
   "source": [
    "## Nope\n",
    "No! You do *not* need to be an expert in parallel programming to be cyber literate. Just like basic literacy, you can have a basic understanding of parallel programming and rely on other experts or tools to make use of the technology to advance your own research."
   ]
  },
  {
   "cell_type": "markdown",
   "metadata": {
    "slideshow": {
     "slide_type": "slide"
    }
   },
   "source": [
    "## Let's check in\n",
    "\n",
    "Find all of the core areas of cyber literacy for GIScience. Check all of them. Hold Ctrl to select multiple entries."
   ]
  },
  {
   "cell_type": "code",
   "execution_count": 5,
   "metadata": {
    "hide_input": false,
    "slideshow": {
     "slide_type": "-"
    },
    "tags": [
     "Init",
     "Hide",
     "6B"
    ]
   },
   "outputs": [
    {
     "data": {
      "application/vnd.jupyter.widget-view+json": {
       "model_id": "2aad6019b41e4af1aceadc5140495893",
       "version_major": 2,
       "version_minor": 0
      },
      "text/plain": [
       "SelectMultiple(options=('Interdisciplinary communication', 'The Internet', 'Parallel Computing', 'Geospatial D…"
      ]
     },
     "metadata": {},
     "output_type": "display_data"
    },
    {
     "data": {
      "application/vnd.jupyter.widget-view+json": {
       "model_id": "7c04ec8a893a47a8a635aa7c04662bd2",
       "version_major": 2,
       "version_minor": 0
      },
      "text/plain": [
       "Button(description='Submit', icon='check', layout=Layout(height='auto', width='auto'), style=ButtonStyle())"
      ]
     },
     "metadata": {},
     "output_type": "display_data"
    },
    {
     "data": {
      "application/vnd.jupyter.widget-view+json": {
       "model_id": "f42014a45c854b8993eee010d832aa1a",
       "version_major": 2,
       "version_minor": 0
      },
      "text/plain": [
       "Output()"
      ]
     },
     "metadata": {},
     "output_type": "display_data"
    }
   ],
   "source": [
    "# Multiple choice question using a ToggleButton widget\n",
    "# This code cell has tags \"Init\", \"Hide\", and \"5A\"\n",
    "\n",
    "widget2=widgets.SelectMultiple(\n",
    "    options=['Interdisciplinary communication',\n",
    "    'The Internet',\n",
    "    'Parallel Computing',\n",
    "    'Geospatial Data',\n",
    "    'A Shark with a Laser',\n",
    "    'Computational Thinking',\n",
    "    'Cyberinfrastructure',\n",
    "    'Spatial Modeling and Analytics',\n",
    "    'Cyber Security',\n",
    "    'Spatial Thinking',\n",
    "    'Hip Po the Hippo',\n",
    "    'Big Data'],\n",
    "    rows=12,\n",
    "    description='',\n",
    "    disabled=False\n",
    ")\n",
    "\n",
    "# Show the options.\n",
    "display(widget2)\n",
    "\n",
    "def out2():\n",
    "    print(\"Go to the next slide to see if you were correct.\")\n",
    "    \n",
    "hourofci.SubmitBtn(widget2,out2)"
   ]
  },
  {
   "cell_type": "markdown",
   "metadata": {
    "slideshow": {
     "slide_type": "slide"
    }
   },
   "source": [
    "## Core knowledge areas and your next step\n",
    "\n",
    "What core knowledge area are you most excited about? "
   ]
  },
  {
   "cell_type": "code",
   "execution_count": 6,
   "metadata": {
    "hide_input": true,
    "tags": [
     "Hide",
     "Init",
     "6C"
    ]
   },
   "outputs": [
    {
     "data": {
      "application/vnd.jupyter.widget-view+json": {
       "model_id": "8f3ed78efcea41379cfb14a836840eab",
       "version_major": 2,
       "version_minor": 0
      },
      "text/plain": [
       "RadioButtons(options=('Interdisciplinary communication', 'Parallel Computing', 'Geospatial Data', 'Computation…"
      ]
     },
     "metadata": {},
     "output_type": "display_data"
    },
    {
     "data": {
      "application/vnd.jupyter.widget-view+json": {
       "model_id": "889e6a726bf64e319f9adf5099d0208f",
       "version_major": 2,
       "version_minor": 0
      },
      "text/plain": [
       "Button(description='Submit', icon='check', layout=Layout(height='auto', width='auto'), style=ButtonStyle())"
      ]
     },
     "metadata": {},
     "output_type": "display_data"
    },
    {
     "data": {
      "application/vnd.jupyter.widget-view+json": {
       "model_id": "56abb289db924e4b95e967a5dd41e590",
       "version_major": 2,
       "version_minor": 0
      },
      "text/plain": [
       "Output()"
      ]
     },
     "metadata": {},
     "output_type": "display_data"
    }
   ],
   "source": [
    "widget3=widgets.RadioButtons(\n",
    "    options=['Interdisciplinary communication',\n",
    "    'Parallel Computing',\n",
    "    'Geospatial Data',\n",
    "    'Computational Thinking',\n",
    "    'Cyberinfrastructure',\n",
    "    'Spatial Modeling and Analytics',\n",
    "    'Spatial Thinking',\n",
    "    'Big Data'],\n",
    "    description='',\n",
    "    disabled=False\n",
    ")\n",
    "\n",
    "\n",
    "# Show the options.\n",
    "display(widget3)\n",
    "\n",
    "def out3():\n",
    "    print(\"Click the next slide to see how you can learn more about it!\")\n",
    "    \n",
    "hourofci.SubmitBtn(widget3,out3)"
   ]
  },
  {
   "cell_type": "markdown",
   "metadata": {
    "slideshow": {
     "slide_type": "slide"
    }
   },
   "source": [
    "## Did you know ...\n",
    "\n",
    "There is an Hour of CI Beginner Lesson for each of the knowledge areas! You can try Beginner Lessons in any order, take one or take them all. It is up to you.\n",
    "\n",
    "Feel free to check out a Beginner Lesson once they are ready to pilot. Feel free to check back in a few weeks.\n",
    "\n",
    "For now, let's move on to the last segment where you get to apply what you learned.\n",
    "\n",
    "<a href=\"gateway-exploration.ipynb\">Click here to go to the Gateway Exploration segment.</a>"
   ]
  }
 ],
 "metadata": {
  "celltoolbar": "Slideshow",
  "kernelspec": {
   "display_name": "Python 3 (ipykernel)",
   "language": "python",
   "name": "python3"
  },
  "language_info": {
   "codemirror_mode": {
    "name": "ipython",
    "version": 3
   },
   "file_extension": ".py",
   "mimetype": "text/x-python",
   "name": "python",
   "nbconvert_exporter": "python",
   "pygments_lexer": "ipython3",
   "version": "3.9.5"
  },
  "rise": {
   "auto_select": "none",
   "autolaunch": true
  }
 },
 "nbformat": 4,
 "nbformat_minor": 2
}
